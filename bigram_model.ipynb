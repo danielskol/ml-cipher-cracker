{
 "metadata": {
  "name": "",
  "signature": "sha256:727b02a2a5107d63774947909d184baf00160e4a126c630ff05fad5580dac424"
 },
 "nbformat": 3,
 "nbformat_minor": 0,
 "worksheets": [
  {
   "cells": [
    {
     "cell_type": "code",
     "collapsed": false,
     "input": [
      "import numpy as np\n",
      "import math\n",
      "import matplotlib.pyplot as plt\n",
      "import random\n",
      "from numpy.random import rand\n"
     ],
     "language": "python",
     "metadata": {},
     "outputs": [],
     "prompt_number": 15
    },
    {
     "cell_type": "markdown",
     "metadata": {},
     "source": [
      "read text"
     ]
    },
    {
     "cell_type": "code",
     "collapsed": false,
     "input": [
      "def read_text_words(filename, wordsnumber):\n",
      "    X = list()\n",
      "    with open(filename) as f:\n",
      "        for i in xrange(wordsnumber):\n",
      "            line = f.readline()\n",
      "            if not line:\n",
      "                print 'reached end of file'\n",
      "                break            \n",
      "            X.append(line)     \n",
      "    X = ''.join(X) \n",
      "    X = X.replace('\\n', '{') #123\n",
      "    return X\n",
      "\n",
      "def read_text_whole(filename):\n",
      "    with open(filename) as f:\n",
      "        X = f.read()    \n",
      "    X = X.replace('\\n', '{') #123\n",
      "    return X\n",
      "\n",
      "def chop_text_to_size(text, size):\n",
      "    return text[:1024*1024*size]\n",
      "\n",
      "def read_text_filesize(filename, size):\n",
      "    with open(filename) as f:\n",
      "        X = f.read(1024*1024*size)\n",
      "    X = X.replace('\\n', '{') #123\n",
      "    return X    "
     ],
     "language": "python",
     "metadata": {},
     "outputs": [],
     "prompt_number": 1
    },
    {
     "cell_type": "markdown",
     "metadata": {},
     "source": [
      "counts"
     ]
    },
    {
     "cell_type": "code",
     "collapsed": false,
     "input": [
      "def get_unicount(text):\n",
      "    length = len(text)\n",
      "    counts = np.zeros(27)\n",
      "    for i in xrange(length):\n",
      "        c = ord(text[i])\n",
      "        counts[c-97]+=1\n",
      "        #97-122, 123 - word delimiter    \n",
      "    return counts[:26]"
     ],
     "language": "python",
     "metadata": {},
     "outputs": [],
     "prompt_number": 3
    },
    {
     "cell_type": "markdown",
     "metadata": {},
     "source": [
      "bigram statistics"
     ]
    },
    {
     "cell_type": "code",
     "collapsed": false,
     "input": [
      "def get_bigram_stats_dic(text):        \n",
      "    length = len(text)\n",
      "    dic = {}\n",
      "    for i in xrange(length-1):\n",
      "        if ord(text[i]) == 123 or ord(text[i+1]) == 123:\n",
      "            continue            \n",
      "        if (text[i], text[i+1]) in dic:\n",
      "            dic[(text[i], text[i+1])] += 1\n",
      "        else: \n",
      "            dic[(text[i], text[i+1])] = 1 \n",
      "            \n",
      "    for k,v in dic.items():\n",
      "        r = 0\n",
      "        if (k[0],'{') in dic.keys():\n",
      "            r = dic[(k[0],'{')]\n",
      "        dic[k] = v/(counts[ord(k[0])-97]-r)\n",
      "    return dic"
     ],
     "language": "python",
     "metadata": {},
     "outputs": [],
     "prompt_number": 4
    },
    {
     "cell_type": "markdown",
     "metadata": {},
     "source": [
      "quality"
     ]
    },
    {
     "cell_type": "code",
     "collapsed": false,
     "input": [
      "def quality(decrypted, original):\n",
      "    l = len(decrypted)\n",
      "    zipped = zip(decrypted, original)    \n",
      "    return sum(1 for x,y in zipped if x != y)/l"
     ],
     "language": "python",
     "metadata": {},
     "outputs": [],
     "prompt_number": 5
    },
    {
     "cell_type": "markdown",
     "metadata": {},
     "source": [
      "crypt"
     ]
    },
    {
     "cell_type": "code",
     "collapsed": false,
     "input": [
      "\n",
      "def crypt(text):\n",
      "    p = range(26)\n",
      "    random.shuffle(p)\n",
      "    output=''\n",
      "    p.append(26)\n",
      "    for ch in text:\n",
      "            try:\n",
      "                x = ord(ch) - ord('a')\n",
      "                output+=(chr(p[x] + ord('a')))\n",
      "            except:\n",
      "                pass\n",
      "    return output, p"
     ],
     "language": "python",
     "metadata": {},
     "outputs": [],
     "prompt_number": 6
    },
    {
     "cell_type": "markdown",
     "metadata": {},
     "source": [
      "metropolis and density maximization"
     ]
    },
    {
     "cell_type": "code",
     "collapsed": false,
     "input": [
      "# -*- coding: utf-8 -*-\n",
      "# from random import random\n",
      "\"\"\"\n",
      "This module implements algorithm of Metropolis-Hastings \n",
      "for random variable generation.\n",
      "The algorithm generates random variables from a desired \n",
      "distribution (which may be unnormalized).\n",
      "\"\"\"\n",
      "\n",
      "def metropolis( desiredPDF, initValue, computableRVS, skipIterations = 200 ):\n",
      "    \"\"\"\n",
      "    This function returns a generator, which generates random variables \n",
      "    from some space S with a desired distribution using Metropolis-Hastings \n",
      "    algorithm.\n",
      "    \n",
      "    Args:\n",
      "        desiredPDF (func) : PDF of desired distribution p( T ), where T from S\n",
      "        initValue : an object from S to initialize the starting point \n",
      "        of iterative proccess\n",
      "        computableRVS (func) : a generator of random value from space S \n",
      "        with given parameter T, which is also from S\n",
      "        skipIterations (int) : number of iterations to skip \n",
      "        (skipping more iterations leads to better accuracy? \n",
      "        but greater time consuming)\n",
      "        \n",
      "    Returns: generator, which produce some values from S \n",
      "    and their denisity according to distribution desiredPDF\n",
      "    \"\"\"\n",
      "    \n",
      "    random_variable = initValue\n",
      "    random_variableDensityValue = desiredPDF( random_variable )\n",
      "    \"\"\"\n",
      "    A state of MCMC\n",
      "    \"\"\"\n",
      "    \n",
      "    #ignore first iterations to let the iterative proccess \n",
      "    #converge to some distribution, which is close to desired\n",
      "    for i in xrange( skipIterations ):\n",
      "        candidate = computableRVS( random_variable )\n",
      "        candidateDensityValue = desiredPDF( candidate )\n",
      "        \"\"\"\n",
      "        next candidate for sample, generated by computableRVS\n",
      "        \"\"\"\n",
      "        \n",
      "        acceptanceProb = min( 1, candidateDensityValue / random_variableDensityValue )\n",
      "        \"\"\"\n",
      "        probability to accept candidate to sample\n",
      "        \"\"\"\n",
      "        \n",
      "        if random.random() < acceptanceProb:\n",
      "            random_variable = candidate\n",
      "            random_variableDensityValue = candidateDensityValue\n",
      "            \n",
      "    #now when the procces is converged to desired distribution, \n",
      "    #return acceptable candidates\n",
      "    while True:\n",
      "        candidate = computableRVS( random_variable )\n",
      "        candidateDensityValue = desiredPDF( candidate )\n",
      "        \"\"\"\n",
      "        next candidate for sample, generated by computableRVS\n",
      "        \"\"\"\n",
      "        \n",
      "#         acceptanceProb = min( 1, candidateDensityValue / random_variableDensityValue )\n",
      "# logp is returnd by desiredPDF_bigram, so here is the change\n",
      "        acceptanceProb = min( 0, candidateDensityValue - random_variableDensityValue )\n",
      "        \"\"\"\n",
      "        probability to accept candidate to sample\n",
      "        \"\"\"\n",
      "        \n",
      "        if random.random() < acceptanceProb:\n",
      "            random_variable = candidate\n",
      "            random_variableDensityValue = candidateDensityValue\n",
      "        yield random_variable, random_variableDensityValue\n",
      "\n",
      "def densityMaximization( desiredPDF, initValue, computableRVS, skipIterations = 200 ):\n",
      "    \"\"\"\n",
      "    This function return a generator, which generates random variables \n",
      "    from some space S by trying to maximize givven density. \n",
      "    The algorithm is a modification of Metropolis-Hastings. \n",
      "    It rejects all objects, which decrease density.\n",
      "    \n",
      "    Args:\n",
      "        desiredPDF (func) : PDF of desired distribution p( T ), where T from S\n",
      "        initValue : an object from S to initialize the starting point \n",
      "        of iterative proccess\n",
      "        computableRVS (func) : a generator of random value from space S \n",
      "        with given parameter T, which is also from S\n",
      "        skipIterations (int) : number of iterations to skip \n",
      "        (skipping more iterations leads to better accuracy? \n",
      "        but greater time consuming)\n",
      "        \n",
      "    Returns: generator, which produce some values from S, \n",
      "    where each next value has no less density, and their denisity\n",
      "    \"\"\"\n",
      "    \n",
      "    random_variable = initValue\n",
      "    random_variableDensityValue = desiredPDF( random_variable )\n",
      "    \"\"\"\n",
      "    A state of MCMC\n",
      "    \"\"\"\n",
      "    \n",
      "    #ignore first iterations to let the iterative proccess to enter \n",
      "    #the high density regions\n",
      "    for i in xrange( skipIterations ):\n",
      "        candidate = computableRVS( random_variable )\n",
      "        candidateDensityValue = desiredPDF( candidate )\n",
      "        \"\"\"\n",
      "        next candidate for sample, generated by computableRVS\n",
      "        \"\"\"\n",
      "        \n",
      "        if random_variableDensityValue < candidateDensityValue:\n",
      "            random_variable = candidate\n",
      "            random_variableDensityValue = candidateDensityValue\n",
      "            \n",
      "    #now when the procces is in high density regions, \n",
      "    #return acceptable candidates\n",
      "    while True:\n",
      "        candidate = computableRVS( random_variable )\n",
      "        candidateDensityValue = desiredPDF( candidate )\n",
      "        \"\"\"\n",
      "        next candidate for sample, generated by computableRVS\n",
      "        \"\"\"\n",
      "        \n",
      "        if random_variableDensityValue < candidateDensityValue:\n",
      "            random_variable = candidate\n",
      "            random_variableDensityValue = candidateDensityValue\n",
      "        yield random_variable, random_variableDensityValue\n"
     ],
     "language": "python",
     "metadata": {},
     "outputs": [],
     "prompt_number": 7
    },
    {
     "cell_type": "markdown",
     "metadata": {},
     "source": [
      "permutation generator and computablervs"
     ]
    },
    {
     "cell_type": "code",
     "collapsed": false,
     "input": [
      "\"\"\"\n",
      "This module provide some functions, \n",
      "that generate random permutations with different distributions. \n",
      "There are a uniform distribution and a symmetric distribution, \n",
      "which depends on some other permutation.\n",
      "\"\"\"\n",
      "\n",
      "def uniform( n ):\n",
      "    \"\"\"\n",
      "    Generates random permutation using Knuth algorithm.\n",
      "    \n",
      "    Args:\n",
      "        n (int) : length of permutation\n",
      "        \n",
      "    Returns: random permutation of length n from uniform distribution\n",
      "    \"\"\"\n",
      "    \n",
      "    #initialize permutation with identical\n",
      "    permutation = [ i for i in xrange( n ) ]\n",
      "    \n",
      "    #swap ith object with random onject from i to n - 1 enclusively\n",
      "    for i in xrange( n ):\n",
      "        j = random.randint( i, n - 1 )\n",
      "        permutation[ i ], permutation[ j ] = permutation[ j ], permutation[ i ]\n",
      "        \n",
      "    permutation.append(26)\n",
      "    \n",
      "    return permutation\n",
      "\n",
      "def applyedTranspostions( basePermutation ):\n",
      "    \"\"\"\n",
      "    This function returns random permutation by applying random \n",
      "\ttranspositions to given permutation.\n",
      "    \n",
      "    The result distribution is not uniform and \n",
      "\tsymmetric assuming parameter.\n",
      "    \n",
      "    Args:\n",
      "        basePermutation (array) : parameter of distribution\n",
      "        \n",
      "    Returns: random permutation generated from basePermutation\n",
      "    \"\"\"\n",
      "    \n",
      "    n = len( basePermutation) -1\n",
      "    \"\"\"\n",
      "    length of permutation\n",
      "    \"\"\"\n",
      "    \n",
      "    #apply n random transpositions (including identical) to base permutation\n",
      "    for i in xrange( n ):\n",
      "        k, l = random.randint( 0, n - 2 ), random.randint( 0, n - 2 )\n",
      "        basePermutation[ k ], basePermutation[ l ] = basePermutation[ l ],\\\n",
      "        basePermutation[ k ]\n",
      "        \n",
      "    return  basePermutation"
     ],
     "language": "python",
     "metadata": {},
     "outputs": [],
     "prompt_number": 8
    },
    {
     "cell_type": "markdown",
     "metadata": {},
     "source": [
      "desiredPDF"
     ]
    },
    {
     "cell_type": "code",
     "collapsed": false,
     "input": [
      "def get_desiredPDF_bigram(permutation):\n",
      "    logp = 0\n",
      "    for i in xrange(len(encrypted)-1):\n",
      "        if (chr(permutation[ord(encrypted[i])-97]+97), \n",
      "            chr(permutation[ord(encrypted[i+1])-97]+97)) in stats.keys():\n",
      "            logp += math.log(stats[(chr(permutation[ord(encrypted[i])-97]+97), \n",
      "                               chr(permutation[ord(encrypted[i+1])-97]+97))]) \n",
      "    return logp\n"
     ],
     "language": "python",
     "metadata": {},
     "outputs": [],
     "prompt_number": 19
    },
    {
     "cell_type": "heading",
     "level": 1,
     "metadata": {},
     "source": [
      "Varying training text size"
     ]
    },
    {
     "cell_type": "markdown",
     "metadata": {},
     "source": [
      "Fix large (e.g. 5000 or more words) encrypted text and explore how the ratio of correctly decrypted symbols\n",
      "depends on the size of training text (using the same number of MCMC iterations)"
     ]
    },
    {
     "cell_type": "heading",
     "level": 2,
     "metadata": {},
     "source": [
      "Encryption"
     ]
    },
    {
     "cell_type": "code",
     "collapsed": false,
     "input": [
      "fname = 'main\\oliver_twist.txt'\n",
      "test_text = read_text_words(fname, 5000)\n",
      "encrypted = crypt(original)\n",
      "print encrypted[:20]"
     ],
     "language": "python",
     "metadata": {},
     "outputs": []
    },
    {
     "cell_type": "heading",
     "level": 2,
     "metadata": {},
     "source": [
      "Metropolis"
     ]
    },
    {
     "cell_type": "code",
     "collapsed": false,
     "input": [
      "sizes =  [2,4,8,16]\n",
      "for s in sizes:   \n",
      "    i=0\n",
      "    train_text = read_text_filesize('main\\super.txt', s)\n",
      "    unistats = get_unigram_stats(train_text)\n",
      "    counts = get_unicount(train_text)\n",
      "    bistats = get_bigram_stats_dic(train_text)\n",
      "#     print chr(np.argmax(counts)+97)\n",
      "#     print max(bistats.iteritems(), key=operator.itemgetter(1))[0]\n",
      "    \n",
      "    #Metropolis here\n",
      "    #decryption\n",
      "    #output - decrypted text\n",
      "#     qs = np.zeros(len(sizes))\n",
      "#     qs[i] = quality(decrypted, original)\n",
      "#     i+=1\n",
      "\n",
      "print train_text[:1000]\n",
      "# plt.plot(sizes, qs) "
     ],
     "language": "python",
     "metadata": {},
     "outputs": []
    },
    {
     "cell_type": "heading",
     "level": 1,
     "metadata": {},
     "source": [
      "TO BE DELETED"
     ]
    },
    {
     "cell_type": "code",
     "collapsed": false,
     "input": [
      "#TEST TEXT\n",
      "fname = 'main\\oliver_twist.txt'\n",
      "original = read_text_words(fname, 1000)\n",
      "encrypted, p = crypt(original)\n",
      "\n",
      "#TRAIN TEXT\n",
      "length = 575514\n",
      "train_text = read_text_words('main\\war_and_peace.txt', length)\n",
      "counts = get_unicount(train_text)\n",
      "stats = get_bigram_stats_dic(train_text)\n",
      "print p"
     ],
     "language": "python",
     "metadata": {},
     "outputs": [
      {
       "output_type": "stream",
       "stream": "stdout",
       "text": [
        "[7, 18, 15, 13, 8, 21, 16, 11, 19, 22, 1, 20, 3, 2, 14, 0, 4, 9, 5, 6, 24, 23, 25, 12, 17, 10, 26]\n"
       ]
      }
     ],
     "prompt_number": 13
    },
    {
     "cell_type": "code",
     "collapsed": false,
     "input": [
      "init_p = uniform(26)\n",
      "metropolisgenerator = \\\n",
      "    densityMaximization(get_desiredPDF_bigram, init_p, applyedTranspostions )\n",
      "#     metropolis(get_desiredPDF_bigram, init_p, applyedTranspostions )\n",
      "x = []\n",
      "for i in xrange( 10 ):\n",
      "    x.append( metropolisgenerator.next()[0] )"
     ],
     "language": "python",
     "metadata": {},
     "outputs": [],
     "prompt_number": 20
    },
    {
     "cell_type": "code",
     "collapsed": false,
     "input": [
      "for i in x:\n",
      "    print i"
     ],
     "language": "python",
     "metadata": {},
     "outputs": [
      {
       "output_type": "stream",
       "stream": "stdout",
       "text": [
        "[18, 12, 21, 20, 13, 0, 15, 25, 24, 19, 3, 16, 17, 4, 22, 9, 10, 14, 6, 7, 8, 2, 1, 23, 5, 11, 26]\n",
        "[18, 12, 21, 20, 13, 0, 15, 25, 24, 19, 3, 16, 17, 4, 22, 9, 10, 14, 6, 7, 8, 2, 1, 23, 5, 11, 26]\n",
        "[18, 12, 21, 20, 13, 0, 15, 25, 24, 19, 3, 16, 17, 4, 22, 9, 10, 14, 6, 7, 8, 2, 1, 23, 5, 11, 26]\n",
        "[18, 12, 21, 20, 13, 0, 15, 25, 24, 19, 3, 16, 17, 4, 22, 9, 10, 14, 6, 7, 8, 2, 1, 23, 5, 11, 26]\n",
        "[18, 12, 21, 20, 13, 0, 15, 25, 24, 19, 3, 16, 17, 4, 22, 9, 10, 14, 6, 7, 8, 2, 1, 23, 5, 11, 26]\n",
        "[18, 12, 21, 20, 13, 0, 15, 25, 24, 19, 3, 16, 17, 4, 22, 9, 10, 14, 6, 7, 8, 2, 1, 23, 5, 11, 26]\n",
        "[18, 12, 21, 20, 13, 0, 15, 25, 24, 19, 3, 16, 17, 4, 22, 9, 10, 14, 6, 7, 8, 2, 1, 23, 5, 11, 26]\n",
        "[18, 12, 21, 20, 13, 0, 15, 25, 24, 19, 3, 16, 17, 4, 22, 9, 10, 14, 6, 7, 8, 2, 1, 23, 5, 11, 26]\n",
        "[18, 12, 21, 20, 13, 0, 15, 25, 24, 19, 3, 16, 17, 4, 22, 9, 10, 14, 6, 7, 8, 2, 1, 23, 5, 11, 26]\n",
        "[18, 12, 21, 20, 13, 0, 15, 25, 24, 19, 3, 16, 17, 4, 22, 9, 10, 14, 6, 7, 8, 2, 1, 23, 5, 11, 26]\n"
       ]
      }
     ],
     "prompt_number": 21
    },
    {
     "cell_type": "code",
     "collapsed": false,
     "input": [
      "per = x[0]\n",
      "for i in xrange(len(per)):\n",
      "    print (ord('a') + i) == (ord('a') + per[p[i]])"
     ],
     "language": "python",
     "metadata": {},
     "outputs": [
      {
       "output_type": "stream",
       "stream": "stdout",
       "text": [
        "False\n",
        "False\n",
        "False\n",
        "False\n",
        "False\n",
        "False\n",
        "False\n",
        "False\n",
        "False\n",
        "False\n",
        "False\n",
        "False\n",
        "False\n",
        "False\n",
        "False\n",
        "False\n",
        "False\n",
        "False\n",
        "False\n",
        "False\n",
        "False\n",
        "False\n",
        "False\n",
        "False\n",
        "False\n",
        "False\n",
        "True\n"
       ]
      }
     ],
     "prompt_number": 22
    },
    {
     "cell_type": "code",
     "collapsed": false,
     "input": [],
     "language": "python",
     "metadata": {},
     "outputs": []
    }
   ],
   "metadata": {}
  }
 ]
}