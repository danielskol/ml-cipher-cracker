{
 "metadata": {
  "name": "",
  "signature": "sha256:105fc17825dded2567a1652e99ac7a0d81a12e98e521bdac09d7acb5f229553b"
 },
 "nbformat": 3,
 "nbformat_minor": 0,
 "worksheets": [
  {
   "cells": [
    {
     "cell_type": "code",
     "collapsed": false,
     "input": [
      "import numpy as np\n",
      "import math\n",
      "import matplotlib.pyplot as plt\n",
      "import random\n",
      "from numpy.random import rand\n"
     ],
     "language": "python",
     "metadata": {},
     "outputs": [],
     "prompt_number": 15
    },
    {
     "cell_type": "markdown",
     "metadata": {},
     "source": [
      "read text"
     ]
    },
    {
     "cell_type": "code",
     "collapsed": false,
     "input": [
      "def read_text_words(filename, wordsnumber):    \n",
      "    with open(filename) as f:\n",
      "        X = f.readlines()\n",
      "        wordsnumber = len(X)    \n",
      "    X = ''.join(X) \n",
      "    X = X.replace('\\n', '{') #123\n",
      "    return X\n",
      "\n",
      "def read_text_whole(filename):\n",
      "    with open(filename) as f:\n",
      "        X = f.read()    \n",
      "    X = X.replace('\\n', '{') #123\n",
      "    return X\n",
      "\n",
      "def chop_text_to_size(text, size):\n",
      "    return text[:1024*1024*size]\n",
      "\n",
      "def read_text_filesize(filename, size):\n",
      "    with open(filename) as f:\n",
      "        X = f.read(1024*1024*size)\n",
      "    X = X.replace('\\n', '{') #123\n",
      "    return X    "
     ],
     "language": "python",
     "metadata": {},
     "outputs": [],
     "prompt_number": 1
    },
    {
     "cell_type": "markdown",
     "metadata": {},
     "source": [
      "counts"
     ]
    },
    {
     "cell_type": "code",
     "collapsed": false,
     "input": [
      "def get_unicount(text):\n",
      "    length = len(text)\n",
      "    counts = np.zeros(27)\n",
      "    for i in xrange(length):\n",
      "        c = ord(text[i])\n",
      "        counts[c-97]+=1\n",
      "        #97-122, 123 - word delimiter    \n",
      "    return counts[:26]"
     ],
     "language": "python",
     "metadata": {},
     "outputs": [],
     "prompt_number": 3
    },
    {
     "cell_type": "markdown",
     "metadata": {},
     "source": [
      "bigram statistics"
     ]
    },
    {
     "cell_type": "code",
     "collapsed": false,
     "input": [
      "def get_bigram_stats_dic(text):        \n",
      "    length = len(text)\n",
      "    dic = {}\n",
      "    for i in xrange(length-1):\n",
      "        if ord(text[i]) == 123 or ord(text[i+1]) == 123:\n",
      "            continue            \n",
      "        if (text[i], text[i+1]) in dic:\n",
      "            dic[(text[i], text[i+1])] += 1\n",
      "        else: \n",
      "            dic[(text[i], text[i+1])] = 1 \n",
      "            \n",
      "    for k,v in dic.items():\n",
      "        r = 0\n",
      "        if (k[0],'{') in dic.keys():\n",
      "            r = dic[(k[0],'{')]\n",
      "        dic[k] = v/(counts[ord(k[0])-97]-r)\n",
      "    return dic"
     ],
     "language": "python",
     "metadata": {},
     "outputs": [],
     "prompt_number": 4
    },
    {
     "cell_type": "markdown",
     "metadata": {},
     "source": [
      "quality"
     ]
    },
    {
     "cell_type": "code",
     "collapsed": false,
     "input": [
      "def quality(decrypted, original):\n",
      "    l = len(decrypted)\n",
      "    zipped = zip(decrypted, original)    \n",
      "    return sum(1 for x,y in zipped if x != y)/l"
     ],
     "language": "python",
     "metadata": {},
     "outputs": [],
     "prompt_number": 5
    },
    {
     "cell_type": "markdown",
     "metadata": {},
     "source": [
      "crypt"
     ]
    },
    {
     "cell_type": "code",
     "collapsed": false,
     "input": [
      "\n",
      "def crypt(text):\n",
      "    p = range(26)\n",
      "    random.shuffle(p)\n",
      "    output=''\n",
      "    p.append(26)\n",
      "    for ch in text:\n",
      "            try:\n",
      "                x = ord(ch) - ord('a')\n",
      "                output+=(chr(p[x] + ord('a')))\n",
      "            except:\n",
      "                pass\n",
      "    return output, p"
     ],
     "language": "python",
     "metadata": {},
     "outputs": [],
     "prompt_number": 6
    },
    {
     "cell_type": "markdown",
     "metadata": {},
     "source": [
      "metropolis and density maximization"
     ]
    },
    {
     "cell_type": "code",
     "collapsed": false,
     "input": [
      "# -*- coding: utf-8 -*-\n",
      "# from random import random\n",
      "\"\"\"\n",
      "This module implements algorithm of Metropolis-Hastings \n",
      "for random variable generation.\n",
      "The algorithm generates random variables from a desired \n",
      "distribution (which may be unnormalized).\n",
      "\"\"\"\n",
      "\n",
      "def metropolis( desiredPDF, initValue, computableRVS, skipIterations = 200 ):\n",
      "    \"\"\"\n",
      "    This function returns a generator, which generates random variables \n",
      "    from some space S with a desired distribution using Metropolis-Hastings \n",
      "    algorithm.\n",
      "    \n",
      "    Args:\n",
      "        desiredPDF (func) : PDF of desired distribution p( T ), where T from S\n",
      "        initValue : an object from S to initialize the starting point \n",
      "        of iterative proccess\n",
      "        computableRVS (func) : a generator of random value from space S \n",
      "        with given parameter T, which is also from S\n",
      "        skipIterations (int) : number of iterations to skip \n",
      "        (skipping more iterations leads to better accuracy? \n",
      "        but greater time consuming)\n",
      "        \n",
      "    Returns: generator, which produce some values from S \n",
      "    and their denisity according to distribution desiredPDF\n",
      "    \"\"\"\n",
      "    \n",
      "    random_variable = initValue\n",
      "    random_variableDensityValue = desiredPDF( random_variable )\n",
      "    \"\"\"\n",
      "    A state of MCMC\n",
      "    \"\"\"\n",
      "    \n",
      "    #ignore first iterations to let the iterative proccess \n",
      "    #converge to some distribution, which is close to desired\n",
      "    for i in xrange( skipIterations ):\n",
      "        candidate = computableRVS( random_variable )\n",
      "        print candidate\n",
      "        candidateDensityValue = desiredPDF( candidate )\n",
      "        \"\"\"\n",
      "        next candidate for sample, generated by computableRVS\n",
      "        \"\"\"\n",
      "        \n",
      "#         acceptanceProb = min( 1, candidateDensityValue / random_variableDensityValue )\n",
      "# logp is returnd by desiredPDF_bigram, so here is the change\n",
      "        acceptanceProb = min(0, candidateDensityValue - random_variableDensityValue )\n",
      "        \"\"\"\n",
      "        probability to accept candidate to sample\n",
      "        \"\"\"\n",
      "        \n",
      "#         acceptanceProb = math.exp(acceptanceProb)\n",
      "        print acceptanceProb        \n",
      "        \n",
      "        if math.log(random.random()) < acceptanceProb:\n",
      "            random_variable = candidate\n",
      "            random_variableDensityValue = candidateDensityValue\n",
      "            \n",
      "    #now when the procces is converged to desired distribution, \n",
      "    #return acceptable candidates\n",
      "    print \"-----\"\n",
      "    while True:\n",
      "        candidate = computableRVS( random_variable )\n",
      "        print candidate\n",
      "        candidateDensityValue = desiredPDF( candidate )\n",
      "        \"\"\"\n",
      "        next candidate for sample, generated by computableRVS\n",
      "        \"\"\"\n",
      "        \n",
      "#         acceptanceProb = min( 1, candidateDensityValue / random_variableDensityValue )\n",
      "# logp is returnd by desiredPDF_bigram, so here is the change\n",
      "        acceptanceProb = min( 0, candidateDensityValue - random_variableDensityValue )\n",
      "       \n",
      "        \"\"\"\n",
      "        probability to accept candidate to sample\n",
      "        \"\"\"\n",
      "        print acceptanceProb\n",
      "#         acceptanceProb = math.exp(acceptanceProb)\n",
      "        \n",
      "        if math.log(random.random()) < acceptanceProb:\n",
      "            random_variable = candidate\n",
      "            random_variableDensityValue = candidateDensityValue\n",
      "        yield random_variable, random_variableDensityValue\n",
      "\n",
      "def densityMaximization( desiredPDF, initValue, computableRVS, skipIterations = 200 ):\n",
      "    \"\"\"\n",
      "    This function return a generator, which generates random variables \n",
      "    from some space S by trying to maximize givven density. \n",
      "    The algorithm is a modification of Metropolis-Hastings. \n",
      "    It rejects all objects, which decrease density.\n",
      "    \n",
      "    Args:\n",
      "        desiredPDF (func) : PDF of desired distribution p( T ), where T from S\n",
      "        initValue : an object from S to initialize the starting point \n",
      "        of iterative proccess\n",
      "        computableRVS (func) : a generator of random value from space S \n",
      "        with given parameter T, which is also from S\n",
      "        skipIterations (int) : number of iterations to skip \n",
      "        (skipping more iterations leads to better accuracy? \n",
      "        but greater time consuming)\n",
      "        \n",
      "    Returns: generator, which produce some values from S, \n",
      "    where each next value has no less density, and their denisity\n",
      "    \"\"\"\n",
      "    \n",
      "    random_variable = initValue\n",
      "    random_variableDensityValue = desiredPDF( random_variable )\n",
      "    \"\"\"\n",
      "    A state of MCMC\n",
      "    \"\"\"\n",
      "    \n",
      "    #ignore first iterations to let the iterative proccess to enter \n",
      "    #the high density regions\n",
      "    for i in xrange( skipIterations ):\n",
      "        candidate = computableRVS( random_variable )\n",
      "        candidateDensityValue = desiredPDF( candidate )\n",
      "        \"\"\"\n",
      "        next candidate for sample, generated by computableRVS\n",
      "        \"\"\"\n",
      "        \n",
      "        \n",
      "        if random_variableDensityValue < candidateDensityValue:\n",
      "            print candidate\n",
      "            print candidateDensityValue\n",
      "            random_variable = candidate\n",
      "            random_variableDensityValue = candidateDensityValue\n",
      "            \n",
      "    #now when the procces is in high density regions, \n",
      "    #return acceptable candidates\n",
      "    while True:\n",
      "        candidate = computableRVS( random_variable )\n",
      "        candidateDensityValue = desiredPDF( candidate )\n",
      "        \"\"\"\n",
      "        next candidate for sample, generated by computableRVS\n",
      "        \"\"\"\n",
      "       \n",
      "        if random_variableDensityValue < candidateDensityValue:\n",
      "            print candidate\n",
      "            print candidateDensityValue\n",
      "            random_variable = candidate\n",
      "            random_variableDensityValue = candidateDensityValue\n",
      "        yield random_variable, random_variableDensityValue\n"
     ],
     "language": "python",
     "metadata": {},
     "outputs": [],
     "prompt_number": 68
    },
    {
     "cell_type": "markdown",
     "metadata": {},
     "source": [
      "permutation generator and computablervs"
     ]
    },
    {
     "cell_type": "code",
     "collapsed": false,
     "input": [
      "\"\"\"\n",
      "This module provide some functions, \n",
      "that generate random permutations with different distributions. \n",
      "There are a uniform distribution and a symmetric distribution, \n",
      "which depends on some other permutation.\n",
      "\"\"\"\n",
      "\n",
      "def uniform( n ):\n",
      "    \"\"\"\n",
      "    Generates random permutation using Knuth algorithm.\n",
      "    \n",
      "    Args:\n",
      "        n (int) : length of permutation\n",
      "        \n",
      "    Returns: random permutation of length n from uniform distribution\n",
      "    \"\"\"\n",
      "    \n",
      "    #initialize permutation with identical\n",
      "    permutation = [ i for i in xrange( n ) ]\n",
      "    \n",
      "    #swap ith object with random onject from i to n - 1 enclusively\n",
      "    for i in xrange( n ):\n",
      "        j = random.randint( i, n - 1 )\n",
      "        permutation[ i ], permutation[ j ] = permutation[ j ], permutation[ i ]\n",
      "        \n",
      "    permutation.append(26)\n",
      "    \n",
      "    return permutation\n",
      "\n",
      "def applyedTranspostions( basePermutation ):\n",
      "    \"\"\"\n",
      "    This function returns random permutation by applying random \n",
      "\ttranspositions to given permutation.\n",
      "    \n",
      "    The result distribution is not uniform and \n",
      "\tsymmetric assuming parameter.\n",
      "    \n",
      "    Args:\n",
      "        basePermutation (array) : parameter of distribution\n",
      "        \n",
      "    Returns: random permutation generated from basePermutation\n",
      "    \"\"\"\n",
      "    \n",
      "    n = len( basePermutation) -1\n",
      "    \"\"\"\n",
      "    length of permutation\n",
      "    \"\"\"\n",
      "    \n",
      "    #apply n random transpositions (including identical) to base permutation\n",
      "    for i in xrange( n ):\n",
      "        k, l = random.randint( 0, n - 2 ), random.randint( 0, n - 2 )\n",
      "        basePermutation[ k ], basePermutation[ l ] = basePermutation[ l ],\\\n",
      "        basePermutation[ k ]\n",
      "        \n",
      "    return  basePermutation"
     ],
     "language": "python",
     "metadata": {},
     "outputs": [],
     "prompt_number": 8
    },
    {
     "cell_type": "markdown",
     "metadata": {},
     "source": [
      "desiredPDF"
     ]
    },
    {
     "cell_type": "code",
     "collapsed": false,
     "input": [
      "def get_desiredPDF_bigram(permutation):\n",
      "    logp = 0\n",
      "    for i in xrange(len(encrypted)-1):\n",
      "        if (chr(permutation[ord(encrypted[i])-97]+97), \n",
      "            chr(permutation[ord(encrypted[i+1])-97]+97)) in stats.keys():\n",
      "            logp += math.log(stats[(chr(permutation[ord(encrypted[i])-97]+97), \n",
      "                               chr(permutation[ord(encrypted[i+1])-97]+97))]) \n",
      "    return logp\n"
     ],
     "language": "python",
     "metadata": {},
     "outputs": [],
     "prompt_number": 19
    },
    {
     "cell_type": "heading",
     "level": 1,
     "metadata": {},
     "source": [
      "Varying training text size"
     ]
    },
    {
     "cell_type": "markdown",
     "metadata": {},
     "source": [
      "Fix large (e.g. 5000 or more words) encrypted text and explore how the ratio of correctly decrypted symbols\n",
      "depends on the size of training text (using the same number of MCMC iterations)"
     ]
    },
    {
     "cell_type": "heading",
     "level": 2,
     "metadata": {},
     "source": [
      "Encryption"
     ]
    },
    {
     "cell_type": "code",
     "collapsed": false,
     "input": [
      "fname = 'main/oliver_twist.txt'\n",
      "test_text = read_text_words(fname, 5000)\n",
      "encrypted = crypt(original)\n",
      "print encrypted[:20]"
     ],
     "language": "python",
     "metadata": {},
     "outputs": []
    },
    {
     "cell_type": "heading",
     "level": 2,
     "metadata": {},
     "source": [
      "Metropolis"
     ]
    },
    {
     "cell_type": "code",
     "collapsed": false,
     "input": [
      "sizes =  [2,4,8,16]\n",
      "for s in sizes:   \n",
      "    i=0\n",
      "    train_text = read_text_filesize('main/super.txt', s)\n",
      "    counts = get_unicount(train_text)\n",
      "    bistats = get_bigram_stats_dic(train_text)\n",
      "#     print chr(np.argmax(counts)+97)\n",
      "#     print max(bistats.iteritems(), key=operator.itemgetter(1))[0]\n",
      "    \n",
      "    #Metropolis here\n",
      "    #decryption\n",
      "    #output - decrypted text\n",
      "#     qs = np.zeros(len(sizes))\n",
      "#     qs[i] = quality(decrypted, original)\n",
      "#     i+=1\n",
      "\n",
      "print train_text[:1000]\n",
      "# plt.plot(sizes, qs) "
     ],
     "language": "python",
     "metadata": {},
     "outputs": []
    },
    {
     "cell_type": "heading",
     "level": 1,
     "metadata": {},
     "source": [
      "TO BE DELETED"
     ]
    },
    {
     "cell_type": "code",
     "collapsed": false,
     "input": [
      "#TEST TEXT\n",
      "fname = 'main/oliver_twist.txt'\n",
      "original = read_text_words(fname, 1000)\n",
      "encrypted, p = crypt(original)\n",
      "\n",
      "#TRAIN TEXT\n",
      "length = 575514\n",
      "train_text = read_text_words('main/war_and_peace.txt', length)\n",
      "counts = get_unicount(train_text)\n",
      "stats = get_bigram_stats_dic(train_text)\n",
      "print p"
     ],
     "language": "python",
     "metadata": {},
     "outputs": [
      {
       "output_type": "stream",
       "stream": "stdout",
       "text": [
        "[6, 2, 16, 0, 17, 12, 20, 22, 7, 25, 19, 9, 14, 23, 5, 15, 11, 1, 10, 24, 18, 13, 21, 4, 8, 3, 26]\n"
       ]
      }
     ],
     "prompt_number": 72
    },
    {
     "cell_type": "code",
     "collapsed": false,
     "input": [
      "computableGen = lambda t: applyedTranspostions(t)\n",
      "init_p = uniform(26)\n",
      "metropolisgenerator = \\\n",
      "    metropolis(get_desiredPDF_bigram, init_p, computableGen )\n",
      "#     densityMaximization(get_desiredPDF_bigram, init_p, computableGen )\n",
      "x = []\n",
      "for i in xrange( 10 ):\n",
      "    x.append( metropolisgenerator.next()[0] )"
     ],
     "language": "python",
     "metadata": {},
     "outputs": [
      {
       "output_type": "stream",
       "stream": "stdout",
       "text": [
        "[1, 18, 6, 7, 25, 24, 5, 23, 16, 3, 22, 19, 12, 20, 2, 0, 4, 9, 10, 11, 21, 15, 14, 13, 17, 8, 26]\n",
        "-373.915316694"
       ]
      },
      {
       "output_type": "stream",
       "stream": "stdout",
       "text": [
        "\n",
        "[9, 11, 16, 1, 25, 12, 5, 20, 0, 4, 17, 18, 24, 19, 2, 14, 3, 21, 7, 15, 6, 10, 22, 13, 23, 8, 26]\n",
        "-501.800389091"
       ]
      },
      {
       "output_type": "stream",
       "stream": "stdout",
       "text": [
        "\n",
        "[19, 15, 16, 6, 13, 21, 1, 20, 2, 4, 9, 12, 7, 22, 14, 23, 11, 18, 0, 10, 17, 5, 24, 25, 3, 8, 26]\n",
        "-296.838197774"
       ]
      },
      {
       "output_type": "stream",
       "stream": "stdout",
       "text": [
        "\n",
        "[11, 9, 1, 17, 23, 2, 0, 13, 22, 5, 15, 12, 20, 7, 4, 21, 14, 19, 3, 18, 6, 16, 24, 10, 25, 8, 26]\n",
        "-269.611618573"
       ]
      },
      {
       "output_type": "stream",
       "stream": "stdout",
       "text": [
        "\n",
        "[6, 7, 14, 13, 9, 3, 10, 19, 22, 5, 0, 1, 20, 2, 11, 24, 12, 16, 21, 18, 17, 23, 15, 4, 25, 8, 26]\n",
        "0"
       ]
      },
      {
       "output_type": "stream",
       "stream": "stdout",
       "text": [
        "\n",
        "[23, 1, 6, 9, 17, 21, 10, 14, 7, 25, 19, 3, 20, 5, 11, 4, 2, 16, 22, 18, 13, 0, 12, 24, 15, 8, 26]\n",
        "-958.832935554"
       ]
      },
      {
       "output_type": "stream",
       "stream": "stdout",
       "text": [
        "\n",
        "[7, 1, 9, 4, 6, 21, 16, 14, 24, 11, 2, 23, 5, 15, 17, 25, 22, 3, 12, 18, 13, 0, 10, 20, 19, 8, 26]\n",
        "-3707.33414061"
       ]
      },
      {
       "output_type": "stream",
       "stream": "stdout",
       "text": [
        "\n",
        "[3, 19, 9, 11, 13, 15, 16, 2, 24, 4, 7, 12, 6, 22, 10, 14, 1, 23, 20, 17, 25, 0, 21, 18, 5, 8, 26]\n",
        "0"
       ]
      },
      {
       "output_type": "stream",
       "stream": "stdout",
       "text": [
        "\n",
        "[10, 16, 11, 19, 13, 3, 22, 18, 24, 5, 1, 14, 15, 0, 23, 4, 6, 9, 7, 2, 21, 25, 12, 17, 20, 8, 26]\n",
        "-3058.86381205"
       ]
      },
      {
       "output_type": "stream",
       "stream": "stdout",
       "text": [
        "\n",
        "[15, 18, 11, 22, 21, 3, 0, 19, 13, 23, 9, 14, 10, 7, 4, 5, 17, 16, 2, 24, 12, 1, 20, 25, 6, 8, 26]\n",
        "-988.208829512"
       ]
      },
      {
       "output_type": "stream",
       "stream": "stdout",
       "text": [
        "\n",
        "[16, 11, 18, 17, 19, 25, 1, 5, 7, 15, 2, 4, 22, 12, 23, 20, 10, 24, 3, 9, 14, 13, 0, 21, 6, 8, 26]\n",
        "-4186.97305976"
       ]
      },
      {
       "output_type": "stream",
       "stream": "stdout",
       "text": [
        "\n",
        "[10, 22, 16, 21, 18, 7, 12, 5, 19, 15, 2, 14, 1, 13, 24, 4, 11, 9, 17, 25, 3, 23, 0, 20, 6, 8, 26]\n",
        "-3889.86511414"
       ]
      },
      {
       "output_type": "stream",
       "stream": "stdout",
       "text": [
        "\n",
        "[22, 3, 12, 24, 5, 10, 16, 2, 17, 11, 15, 14, 1, 13, 7, 25, 6, 19, 21, 20, 0, 23, 18, 4, 9, 8, 26]\n",
        "-651.863940654"
       ]
      },
      {
       "output_type": "stream",
       "stream": "stdout",
       "text": [
        "\n",
        "[22, 19, 0, 24, 5, 1, 10, 2, 3, 12, 13, 11, 16, 25, 7, 6, 17, 18, 21, 20, 23, 15, 4, 14, 9, 8, 26]\n",
        "-2023.25533012"
       ]
      },
      {
       "output_type": "stream",
       "stream": "stdout",
       "text": [
        "\n",
        "[6, 19, 16, 24, 1, 3, 20, 2, 10, 18, 0, 5, 12, 22, 15, 9, 17, 23, 25, 4, 21, 14, 7, 11, 13, 8, 26]\n",
        "-2474.67684417"
       ]
      },
      {
       "output_type": "stream",
       "stream": "stdout",
       "text": [
        "\n",
        "[3, 7, 16, 21, 10, 15, 6, 2, 12, 17, 5, 4, 1, 13, 23, 9, 14, 24, 19, 18, 25, 20, 0, 11, 22, 8, 26]\n",
        "-3829.16182117"
       ]
      },
      {
       "output_type": "stream",
       "stream": "stdout",
       "text": [
        "\n",
        "[25, 24, 16, 21, 6, 23, 20, 7, 14, 18, 5, 4, 11, 13, 22, 10, 12, 1, 17, 0, 15, 19, 3, 9, 2, 8, 26]\n",
        "-2824.26378249"
       ]
      },
      {
       "output_type": "stream",
       "stream": "stdout",
       "text": [
        "\n",
        "[9, 4, 7, 17, 12, 13, 20, 25, 22, 1, 2, 0, 11, 3, 15, 10, 14, 23, 6, 18, 24, 21, 16, 19, 5, 8, 26]\n",
        "0"
       ]
      },
      {
       "output_type": "stream",
       "stream": "stdout",
       "text": [
        "\n",
        "[9, 11, 7, 14, 12, 6, 20, 25, 22, 3, 16, 17, 15, 18, 19, 5, 10, 1, 13, 4, 0, 23, 2, 21, 24, 8, 26]\n",
        "-4364.76457423"
       ]
      },
      {
       "output_type": "stream",
       "stream": "stdout",
       "text": [
        "\n",
        "[17, 18, 7, 11, 20, 6, 12, 1, 21, 3, 16, 4, 15, 13, 10, 0, 25, 23, 5, 22, 9, 19, 2, 14, 24, 8, 26]\n",
        "-1842.19556178"
       ]
      },
      {
       "output_type": "stream",
       "stream": "stdout",
       "text": [
        "\n",
        "[17, 18, 0, 10, 20, 2, 22, 3, 1, 23, 16, 6, 5, 9, 11, 13, 25, 4, 15, 12, 7, 19, 24, 14, 21, 8, 26]\n",
        "-2440.00305208"
       ]
      },
      {
       "output_type": "stream",
       "stream": "stdout",
       "text": [
        "\n",
        "[17, 23, 11, 18, 21, 12, 3, 14, 25, 16, 20, 7, 22, 0, 6, 13, 15, 5, 9, 19, 2, 10, 4, 24, 1, 8, 26]\n",
        "-3041.64872144"
       ]
      },
      {
       "output_type": "stream",
       "stream": "stdout",
       "text": [
        "\n",
        "[21, 24, 1, 7, 3, 14, 10, 25, 11, 18, 20, 6, 23, 0, 22, 13, 15, 12, 17, 19, 2, 5, 16, 4, 9, 8, 26]\n",
        "-1312.72530563"
       ]
      },
      {
       "output_type": "stream",
       "stream": "stdout",
       "text": [
        "\n",
        "[11, 24, 6, 19, 14, 15, 17, 13, 1, 12, 7, 22, 9, 4, 20, 10, 23, 25, 5, 18, 2, 21, 16, 0, 3, 8, 26]\n",
        "-4156.8454504"
       ]
      },
      {
       "output_type": "stream",
       "stream": "stdout",
       "text": [
        "\n",
        "[24, 3, 1, 16, 7, 22, 17, 6, 12, 10, 25, 15, 23, 5, 9, 21, 20, 0, 14, 19, 11, 13, 18, 2, 4, 8, 26]\n",
        "-4608.58393372"
       ]
      },
      {
       "output_type": "stream",
       "stream": "stdout",
       "text": [
        "\n",
        "[5, 16, 1, 14, 10, 6, 7, 4, 19, 12, 25, 17, 24, 11, 21, 9, 20, 23, 22, 15, 2, 13, 0, 3, 18, 8, 26]\n",
        "-1687.69494379"
       ]
      },
      {
       "output_type": "stream",
       "stream": "stdout",
       "text": [
        "\n",
        "[4, 12, 20, 2, 10, 21, 11, 5, 25, 18, 22, 3, 24, 16, 14, 6, 23, 1, 19, 7, 17, 13, 15, 9, 0, 8, 26]\n",
        "-2320.05663961"
       ]
      },
      {
       "output_type": "stream",
       "stream": "stdout",
       "text": [
        "\n",
        "[11, 12, 20, 17, 10, 2, 15, 14, 22, 0, 24, 23, 3, 7, 4, 18, 21, 6, 19, 1, 25, 16, 13, 9, 5, 8, 26]\n",
        "-4082.31870207"
       ]
      },
      {
       "output_type": "stream",
       "stream": "stdout",
       "text": [
        "\n",
        "[3, 4, 15, 17, 11, 12, 7, 14, 16, 0, 23, 25, 13, 24, 19, 22, 1, 2, 18, 21, 10, 20, 5, 9, 6, 8, 26]\n",
        "-2753.60964516"
       ]
      },
      {
       "output_type": "stream",
       "stream": "stdout",
       "text": [
        "\n",
        "[5, 7, 4, 0, 16, 10, 13, 12, 15, 11, 19, 24, 21, 17, 22, 3, 23, 25, 6, 18, 1, 20, 14, 2, 9, 8, 26]\n",
        "-2518.7032806"
       ]
      },
      {
       "output_type": "stream",
       "stream": "stdout",
       "text": [
        "\n",
        "[7, 5, 14, 3, 11, 20, 13, 25, 18, 15, 22, 2, 9, 12, 21, 19, 4, 24, 23, 16, 1, 10, 6, 17, 0, 8, 26]\n",
        "-4628.51113411"
       ]
      },
      {
       "output_type": "stream",
       "stream": "stdout",
       "text": [
        "\n",
        "[6, 4, 1, 9, 15, 20, 3, 22, 24, 25, 0, 7, 16, 12, 13, 19, 17, 14, 23, 18, 21, 10, 5, 2, 11, 8, 26]\n",
        "-4068.5468247"
       ]
      },
      {
       "output_type": "stream",
       "stream": "stdout",
       "text": [
        "\n",
        "[4, 6, 20, 11, 23, 13, 16, 14, 2, 19, 12, 7, 18, 24, 5, 10, 0, 1, 3, 21, 22, 25, 15, 9, 17, 8, 26]\n",
        "-1658.56487791"
       ]
      },
      {
       "output_type": "stream",
       "stream": "stdout",
       "text": [
        "\n",
        "[16, 21, 20, 4, 6, 23, 12, 11, 7, 9, 19, 17, 1, 24, 2, 10, 0, 13, 3, 22, 14, 18, 25, 5, 15, 8, 26]\n",
        "-2270.00934642"
       ]
      },
      {
       "output_type": "stream",
       "stream": "stdout",
       "text": [
        "\n",
        "[19, 3, 4, 12, 9, 7, 24, 22, 11, 25, 16, 23, 0, 1, 10, 18, 5, 17, 2, 13, 6, 21, 20, 14, 15, 8, 26]\n",
        "-4353.60237701"
       ]
      },
      {
       "output_type": "stream",
       "stream": "stdout",
       "text": [
        "\n",
        "[11, 18, 4, 5, 22, 14, 24, 19, 6, 7, 17, 12, 0, 3, 9, 1, 20, 15, 23, 13, 16, 2, 10, 21, 25, 8, 26]\n",
        "-4933.42509087"
       ]
      },
      {
       "output_type": "stream",
       "stream": "stdout",
       "text": [
        "\n",
        "[23, 18, 12, 3, 25, 10, 17, 2, 9, 7, 20, 15, 0, 21, 16, 24, 22, 6, 1, 13, 4, 14, 5, 11, 19, 8, 26]\n",
        "-5283.54214741"
       ]
      },
      {
       "output_type": "stream",
       "stream": "stdout",
       "text": [
        "\n",
        "[12, 16, 3, 6, 25, 2, 17, 23, 21, 1, 13, 19, 7, 18, 14, 5, 22, 24, 11, 0, 4, 20, 15, 10, 9, 8, 26]\n",
        "0"
       ]
      },
      {
       "output_type": "stream",
       "stream": "stdout",
       "text": [
        "\n",
        "[12, 0, 13, 2, 5, 15, 21, 23, 20, 25, 9, 7, 16, 3, 18, 17, 6, 1, 10, 22, 4, 24, 14, 11, 19, 8, 26]\n",
        "-2076.79483062"
       ]
      },
      {
       "output_type": "stream",
       "stream": "stdout",
       "text": [
        "\n",
        "[9, 22, 13, 0, 15, 5, 24, 23, 6, 4, 21, 20, 16, 10, 12, 17, 1, 11, 18, 19, 3, 7, 25, 14, 2, 8, 26]\n",
        "-2429.57324611"
       ]
      },
      {
       "output_type": "stream",
       "stream": "stdout",
       "text": [
        "\n",
        "[15, 19, 13, 0, 14, 2, 6, 23, 21, 4, 7, 16, 1, 17, 24, 11, 5, 22, 20, 10, 25, 18, 3, 9, 12, 8, 26]\n",
        "-4228.39226813"
       ]
      },
      {
       "output_type": "stream",
       "stream": "stdout",
       "text": [
        "\n",
        "[6, 16, 13, 23, 14, 9, 22, 7, 11, 5, 17, 0, 4, 15, 21, 19, 2, 24, 10, 20, 3, 12, 25, 18, 1, 8, 26]\n",
        "-3766.44068859"
       ]
      },
      {
       "output_type": "stream",
       "stream": "stdout",
       "text": [
        "\n",
        "[6, 5, 21, 16, 7, 9, 10, 17, 24, 3, 0, 1, 20, 11, 13, 19, 2, 23, 4, 12, 14, 22, 15, 18, 25, 8, 26]\n",
        "-906.455741586"
       ]
      },
      {
       "output_type": "stream",
       "stream": "stdout",
       "text": [
        "\n",
        "[14, 10, 16, 24, 23, 9, 25, 12, 1, 20, 21, 17, 2, 11, 4, 22, 7, 19, 3, 18, 0, 6, 15, 13, 5, 8, 26]\n",
        "-3981.61348762"
       ]
      },
      {
       "output_type": "stream",
       "stream": "stdout",
       "text": [
        "\n",
        "[14, 16, 25, 24, 15, 13, 5, 6, 7, 21, 3, 18, 23, 20, 4, 1, 10, 19, 12, 22, 2, 11, 0, 9, 17, 8, 26]\n",
        "-2349.05169554"
       ]
      },
      {
       "output_type": "stream",
       "stream": "stdout",
       "text": [
        "\n",
        "[20, 16, 25, 18, 1, 13, 5, 9, 15, 10, 0, 2, 7, 23, 4, 24, 17, 19, 6, 21, 22, 11, 3, 14, 12, 8, 26]\n",
        "-1287.68973636"
       ]
      },
      {
       "output_type": "stream",
       "stream": "stdout",
       "text": [
        "\n",
        "[17, 21, 12, 20, 1, 9, 2, 22, 11, 6, 15, 13, 23, 5, 10, 24, 7, 16, 18, 0, 4, 3, 19, 14, 25, 8, 26]\n",
        "0"
       ]
      },
      {
       "output_type": "stream",
       "stream": "stdout",
       "text": [
        "\n",
        "[0, 21, 19, 13, 18, 12, 2, 24, 15, 6, 4, 7, 22, 17, 9, 3, 1, 23, 20, 16, 14, 25, 5, 10, 11, 8, 26]\n",
        "-2704.45428069"
       ]
      },
      {
       "output_type": "stream",
       "stream": "stdout",
       "text": [
        "\n",
        "[16, 17, 7, 14, 0, 13, 23, 24, 10, 6, 3, 21, 5, 25, 9, 15, 22, 2, 12, 1, 4, 20, 19, 18, 11, 8, 26]\n",
        "-6275.51103427"
       ]
      },
      {
       "output_type": "stream",
       "stream": "stdout",
       "text": [
        "\n",
        "[5, 6, 0, 22, 11, 7, 10, 9, 4, 24, 3, 21, 13, 15, 19, 1, 14, 17, 18, 25, 16, 23, 2, 20, 12, 8, 26]\n",
        "-3631.74123636"
       ]
      },
      {
       "output_type": "stream",
       "stream": "stdout",
       "text": [
        "\n",
        "[0, 20, 2, 6, 9, 7, 11, 22, 24, 18, 5, 16, 14, 3, 19, 1, 23, 17, 12, 25, 13, 4, 21, 15, 10, 8, 26]\n",
        "-6672.54394126"
       ]
      },
      {
       "output_type": "stream",
       "stream": "stdout",
       "text": [
        "\n",
        "[21, 9, 4, 0, 5, 20, 12, 18, 14, 7, 24, 16, 2, 13, 19, 3, 22, 23, 10, 1, 11, 6, 25, 17, 15, 8, 26]\n",
        "-3506.97260629"
       ]
      },
      {
       "output_type": "stream",
       "stream": "stdout",
       "text": [
        "\n",
        "[9, 21, 22, 2, 14, 7, 15, 4, 18, 13, 17, 25, 19, 12, 0, 24, 20, 23, 11, 10, 5, 6, 3, 1, 16, 8, 26]\n",
        "-1771.70426211"
       ]
      },
      {
       "output_type": "stream",
       "stream": "stdout",
       "text": [
        "\n",
        "[15, 21, 19, 18, 3, 16, 2, 4, 10, 7, 17, 11, 23, 13, 1, 0, 14, 20, 12, 9, 22, 6, 25, 24, 5, 8, 26]\n",
        "-2403.00450273"
       ]
      },
      {
       "output_type": "stream",
       "stream": "stdout",
       "text": [
        "\n",
        "[14, 22, 23, 18, 4, 6, 21, 16, 9, 10, 17, 13, 2, 15, 11, 0, 5, 20, 12, 7, 3, 19, 25, 24, 1, 8, 26]\n",
        "-4034.67809922"
       ]
      },
      {
       "output_type": "stream",
       "stream": "stdout",
       "text": [
        "\n",
        "[10, 7, 14, 0, 2, 11, 21, 3, 4, 9, 20, 12, 22, 17, 18, 13, 6, 5, 16, 24, 15, 19, 23, 1, 25, 8, 26]\n",
        "-4819.40181809"
       ]
      },
      {
       "output_type": "stream",
       "stream": "stdout",
       "text": [
        "\n",
        "[19, 14, 3, 11, 12, 23, 0, 10, 16, 2, 13, 4, 22, 25, 18, 20, 9, 5, 17, 7, 15, 21, 6, 1, 24, 8, 26]\n",
        "-3822.10579953"
       ]
      },
      {
       "output_type": "stream",
       "stream": "stdout",
       "text": [
        "\n",
        "[25, 15, 3, 2, 12, 13, 1, 10, 16, 5, 9, 11, 24, 4, 21, 18, 14, 7, 17, 20, 0, 22, 6, 19, 23, 8, 26]\n",
        "-4537.46709366"
       ]
      },
      {
       "output_type": "stream",
       "stream": "stdout",
       "text": [
        "\n",
        "[2, 22, 11, 12, 15, 13, 17, 23, 4, 5, 0, 6, 24, 9, 1, 3, 25, 16, 10, 14, 19, 7, 20, 18, 21, 8, 26]\n",
        "-1581.76683911"
       ]
      },
      {
       "output_type": "stream",
       "stream": "stdout",
       "text": [
        "\n",
        "[18, 2, 1, 12, 10, 20, 21, 22, 19, 5, 9, 15, 4, 23, 7, 13, 25, 16, 0, 3, 11, 24, 17, 14, 6, 8, 26]\n",
        "-1957.5717125"
       ]
      },
      {
       "output_type": "stream",
       "stream": "stdout",
       "text": [
        "\n",
        "[12, 16, 2, 9, 10, 20, 14, 18, 5, 23, 1, 15, 4, 24, 7, 13, 19, 22, 25, 3, 11, 6, 21, 17, 0, 8, 26]\n",
        "-4646.70169584"
       ]
      },
      {
       "output_type": "stream",
       "stream": "stdout",
       "text": [
        "\n",
        "[13, 22, 5, 1, 10, 3, 23, 17, 0, 7, 12, 15, 4, 2, 20, 25, 19, 24, 6, 14, 18, 11, 21, 16, 9, 8, 26]\n",
        "-3672.06981781"
       ]
      },
      {
       "output_type": "stream",
       "stream": "stdout",
       "text": [
        "\n",
        "[15, 22, 14, 1, 25, 3, 7, 10, 17, 0, 23, 5, 13, 20, 11, 12, 2, 9, 18, 19, 4, 21, 6, 24, 16, 8, 26]\n",
        "-1346.21821048"
       ]
      },
      {
       "output_type": "stream",
       "stream": "stdout",
       "text": [
        "\n",
        "[23, 20, 5, 19, 1, 3, 7, 10, 25, 6, 14, 4, 0, 12, 17, 11, 2, 9, 15, 24, 18, 16, 22, 13, 21, 8, 26]\n",
        "-4984.41959969"
       ]
      },
      {
       "output_type": "stream",
       "stream": "stdout",
       "text": [
        "\n",
        "[23, 3, 11, 0, 20, 10, 19, 2, 5, 6, 22, 1, 9, 18, 14, 24, 4, 21, 13, 25, 15, 16, 12, 7, 17, 8, 26]\n",
        "-6213.50233758"
       ]
      },
      {
       "output_type": "stream",
       "stream": "stdout",
       "text": [
        "\n",
        "[21, 9, 4, 15, 5, 19, 0, 2, 17, 6, 14, 24, 7, 18, 12, 1, 11, 16, 25, 13, 10, 20, 22, 23, 3, 8, 26]\n",
        "-2870.77385883"
       ]
      },
      {
       "output_type": "stream",
       "stream": "stdout",
       "text": [
        "\n",
        "[19, 2, 9, 11, 15, 16, 6, 14, 23, 0, 20, 5, 1, 21, 12, 4, 3, 18, 25, 13, 10, 17, 7, 24, 22, 8, 26]\n",
        "-4354.97379853"
       ]
      },
      {
       "output_type": "stream",
       "stream": "stdout",
       "text": [
        "\n",
        "[12, 19, 6, 21, 3, 0, 11, 14, 25, 9, 10, 1, 18, 7, 22, 4, 15, 23, 17, 13, 5, 16, 20, 2, 24, 8, 26]\n",
        "-2630.91652622"
       ]
      },
      {
       "output_type": "stream",
       "stream": "stdout",
       "text": [
        "\n",
        "[10, 14, 5, 6, 16, 0, 4, 11, 23, 17, 25, 18, 22, 7, 12, 20, 15, 2, 24, 13, 19, 1, 3, 21, 9, 8, 26]\n",
        "-3783.80202334"
       ]
      },
      {
       "output_type": "stream",
       "stream": "stdout",
       "text": [
        "\n",
        "[19, 14, 9, 6, 22, 11, 7, 5, 10, 18, 0, 3, 23, 17, 4, 20, 15, 2, 24, 21, 13, 12, 25, 1, 16, 8, 26]\n",
        "-2514.41112391"
       ]
      },
      {
       "output_type": "stream",
       "stream": "stdout",
       "text": [
        "\n",
        "[10, 20, 21, 11, 7, 2, 12, 5, 6, 18, 4, 23, 15, 19, 1, 24, 3, 14, 17, 13, 22, 9, 25, 0, 16, 8, 26]\n",
        "-2675.47633424"
       ]
      },
      {
       "output_type": "stream",
       "stream": "stdout",
       "text": [
        "\n",
        "[5, 18, 15, 6, 7, 20, 13, 12, 0, 17, 9, 23, 19, 10, 2, 3, 22, 14, 4, 11, 25, 24, 21, 1, 16, 8, 26]\n",
        "-1893.18427511"
       ]
      },
      {
       "output_type": "stream",
       "stream": "stdout",
       "text": [
        "\n",
        "[22, 18, 2, 11, 10, 14, 9, 4, 3, 16, 5, 21, 6, 12, 13, 0, 20, 7, 15, 19, 25, 24, 23, 1, 17, 8, 26]\n",
        "-2772.24602245"
       ]
      },
      {
       "output_type": "stream",
       "stream": "stdout",
       "text": [
        "\n",
        "[22, 18, 12, 10, 9, 3, 5, 4, 23, 1, 15, 19, 6, 25, 0, 21, 14, 11, 2, 20, 13, 24, 16, 7, 17, 8, 26]\n",
        "-5008.43811068"
       ]
      },
      {
       "output_type": "stream",
       "stream": "stdout",
       "text": [
        "\n",
        "[5, 9, 12, 15, 20, 3, 2, 4, 21, 1, 10, 13, 0, 16, 18, 25, 17, 14, 11, 6, 22, 24, 7, 23, 19, 8, 26]\n",
        "-2544.69717897"
       ]
      },
      {
       "output_type": "stream",
       "stream": "stdout",
       "text": [
        "\n",
        "[12, 11, 2, 20, 1, 15, 21, 3, 9, 5, 23, 13, 7, 0, 4, 18, 17, 14, 25, 6, 19, 24, 22, 10, 16, 8, 26]\n",
        "-3589.68654143"
       ]
      },
      {
       "output_type": "stream",
       "stream": "stdout",
       "text": [
        "\n",
        "[12, 23, 14, 2, 4, 22, 21, 1, 5, 17, 13, 24, 25, 7, 6, 0, 16, 19, 18, 20, 11, 3, 9, 10, 15, 8, 26]\n",
        "-4147.5019759"
       ]
      },
      {
       "output_type": "stream",
       "stream": "stdout",
       "text": [
        "\n",
        "[5, 7, 14, 10, 0, 15, 11, 25, 19, 17, 1, 24, 13, 18, 2, 6, 16, 3, 22, 20, 21, 4, 9, 12, 23, 8, 26]\n",
        "-3633.06111022"
       ]
      },
      {
       "output_type": "stream",
       "stream": "stdout",
       "text": [
        "\n",
        "[15, 7, 4, 10, 0, 5, 24, 19, 18, 11, 1, 16, 3, 22, 9, 17, 13, 12, 21, 25, 23, 2, 14, 20, 6, 8, 26]\n",
        "-6276.69248479"
       ]
      },
      {
       "output_type": "stream",
       "stream": "stdout",
       "text": [
        "\n",
        "[4, 7, 12, 19, 0, 22, 9, 5, 14, 21, 13, 6, 25, 18, 20, 17, 10, 1, 2, 11, 23, 24, 15, 3, 16, 8, 26]\n",
        "-4729.40697192"
       ]
      },
      {
       "output_type": "stream",
       "stream": "stdout",
       "text": [
        "\n",
        "[2, 10, 9, 16, 18, 20, 17, 12, 6, 24, 0, 4, 11, 14, 15, 22, 5, 1, 13, 25, 19, 3, 23, 21, 7, 8, 26]\n",
        "-3998.63662821"
       ]
      },
      {
       "output_type": "stream",
       "stream": "stdout",
       "text": [
        "\n",
        "[2, 22, 13, 3, 9, 18, 5, 20, 24, 0, 21, 4, 10, 7, 15, 16, 11, 1, 19, 14, 17, 23, 12, 6, 25, 8, 26]\n",
        "-5835.70585879"
       ]
      },
      {
       "output_type": "stream",
       "stream": "stdout",
       "text": [
        "\n",
        "[1, 17, 6, 3, 23, 2, 12, 15, 4, 20, 14, 11, 10, 7, 22, 16, 5, 19, 9, 0, 21, 13, 18, 24, 25, 8, 26]\n",
        "-3739.84599118"
       ]
      },
      {
       "output_type": "stream",
       "stream": "stdout",
       "text": [
        "\n",
        "[24, 18, 1, 19, 23, 4, 6, 14, 22, 15, 25, 17, 12, 20, 10, 11, 5, 16, 0, 9, 21, 2, 13, 3, 7, 8, 26]\n",
        "-3297.57089574"
       ]
      },
      {
       "output_type": "stream",
       "stream": "stdout",
       "text": [
        "\n",
        "[10, 20, 21, 19, 1, 16, 0, 25, 22, 15, 13, 18, 4, 17, 24, 14, 11, 3, 23, 9, 6, 2, 5, 12, 7, 8, 26]\n",
        "-4343.38495629"
       ]
      },
      {
       "output_type": "stream",
       "stream": "stdout",
       "text": [
        "\n",
        "[0, 13, 19, 22, 20, 7, 12, 11, 1, 6, 9, 23, 24, 4, 16, 14, 21, 10, 3, 25, 15, 2, 5, 18, 17, 8, 26]\n",
        "-5765.9629089"
       ]
      },
      {
       "output_type": "stream",
       "stream": "stdout",
       "text": [
        "\n",
        "[4, 22, 1, 12, 6, 7, 0, 15, 21, 10, 24, 18, 16, 2, 17, 9, 19, 13, 3, 5, 14, 23, 25, 11, 20, 8, 26]\n",
        "-4931.33795776"
       ]
      },
      {
       "output_type": "stream",
       "stream": "stdout",
       "text": [
        "\n",
        "[22, 5, 19, 12, 15, 7, 20, 21, 3, 25, 1, 10, 9, 0, 4, 24, 14, 13, 16, 17, 6, 18, 2, 23, 11, 8, 26]\n",
        "-3650.84987587"
       ]
      },
      {
       "output_type": "stream",
       "stream": "stdout",
       "text": [
        "\n",
        "[24, 18, 15, 17, 7, 11, 14, 16, 0, 23, 19, 9, 5, 3, 2, 21, 20, 13, 12, 25, 10, 22, 1, 6, 4, 8, 26]\n",
        "-3027.815794"
       ]
      },
      {
       "output_type": "stream",
       "stream": "stdout",
       "text": [
        "\n",
        "[9, 21, 5, 3, 10, 19, 1, 23, 22, 15, 11, 2, 20, 24, 16, 14, 12, 13, 17, 0, 25, 18, 7, 6, 4, 8, 26]\n",
        "-3334.62244841"
       ]
      },
      {
       "output_type": "stream",
       "stream": "stdout",
       "text": [
        "\n",
        "[15, 11, 12, 0, 16, 25, 13, 24, 17, 2, 19, 22, 18, 20, 4, 1, 14, 5, 10, 6, 21, 23, 7, 3, 9, 8, 26]\n",
        "-4845.50564123"
       ]
      },
      {
       "output_type": "stream",
       "stream": "stdout",
       "text": [
        "\n",
        "[2, 11, 7, 23, 0, 25, 9, 4, 6, 18, 14, 13, 20, 17, 12, 15, 21, 24, 10, 5, 1, 3, 22, 16, 19, 8, 26]\n",
        "-1765.62311514"
       ]
      },
      {
       "output_type": "stream",
       "stream": "stdout",
       "text": [
        "\n",
        "[18, 25, 14, 23, 0, 12, 7, 13, 24, 5, 2, 20, 4, 10, 1, 19, 21, 6, 16, 17, 9, 15, 3, 11, 22, 8, 26]\n",
        "-7909.01968633"
       ]
      },
      {
       "output_type": "stream",
       "stream": "stdout",
       "text": [
        "\n",
        "[23, 25, 1, 7, 21, 12, 2, 16, 11, 3, 13, 24, 18, 10, 4, 19, 22, 20, 14, 17, 6, 15, 5, 0, 9, 8, 26]\n",
        "-2152.39386108"
       ]
      },
      {
       "output_type": "stream",
       "stream": "stdout",
       "text": [
        "\n",
        "[1, 25, 2, 10, 18, 3, 21, 16, 6, 24, 13, 11, 15, 17, 7, 5, 0, 20, 14, 4, 23, 12, 22, 9, 19, 8, 26]\n",
        "-2657.46713713"
       ]
      },
      {
       "output_type": "stream",
       "stream": "stdout",
       "text": [
        "\n",
        "[12, 1, 14, 24, 4, 17, 21, 18, 5, 2, 25, 15, 7, 0, 13, 23, 16, 20, 10, 19, 9, 11, 22, 6, 3, 8, 26]\n",
        "-5259.37697934"
       ]
      },
      {
       "output_type": "stream",
       "stream": "stdout",
       "text": [
        "\n",
        "[25, 3, 16, 4, 12, 6, 21, 9, 24, 17, 23, 19, 5, 15, 22, 0, 18, 14, 10, 2, 7, 20, 13, 11, 1, 8, 26]\n",
        "-3153.60922106"
       ]
      },
      {
       "output_type": "stream",
       "stream": "stdout",
       "text": [
        "\n",
        "[13, 19, 24, 6, 12, 18, 5, 14, 7, 4, 2, 3, 21, 9, 15, 0, 1, 16, 10, 23, 22, 20, 25, 11, 17, 8, 26]\n",
        "-2236.21701302"
       ]
      },
      {
       "output_type": "stream",
       "stream": "stdout",
       "text": [
        "\n",
        "[15, 22, 17, 5, 1, 4, 6, 14, 2, 3, 23, 24, 25, 18, 13, 10, 12, 21, 7, 16, 19, 20, 11, 9, 0, 8, 26]\n",
        "-3695.28887319"
       ]
      },
      {
       "output_type": "stream",
       "stream": "stdout",
       "text": [
        "\n",
        "[6, 22, 16, 25, 11, 19, 23, 21, 2, 1, 3, 24, 13, 20, 18, 9, 7, 15, 0, 17, 4, 10, 14, 5, 12, 8, 26]\n",
        "-6457.59894773"
       ]
      },
      {
       "output_type": "stream",
       "stream": "stdout",
       "text": [
        "\n",
        "[0, 22, 21, 3, 18, 19, 23, 24, 12, 7, 5, 14, 10, 15, 13, 2, 11, 20, 9, 16, 4, 17, 1, 25, 6, 8, 26]\n",
        "-6105.04833763"
       ]
      },
      {
       "output_type": "stream",
       "stream": "stdout",
       "text": [
        "\n",
        "[15, 5, 12, 18, 16, 22, 4, 6, 13, 0, 24, 17, 19, 14, 7, 2, 10, 20, 9, 3, 23, 21, 11, 25, 1, 8, 26]\n",
        "-5040.62155402"
       ]
      },
      {
       "output_type": "stream",
       "stream": "stdout",
       "text": [
        "\n",
        "[19, 3, 13, 0, 1, 7, 6, 11, 24, 21, 25, 12, 17, 22, 10, 4, 18, 20, 9, 5, 2, 14, 16, 23, 15, 8, 26]\n",
        "-3085.06804156"
       ]
      },
      {
       "output_type": "stream",
       "stream": "stdout",
       "text": [
        "\n",
        "[21, 11, 2, 9, 23, 14, 7, 13, 22, 17, 25, 0, 15, 5, 12, 20, 24, 1, 4, 10, 19, 6, 18, 3, 16, 8, 26]\n",
        "-4292.40868049"
       ]
      },
      {
       "output_type": "stream",
       "stream": "stdout",
       "text": [
        "\n",
        "[21, 14, 9, 20, 7, 17, 16, 3, 23, 25, 19, 22, 11, 2, 12, 4, 24, 5, 1, 18, 13, 15, 6, 0, 10, 8, 26]\n",
        "-4200.94296927"
       ]
      },
      {
       "output_type": "stream",
       "stream": "stdout",
       "text": [
        "\n",
        "[4, 1, 9, 5, 7, 19, 22, 23, 14, 25, 0, 6, 15, 24, 12, 3, 11, 17, 18, 13, 21, 10, 20, 16, 2, 8, 26]\n",
        "-3110.32123365"
       ]
      },
      {
       "output_type": "stream",
       "stream": "stdout",
       "text": [
        "\n",
        "[11, 20, 5, 2, 23, 19, 1, 14, 13, 12, 21, 6, 25, 24, 18, 0, 17, 4, 3, 7, 22, 10, 9, 16, 15, 8, 26]\n",
        "-1726.39761783"
       ]
      },
      {
       "output_type": "stream",
       "stream": "stdout",
       "text": [
        "\n",
        "[0, 25, 22, 10, 18, 19, 20, 14, 9, 24, 17, 5, 16, 3, 15, 23, 21, 1, 4, 2, 13, 7, 11, 12, 6, 8, 26]\n",
        "-3512.00648334"
       ]
      },
      {
       "output_type": "stream",
       "stream": "stdout",
       "text": [
        "\n",
        "[4, 13, 3, 15, 16, 24, 20, 25, 10, 18, 6, 7, 0, 22, 19, 11, 21, 2, 9, 5, 14, 23, 1, 17, 12, 8, 26]\n",
        "-2705.74104676"
       ]
      },
      {
       "output_type": "stream",
       "stream": "stdout",
       "text": [
        "\n",
        "[5, 1, 13, 15, 2, 7, 9, 23, 22, 25, 16, 0, 17, 20, 19, 21, 11, 4, 10, 6, 3, 24, 18, 14, 12, 8, 26]\n",
        "-1296.94989613"
       ]
      },
      {
       "output_type": "stream",
       "stream": "stdout",
       "text": [
        "\n",
        "[9, 7, 2, 24, 6, 0, 1, 22, 21, 3, 15, 13, 19, 23, 5, 20, 4, 12, 14, 10, 25, 17, 18, 16, 11, 8, 26]\n",
        "-4034.31026207"
       ]
      },
      {
       "output_type": "stream",
       "stream": "stdout",
       "text": [
        "\n",
        "[12, 16, 5, 2, 17, 18, 25, 22, 13, 21, 9, 14, 19, 6, 20, 0, 15, 3, 7, 10, 24, 11, 1, 23, 4, 8, 26]\n",
        "-3848.51487428"
       ]
      },
      {
       "output_type": "stream",
       "stream": "stdout",
       "text": [
        "\n",
        "[6, 17, 13, 18, 3, 7, 25, 11, 14, 9, 2, 23, 21, 16, 0, 20, 19, 12, 5, 1, 24, 15, 10, 22, 4, 8, 26]\n",
        "-6515.3964074"
       ]
      },
      {
       "output_type": "stream",
       "stream": "stdout",
       "text": [
        "\n",
        "[16, 1, 15, 5, 2, 0, 20, 3, 22, 10, 6, 23, 12, 17, 14, 24, 11, 21, 18, 25, 9, 13, 4, 19, 7, 8, 26]\n",
        "-4861.794851"
       ]
      },
      {
       "output_type": "stream",
       "stream": "stdout",
       "text": [
        "\n",
        "[15, 6, 14, 10, 2, 19, 25, 7, 11, 12, 1, 23, 20, 17, 3, 5, 9, 4, 18, 16, 0, 13, 22, 21, 24, 8, 26]\n",
        "-5194.03559295"
       ]
      },
      {
       "output_type": "stream",
       "stream": "stdout",
       "text": [
        "\n",
        "[16, 11, 4, 24, 18, 5, 17, 12, 13, 23, 21, 2, 0, 22, 20, 14, 9, 10, 15, 25, 3, 6, 19, 1, 7, 8, 26]\n",
        "-5333.23285179"
       ]
      },
      {
       "output_type": "stream",
       "stream": "stdout",
       "text": [
        "\n",
        "[22, 24, 10, 5, 3, 7, 15, 4, 16, 23, 21, 0, 12, 2, 20, 11, 18, 17, 6, 25, 1, 9, 19, 13, 14, 8, 26]\n",
        "-3975.58895367"
       ]
      },
      {
       "output_type": "stream",
       "stream": "stdout",
       "text": [
        "\n",
        "[1, 24, 19, 2, 9, 22, 16, 12, 25, 13, 6, 11, 14, 7, 20, 5, 3, 18, 10, 23, 21, 17, 4, 0, 15, 8, 26]\n",
        "-4627.46482692"
       ]
      },
      {
       "output_type": "stream",
       "stream": "stdout",
       "text": [
        "\n",
        "[2, 17, 18, 11, 21, 22, 12, 0, 23, 13, 19, 10, 6, 16, 7, 4, 25, 15, 14, 3, 9, 1, 24, 20, 5, 8, 26]\n",
        "-5956.45314308"
       ]
      },
      {
       "output_type": "stream",
       "stream": "stdout",
       "text": [
        "\n",
        "[14, 19, 9, 15, 18, 24, 1, 12, 2, 11, 3, 10, 25, 16, 7, 4, 22, 6, 23, 17, 5, 0, 21, 13, 20, 8, 26]\n",
        "-6958.60346789"
       ]
      },
      {
       "output_type": "stream",
       "stream": "stdout",
       "text": [
        "\n",
        "[6, 25, 23, 2, 7, 15, 3, 12, 1, 17, 18, 9, 22, 16, 13, 21, 5, 0, 24, 10, 14, 11, 4, 20, 19, 8, 26]\n",
        "-3930.66013129"
       ]
      },
      {
       "output_type": "stream",
       "stream": "stdout",
       "text": [
        "\n",
        "[12, 23, 4, 2, 9, 11, 18, 6, 5, 3, 25, 10, 21, 16, 0, 19, 13, 20, 24, 1, 22, 15, 17, 14, 7, 8, 26]\n",
        "-4535.14632764"
       ]
      },
      {
       "output_type": "stream",
       "stream": "stdout",
       "text": [
        "\n",
        "[7, 23, 0, 12, 9, 10, 11, 6, 13, 22, 20, 1, 4, 18, 24, 2, 5, 25, 3, 17, 14, 15, 21, 16, 19, 8, 26]\n",
        "-3900.4312387"
       ]
      },
      {
       "output_type": "stream",
       "stream": "stdout",
       "text": [
        "\n",
        "[13, 0, 7, 12, 25, 19, 10, 6, 11, 14, 17, 16, 5, 22, 3, 23, 18, 9, 1, 20, 24, 4, 2, 21, 15, 8, 26]\n",
        "-3249.33535769"
       ]
      },
      {
       "output_type": "stream",
       "stream": "stdout",
       "text": [
        "\n",
        "[21, 12, 19, 17, 18, 15, 23, 3, 0, 9, 6, 25, 24, 22, 16, 11, 5, 7, 13, 20, 4, 10, 2, 14, 1, 8, 26]\n",
        "-5386.0874529"
       ]
      },
      {
       "output_type": "stream",
       "stream": "stdout",
       "text": [
        "\n",
        "[10, 25, 12, 14, 21, 2, 24, 9, 22, 23, 6, 16, 3, 5, 13, 4, 7, 11, 20, 18, 19, 0, 17, 15, 1, 8, 26]\n",
        "-4525.93478134"
       ]
      },
      {
       "output_type": "stream",
       "stream": "stdout",
       "text": [
        "\n",
        "[19, 25, 16, 23, 17, 22, 11, 2, 20, 13, 0, 3, 4, 7, 5, 9, 24, 12, 6, 18, 10, 21, 14, 15, 1, 8, 26]\n",
        "-3939.39020607"
       ]
      },
      {
       "output_type": "stream",
       "stream": "stdout",
       "text": [
        "\n",
        "[18, 16, 3, 21, 5, 15, 11, 10, 2, 12, 0, 20, 17, 4, 13, 6, 24, 19, 1, 23, 7, 22, 14, 25, 9, 8, 26]\n",
        "-1348.82810025"
       ]
      },
      {
       "output_type": "stream",
       "stream": "stdout",
       "text": [
        "\n",
        "[22, 17, 10, 23, 18, 12, 21, 16, 5, 19, 0, 9, 25, 20, 24, 6, 15, 13, 11, 4, 7, 1, 14, 2, 3, 8, 26]\n",
        "-4110.08448469"
       ]
      },
      {
       "output_type": "stream",
       "stream": "stdout",
       "text": [
        "\n",
        "[22, 4, 14, 23, 13, 18, 10, 16, 6, 7, 0, 12, 25, 20, 17, 24, 5, 11, 15, 1, 2, 19, 9, 21, 3, 8, 26]\n",
        "-3351.45513332"
       ]
      },
      {
       "output_type": "stream",
       "stream": "stdout",
       "text": [
        "\n",
        "[5, 17, 14, 7, 12, 21, 2, 16, 6, 23, 24, 9, 25, 15, 4, 0, 10, 13, 19, 11, 18, 1, 20, 22, 3, 8, 26]\n",
        "-5109.3470289"
       ]
      },
      {
       "output_type": "stream",
       "stream": "stdout",
       "text": [
        "\n",
        "[15, 19, 6, 21, 16, 17, 2, 18, 5, 0, 24, 9, 14, 23, 11, 4, 10, 20, 25, 12, 7, 1, 13, 22, 3, 8, 26]\n",
        "-6465.00247209"
       ]
      },
      {
       "output_type": "stream",
       "stream": "stdout",
       "text": [
        "\n",
        "[13, 6, 10, 21, 16, 7, 12, 1, 25, 22, 15, 9, 18, 5, 11, 4, 23, 14, 3, 20, 19, 0, 17, 2, 24, 8, 26]\n",
        "-6113.7328492"
       ]
      },
      {
       "output_type": "stream",
       "stream": "stdout",
       "text": [
        "\n",
        "[13, 2, 7, 3, 10, 23, 22, 16, 4, 19, 25, 1, 18, 0, 11, 21, 24, 14, 9, 20, 5, 17, 6, 12, 15, 8, 26]\n",
        "-1079.63289878"
       ]
      },
      {
       "output_type": "stream",
       "stream": "stdout",
       "text": [
        "\n",
        "[17, 22, 13, 3, 18, 10, 4, 7, 6, 11, 14, 20, 5, 9, 1, 2, 0, 25, 15, 24, 16, 19, 23, 12, 21, 8, 26]\n",
        "-3672.31978318"
       ]
      },
      {
       "output_type": "stream",
       "stream": "stdout",
       "text": [
        "\n",
        "[1, 13, 2, 7, 3, 12, 4, 23, 0, 11, 15, 10, 18, 9, 6, 17, 22, 5, 16, 24, 14, 20, 25, 19, 21, 8, 26]\n",
        "-2149.85885437"
       ]
      },
      {
       "output_type": "stream",
       "stream": "stdout",
       "text": [
        "\n",
        "[1, 22, 12, 11, 0, 2, 24, 4, 6, 18, 3, 25, 7, 9, 10, 23, 15, 20, 19, 5, 16, 13, 17, 14, 21, 8, 26]\n",
        "-6063.24445411"
       ]
      },
      {
       "output_type": "stream",
       "stream": "stdout",
       "text": [
        "\n",
        "[9, 22, 18, 10, 16, 3, 0, 24, 11, 25, 17, 19, 13, 15, 5, 23, 14, 20, 6, 2, 4, 7, 1, 12, 21, 8, 26]\n",
        "-5813.77413853"
       ]
      },
      {
       "output_type": "stream",
       "stream": "stdout",
       "text": [
        "\n",
        "[4, 7, 18, 10, 11, 25, 9, 13, 22, 1, 0, 6, 23, 21, 5, 12, 2, 15, 19, 16, 3, 14, 20, 24, 17, 8, 26]\n",
        "-3348.73424536"
       ]
      },
      {
       "output_type": "stream",
       "stream": "stdout",
       "text": [
        "\n",
        "[6, 4, 21, 19, 25, 18, 12, 13, 1, 7, 11, 15, 23, 17, 5, 24, 14, 2, 3, 16, 9, 20, 0, 22, 10, 8, 26]\n",
        "-5460.50482409"
       ]
      },
      {
       "output_type": "stream",
       "stream": "stdout",
       "text": [
        "\n",
        "[6, 3, 21, 22, 2, 24, 0, 13, 9, 12, 14, 18, 11, 16, 7, 10, 23, 15, 19, 1, 25, 17, 4, 20, 5, 8, 26]\n",
        "-6314.24338632"
       ]
      },
      {
       "output_type": "stream",
       "stream": "stdout",
       "text": [
        "\n",
        "[13, 1, 19, 2, 22, 18, 0, 5, 3, 16, 23, 11, 21, 17, 9, 10, 24, 6, 14, 7, 20, 15, 4, 12, 25, 8, 26]\n",
        "-3669.32266927"
       ]
      },
      {
       "output_type": "stream",
       "stream": "stdout",
       "text": [
        "\n",
        "[13, 1, 10, 9, 12, 23, 19, 22, 14, 0, 17, 21, 15, 18, 2, 11, 4, 6, 16, 7, 20, 3, 24, 5, 25, 8, 26]\n",
        "-5560.49185529"
       ]
      },
      {
       "output_type": "stream",
       "stream": "stdout",
       "text": [
        "\n",
        "[21, 25, 13, 16, 3, 5, 17, 12, 2, 7, 14, 9, 18, 22, 0, 11, 10, 1, 15, 24, 20, 23, 19, 4, 6, 8, 26]\n",
        "-5841.45033189"
       ]
      },
      {
       "output_type": "stream",
       "stream": "stdout",
       "text": [
        "\n",
        "[14, 6, 11, 24, 3, 5, 17, 2, 10, 22, 25, 20, 16, 7, 0, 9, 12, 19, 1, 13, 4, 23, 15, 18, 21, 8, 26]\n",
        "-5495.11620309"
       ]
      },
      {
       "output_type": "stream",
       "stream": "stdout",
       "text": [
        "\n",
        "[18, 6, 11, 17, 14, 22, 4, 3, 10, 0, 1, 19, 21, 7, 12, 24, 15, 5, 16, 13, 23, 2, 25, 20, 9, 8, 26]\n",
        "-6554.89952899"
       ]
      },
      {
       "output_type": "stream",
       "stream": "stdout",
       "text": [
        "\n",
        "[24, 13, 10, 6, 20, 22, 17, 9, 0, 1, 4, 23, 21, 18, 2, 15, 12, 5, 16, 25, 19, 7, 11, 3, 14, 8, 26]\n",
        "-3743.36737411"
       ]
      },
      {
       "output_type": "stream",
       "stream": "stdout",
       "text": [
        "\n",
        "[16, 15, 21, 9, 20, 10, 1, 6, 7, 14, 12, 5, 3, 18, 2, 24, 25, 0, 17, 13, 19, 23, 11, 22, 4, 8, 26]\n",
        "-5417.32794268"
       ]
      },
      {
       "output_type": "stream",
       "stream": "stdout",
       "text": [
        "\n",
        "[25, 9, 12, 16, 7, 13, 4, 14, 6, 0, 1, 11, 24, 17, 2, 10, 3, 15, 18, 5, 19, 23, 21, 22, 20, 8, 26]\n",
        "-4071.35346172"
       ]
      },
      {
       "output_type": "stream",
       "stream": "stdout",
       "text": [
        "\n",
        "[25, 11, 1, 16, 13, 7, 17, 2, 12, 9, 6, 24, 22, 23, 15, 3, 5, 14, 18, 10, 0, 20, 21, 19, 4, 8, 26]\n",
        "-2858.45593124"
       ]
      },
      {
       "output_type": "stream",
       "stream": "stdout",
       "text": [
        "\n",
        "[22, 12, 23, 16, 4, 1, 18, 15, 3, 2, 21, 11, 20, 17, 19, 6, 5, 14, 13, 9, 0, 10, 7, 25, 24, 8, 26]\n",
        "-4974.82265397"
       ]
      },
      {
       "output_type": "stream",
       "stream": "stdout",
       "text": [
        "\n",
        "[20, 12, 0, 22, 4, 24, 18, 7, 6, 23, 13, 17, 19, 25, 11, 2, 5, 14, 15, 9, 21, 10, 1, 16, 3, 8, 26]\n",
        "-4043.82057015"
       ]
      },
      {
       "output_type": "stream",
       "stream": "stdout",
       "text": [
        "\n",
        "[23, 20, 0, 19, 5, 24, 15, 22, 10, 13, 18, 11, 17, 21, 2, 16, 12, 6, 14, 9, 25, 7, 1, 4, 3, 8, 26]\n",
        "-5590.6021292"
       ]
      },
      {
       "output_type": "stream",
       "stream": "stdout",
       "text": [
        "\n",
        "[5, 10, 11, 12, 16, 6, 15, 17, 25, 19, 7, 2, 24, 21, 3, 4, 13, 0, 20, 9, 14, 18, 1, 22, 23, 8, 26]\n",
        "-4061.81347009"
       ]
      },
      {
       "output_type": "stream",
       "stream": "stdout",
       "text": [
        "\n",
        "[9, 16, 7, 12, 23, 18, 2, 13, 17, 19, 5, 11, 14, 24, 15, 10, 25, 22, 6, 0, 20, 3, 1, 21, 4, 8, 26]\n",
        "-4068.54676477"
       ]
      },
      {
       "output_type": "stream",
       "stream": "stdout",
       "text": [
        "\n",
        "[17, 1, 23, 19, 7, 13, 4, 24, 18, 14, 9, 11, 20, 21, 25, 10, 0, 22, 6, 3, 2, 12, 15, 5, 16, 8, 26]\n",
        "-4583.65359052"
       ]
      },
      {
       "output_type": "stream",
       "stream": "stdout",
       "text": [
        "\n",
        "[16, 23, 1, 7, 19, 11, 18, 20, 13, 25, 2, 21, 17, 9, 5, 10, 0, 3, 4, 22, 14, 12, 15, 24, 6, 8, 26]\n",
        "-4145.53844129"
       ]
      },
      {
       "output_type": "stream",
       "stream": "stdout",
       "text": [
        "\n",
        "[7, 16, 2, 19, 1, 22, 12, 9, 11, 4, 20, 23, 17, 15, 25, 14, 24, 3, 18, 0, 13, 5, 10, 21, 6, 8, 26]\n",
        "-4413.77731738"
       ]
      },
      {
       "output_type": "stream",
       "stream": "stdout",
       "text": [
        "\n",
        "[7, 23, 17, 20, 5, 25, 12, 2, 21, 4, 19, 10, 1, 18, 9, 16, 15, 0, 24, 14, 11, 3, 22, 13, 6, 8, 26]\n",
        "-3407.73265631"
       ]
      },
      {
       "output_type": "stream",
       "stream": "stdout",
       "text": [
        "\n",
        "[3, 5, 19, 1, 14, 13, 2, 12, 15, 9, 7, 24, 20, 6, 16, 22, 18, 0, 10, 23, 21, 17, 11, 25, 4, 8, 26]\n",
        "-3773.55508235"
       ]
      },
      {
       "output_type": "stream",
       "stream": "stdout",
       "text": [
        "\n",
        "[17, 5, 12, 1, 14, 19, 20, 7, 21, 15, 24, 2, 10, 6, 11, 18, 22, 23, 0, 3, 16, 13, 4, 25, 9, 8, 26]\n",
        "-2658.83997718"
       ]
      },
      {
       "output_type": "stream",
       "stream": "stdout",
       "text": [
        "\n",
        "[23, 10, 12, 5, 19, 11, 7, 1, 21, 24, 16, 0, 25, 13, 2, 14, 17, 20, 6, 22, 3, 4, 18, 15, 9, 8, 26]\n",
        "-3161.83133107"
       ]
      },
      {
       "output_type": "stream",
       "stream": "stdout",
       "text": [
        "\n",
        "[17, 3, 1, 7, 15, 13, 5, 22, 4, 24, 23, 14, 21, 10, 18, 9, 25, 20, 0, 11, 16, 12, 6, 19, 2, 8, 26]\n",
        "-4895.57855679"
       ]
      },
      {
       "output_type": "stream",
       "stream": "stdout",
       "text": [
        "\n",
        "[18, 9, 10, 4, 25, 17, 5, 23, 16, 22, 14, 20, 0, 1, 2, 12, 3, 6, 24, 11, 19, 13, 21, 15, 7, 8, 26]\n",
        "-4428.41019195"
       ]
      },
      {
       "output_type": "stream",
       "stream": "stdout",
       "text": [
        "\n",
        "[14, 21, 22, 18, 5, 17, 7, 23, 16, 24, 19, 25, 10, 13, 20, 3, 12, 6, 0, 11, 4, 1, 9, 15, 2, 8, 26]\n",
        "-2524.52608232"
       ]
      },
      {
       "output_type": "stream",
       "stream": "stdout",
       "text": [
        "\n",
        "[5, 18, 21, 16, 14, 22, 3, 23, 13, 24, 7, 12, 20, 25, 17, 4, 11, 1, 10, 0, 6, 15, 9, 19, 2, 8, 26]\n",
        "-5125.56889119"
       ]
      },
      {
       "output_type": "stream",
       "stream": "stdout",
       "text": [
        "\n",
        "[21, 19, 11, 5, 10, 24, 0, 25, 16, 18, 7, 17, 6, 2, 1, 20, 14, 13, 23, 3, 12, 15, 9, 22, 4, 8, 26]\n",
        "-4212.52613376"
       ]
      },
      {
       "output_type": "stream",
       "stream": "stdout",
       "text": [
        "\n",
        "[21, 19, 25, 14, 11, 13, 24, 16, 10, 3, 1, 6, 0, 5, 9, 20, 2, 22, 23, 15, 17, 18, 12, 7, 4, 8, 26]\n",
        "-4774.69929228"
       ]
      },
      {
       "output_type": "stream",
       "stream": "stdout",
       "text": [
        "\n",
        "[21, 19, 15, 14, 16, 22, 7, 20, 18, 11, 1, 9, 3, 13, 4, 23, 2, 6, 25, 5, 17, 24, 12, 0, 10, 8, 26]\n",
        "-6369.83002539"
       ]
      },
      {
       "output_type": "stream",
       "stream": "stdout",
       "text": [
        "\n",
        "[23, 14, 13, 12, 10, 15, 25, 16, 7, 9, 24, 2, 1, 22, 4, 19, 11, 0, 21, 5, 3, 17, 18, 6, 20, 8, 26]\n",
        "-2045.07087886"
       ]
      },
      {
       "output_type": "stream",
       "stream": "stdout",
       "text": [
        "\n",
        "[3, 14, 7, 16, 12, 21, 5, 0, 18, 11, 24, 15, 20, 22, 13, 19, 4, 2, 25, 6, 17, 23, 1, 9, 10, 8, 26]\n",
        "-5005.38498543"
       ]
      },
      {
       "output_type": "stream",
       "stream": "stdout",
       "text": [
        "\n",
        "[7, 6, 22, 11, 5, 16, 12, 13, 3, 20, 9, 14, 1, 10, 21, 18, 2, 0, 23, 19, 17, 24, 15, 4, 25, 8, 26]\n",
        "-1431.96446204"
       ]
      },
      {
       "output_type": "stream",
       "stream": "stdout",
       "text": [
        "\n",
        "[7, 24, 11, 5, 4, 9, 3, 13, 6, 17, 18, 21, 0, 10, 16, 2, 15, 22, 23, 1, 14, 12, 19, 20, 25, 8, 26]\n",
        "-5516.36588836"
       ]
      },
      {
       "output_type": "stream",
       "stream": "stdout",
       "text": [
        "\n",
        "[3, 18, 2, 11, 10, 9, 1, 24, 13, 22, 15, 7, 0, 4, 17, 16, 20, 14, 21, 12, 23, 5, 19, 6, 25, 8, 26]\n",
        "-2415.17835833"
       ]
      },
      {
       "output_type": "stream",
       "stream": "stdout",
       "text": [
        "\n",
        "[3, 18, 15, 10, 23, 25, 2, 19, 7, 17, 21, 16, 9, 12, 13, 0, 24, 1, 20, 4, 11, 5, 14, 6, 22, 8, 26]\n",
        "-6382.95696907"
       ]
      },
      {
       "output_type": "stream",
       "stream": "stdout",
       "text": [
        "\n",
        "[12, 24, 15, 23, 1, 20, 4, 2, 18, 13, 10, 3, 9, 7, 25, 5, 19, 21, 22, 11, 0, 17, 14, 6, 16, 8, 26]\n",
        "-3964.54783948"
       ]
      },
      {
       "output_type": "stream",
       "stream": "stdout",
       "text": [
        "\n",
        "[9, 12, 7, 22, 11, 21, 4, 14, 25, 19, 10, 20, 5, 24, 18, 2, 17, 23, 3, 13, 0, 16, 6, 15, 1, 8, 26]\n",
        "-664.394391737"
       ]
      },
      {
       "output_type": "stream",
       "stream": "stdout",
       "text": [
        "\n",
        "[25, 4, 19, 12, 18, 21, 0, 6, 13, 10, 11, 24, 14, 5, 7, 3, 17, 23, 22, 20, 9, 16, 15, 1, 2, 8, 26]\n",
        "-2141.34131094"
       ]
      },
      {
       "output_type": "stream",
       "stream": "stdout",
       "text": [
        "\n",
        "[21, 24, 19, 0, 4, 13, 3, 18, 15, 10, 6, 17, 14, 5, 12, 25, 16, 20, 1, 11, 9, 22, 23, 7, 2, 8, 26]\n",
        "-6466.50003407"
       ]
      },
      {
       "output_type": "stream",
       "stream": "stdout",
       "text": [
        "\n",
        "[15, 10, 23, 20, 7, 13, 5, 11, 0, 1, 3, 17, 18, 12, 6, 25, 14, 19, 21, 24, 9, 22, 16, 4, 2, 8, 26]\n",
        "-5300.02731931"
       ]
      },
      {
       "output_type": "stream",
       "stream": "stdout",
       "text": [
        "\n",
        "[19, 12, 22, 7, 11, 23, 5, 24, 20, 15, 6, 3, 18, 21, 17, 1, 25, 14, 10, 16, 13, 0, 9, 4, 2, 8, 26]\n",
        "-2951.62311098"
       ]
      },
      {
       "output_type": "stream",
       "stream": "stdout",
       "text": [
        "\n",
        "[25, 9, 0, 18, 1, 4, 23, 12, 19, 11, 13, 17, 10, 21, 15, 7, 6, 5, 14, 2, 16, 3, 22, 24, 20, 8, 26]\n",
        "-5340.87797434"
       ]
      },
      {
       "output_type": "stream",
       "stream": "stdout",
       "text": [
        "\n",
        "[10, 5, 15, 25, 16, 3, 6, 22, 21, 17, 18, 9, 20, 19, 7, 13, 11, 0, 14, 23, 1, 4, 2, 24, 12, 8, 26]\n",
        "-7316.40623416"
       ]
      },
      {
       "output_type": "stream",
       "stream": "stdout",
       "text": [
        "\n",
        "[3, 19, 0, 14, 13, 11, 6, 17, 15, 22, 9, 25, 18, 1, 16, 5, 2, 7, 23, 21, 10, 24, 20, 4, 12, 8, 26]\n",
        "-4171.04331495"
       ]
      },
      {
       "output_type": "stream",
       "stream": "stdout",
       "text": [
        "\n",
        "[16, 2, 23, 24, 11, 17, 22, 14, 10, 12, 0, 3, 9, 21, 4, 15, 6, 18, 5, 7, 13, 25, 19, 1, 20, 8, 26]\n",
        "-4149.79574454"
       ]
      },
      {
       "output_type": "stream",
       "stream": "stdout",
       "text": [
        "\n",
        "[0, 1, 20, 7, 9, 25, 19, 14, 24, 18, 17, 13, 21, 10, 4, 11, 5, 12, 6, 22, 2, 3, 23, 16, 15, 8, 26]\n",
        "-2124.98874613"
       ]
      },
      {
       "output_type": "stream",
       "stream": "stdout",
       "text": [
        "\n",
        "[0, 24, 5, 16, 9, 22, 3, 15, 1, 19, 17, 10, 20, 18, 25, 11, 13, 12, 2, 23, 21, 14, 4, 6, 7, 8, 26]\n",
        "-7399.23377658"
       ]
      },
      {
       "output_type": "stream",
       "stream": "stdout",
       "text": [
        "\n",
        "[16, 24, 6, 1, 13, 11, 5, 12, 18, 10, 19, 3, 20, 14, 0, 21, 4, 22, 2, 15, 9, 23, 17, 25, 7, 8, 26]\n",
        "-4627.47490378"
       ]
      },
      {
       "output_type": "stream",
       "stream": "stdout",
       "text": [
        "\n",
        "[22, 24, 19, 0, 7, 16, 3, 11, 18, 10, 17, 25, 20, 6, 4, 13, 1, 15, 14, 21, 12, 23, 9, 5, 2, 8, 26]\n",
        "-4339.89208983"
       ]
      },
      {
       "output_type": "stream",
       "stream": "stdout",
       "text": [
        "\n",
        "[2, 5, 6, 25, 24, 20, 17, 11, 18, 22, 10, 0, 7, 9, 14, 23, 12, 15, 16, 4, 1, 13, 21, 19, 3, 8, 26]\n",
        "-6215.74582566"
       ]
      },
      {
       "output_type": "stream",
       "stream": "stdout",
       "text": [
        "\n",
        "[25, 11, 5, 10, 1, 20, 17, 12, 2, 22, 0, 23, 24, 13, 6, 14, 19, 3, 15, 16, 18, 4, 21, 9, 7, 8, 26]\n",
        "-6875.21268965"
       ]
      },
      {
       "output_type": "stream",
       "stream": "stdout",
       "text": [
        "\n",
        "[21, 11, 4, 0, 7, 1, 5, 22, 2, 19, 10, 23, 16, 17, 18, 6, 20, 12, 3, 24, 13, 25, 15, 9, 14, 8, 26]\n",
        "-5280.40894308"
       ]
      },
      {
       "output_type": "stream",
       "stream": "stdout",
       "text": [
        "\n",
        "[1, 9, 5, 12, 3, 21, 16, 22, 2, 19, 15, 14, 4, 10, 24, 11, 20, 18, 6, 17, 23, 25, 13, 0, 7, 8, 26]\n",
        "-4011.57897721"
       ]
      },
      {
       "output_type": "stream",
       "stream": "stdout",
       "text": [
        "\n",
        "[18, 2, 23, 25, 15, 21, 16, 6, 13, 3, 9, 10, 7, 22, 17, 12, 0, 19, 1, 24, 20, 5, 11, 14, 4, 8, 26]\n",
        "-2080.02970418"
       ]
      },
      {
       "output_type": "stream",
       "stream": "stdout",
       "text": [
        "\n",
        "[9, 2, 23, 0, 1, 6, 25, 15, 18, 19, 7, 22, 4, 24, 3, 11, 14, 12, 16, 5, 20, 21, 13, 17, 10, 8, 26]\n",
        "-5634.40406103"
       ]
      },
      {
       "output_type": "stream",
       "stream": "stdout",
       "text": [
        "\n",
        "[1, 5, 17, 16, 2, 21, 19, 9, 6, 10, 23, 22, 20, 3, 12, 0, 7, 13, 4, 18, 15, 11, 25, 24, 14, 8, 26]\n",
        "-3980.53959325"
       ]
      },
      {
       "output_type": "stream",
       "stream": "stdout",
       "text": [
        "\n",
        "[6, 9, 24, 16, 22, 12, 19, 25, 10, 23, 7, 3, 2, 18, 5, 17, 20, 13, 4, 1, 15, 11, 0, 14, 21, 8, 26]\n",
        "-2831.81763758"
       ]
      },
      {
       "output_type": "stream",
       "stream": "stdout",
       "text": [
        "\n",
        "[9, 6, 4, 16, 23, 0, 22, 15, 19, 10, 11, 7, 14, 13, 12, 21, 25, 18, 1, 20, 3, 17, 24, 2, 5, 8, 26]\n",
        "-6505.39353469"
       ]
      },
      {
       "output_type": "stream",
       "stream": "stdout",
       "text": [
        "\n",
        "[9, 12, 0, 18, 20, 17, 7, 21, 6, 10, 1, 14, 4, 13, 22, 11, 24, 3, 19, 23, 25, 15, 16, 2, 5, 8, 26]\n",
        "-4724.06492961"
       ]
      },
      {
       "output_type": "stream",
       "stream": "stdout",
       "text": [
        "\n",
        "[20, 12, 9, 23, 10, 2, 7, 19, 22, 14, 16, 21, 18, 24, 11, 6, 3, 1, 0, 17, 13, 5, 25, 4, 15, 8, 26]\n",
        "-3893.38567049"
       ]
      },
      {
       "output_type": "stream",
       "stream": "stdout",
       "text": [
        "\n",
        "-----\n",
        "[20, 19, 3, 25, 24, 21, 7, 6, 22, 18, 1, 5, 14, 13, 16, 15, 12, 0, 17, 4, 23, 2, 9, 11, 10, 8, 26]\n",
        "-3870.4082724"
       ]
      },
      {
       "output_type": "stream",
       "stream": "stdout",
       "text": [
        "\n",
        "[10, 6, 16, 20, 9, 21, 11, 0, 17, 25, 2, 23, 12, 24, 1, 15, 5, 13, 3, 4, 14, 7, 19, 22, 18, 8, 26]\n",
        "-5003.76091206"
       ]
      },
      {
       "output_type": "stream",
       "stream": "stdout",
       "text": [
        "\n",
        "[22, 24, 19, 7, 0, 16, 20, 10, 17, 25, 9, 12, 4, 21, 1, 18, 11, 6, 23, 2, 14, 5, 13, 3, 15, 8, 26]\n",
        "-5740.94912349"
       ]
      },
      {
       "output_type": "stream",
       "stream": "stdout",
       "text": [
        "\n",
        "[7, 17, 5, 15, 4, 16, 6, 22, 14, 0, 20, 13, 25, 21, 10, 11, 2, 1, 23, 19, 18, 9, 3, 12, 24, 8, 26]\n",
        "-5225.49320105"
       ]
      },
      {
       "output_type": "stream",
       "stream": "stdout",
       "text": [
        "\n",
        "[16, 17, 6, 4, 0, 19, 25, 5, 14, 10, 9, 11, 3, 23, 7, 2, 15, 1, 21, 22, 20, 13, 18, 12, 24, 8, 26]\n",
        "-5150.67682485"
       ]
      },
      {
       "output_type": "stream",
       "stream": "stdout",
       "text": [
        "\n",
        "[0, 18, 14, 2, 7, 19, 12, 5, 4, 21, 9, 11, 3, 1, 23, 25, 15, 17, 13, 22, 6, 10, 20, 16, 24, 8, 26]\n",
        "-3383.61825085"
       ]
      },
      {
       "output_type": "stream",
       "stream": "stdout",
       "text": [
        "\n",
        "[22, 16, 11, 12, 13, 25, 4, 2, 18, 21, 23, 20, 3, 14, 15, 24, 9, 19, 5, 6, 17, 7, 1, 0, 10, 8, 26]\n",
        "-1401.9907396"
       ]
      },
      {
       "output_type": "stream",
       "stream": "stdout",
       "text": [
        "\n",
        "[9, 6, 17, 7, 4, 22, 15, 19, 16, 21, 1, 2, 3, 14, 13, 24, 25, 11, 12, 0, 20, 5, 23, 18, 10, 8, 26]\n",
        "-6526.25929278"
       ]
      },
      {
       "output_type": "stream",
       "stream": "stdout",
       "text": [
        "\n",
        "[5, 4, 10, 0, 7, 2, 23, 17, 9, 19, 14, 18, 1, 3, 15, 16, 22, 24, 12, 6, 20, 21, 11, 13, 25, 8, 26]\n",
        "-3300.4449876"
       ]
      },
      {
       "output_type": "stream",
       "stream": "stdout",
       "text": [
        "\n",
        "[25, 17, 14, 18, 2, 23, 13, 21, 9, 19, 7, 0, 10, 4, 15, 16, 11, 1, 22, 6, 24, 3, 20, 12, 5, 8, 26]\n",
        "-4372.9155943"
       ]
      },
      {
       "output_type": "stream",
       "stream": "stdout",
       "text": [
        "\n"
       ]
      }
     ],
     "prompt_number": 73
    },
    {
     "cell_type": "code",
     "collapsed": false,
     "input": [
      "for i in x:\n",
      "    print i"
     ],
     "language": "python",
     "metadata": {},
     "outputs": [
      {
       "output_type": "stream",
       "stream": "stdout",
       "text": [
        "[25, 17, 14, 18, 2, 23, 13, 21, 9, 19, 7, 0, 10, 4, 15, 16, 11, 1, 22, 6, 24, 3, 20, 12, 5, 8, 26]\n",
        "[25, 17, 14, 18, 2, 23, 13, 21, 9, 19, 7, 0, 10, 4, 15, 16, 11, 1, 22, 6, 24, 3, 20, 12, 5, 8, 26]\n",
        "[25, 17, 14, 18, 2, 23, 13, 21, 9, 19, 7, 0, 10, 4, 15, 16, 11, 1, 22, 6, 24, 3, 20, 12, 5, 8, 26]\n",
        "[25, 17, 14, 18, 2, 23, 13, 21, 9, 19, 7, 0, 10, 4, 15, 16, 11, 1, 22, 6, 24, 3, 20, 12, 5, 8, 26]\n",
        "[25, 17, 14, 18, 2, 23, 13, 21, 9, 19, 7, 0, 10, 4, 15, 16, 11, 1, 22, 6, 24, 3, 20, 12, 5, 8, 26]\n",
        "[25, 17, 14, 18, 2, 23, 13, 21, 9, 19, 7, 0, 10, 4, 15, 16, 11, 1, 22, 6, 24, 3, 20, 12, 5, 8, 26]\n",
        "[25, 17, 14, 18, 2, 23, 13, 21, 9, 19, 7, 0, 10, 4, 15, 16, 11, 1, 22, 6, 24, 3, 20, 12, 5, 8, 26]\n",
        "[25, 17, 14, 18, 2, 23, 13, 21, 9, 19, 7, 0, 10, 4, 15, 16, 11, 1, 22, 6, 24, 3, 20, 12, 5, 8, 26]\n",
        "[25, 17, 14, 18, 2, 23, 13, 21, 9, 19, 7, 0, 10, 4, 15, 16, 11, 1, 22, 6, 24, 3, 20, 12, 5, 8, 26]\n",
        "[25, 17, 14, 18, 2, 23, 13, 21, 9, 19, 7, 0, 10, 4, 15, 16, 11, 1, 22, 6, 24, 3, 20, 12, 5, 8, 26]\n"
       ]
      }
     ],
     "prompt_number": 76
    },
    {
     "cell_type": "code",
     "collapsed": false,
     "input": [
      "per = x[0]\n",
      "for i in xrange(len(per)):\n",
      "    print (ord('a') + i) == (ord('a') + per[p[i]])"
     ],
     "language": "python",
     "metadata": {},
     "outputs": [
      {
       "output_type": "stream",
       "stream": "stdout",
       "text": [
        "False\n",
        "False\n",
        "False\n",
        "False\n",
        "False\n",
        "False\n",
        "False\n",
        "False\n",
        "False\n",
        "False\n",
        "False\n",
        "False\n",
        "False\n",
        "False\n",
        "False\n",
        "False\n",
        "False\n",
        "True\n",
        "False\n",
        "False\n",
        "False\n",
        "False\n",
        "False\n",
        "False\n",
        "False\n",
        "False\n",
        "True\n"
       ]
      }
     ],
     "prompt_number": 77
    },
    {
     "cell_type": "code",
     "collapsed": false,
     "input": [
      "k = [11, 9, 1, 17, 23, 2, 0, 13, 22, 5, 15, 12, 20, 7, 4, 21, 14, 19, 3, 18, 6, 16, 24, 10, 25, 8, 26]\n",
      "\n",
      "for i in xrange(len(k)):\n",
      "    print (ord('a') + i) == (ord('a') + k[p[i]])\n",
      "# [6, 2, 16, 0, 17, 12, 20, 22, 7, 25, 19, 9, 14, 23, 5, 15, 11, 1, 10, 24, 18, 13, 21, 4, 8, 3, 26]"
     ],
     "language": "python",
     "metadata": {},
     "outputs": [
      {
       "output_type": "stream",
       "stream": "stdout",
       "text": [
        "True\n",
        "True\n",
        "False\n",
        "False\n",
        "False\n",
        "False\n",
        "True\n",
        "False\n",
        "False\n",
        "False\n",
        "False\n",
        "False\n",
        "False\n",
        "False\n",
        "False\n",
        "False\n",
        "False\n",
        "False\n",
        "False\n",
        "False\n",
        "False\n",
        "False\n",
        "False\n",
        "True\n",
        "False\n",
        "False\n",
        "True\n"
       ]
      }
     ],
     "prompt_number": 74
    },
    {
     "cell_type": "code",
     "collapsed": false,
     "input": [],
     "language": "python",
     "metadata": {},
     "outputs": []
    }
   ],
   "metadata": {}
  }
 ]
}