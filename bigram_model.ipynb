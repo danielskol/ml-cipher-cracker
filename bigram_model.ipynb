{
 "metadata": {
  "name": "",
  "signature": "sha256:b54c79a83004536e047ee4aa483dcf229ff9e235c1280e178da9bfb246338249"
 },
 "nbformat": 3,
 "nbformat_minor": 0,
 "worksheets": [
  {
   "cells": [
    {
     "cell_type": "code",
     "collapsed": false,
     "input": [
      "import numpy as np\n",
      "import math\n",
      "import matplotlib.pyplot as plt\n",
      "import random\n",
      "from numpy.random import rand\n",
      "from copy import copy"
     ],
     "language": "python",
     "metadata": {},
     "outputs": [],
     "prompt_number": 93
    },
    {
     "cell_type": "markdown",
     "metadata": {},
     "source": [
      "read text"
     ]
    },
    {
     "cell_type": "code",
     "collapsed": false,
     "input": [
      "def read_text_words(filename, wordsnumber):    \n",
      "    with open(filename) as f:\n",
      "        X = f.readlines()\n",
      "        wordsnumber = len(X)    \n",
      "    X = ''.join(X) \n",
      "    X = X.replace('\\n', '{') #123\n",
      "    return X\n",
      "\n",
      "def read_text_whole(filename):\n",
      "    with open(filename) as f:\n",
      "        X = f.read()    \n",
      "    X = X.replace('\\n', '{') #123\n",
      "    return X\n",
      "\n",
      "def chop_text_to_size(text, size):\n",
      "    return text[:1024*1024*size]\n",
      "\n",
      "def read_text_filesize(filename, size):\n",
      "    with open(filename) as f:\n",
      "        X = f.read(1024*1024*size)\n",
      "    X = X.replace('\\n', '{') #123\n",
      "    return X    "
     ],
     "language": "python",
     "metadata": {},
     "outputs": [],
     "prompt_number": 20
    },
    {
     "cell_type": "markdown",
     "metadata": {},
     "source": [
      "counts"
     ]
    },
    {
     "cell_type": "code",
     "collapsed": false,
     "input": [
      "def get_unicount(text):\n",
      "    length = len(text)\n",
      "    counts = np.zeros(27)\n",
      "    for i in xrange(length):\n",
      "        c = ord(text[i])\n",
      "        counts[c-97]+=1\n",
      "        #97-122, 123 - word delimiter    \n",
      "    return counts[:26]"
     ],
     "language": "python",
     "metadata": {},
     "outputs": [],
     "prompt_number": 21
    },
    {
     "cell_type": "markdown",
     "metadata": {},
     "source": [
      "bigram statistics"
     ]
    },
    {
     "cell_type": "code",
     "collapsed": false,
     "input": [
      "def get_bigram_stats_dic(text):        \n",
      "    length = len(text)\n",
      "    dic = {}\n",
      "    for i in xrange(length-1):\n",
      "        if ord(text[i]) == 123 or ord(text[i+1]) == 123:\n",
      "            continue            \n",
      "        if (text[i], text[i+1]) in dic:\n",
      "            dic[(text[i], text[i+1])] += 1\n",
      "        else: \n",
      "            dic[(text[i], text[i+1])] = 1 \n",
      "            \n",
      "    for k,v in dic.items():\n",
      "        r = 0\n",
      "        if (k[0],'{') in dic.keys():\n",
      "            r = dic[(k[0],'{')]\n",
      "        dic[k] = v/(counts[ord(k[0])-97]-r)\n",
      "    return dic"
     ],
     "language": "python",
     "metadata": {},
     "outputs": [],
     "prompt_number": 22
    },
    {
     "cell_type": "markdown",
     "metadata": {},
     "source": [
      "quality"
     ]
    },
    {
     "cell_type": "code",
     "collapsed": false,
     "input": [
      "def quality(decrypted, original):\n",
      "    l = len(decrypted)\n",
      "    zipped = zip(decrypted, original)    \n",
      "    return sum(1 for x,y in zipped if x != y)/l"
     ],
     "language": "python",
     "metadata": {},
     "outputs": [],
     "prompt_number": 23
    },
    {
     "cell_type": "markdown",
     "metadata": {},
     "source": [
      "crypt"
     ]
    },
    {
     "cell_type": "code",
     "collapsed": false,
     "input": [
      "\n",
      "def crypt(text):\n",
      "    p = range(26)\n",
      "    random.shuffle(p)\n",
      "    output=''\n",
      "    p.append(26)\n",
      "    for ch in text:\n",
      "            try:\n",
      "                x = ord(ch) - ord('a')\n",
      "                output+=(chr(p[x] + ord('a')))\n",
      "            except:\n",
      "                pass\n",
      "    return output, p"
     ],
     "language": "python",
     "metadata": {},
     "outputs": [],
     "prompt_number": 24
    },
    {
     "cell_type": "markdown",
     "metadata": {},
     "source": [
      "metropolis "
     ]
    },
    {
     "cell_type": "code",
     "collapsed": false,
     "input": [
      "# -*- coding: utf-8 -*-\n",
      "# from random import random\n",
      "\"\"\"\n",
      "This module implements algorithm of Metropolis-Hastings \n",
      "for random variable generation.\n",
      "The algorithm generates random variables from a desired \n",
      "distribution (which may be unnormalized).\n",
      "\"\"\"\n",
      "\n",
      "def metropolis( desiredPDF, initValue, computableRVS, skipIterations = 10 ):\n",
      "    \"\"\"\n",
      "    This function returns a generator, which generates random variables \n",
      "    from some space S with a desired distribution using Metropolis-Hastings \n",
      "    algorithm.\n",
      "    \n",
      "    Args:\n",
      "        desiredPDF (func) : PDF of desired distribution p( T ), where T from S\n",
      "        initValue : an object from S to initialize the starting point \n",
      "        of iterative proccess\n",
      "        computableRVS (func) : a generator of random value from space S \n",
      "        with given parameter T, which is also from S\n",
      "        skipIterations (int) : number of iterations to skip \n",
      "        (skipping more iterations leads to better accuracy? \n",
      "        but greater time consuming)\n",
      "        \n",
      "    Returns: generator, which produce some values from S \n",
      "    and their denisity according to distribution desiredPDF\n",
      "    \"\"\"\n",
      "    \n",
      "    random_variable = initValue\n",
      "    random_variableDensityValue = desiredPDF( random_variable )\n",
      "    \"\"\"\n",
      "    A state of MCMC\n",
      "    \"\"\"\n",
      "    \n",
      "    #ignore first iterations to let the iterative proccess \n",
      "    #converge to some distribution, which is close to desired\n",
      "    for i in xrange( skipIterations ):\n",
      "        candidate = computableRVS( random_variable )\n",
      "#         print candidate\n",
      "        candidateDensityValue = desiredPDF( candidate )\n",
      "        \"\"\"\n",
      "        next candidate for sample, generated by computableRVS\n",
      "        \"\"\"\n",
      "        \n",
      "        #acceptanceProb = min( 1, candidateDensityValue / random_variableDensityValue )\n",
      "        #logp is returnd by desiredPDF_bigram, so here is the change\n",
      "        acceptanceProb = min(0, candidateDensityValue - random_variableDensityValue )\n",
      "        \"\"\"\n",
      "        probability to accept candidate to sample\n",
      "        \"\"\"       \n",
      "    \n",
      "#         print acceptanceProb        \n",
      "        \n",
      "        if math.log(random.random()) < acceptanceProb:\n",
      "            print candidate\n",
      "            print candidateDensityValue\n",
      "            print acceptanceProb\n",
      "            random_variable = candidate\n",
      "            random_variableDensityValue = candidateDensityValue\n",
      "            \n",
      "    #now when the procces is converged to desired distribution, \n",
      "    #return acceptable candidates\n",
      "    print \"-----\"\n",
      "    while True:\n",
      "        candidate = computableRVS( random_variable )\n",
      "#         print candidate\n",
      "        candidateDensityValue = desiredPDF( candidate )\n",
      "        \"\"\"\n",
      "        next candidate for sample, generated by computableRVS\n",
      "        \"\"\"\n",
      "        \n",
      "        #acceptanceProb = min( 1, candidateDensityValue / random_variableDensityValue )\n",
      "        # logp is returnd by desiredPDF_bigram, so here is the change\n",
      "        acceptanceProb = min( 0, candidateDensityValue - random_variableDensityValue )\n",
      "       \n",
      "        \"\"\"\n",
      "        probability to accept candidate to sample\n",
      "        \"\"\"\n",
      "#         print acceptanceProb\n",
      "        \n",
      "        if math.log(random.random()) < acceptanceProb:\n",
      "            random_variable = candidate\n",
      "            random_variableDensityValue = candidateDensityValue\n",
      "        yield random_variable, random_variableDensityValue\n"
     ],
     "language": "python",
     "metadata": {},
     "outputs": [],
     "prompt_number": 140
    },
    {
     "cell_type": "markdown",
     "metadata": {},
     "source": [
      "density maximization"
     ]
    },
    {
     "cell_type": "code",
     "collapsed": false,
     "input": [
      "\n",
      "def densityMaximization( desiredPDF, initValue, computableRVS, skipIterations = 200 ):\n",
      "    \"\"\"\n",
      "    This function return a generator, which generates random variables \n",
      "    from some space S by trying to maximize givven density. \n",
      "    The algorithm is a modification of Metropolis-Hastings. \n",
      "    It rejects all objects, which decrease density.\n",
      "    \n",
      "    Args:\n",
      "        desiredPDF (func) : PDF of desired distribution p( T ), where T from S\n",
      "        initValue : an object from S to initialize the starting point \n",
      "        of iterative proccess\n",
      "        computableRVS (func) : a generator of random value from space S \n",
      "        with given parameter T, which is also from S\n",
      "        skipIterations (int) : number of iterations to skip \n",
      "        (skipping more iterations leads to better accuracy? \n",
      "        but greater time consuming)\n",
      "        \n",
      "    Returns: generator, which produce some values from S, \n",
      "    where each next value has no less density, and their denisity\n",
      "    \"\"\"\n",
      "    \n",
      "    random_variable = initValue\n",
      "    random_variableDensityValue = desiredPDF( random_variable )\n",
      "    \"\"\"\n",
      "    A state of MCMC\n",
      "    \"\"\"\n",
      "    \n",
      "    #ignore first iterations to let the iterative proccess to enter \n",
      "    #the high density regions\n",
      "    for i in xrange( skipIterations ):\n",
      "        candidate = computableRVS( random_variable )\n",
      "        candidateDensityValue = desiredPDF( candidate )\n",
      "        \"\"\"\n",
      "        next candidate for sample, generated by computableRVS\n",
      "        \"\"\"\n",
      "        \n",
      "        \n",
      "        if random_variableDensityValue < candidateDensityValue:\n",
      "#             print candidate\n",
      "#             print candidateDensityValue\n",
      "            random_variable = candidate\n",
      "            random_variableDensityValue = candidateDensityValue\n",
      "            \n",
      "    #now when the procces is in high density regions, \n",
      "    #return acceptable candidates\n",
      "    while True:\n",
      "        candidate = computableRVS( random_variable )\n",
      "        candidateDensityValue = desiredPDF( candidate )\n",
      "        \"\"\"\n",
      "        next candidate for sample, generated by computableRVS\n",
      "        \"\"\"\n",
      "       \n",
      "        if random_variableDensityValue < candidateDensityValue:\n",
      "#             print candidate\n",
      "#             print candidateDensityValue\n",
      "            random_variable = candidate\n",
      "            random_variableDensityValue = candidateDensityValue\n",
      "        yield random_variable, random_variableDensityValue\n"
     ],
     "language": "python",
     "metadata": {},
     "outputs": [],
     "prompt_number": 129
    },
    {
     "cell_type": "markdown",
     "metadata": {},
     "source": [
      "permutation generator and computablervs"
     ]
    },
    {
     "cell_type": "code",
     "collapsed": false,
     "input": [
      "\"\"\"\n",
      "This module provide some functions, \n",
      "that generate random permutations with different distributions. \n",
      "There are a uniform distribution and a symmetric distribution, \n",
      "which depends on some other permutation.\n",
      "\"\"\"\n",
      "\n",
      "def uniform( n ):\n",
      "    \"\"\"\n",
      "    Generates random permutation using Knuth algorithm.\n",
      "    \n",
      "    Args:\n",
      "        n (int) : length of permutation\n",
      "        \n",
      "    Returns: random permutation of length n from uniform distribution\n",
      "    \"\"\"\n",
      "    \n",
      "    #initialize permutation with identical\n",
      "    permutation = [ i for i in xrange( n ) ]\n",
      "    \n",
      "    #swap ith object with random onject from i to n - 1 enclusively\n",
      "    for i in xrange( n ):\n",
      "        j = random.randint( i, n - 1 )\n",
      "        permutation[ i ], permutation[ j ] = permutation[ j ], permutation[ i ]\n",
      "        \n",
      "    permutation.append(26)\n",
      "    \n",
      "    return permutation\n",
      "\n",
      "def applyedTranspostions( basePermutation ):\n",
      "    \"\"\"\n",
      "    This function returns random permutation by applying random traonspositions to given permutation.\n",
      "    \n",
      "    The result distribution is not uniform and summetric assuming parameter.\n",
      "    \n",
      "    Args:\n",
      "        basePermutation (array) : parameter of distribution\n",
      "        \n",
      "    Returns: random permutation generated from basePermutation\n",
      "    \"\"\"\n",
      "    \n",
      "    n = len( basePermutation )-1\n",
      "    \"\"\"\n",
      "    length of permutation\n",
      "    \"\"\"\n",
      "    \n",
      "    permutation = copy( basePermutation )\n",
      "    \"\"\"\n",
      "    permutation to retur after some mpdifications\n",
      "    we use a copy method, because initial arguments must leaved uncahnge\n",
      "    \"\"\"\n",
      "    \n",
      "    #apply n random transpositions (including identical) to base permutation\n",
      "    for i in xrange( n ):\n",
      "        k, l = random.randint( 0, n - 1 ), random.randint( 0, n - 1 )\n",
      "        permutation[ k ], permutation[ l ] = permutation[ l ], permutation[ k ]\n",
      "        \n",
      "    return  permutation"
     ],
     "language": "python",
     "metadata": {},
     "outputs": [],
     "prompt_number": 97
    },
    {
     "cell_type": "markdown",
     "metadata": {},
     "source": [
      "desiredPDF (improved)"
     ]
    },
    {
     "cell_type": "code",
     "collapsed": false,
     "input": [
      "def get_bigram_stats_array(text):        \n",
      "    length = len(text)\n",
      "    stats = np.zeros((27,27))\n",
      "    for i in xrange(length-1):\n",
      "        c = ord(text[i])\n",
      "        d = ord(text[i+1])\n",
      "        stats[c-97, d-97]+=1\n",
      "        #97-122, 123 - word delimiter  \n",
      "    for i in xrange(26):        \n",
      "        stats[i] = stats[i]/sum(stats[i,:26])\n",
      "    return stats[:26,:26]\n",
      "\n",
      "def get_desiredPDF_bigram(permutation):\n",
      "    logp = 0\n",
      "    for i in xrange(len(encrypted)-1):\n",
      "        if ord(encrypted[i]) != 123 and ord(encrypted[i+1]) != 123:            \n",
      "            if stats[permutation[ord(encrypted[i])-97], \n",
      "                                   permutation[ord(encrypted[i+1])-97]] > 0:\n",
      "                logp += math.log(stats[permutation[ord(encrypted[i])-97], \n",
      "                                       permutation[ord(encrypted[i+1])-97]])\n",
      "            else:\n",
      "                logp += -9 #penalty for non existant pairs\n",
      "    return logp\n"
     ],
     "language": "python",
     "metadata": {},
     "outputs": [],
     "prompt_number": 131
    },
    {
     "cell_type": "heading",
     "level": 1,
     "metadata": {},
     "source": [
      "Varying training text size"
     ]
    },
    {
     "cell_type": "markdown",
     "metadata": {},
     "source": [
      "Fix large (e.g. 5000 or more words) encrypted text and explore how the ratio of correctly decrypted symbols\n",
      "depends on the size of training text (using the same number of MCMC iterations)"
     ]
    },
    {
     "cell_type": "heading",
     "level": 2,
     "metadata": {},
     "source": [
      "Encryption"
     ]
    },
    {
     "cell_type": "code",
     "collapsed": false,
     "input": [
      "fname = 'main/oliver_twist.txt'\n",
      "original = read_text_words(fname, 5000)\n",
      "\n",
      "encrypted,p = crypt(original)\n",
      "print encrypted[:20]"
     ],
     "language": "python",
     "metadata": {},
     "outputs": [
      {
       "output_type": "stream",
       "stream": "stdout",
       "text": [
        "sui{meqtiks{vwsipdie\n"
       ]
      }
     ],
     "prompt_number": 32
    },
    {
     "cell_type": "heading",
     "level": 2,
     "metadata": {},
     "source": [
      "Metropolis"
     ]
    },
    {
     "cell_type": "code",
     "collapsed": false,
     "input": [
      "sizes =  [2,4,8,16]\n",
      "for s in sizes:   \n",
      "    i=0\n",
      "    train_text = read_text_filesize('main/super.txt', s)\n",
      "    counts = get_unicount(train_text)\n",
      "    bistats = get_bigram_stats_dic(train_text)\n",
      "#     print chr(np.argmax(counts)+97)\n",
      "#     print max(bistats.iteritems(), key=operator.itemgetter(1))[0]\n",
      "    \n",
      "    #Metropolis here\n",
      "    #decryption\n",
      "    #output - decrypted text\n",
      "#     qs = np.zeros(len(sizes))\n",
      "#     qs[i] = quality(decrypted, original)\n",
      "#     i+=1\n",
      "\n",
      "print train_text[:1000]\n",
      "# plt.plot(sizes, qs) "
     ],
     "language": "python",
     "metadata": {},
     "outputs": []
    },
    {
     "cell_type": "heading",
     "level": 1,
     "metadata": {},
     "source": [
      "TO BE DELETED"
     ]
    },
    {
     "cell_type": "code",
     "collapsed": false,
     "input": [
      "#TEST TEXT\n",
      "fname = 'main/oliver_twist.txt'\n",
      "original = read_text_words(fname, 1000)\n",
      "encrypted, p = crypt(original)\n",
      "\n",
      "#TRAIN TEXT\n",
      "length = 575514\n",
      "train_text = read_text_words('main/war_and_peace.txt', length)\n",
      "# counts = get_unicount(train_text)\n",
      "stats = get_bigram_stats_array(train_text)\n",
      "# print stats\n",
      "print p\n",
      "bp = np.zeros(27, dtype=int)\n",
      "for i in p:\n",
      "    bp[p[i]] = i\n",
      "q = get_desiredPDF_bigram(bp)\n",
      "print bp\n",
      "print q\n",
      "ra = uniform(26)\n",
      "q = get_desiredPDF_bigram(ra)\n",
      "print q\n"
     ],
     "language": "python",
     "metadata": {},
     "outputs": [
      {
       "output_type": "stream",
       "stream": "stdout",
       "text": [
        "[22, 9, 15, 10, 23, 21, 24, 13, 5, 0, 1, 14, 20, 2, 25, 7, 6, 17, 8, 18, 12, 11, 16, 3, 4, 19, 26]\n",
        "[ 9 10 13 23 24  8 16 15 18  1  3 21 20  7 11  2 22 17 19 25 12  5  0  4  6\n",
        " 14 26]"
       ]
      },
      {
       "output_type": "stream",
       "stream": "stdout",
       "text": [
        "\n",
        "-1215625.25561\n",
        "-2819405.88157"
       ]
      },
      {
       "output_type": "stream",
       "stream": "stdout",
       "text": [
        "\n"
       ]
      }
     ],
     "prompt_number": 132
    },
    {
     "cell_type": "code",
     "collapsed": false,
     "input": [
      "import time\n",
      "st = time.time()\n",
      "computableGen = lambda t: applyedTranspostions(t)\n",
      "# computableGen = applyedTranspostions\n",
      "init_p = uniform(26)\n",
      "metropolisgenerator = \\\n",
      "    metropolis(get_desiredPDF_bigram, init_p, computableGen )\n",
      "#     densityMaximization(get_desiredPDF_bigram, init_p, computableGen )\n",
      "x = []\n",
      "y = []\n",
      "for i in xrange( 10 ):\n",
      "    a,b = metropolisgenerator.next() \n",
      "    x.append(a)\n",
      "    y.append(b)\n",
      "    \n",
      "et =  time.time() - st\n",
      "print et"
     ],
     "language": "python",
     "metadata": {},
     "outputs": [
      {
       "output_type": "stream",
       "stream": "stdout",
       "text": [
        "[10, 8, 0, 25, 9, 3, 16, 14, 17, 15, 11, 7, 19, 18, 22, 20, 24, 13, 5, 6, 1, 12, 2, 4, 23, 21, 26]\n",
        "-2605581.90147\n",
        "0\n",
        "-----"
       ]
      },
      {
       "output_type": "stream",
       "stream": "stdout",
       "text": [
        "\n",
        "29.2809998989"
       ]
      },
      {
       "output_type": "stream",
       "stream": "stdout",
       "text": [
        "\n"
       ]
      }
     ],
     "prompt_number": 141
    },
    {
     "cell_type": "code",
     "collapsed": false,
     "input": [
      "for i in xrange(10):\n",
      "    print x[i] , ' | ', y[i]"
     ],
     "language": "python",
     "metadata": {},
     "outputs": [
      {
       "output_type": "stream",
       "stream": "stdout",
       "text": [
        "[10, 8, 0, 25, 9, 3, 16, 14, 17, 15, 11, 7, 19, 18, 22, 20, 24, 13, 5, 6, 1, 12, 2, 4, 23, 21, 26]  |  -2605581.90147\n",
        "[10, 8, 0, 25, 9, 3, 16, 14, 17, 15, 11, 7, 19, 18, 22, 20, 24, 13, 5, 6, 1, 12, 2, 4, 23, 21, 26]  |  -2605581.90147\n",
        "[10, 8, 0, 25, 9, 3, 16, 14, 17, 15, 11, 7, 19, 18, 22, 20, 24, 13, 5, 6, 1, 12, 2, 4, 23, 21, 26]  |  -2605581.90147\n",
        "[10, 8, 0, 25, 9, 3, 16, 14, 17, 15, 11, 7, 19, 18, 22, 20, 24, 13, 5, 6, 1, 12, 2, 4, 23, 21, 26]  |  -2605581.90147\n",
        "[10, 8, 0, 25, 9, 3, 16, 14, 17, 15, 11, 7, 19, 18, 22, 20, 24, 13, 5, 6, 1, 12, 2, 4, 23, 21, 26]  |  -2605581.90147\n",
        "[10, 8, 0, 25, 9, 3, 16, 14, 17, 15, 11, 7, 19, 18, 22, 20, 24, 13, 5, 6, 1, 12, 2, 4, 23, 21, 26]  |  -2605581.90147\n",
        "[10, 8, 0, 25, 9, 3, 16, 14, 17, 15, 11, 7, 19, 18, 22, 20, 24, 13, 5, 6, 1, 12, 2, 4, 23, 21, 26]  |  -2605581.90147\n",
        "[10, 8, 0, 25, 9, 3, 16, 14, 17, 15, 11, 7, 19, 18, 22, 20, 24, 13, 5, 6, 1, 12, 2, 4, 23, 21, 26]  |  -2605581.90147\n",
        "[10, 8, 0, 25, 9, 3, 16, 14, 17, 15, 11, 7, 19, 18, 22, 20, 24, 13, 5, 6, 1, 12, 2, 4, 23, 21, 26]  |  -2605581.90147\n",
        "[10, 8, 0, 25, 9, 3, 16, 14, 17, 15, 11, 7, 19, 18, 22, 20, 24, 13, 5, 6, 1, 12, 2, 4, 23, 21, 26]  |  -2605581.90147\n"
       ]
      }
     ],
     "prompt_number": 142
    },
    {
     "cell_type": "code",
     "collapsed": false,
     "input": [
      "per = x[9]\n",
      "for i in xrange(len(per)):\n",
      "    print (ord('a') + i) == (ord('a') + per[p[i]])"
     ],
     "language": "python",
     "metadata": {},
     "outputs": [
      {
       "output_type": "stream",
       "stream": "stdout",
       "text": [
        "False\n",
        "False\n",
        "False\n",
        "False\n",
        "True\n",
        "False\n",
        "False\n",
        "False\n",
        "False\n",
        "False\n",
        "False\n",
        "False\n",
        "False\n",
        "False\n",
        "False\n",
        "False\n",
        "True\n",
        "False\n",
        "False\n",
        "False\n",
        "False\n",
        "False\n",
        "False\n",
        "False\n",
        "False\n",
        "False\n",
        "True\n"
       ]
      }
     ],
     "prompt_number": 143
    },
    {
     "cell_type": "code",
     "collapsed": false,
     "input": [],
     "language": "python",
     "metadata": {},
     "outputs": []
    }
   ],
   "metadata": {}
  }
 ]
}