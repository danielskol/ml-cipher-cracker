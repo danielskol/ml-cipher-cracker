{
 "metadata": {
  "name": "",
  "signature": "sha256:aab0ebe44b63518a8a1203b2b84cd6d6a6ea47caed8ef4ae2ee41e58a2043b51"
 },
 "nbformat": 3,
 "nbformat_minor": 0,
 "worksheets": [
  {
   "cells": [
    {
     "cell_type": "heading",
     "level": 1,
     "metadata": {},
     "source": [
      "Bigram probabilistic model"
     ]
    },
    {
     "cell_type": "markdown",
     "metadata": {},
     "source": [
      "bigram statistics: \n",
      "$$\\displaystyle p(l_i| l_{i+1}) = \\frac{p(l_i, l_{i+1})}{p(l_i)}$$\n",
      "we use MLE estimate for this value which is just frequency:\n",
      "$$\\displaystyle\\frac{count(l_i, l_{i+1})}{count(l_i)}$$ where $l_i$ is $i$th letter in text\n",
      "\n",
      "likelihood becomes:\n",
      "$$\\displaystyle p(x|f) = \\Pi_{i=1}^{|x|} \\frac{count(f(l_i), f(l_{i+1}))}{count(f(l_i))}$$\n",
      "\n",
      "so posterior is:\n",
      "$$\n",
      "\\displaystyle p(f|x) = \\frac{\\frac{1}{|A!|} p(x|f)}{p(x)} = \\frac{\\Pi_{i=1}^{|x|} \\frac{count(f(l_i), f(l_{i+1}))}{count(f(l_i))}}{Z}\n",
      "$$\n",
      "We are looking for the mode of posterior distribution:\n",
      "$$\\displaystyle f^\u2217 = {\\operatorname{arg}}\\underset{f}{\\operatorname{max}}  p(f|x)$$\n",
      "\n"
     ]
    },
    {
     "cell_type": "code",
     "collapsed": false,
     "input": [],
     "language": "python",
     "metadata": {},
     "outputs": [],
     "prompt_number": 0
    },
    {
     "cell_type": "code",
     "collapsed": false,
     "input": [],
     "language": "python",
     "metadata": {},
     "outputs": []
    }
   ],
   "metadata": {}
  }
 ]
}