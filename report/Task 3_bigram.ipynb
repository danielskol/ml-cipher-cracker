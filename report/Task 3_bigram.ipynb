{
 "metadata": {
  "name": "",
  "signature": "sha256:b721ea37a1997b6af3882576b38ec4c29ede92d8a775ded84615fe636d5caf54"
 },
 "nbformat": 3,
 "nbformat_minor": 0,
 "worksheets": [
  {
   "cells": [
    {
     "cell_type": "heading",
     "level": 1,
     "metadata": {},
     "source": [
      "read, statistics, quality, crypt, decrypt, Metropolis, likelihood functions:"
     ]
    },
    {
     "cell_type": "code",
     "collapsed": false,
     "input": [
      "import numpy as np\n",
      "import math\n",
      "import matplotlib.pyplot as plt\n",
      "%matplotlib inline\n",
      "import random\n",
      "from numpy.random import rand\n",
      "from copy import copy\n",
      "from __future__ import division\n",
      "import time\n",
      "\n",
      "def read_text_words(filename, wordsnumber):    \n",
      "    with open(filename) as f:\n",
      "        X = f.readlines()\n",
      "        X = X[:wordsnumber]\n",
      "    X = ''.join(X) \n",
      "    X = X.replace('\\n', '') \n",
      "    return X\n",
      "\n",
      "def read_text_filesize(filename, size):\n",
      "    with open(filename) as f:\n",
      "        X = f.read(int(round(1024*1024*size)))\n",
      "    X = X.replace('\\n', '')\n",
      "    return X\n",
      "\n",
      "def get_unicount(text):\n",
      "    length = len(text)\n",
      "    counts = np.zeros(26)\n",
      "    for i in xrange(length):\n",
      "        c = ord(text[i])\n",
      "        counts[c-97]+=1\n",
      "        #97-122 \n",
      "    return counts\n",
      "\n",
      "def get_bigram_stats_dic(text):        \n",
      "    length = len(text)\n",
      "    dic = {}\n",
      "    for i in 'abcdefghijklmnopqrstuvwxyz':\n",
      "        for j in 'abcdefghijklmnopqrstuvwxyz':\n",
      "            dic[(i,j)]=0\n",
      "\n",
      "    for i in xrange(length-1):                   \n",
      "        if (text[i], text[i+1]) in dic:\n",
      "            dic[(text[i], text[i+1])] += 1\n",
      "            \n",
      "    for k,v in dic.items():        \n",
      "        dic[k] = v/(counts[ord(k[0])-97])\n",
      "    return dic\n",
      "\n",
      "def quality(decrypted, original):\n",
      "    l = len(decrypted)\n",
      "    zipped = zip(decrypted, original)    \n",
      "    return sum(1.0 for x,y in zipped if x == y)/l\n",
      "\n",
      "def crypt(text):\n",
      "    p = range(26)\n",
      "    random.shuffle(p)\n",
      "    output=''\n",
      "    for ch in text:\n",
      "            try:\n",
      "                x = ord(ch) - ord('a')\n",
      "                output+=(chr(p[x] + ord('a')))\n",
      "            except:\n",
      "                pass\n",
      "    return output, p\n",
      "\n",
      "def get_desiredPDF_bigram(permutation):\n",
      "    logp = 0\n",
      "    for i in xrange(len(encrypted)-1):         \n",
      "        pr = stats[chr(permutation[ord(encrypted[i])-97]+97), \n",
      "                   chr(permutation[ord(encrypted[i+1])-97]+97)]\n",
      "        if pr>0:\n",
      "            logp += math.log(pr)\n",
      "        else:\n",
      "            logp += -9 #penalty for non existant pairs\n",
      "    return logp\n",
      "\n",
      "def metropolis( desiredPDF, initValue, computableRVS, skipIterations = 1000):\n",
      "    random_variable = initValue\n",
      "    random_variableDensityValue = desiredPDF( random_variable )\n",
      "    \n",
      "    for i in xrange( skipIterations ):\n",
      "        candidate = computableRVS( random_variable )\n",
      "        candidateDensityValue = desiredPDF( candidate )\n",
      "        acceptanceProb = min(0, candidateDensityValue - random_variableDensityValue )\n",
      "        if math.log(random.random()) < acceptanceProb:\n",
      "            random_variable = candidate\n",
      "            random_variableDensityValue = candidateDensityValue\n",
      "   \n",
      "    while True:\n",
      "        candidate = computableRVS( random_variable )\n",
      "        candidateDensityValue = desiredPDF( candidate )\n",
      "    \n",
      "        acceptanceProb = min( 0, candidateDensityValue - random_variableDensityValue )\n",
      "       \n",
      "        if math.log(random.random()) < acceptanceProb:\n",
      "            random_variable = candidate\n",
      "            random_variableDensityValue = candidateDensityValue\n",
      "        yield random_variable, random_variableDensityValue\n",
      "\n",
      "def uniform( n ):\n",
      "    #initialize permutation with identical\n",
      "    permutation = [ i for i in xrange( n ) ]\n",
      "    \n",
      "    #swap ith object with random onject from i to n - 1 enclusively\n",
      "    for i in xrange( n ):\n",
      "        j = random.randint( i, n - 1 )\n",
      "        permutation[ i ], permutation[ j ] = permutation[ j ], permutation[ i ]\n",
      "        \n",
      "    return permutation\n",
      "\n",
      "def applyTransposition( basePermutation ):\n",
      "    n = len( basePermutation )\n",
      "    \n",
      "    permutation = copy( basePermutation )\n",
      "    \n",
      "    #apply n random transpositions (including identical) to base permutation\n",
      "#     for i in xrange( n ):\n",
      "    k, l = random.randint( 0, n - 1 ), random.randint( 0, n - 1 )\n",
      "    permutation[ k ], permutation[ l ] = permutation[ l ], permutation[ k ]\n",
      "        \n",
      "    return  permutation\n",
      "\n",
      "\n",
      "def decrypt(permutation, encrypted):\n",
      "    decrypted = []\n",
      "    for i in encrypted:\n",
      "        decrypted.append(chr(permutation[ord(i)-97]+97))\n",
      "    return ''.join(decrypted)"
     ],
     "language": "python",
     "metadata": {},
     "outputs": [],
     "prompt_number": 2
    },
    {
     "cell_type": "heading",
     "level": 1,
     "metadata": {},
     "source": [
      "Task 3:"
     ]
    },
    {
     "cell_type": "markdown",
     "metadata": {},
     "source": [
      "fixed test text:"
     ]
    },
    {
     "cell_type": "code",
     "collapsed": false,
     "input": [
      "fname = 'main/oliver_twist.txt'\n",
      "original = read_text_words(fname, 5000)[3:]\n",
      "encrypted,p = crypt(original)\n",
      "print encrypted[:20]"
     ],
     "language": "python",
     "metadata": {},
     "outputs": [
      {
       "output_type": "stream",
       "stream": "stdout",
       "text": [
        "lwrocgsrtlnylrxircnr\n"
       ]
      }
     ],
     "prompt_number": 6
    },
    {
     "cell_type": "markdown",
     "metadata": {},
     "source": [
      "vary size of train text (used War and Peace, total 3Mb)"
     ]
    },
    {
     "cell_type": "code",
     "collapsed": false,
     "input": [
      "from sys import stdout\n",
      "sizes =  [0.25,0.5,0.75,1]\n",
      "qs = []\n",
      "times = 4\n",
      "for k in xrange(times):\n",
      "    for s in sizes:   \n",
      "        print 'Start at', time.strftime('%H:%M:%S', time.localtime())\n",
      "        stdout.flush()\n",
      "        train_text = read_text_filesize('main/war_and_peace.txt', s)    \n",
      "        counts = get_unicount(train_text)\n",
      "        stats = get_bigram_stats_dic(train_text)\n",
      "        init_p = uniform(26)\n",
      "        #Metropolis here\n",
      "        st = time.time()\n",
      "        computableGen = lambda t: applyTransposition(t)\n",
      "        metropolisgenerator = \\\n",
      "            metropolis(get_desiredPDF_bigram, init_p, computableGen, 1500)\n",
      "\n",
      "        print 'Sampling...'\n",
      "        stdout.flush()\n",
      "        y = -float(\"inf\")\n",
      "        for i in xrange( 1000 ): #<=========\n",
      "            cand = metropolisgenerator.next() \n",
      "            if (cand[1] > y):\n",
      "                y = cand[1]\n",
      "                x = cand[0]\n",
      "\n",
      "        et =  time.time() - st\n",
      "        print 'metropolis time: ', et\n",
      "        print 'best density among 1000 last iterations: ', y\n",
      "        print 'corresponding permutation: ', x\n",
      "\n",
      "        decrypted = decrypt(x, encrypted)\n",
      "        qs.append( quality(decrypted, original))\n",
      "        print 'End at  ', time.strftime('%H:%M:%S', time.localtime())\n",
      "        time.sleep(1.0)\n",
      "  \n",
      "plt.plot(sizes[:len(qs)], qs[:len(sizes)],\n",
      "         sizes[:len(qs)], qs[len(sizes):2*len(sizes)],\n",
      "         sizes[:len(qs)], qs[2*len(sizes):3*len(sizes)],\n",
      "         sizes[:len(qs)], qs[3*len(sizes):4*len(sizes)],)  "
     ],
     "language": "python",
     "metadata": {},
     "outputs": [
      {
       "output_type": "stream",
       "stream": "stdout",
       "text": [
        "Start at 09:34:00\n"
       ]
      },
      {
       "output_type": "stream",
       "stream": "stdout",
       "text": [
        "Sampling...\n"
       ]
      },
      {
       "output_type": "stream",
       "stream": "stdout",
       "text": [
        "metropolis time:  167.453365088\n",
        "best density among 1000 last iterations:  -56612.5920152\n",
        "corresponding permutation:  [8, 3, 17, 25, 12, 23, 14, 11, 1, 16, 0, 19, 5, 6, 15, 21, 22, 4, 9, 2, 10, 18, 7, 13, 20, 24]\n",
        "End at   09:36:48\n",
        "Start at"
       ]
      },
      {
       "output_type": "stream",
       "stream": "stdout",
       "text": [
        " 09:36:49\n"
       ]
      },
      {
       "output_type": "stream",
       "stream": "stdout",
       "text": [
        "Sampling...\n"
       ]
      },
      {
       "output_type": "stream",
       "stream": "stdout",
       "text": [
        "metropolis time:  242.96111989\n",
        "best density among 1000 last iterations:  -56449.9500405\n",
        "corresponding permutation:  [8, 3, 17, 25, 12, 23, 14, 11, 1, 16, 0, 19, 5, 6, 15, 21, 22, 4, 9, 2, 10, 18, 7, 13, 20, 24]\n",
        "End at   09:40:53\n",
        "Start at"
       ]
      },
      {
       "output_type": "stream",
       "stream": "stdout",
       "text": [
        " 09:40:54\n"
       ]
      },
      {
       "output_type": "stream",
       "stream": "stdout",
       "text": [
        "Sampling...\n"
       ]
      },
      {
       "output_type": "stream",
       "stream": "stdout",
       "text": [
        "metropolis time:  248.331638813\n",
        "best density among 1000 last iterations:  -56489.294617\n",
        "corresponding permutation:  [8, 3, 17, 9, 12, 23, 14, 11, 1, 16, 0, 19, 5, 6, 15, 21, 22, 4, 25, 2, 10, 18, 7, 13, 20, 24]\n",
        "End at  "
       ]
      },
      {
       "output_type": "stream",
       "stream": "stdout",
       "text": [
        " 09:45:04\n",
        "Start at"
       ]
      },
      {
       "output_type": "stream",
       "stream": "stdout",
       "text": [
        " 09:45:05\n"
       ]
      },
      {
       "output_type": "stream",
       "stream": "stdout",
       "text": [
        "Sampling...\n"
       ]
      },
      {
       "output_type": "stream",
       "stream": "stdout",
       "text": [
        "metropolis time:  187.028258085\n",
        "best density among 1000 last iterations:  -56443.5009922\n",
        "corresponding permutation:  [8, 3, 17, 25, 12, 23, 14, 11, 1, 16, 0, 19, 5, 6, 15, 21, 22, 4, 9, 2, 10, 18, 7, 13, 20, 24]\n",
        "End at   09:48:18\n",
        "Start at"
       ]
      },
      {
       "output_type": "stream",
       "stream": "stdout",
       "text": [
        " 09:48:19\n"
       ]
      },
      {
       "output_type": "stream",
       "stream": "stdout",
       "text": [
        "Sampling...\n"
       ]
      },
      {
       "output_type": "stream",
       "stream": "stdout",
       "text": [
        "metropolis time:  212.592648029\n",
        "best density among 1000 last iterations:  -57907.4385259\n",
        "corresponding permutation:  [8, 3, 17, 25, 12, 23, 14, 11, 1, 16, 0, 19, 5, 6, 15, 2, 22, 4, 9, 10, 21, 18, 7, 13, 20, 24]\n",
        "End at   09:51:52\n",
        "Start at"
       ]
      },
      {
       "output_type": "stream",
       "stream": "stdout",
       "text": [
        " 09:51:53\n"
       ]
      },
      {
       "output_type": "stream",
       "stream": "stdout",
       "text": [
        "Sampling...\n"
       ]
      },
      {
       "output_type": "stream",
       "stream": "stdout",
       "text": [
        "metropolis time:  165.989115\n",
        "best density among 1000 last iterations:  -56449.9500405\n",
        "corresponding permutation:  [8, 3, 17, 25, 12, 23, 14, 11, 1, 16, 0, 19, 5, 6, 15, 21, 22, 4, 9, 2, 10, 18, 7, 13, 20, 24]\n",
        "End at   09:54:40\n",
        "Start at"
       ]
      },
      {
       "output_type": "stream",
       "stream": "stdout",
       "text": [
        " 09:54:41\n"
       ]
      },
      {
       "output_type": "stream",
       "stream": "stdout",
       "text": [
        "Sampling...\n"
       ]
      },
      {
       "output_type": "stream",
       "stream": "stdout",
       "text": [
        "metropolis time:  245.037575006\n",
        "best density among 1000 last iterations:  -56459.7567613\n",
        "corresponding permutation:  [8, 3, 17, 25, 12, 23, 14, 11, 1, 16, 0, 19, 5, 6, 15, 21, 22, 4, 9, 2, 10, 18, 7, 13, 20, 24]\n",
        "End at   09:58:48\n",
        "Start at"
       ]
      },
      {
       "output_type": "stream",
       "stream": "stdout",
       "text": [
        " 09:58:49\n"
       ]
      },
      {
       "output_type": "stream",
       "stream": "stdout",
       "text": [
        "Sampling...\n"
       ]
      },
      {
       "output_type": "stream",
       "stream": "stdout",
       "text": [
        "metropolis time:  236.601491928\n",
        "best density among 1000 last iterations:  -69695.6823139\n",
        "corresponding permutation:  [13, 18, 4, 16, 5, 23, 19, 0, 22, 25, 11, 14, 24, 10, 15, 6, 1, 17, 9, 2, 21, 3, 20, 8, 7, 12]\n",
        "End at   10:02:48\n",
        "Start at"
       ]
      },
      {
       "output_type": "stream",
       "stream": "stdout",
       "text": [
        " 10:02:49\n"
       ]
      },
      {
       "output_type": "stream",
       "stream": "stdout",
       "text": [
        "Sampling...\n"
       ]
      },
      {
       "output_type": "stream",
       "stream": "stdout",
       "text": [
        "metropolis time:  205.495482922\n",
        "best density among 1000 last iterations:  -57606.4074425\n",
        "corresponding permutation:  [8, 3, 17, 21, 12, 23, 14, 11, 1, 16, 0, 19, 5, 6, 15, 25, 22, 4, 9, 2, 10, 18, 7, 13, 20, 24]\n",
        "End at   10:06:15\n",
        "Start at"
       ]
      },
      {
       "output_type": "stream",
       "stream": "stdout",
       "text": [
        " 10:06:16\n"
       ]
      },
      {
       "output_type": "stream",
       "stream": "stdout",
       "text": [
        "Sampling...\n"
       ]
      },
      {
       "output_type": "stream",
       "stream": "stdout",
       "text": [
        "metropolis time:  167.041108131\n",
        "best density among 1000 last iterations:  -56449.9500405\n",
        "corresponding permutation:  [8, 3, 17, 25, 12, 23, 14, 11, 1, 16, 0, 19, 5, 6, 15, 21, 22, 4, 9, 2, 10, 18, 7, 13, 20, 24]\n",
        "End at   10:09:04\n",
        "Start at"
       ]
      },
      {
       "output_type": "stream",
       "stream": "stdout",
       "text": [
        " 10:09:05\n"
       ]
      },
      {
       "output_type": "stream",
       "stream": "stdout",
       "text": [
        "Sampling...\n"
       ]
      },
      {
       "output_type": "stream",
       "stream": "stdout",
       "text": [
        "metropolis time:  165.338798046\n",
        "best density among 1000 last iterations:  -56459.7567613\n",
        "corresponding permutation:  [8, 3, 17, 25, 12, 23, 14, 11, 1, 16, 0, 19, 5, 6, 15, 21, 22, 4, 9, 2, 10, 18, 7, 13, 20, 24]\n",
        "End at   10:11:52\n",
        "Start at"
       ]
      },
      {
       "output_type": "stream",
       "stream": "stdout",
       "text": [
        " 10:11:53\n"
       ]
      },
      {
       "output_type": "stream",
       "stream": "stdout",
       "text": [
        "Sampling...\n"
       ]
      },
      {
       "output_type": "stream",
       "stream": "stdout",
       "text": [
        "metropolis time:  165.96084094\n",
        "best density among 1000 last iterations:  -56443.5009922\n",
        "corresponding permutation:  [8, 3, 17, 25, 12, 23, 14, 11, 1, 16, 0, 19, 5, 6, 15, 21, 22, 4, 9, 2, 10, 18, 7, 13, 20, 24]\n",
        "End at   10:14:41\n",
        "Start at"
       ]
      },
      {
       "output_type": "stream",
       "stream": "stdout",
       "text": [
        " 10:14:42\n"
       ]
      },
      {
       "output_type": "stream",
       "stream": "stdout",
       "text": [
        "Sampling...\n"
       ]
      },
      {
       "output_type": "stream",
       "stream": "stdout",
       "text": [
        "metropolis time:  165.614757061\n",
        "best density among 1000 last iterations:  -56612.5920152\n",
        "corresponding permutation:  [8, 3, 17, 25, 12, 23, 14, 11, 1, 16, 0, 19, 5, 6, 15, 21, 22, 4, 9, 2, 10, 18, 7, 13, 20, 24]\n",
        "End at   10:17:29\n",
        "Start at"
       ]
      },
      {
       "output_type": "stream",
       "stream": "stdout",
       "text": [
        " 10:17:30\n"
       ]
      },
      {
       "output_type": "stream",
       "stream": "stdout",
       "text": [
        "Sampling...\n"
       ]
      },
      {
       "output_type": "stream",
       "stream": "stdout",
       "text": [
        "metropolis time:  167.244617939\n",
        "best density among 1000 last iterations:  -56576.3395128\n",
        "corresponding permutation:  [8, 3, 17, 16, 12, 23, 14, 11, 1, 25, 0, 19, 5, 6, 15, 21, 22, 4, 9, 2, 10, 18, 7, 13, 20, 24]\n",
        "End at   10:20:18\n",
        "Start at"
       ]
      },
      {
       "output_type": "stream",
       "stream": "stdout",
       "text": [
        " 10:20:19\n"
       ]
      },
      {
       "output_type": "stream",
       "stream": "stdout",
       "text": [
        "Sampling...\n"
       ]
      },
      {
       "output_type": "stream",
       "stream": "stdout",
       "text": [
        "metropolis time:  166.071938038\n",
        "best density among 1000 last iterations:  -56459.7567613\n",
        "corresponding permutation:  [8, 3, 17, 25, 12, 23, 14, 11, 1, 16, 0, 19, 5, 6, 15, 21, 22, 4, 9, 2, 10, 18, 7, 13, 20, 24]\n",
        "End at   10:23:07\n",
        "Start at"
       ]
      },
      {
       "output_type": "stream",
       "stream": "stdout",
       "text": [
        " 10:23:08\n"
       ]
      },
      {
       "output_type": "stream",
       "stream": "stdout",
       "text": [
        "Sampling...\n"
       ]
      },
      {
       "output_type": "stream",
       "stream": "stdout",
       "text": [
        "metropolis time:  224.484329939\n",
        "best density among 1000 last iterations:  -56443.5009922\n",
        "corresponding permutation:  [8, 3, 17, 25, 12, 23, 14, 11, 1, 16, 0, 19, 5, 6, 15, 21, 22, 4, 9, 2, 10, 18, 7, 13, 20, 24]\n",
        "End at  "
       ]
      },
      {
       "output_type": "stream",
       "stream": "stdout",
       "text": [
        " 10:26:54\n"
       ]
      },
      {
       "metadata": {},
       "output_type": "pyout",
       "prompt_number": 10,
       "text": [
        "[<matplotlib.lines.Line2D at 0xaf02f70c>,\n",
        " <matplotlib.lines.Line2D at 0xaf02faec>,\n",
        " <matplotlib.lines.Line2D at 0xaf02f24c>,\n",
        " <matplotlib.lines.Line2D at 0xaf032b6c>]"
       ]
      },
      {
       "metadata": {},
       "output_type": "display_data",
       "png": "[encoded data removed]",
       "text": [
        "<matplotlib.figure.Figure at 0xaef8836c>"
       ]
      }
     ],
     "prompt_number": 10
    },
    {
     "cell_type": "code",
     "collapsed": false,
     "input": [
      "#qualities_1 = np.array(qs).reshape((4, 4))\n",
      "print qualities_1\n",
      "I = np.array([0, 1, 2, 3]) # take into account 'explosions'\n",
      "means_1 = np.mean(qualities_1[I, :], 0)\n",
      "stds_1 = np.std(qualities_1[I, :], 0)\n",
      "sizes = [0.25, 0.5, 0.75, 1.0]\n",
      "plt.title('Figure t3b2. Dependence quality on train text size.')\n",
      "plt.xlabel('size, MB')\n",
      "plt.ylabel('quality')\n",
      "plt.plot(sizes, means_1 + stds_1, 'r:+')\n",
      "plt.plot(sizes, means_1 - stds_1, 'r:+')\n",
      "plt.plot(sizes, means_1, 'b-x')\n",
      "plt.savefig('task-3-bigram-1.png')"
     ],
     "language": "python",
     "metadata": {},
     "outputs": [
      {
       "output_type": "stream",
       "stream": "stdout",
       "text": [
        "[[ 1.          1.          0.99918831  1.        ]\n",
        " [ 0.95463564  1.          1.          0.05104618]\n",
        " [ 0.98656205  1.          1.          1.        ]\n",
        " [ 1.          0.998557    1.          1.        ]]\n"
       ]
      },
      {
       "metadata": {},
       "output_type": "display_data",
       "png": "[encoded data removed]",
       "text": [
        "<matplotlib.figure.Figure at 0xaebc694c>"
       ]
      }
     ],
     "prompt_number": 29
    },
    {
     "cell_type": "markdown",
     "metadata": {},
     "source": [
      "for small train text quality graphs prove intuition that the small sized training does not give much information. "
     ]
    },
    {
     "cell_type": "code",
     "collapsed": false,
     "input": [
      "sizes =  [2, 3]\n",
      "qs = []\n",
      "times = 4\n",
      "for k in xrange(times):\n",
      "    print '%d-th series running...' % k\n",
      "    for j, s in enumerate(sizes):\n",
      "        print j, 'Start at', time.strftime('%H:%M:%S', time.localtime())\n",
      "        stdout.flush()\n",
      "        train_text = read_text_filesize('main/war_and_peace.txt', s)    \n",
      "        counts = get_unicount(train_text)\n",
      "        stats = get_bigram_stats_dic(train_text)\n",
      "        init_p = uniform(26)\n",
      "        #Metropolis here\n",
      "        st = time.time()\n",
      "        computableGen = lambda t: applyTransposition(t)\n",
      "        metropolisgenerator = \\\n",
      "            metropolis(get_desiredPDF_bigram, init_p, computableGen, 1500)\n",
      "\n",
      "        y = -float(\"inf\")\n",
      "        for i in xrange( 1000 ): #<=========\n",
      "            cand = metropolisgenerator.next() \n",
      "            if (cand[1] > y):\n",
      "                y = cand[1]\n",
      "                x = cand[0]\n",
      "\n",
      "        et =  time.time() - st\n",
      "        print 'metropolis time: ', et\n",
      "        print 'best density among 1000 last iterations: ', y\n",
      "        print 'corresponding permutation: ', x\n",
      "\n",
      "        decrypted = decrypt(x, encrypted)\n",
      "        qs.append( quality(decrypted, original))\n",
      "        print 'End at  ', time.strftime('%H:%M:%S', time.localtime())\n",
      "        time.sleep(1.0)\n",
      "        \n",
      "qualities_2 = np.array(qs)\n",
      "plt.plot(sizes[:len(qs)], qs[:len(sizes)],\n",
      "         sizes[:len(qs)], qs[len(sizes):2*len(sizes)],\n",
      "         sizes[:len(qs)], qs[2*len(sizes):3*len(sizes)],\n",
      "         sizes[:len(qs)], qs[3*len(sizes):4*len(sizes)],)  "
     ],
     "language": "python",
     "metadata": {},
     "outputs": [
      {
       "output_type": "stream",
       "stream": "stdout",
       "text": [
        "0-th series running...\n",
        "0 Start at 10:37:00\n"
       ]
      },
      {
       "output_type": "stream",
       "stream": "stdout",
       "text": [
        "metropolis time:  165.200503111\n",
        "best density among 1000 last iterations:  -67112.4596578\n",
        "corresponding permutation:  [19, 3, 17, 25, 2, 23, 14, 11, 1, 16, 0, 8, 5, 20, 15, 21, 12, 4, 9, 22, 10, 7, 13, 18, 6, 24]\n",
        "End at   10:39:50\n",
        "1"
       ]
      },
      {
       "output_type": "stream",
       "stream": "stdout",
       "text": [
        " Start at 10:39:51\n"
       ]
      },
      {
       "output_type": "stream",
       "stream": "stdout",
       "text": [
        "metropolis time:  165.211738825\n",
        "best density among 1000 last iterations:  -71611.1805524\n",
        "corresponding permutation:  [13, 20, 8, 16, 6, 23, 19, 14, 1, 25, 18, 4, 24, 10, 5, 15, 22, 17, 9, 2, 21, 3, 0, 7, 11, 12]\n",
        "End at   10:42:43\n",
        "1-th series running..."
       ]
      },
      {
       "output_type": "stream",
       "stream": "stdout",
       "text": [
        "\n",
        "0 Start at 10:42:44\n"
       ]
      },
      {
       "output_type": "stream",
       "stream": "stdout",
       "text": [
        "metropolis time:  201.486129045\n",
        "best density among 1000 last iterations:  -56409.8117851\n",
        "corresponding permutation:  [8, 3, 17, 25, 12, 23, 14, 11, 1, 16, 0, 19, 5, 6, 15, 21, 22, 4, 9, 2, 10, 18, 7, 13, 20, 24]\n",
        "End at  "
       ]
      },
      {
       "output_type": "stream",
       "stream": "stdout",
       "text": [
        " 10:46:10\n",
        "1"
       ]
      },
      {
       "output_type": "stream",
       "stream": "stdout",
       "text": [
        " Start at 10:46:11\n"
       ]
      },
      {
       "output_type": "stream",
       "stream": "stdout",
       "text": [
        "metropolis time:  208.907721043\n",
        "best density among 1000 last iterations:  -71104.1219204\n",
        "corresponding permutation:  [11, 13, 8, 9, 24, 23, 17, 20, 1, 25, 19, 4, 7, 22, 15, 10, 2, 18, 16, 5, 21, 3, 0, 14, 12, 6]\n",
        "End at  "
       ]
      },
      {
       "output_type": "stream",
       "stream": "stdout",
       "text": [
        " 10:49:57\n",
        "2-th series running..."
       ]
      },
      {
       "output_type": "stream",
       "stream": "stdout",
       "text": [
        "\n",
        "0 Start at 10:49:58\n"
       ]
      },
      {
       "output_type": "stream",
       "stream": "stdout",
       "text": [
        "metropolis time:  217.643985987\n",
        "best density among 1000 last iterations:  -58550.850755\n",
        "corresponding permutation:  [8, 3, 17, 9, 12, 23, 14, 11, 1, 16, 0, 19, 20, 6, 15, 21, 22, 4, 25, 2, 10, 18, 7, 13, 5, 24]\n",
        "End at   10:53:47\n",
        "1"
       ]
      },
      {
       "output_type": "stream",
       "stream": "stdout",
       "text": [
        " Start at 10:53:48\n"
       ]
      },
      {
       "output_type": "stream",
       "stream": "stdout",
       "text": [
        "metropolis time:  210.609104156\n",
        "best density among 1000 last iterations:  -56398.5046942\n",
        "corresponding permutation:  [8, 3, 17, 25, 12, 23, 14, 11, 1, 16, 0, 19, 5, 6, 15, 21, 22, 4, 9, 2, 10, 18, 7, 13, 20, 24]\n",
        "End at   10:57:25\n",
        "3-th series running..."
       ]
      },
      {
       "output_type": "stream",
       "stream": "stdout",
       "text": [
        "\n",
        "0 Start at 10:57:26\n"
       ]
      },
      {
       "output_type": "stream",
       "stream": "stdout",
       "text": [
        "metropolis time:  163.672365189\n",
        "best density among 1000 last iterations:  -56409.8117851\n",
        "corresponding permutation:  [8, 3, 17, 25, 12, 23, 14, 11, 1, 16, 0, 19, 5, 6, 15, 21, 22, 4, 9, 2, 10, 18, 7, 13, 20, 24]\n",
        "End at   11:00:15\n",
        "1"
       ]
      },
      {
       "output_type": "stream",
       "stream": "stdout",
       "text": [
        " Start at 11:00:16\n"
       ]
      },
      {
       "output_type": "stream",
       "stream": "stdout",
       "text": [
        "metropolis time:  210.031395912\n",
        "best density among 1000 last iterations:  -56398.5046942\n",
        "corresponding permutation:  [8, 3, 17, 25, 12, 23, 14, 11, 1, 16, 0, 19, 5, 6, 15, 21, 22, 4, 9, 2, 10, 18, 7, 13, 20, 24]\n",
        "End at   11:03:52\n"
       ]
      },
      {
       "metadata": {},
       "output_type": "pyout",
       "prompt_number": 17,
       "text": [
        "[<matplotlib.lines.Line2D at 0xaeda584c>,\n",
        " <matplotlib.lines.Line2D at 0xaeda5a6c>,\n",
        " <matplotlib.lines.Line2D at 0xaedad06c>,\n",
        " <matplotlib.lines.Line2D at 0xaedad8ec>]"
       ]
      },
      {
       "metadata": {},
       "output_type": "display_data",
       "png": "[encoded data removed]",
       "text": [
        "<matplotlib.figure.Figure at 0xaedc5dac>"
       ]
      }
     ],
     "prompt_number": 17
    },
    {
     "cell_type": "code",
     "collapsed": false,
     "input": [
      "qualities_2 = np.array(qs).reshape((4, 2))\n",
      "print qualities_2\n",
      "means_2 = np.mean(qualities_2, 0)\n",
      "stds_2 = np.std(qualities_2, 0)\n",
      "sizes = [2.0, 3.0]\n",
      "plt.title('Figure t3b2. Dependence quality on train text size.')\n",
      "plt.xlabel('size, MB')\n",
      "plt.ylabel('quality')\n",
      "plt.plot(sizes, means_2 + stds_2, 'r:+')\n",
      "plt.plot(sizes, means_2 - stds_2, 'r:+')\n",
      "plt.plot(sizes, means_2, 'b-x')\n",
      "plt.savefig('task-3-bigram-2.png')"
     ],
     "language": "python",
     "metadata": {},
     "outputs": [
      {
       "output_type": "stream",
       "stream": "stdout",
       "text": [
        "[[ 0.53323413  0.07593795]\n",
        " [ 1.          0.04486833]\n",
        " [ 0.95305736  1.        ]\n",
        " [ 1.          1.        ]]\n"
       ]
      },
      {
       "metadata": {},
       "output_type": "display_data",
       "png": "[encoded data removed]",
       "text": [
        "<matplotlib.figure.Figure at 0xaecafe4c>"
       ]
      }
     ],
     "prompt_number": 31
    },
    {
     "cell_type": "code",
     "collapsed": false,
     "input": [
      "means = np.zeros(6)\n",
      "means[0:4] = means_1\n",
      "means[4:6] = means_2\n",
      "stds = np.zeros(6)\n",
      "stds[0:4] = stds_1\n",
      "stds[4:6] = stds_2\n",
      "full_sizes = [0.25, 0.5, 0.75, 1.0, 2.0, 3.0]\n",
      "plt.title('Figure t3b_full. Dependence quality on train text size.')\n",
      "plt.xlabel('size, MB')\n",
      "plt.ylabel('quality')\n",
      "plt.plot(full_sizes, means + stds, 'r:+')\n",
      "plt.plot(full_sizes, means - stds, 'r:+')\n",
      "plt.plot(full_sizes, means, 'b-x')\n",
      "plt.savefig('task-3-bigram.png')"
     ],
     "language": "python",
     "metadata": {},
     "outputs": [
      {
       "metadata": {},
       "output_type": "display_data",
       "png": "[encoded data removed]",
       "text": [
        "<matplotlib.figure.Figure at 0xaed3ff2c>"
       ]
      }
     ],
     "prompt_number": 32
    },
    {
     "cell_type": "markdown",
     "metadata": {},
     "source": [
      "this may be caused by too little col iterations, let's raise it up to 2500: "
     ]
    },
    {
     "cell_type": "code",
     "collapsed": false,
     "input": [
      "sizes =  [0.5, 1.75, 3]\n",
      "qs = []\n",
      "times = 3\n",
      "for k in xrange(times):\n",
      "    for s in sizes:   \n",
      "\n",
      "        train_text = read_text_filesize('main/war_and_peace.txt', s)    \n",
      "        counts = get_unicount(train_text)\n",
      "        stats = get_bigram_stats_dic(train_text)\n",
      "        init_p = uniform(26)\n",
      "        #Metropolis here\n",
      "        st = time.time()\n",
      "        computableGen = lambda t: applyTransposition(t)\n",
      "        metropolisgenerator = \\\n",
      "            metropolis(get_desiredPDF_bigram, init_p, computableGen, 2500)\n",
      "\n",
      "        y = -float(\"inf\")\n",
      "        for i in xrange( 500 ): #<=========\n",
      "            cand = metropolisgenerator.next() \n",
      "            if (cand[1] > y):\n",
      "                y = cand[1]\n",
      "                x = cand[0]\n",
      "\n",
      "        et =  time.time() - st\n",
      "        print 'metropolis time: ', et\n",
      "\n",
      "        print 'best density among 500 last iterations: ', y\n",
      "        print 'corresponding permutation: ', x\n",
      "\n",
      "        decrypted = decrypt(x, encrypted)\n",
      "        qs.append( quality(decrypted, original))\n",
      "  \n",
      "plt.plot(sizes[:len(qs)], qs[:len(sizes)],\n",
      "         sizes[:len(qs)], qs[len(sizes):2*len(sizes)],\n",
      "         sizes[:len(qs)], qs[2*len(sizes):3*len(sizes)],\n",
      "         sizes[:len(qs)], qs[3*len(sizes):4*len(sizes)],)  "
     ],
     "language": "python",
     "metadata": {},
     "outputs": [
      {
       "output_type": "stream",
       "stream": "stdout",
       "text": [
        "metropolis time:  161.106999874\n",
        "best density among 500 last iterations:  -56449.9500405\n",
        "corresponding permutation:  [18, 21, 24, 4, 19, 15, 1, 3, 20, 16, 2, 8, 9, 23, 7, 10, 12, 0, 17, 11, 6, 25, 5, 13, 14, 22]\n",
        "metropolis time: "
       ]
      },
      {
       "output_type": "stream",
       "stream": "stdout",
       "text": [
        " 161.350000143\n",
        "best density among 500 last iterations:  -56410.2005938\n",
        "corresponding permutation:  [18, 21, 24, 4, 19, 15, 1, 3, 20, 16, 2, 8, 9, 23, 7, 10, 12, 0, 17, 11, 6, 25, 5, 13, 14, 22]\n",
        "metropolis time: "
       ]
      },
      {
       "output_type": "stream",
       "stream": "stdout",
       "text": [
        " 157.572000027\n",
        "best density among 500 last iterations:  -56398.5046942\n",
        "corresponding permutation:  [18, 21, 24, 4, 19, 15, 1, 3, 20, 16, 2, 8, 9, 23, 7, 10, 12, 0, 17, 11, 6, 25, 5, 13, 14, 22]\n",
        "metropolis time: "
       ]
      },
      {
       "output_type": "stream",
       "stream": "stdout",
       "text": [
        " 156.710000038\n",
        "best density among 500 last iterations:  -58108.899908\n",
        "corresponding permutation:  [18, 21, 24, 4, 19, 15, 1, 3, 20, 16, 2, 0, 9, 23, 7, 10, 12, 8, 17, 11, 6, 25, 5, 13, 14, 22]\n",
        "metropolis time: "
       ]
      },
      {
       "output_type": "stream",
       "stream": "stdout",
       "text": [
        " 156.017999887\n",
        "best density among 500 last iterations:  -56410.2005938\n",
        "corresponding permutation:  [18, 21, 24, 4, 19, 15, 1, 3, 20, 16, 2, 8, 9, 23, 7, 10, 12, 0, 17, 11, 6, 25, 5, 13, 14, 22]\n",
        "metropolis time: "
       ]
      },
      {
       "output_type": "stream",
       "stream": "stdout",
       "text": [
        " 154.515999794\n",
        "best density among 500 last iterations:  -56398.5046942\n",
        "corresponding permutation:  [18, 21, 24, 4, 19, 15, 1, 3, 20, 16, 2, 8, 9, 23, 7, 10, 12, 0, 17, 11, 6, 25, 5, 13, 14, 22]\n",
        "metropolis time: "
       ]
      },
      {
       "output_type": "stream",
       "stream": "stdout",
       "text": [
        " 153.356999874\n",
        "best density among 500 last iterations:  -56449.9500405\n",
        "corresponding permutation:  [18, 21, 24, 4, 19, 15, 1, 3, 20, 16, 2, 8, 9, 23, 7, 10, 12, 0, 17, 11, 6, 25, 5, 13, 14, 22]\n",
        "metropolis time: "
       ]
      },
      {
       "output_type": "stream",
       "stream": "stdout",
       "text": [
        " 153.322999954\n",
        "best density among 500 last iterations:  -56410.2005938\n",
        "corresponding permutation:  [18, 21, 24, 4, 19, 15, 1, 3, 20, 16, 2, 8, 9, 23, 7, 10, 12, 0, 17, 11, 6, 25, 5, 13, 14, 22]\n",
        "metropolis time: "
       ]
      },
      {
       "output_type": "stream",
       "stream": "stdout",
       "text": [
        " 157.593999863\n",
        "best density among 500 last iterations:  -56398.5046942\n",
        "corresponding permutation:  [18, 21, 24, 4, 19, 15, 1, 3, 20, 16, 2, 8, 9, 23, 7, 10, 12, 0, 17, 11, 6, 25, 5, 13, 14, 22]\n"
       ]
      },
      {
       "ename": "ValueError",
       "evalue": "x and y must have same first dimension",
       "output_type": "pyerr",
       "traceback": [
        "\u001b[1;31m---------------------------------------------------------------------------\u001b[0m\n\u001b[1;31mValueError\u001b[0m                                Traceback (most recent call last)",
        "\u001b[1;32m<ipython-input-53-621c4230538e>\u001b[0m in \u001b[0;36m<module>\u001b[1;34m()\u001b[0m\n\u001b[0;32m     33\u001b[0m          \u001b[0msizes\u001b[0m\u001b[1;33m[\u001b[0m\u001b[1;33m:\u001b[0m\u001b[0mlen\u001b[0m\u001b[1;33m(\u001b[0m\u001b[0mqs\u001b[0m\u001b[1;33m)\u001b[0m\u001b[1;33m]\u001b[0m\u001b[1;33m,\u001b[0m \u001b[0mqs\u001b[0m\u001b[1;33m[\u001b[0m\u001b[0mlen\u001b[0m\u001b[1;33m(\u001b[0m\u001b[0msizes\u001b[0m\u001b[1;33m)\u001b[0m\u001b[1;33m:\u001b[0m\u001b[1;36m2\u001b[0m\u001b[1;33m*\u001b[0m\u001b[0mlen\u001b[0m\u001b[1;33m(\u001b[0m\u001b[0msizes\u001b[0m\u001b[1;33m)\u001b[0m\u001b[1;33m]\u001b[0m\u001b[1;33m,\u001b[0m\u001b[1;33m\u001b[0m\u001b[0m\n\u001b[0;32m     34\u001b[0m          \u001b[0msizes\u001b[0m\u001b[1;33m[\u001b[0m\u001b[1;33m:\u001b[0m\u001b[0mlen\u001b[0m\u001b[1;33m(\u001b[0m\u001b[0mqs\u001b[0m\u001b[1;33m)\u001b[0m\u001b[1;33m]\u001b[0m\u001b[1;33m,\u001b[0m \u001b[0mqs\u001b[0m\u001b[1;33m[\u001b[0m\u001b[1;36m2\u001b[0m\u001b[1;33m*\u001b[0m\u001b[0mlen\u001b[0m\u001b[1;33m(\u001b[0m\u001b[0msizes\u001b[0m\u001b[1;33m)\u001b[0m\u001b[1;33m:\u001b[0m\u001b[1;36m3\u001b[0m\u001b[1;33m*\u001b[0m\u001b[0mlen\u001b[0m\u001b[1;33m(\u001b[0m\u001b[0msizes\u001b[0m\u001b[1;33m)\u001b[0m\u001b[1;33m]\u001b[0m\u001b[1;33m,\u001b[0m\u001b[1;33m\u001b[0m\u001b[0m\n\u001b[1;32m---> 35\u001b[1;33m          sizes[:len(qs)], qs[3*len(sizes):4*len(sizes)],)  \n\u001b[0m",
        "\u001b[1;32mC:\\Users\\Maremun\\Anaconda\\lib\\site-packages\\matplotlib\\pyplot.pyc\u001b[0m in \u001b[0;36mplot\u001b[1;34m(*args, **kwargs)\u001b[0m\n\u001b[0;32m   2985\u001b[0m         \u001b[0max\u001b[0m\u001b[1;33m.\u001b[0m\u001b[0mhold\u001b[0m\u001b[1;33m(\u001b[0m\u001b[0mhold\u001b[0m\u001b[1;33m)\u001b[0m\u001b[1;33m\u001b[0m\u001b[0m\n\u001b[0;32m   2986\u001b[0m     \u001b[1;32mtry\u001b[0m\u001b[1;33m:\u001b[0m\u001b[1;33m\u001b[0m\u001b[0m\n\u001b[1;32m-> 2987\u001b[1;33m         \u001b[0mret\u001b[0m \u001b[1;33m=\u001b[0m \u001b[0max\u001b[0m\u001b[1;33m.\u001b[0m\u001b[0mplot\u001b[0m\u001b[1;33m(\u001b[0m\u001b[1;33m*\u001b[0m\u001b[0margs\u001b[0m\u001b[1;33m,\u001b[0m \u001b[1;33m**\u001b[0m\u001b[0mkwargs\u001b[0m\u001b[1;33m)\u001b[0m\u001b[1;33m\u001b[0m\u001b[0m\n\u001b[0m\u001b[0;32m   2988\u001b[0m         \u001b[0mdraw_if_interactive\u001b[0m\u001b[1;33m(\u001b[0m\u001b[1;33m)\u001b[0m\u001b[1;33m\u001b[0m\u001b[0m\n\u001b[0;32m   2989\u001b[0m     \u001b[1;32mfinally\u001b[0m\u001b[1;33m:\u001b[0m\u001b[1;33m\u001b[0m\u001b[0m\n",
        "\u001b[1;32mC:\\Users\\Maremun\\Anaconda\\lib\\site-packages\\matplotlib\\axes.pyc\u001b[0m in \u001b[0;36mplot\u001b[1;34m(self, *args, **kwargs)\u001b[0m\n\u001b[0;32m   4135\u001b[0m         \u001b[0mlines\u001b[0m \u001b[1;33m=\u001b[0m \u001b[1;33m[\u001b[0m\u001b[1;33m]\u001b[0m\u001b[1;33m\u001b[0m\u001b[0m\n\u001b[0;32m   4136\u001b[0m \u001b[1;33m\u001b[0m\u001b[0m\n\u001b[1;32m-> 4137\u001b[1;33m         \u001b[1;32mfor\u001b[0m \u001b[0mline\u001b[0m \u001b[1;32min\u001b[0m \u001b[0mself\u001b[0m\u001b[1;33m.\u001b[0m\u001b[0m_get_lines\u001b[0m\u001b[1;33m(\u001b[0m\u001b[1;33m*\u001b[0m\u001b[0margs\u001b[0m\u001b[1;33m,\u001b[0m \u001b[1;33m**\u001b[0m\u001b[0mkwargs\u001b[0m\u001b[1;33m)\u001b[0m\u001b[1;33m:\u001b[0m\u001b[1;33m\u001b[0m\u001b[0m\n\u001b[0m\u001b[0;32m   4138\u001b[0m             \u001b[0mself\u001b[0m\u001b[1;33m.\u001b[0m\u001b[0madd_line\u001b[0m\u001b[1;33m(\u001b[0m\u001b[0mline\u001b[0m\u001b[1;33m)\u001b[0m\u001b[1;33m\u001b[0m\u001b[0m\n\u001b[0;32m   4139\u001b[0m             \u001b[0mlines\u001b[0m\u001b[1;33m.\u001b[0m\u001b[0mappend\u001b[0m\u001b[1;33m(\u001b[0m\u001b[0mline\u001b[0m\u001b[1;33m)\u001b[0m\u001b[1;33m\u001b[0m\u001b[0m\n",
        "\u001b[1;32mC:\\Users\\Maremun\\Anaconda\\lib\\site-packages\\matplotlib\\axes.pyc\u001b[0m in \u001b[0;36m_grab_next_args\u001b[1;34m(self, *args, **kwargs)\u001b[0m\n\u001b[0;32m    315\u001b[0m                 \u001b[1;32mreturn\u001b[0m\u001b[1;33m\u001b[0m\u001b[0m\n\u001b[0;32m    316\u001b[0m             \u001b[1;32mif\u001b[0m \u001b[0mlen\u001b[0m\u001b[1;33m(\u001b[0m\u001b[0mremaining\u001b[0m\u001b[1;33m)\u001b[0m \u001b[1;33m<=\u001b[0m \u001b[1;36m3\u001b[0m\u001b[1;33m:\u001b[0m\u001b[1;33m\u001b[0m\u001b[0m\n\u001b[1;32m--> 317\u001b[1;33m                 \u001b[1;32mfor\u001b[0m \u001b[0mseg\u001b[0m \u001b[1;32min\u001b[0m \u001b[0mself\u001b[0m\u001b[1;33m.\u001b[0m\u001b[0m_plot_args\u001b[0m\u001b[1;33m(\u001b[0m\u001b[0mremaining\u001b[0m\u001b[1;33m,\u001b[0m \u001b[0mkwargs\u001b[0m\u001b[1;33m)\u001b[0m\u001b[1;33m:\u001b[0m\u001b[1;33m\u001b[0m\u001b[0m\n\u001b[0m\u001b[0;32m    318\u001b[0m                     \u001b[1;32myield\u001b[0m \u001b[0mseg\u001b[0m\u001b[1;33m\u001b[0m\u001b[0m\n\u001b[0;32m    319\u001b[0m                 \u001b[1;32mreturn\u001b[0m\u001b[1;33m\u001b[0m\u001b[0m\n",
        "\u001b[1;32mC:\\Users\\Maremun\\Anaconda\\lib\\site-packages\\matplotlib\\axes.pyc\u001b[0m in \u001b[0;36m_plot_args\u001b[1;34m(self, tup, kwargs)\u001b[0m\n\u001b[0;32m    293\u001b[0m             \u001b[0mx\u001b[0m \u001b[1;33m=\u001b[0m \u001b[0mnp\u001b[0m\u001b[1;33m.\u001b[0m\u001b[0marange\u001b[0m\u001b[1;33m(\u001b[0m\u001b[0my\u001b[0m\u001b[1;33m.\u001b[0m\u001b[0mshape\u001b[0m\u001b[1;33m[\u001b[0m\u001b[1;36m0\u001b[0m\u001b[1;33m]\u001b[0m\u001b[1;33m,\u001b[0m \u001b[0mdtype\u001b[0m\u001b[1;33m=\u001b[0m\u001b[0mfloat\u001b[0m\u001b[1;33m)\u001b[0m\u001b[1;33m\u001b[0m\u001b[0m\n\u001b[0;32m    294\u001b[0m \u001b[1;33m\u001b[0m\u001b[0m\n\u001b[1;32m--> 295\u001b[1;33m         \u001b[0mx\u001b[0m\u001b[1;33m,\u001b[0m \u001b[0my\u001b[0m \u001b[1;33m=\u001b[0m \u001b[0mself\u001b[0m\u001b[1;33m.\u001b[0m\u001b[0m_xy_from_xy\u001b[0m\u001b[1;33m(\u001b[0m\u001b[0mx\u001b[0m\u001b[1;33m,\u001b[0m \u001b[0my\u001b[0m\u001b[1;33m)\u001b[0m\u001b[1;33m\u001b[0m\u001b[0m\n\u001b[0m\u001b[0;32m    296\u001b[0m \u001b[1;33m\u001b[0m\u001b[0m\n\u001b[0;32m    297\u001b[0m         \u001b[1;32mif\u001b[0m \u001b[0mself\u001b[0m\u001b[1;33m.\u001b[0m\u001b[0mcommand\u001b[0m \u001b[1;33m==\u001b[0m \u001b[1;34m'plot'\u001b[0m\u001b[1;33m:\u001b[0m\u001b[1;33m\u001b[0m\u001b[0m\n",
        "\u001b[1;32mC:\\Users\\Maremun\\Anaconda\\lib\\site-packages\\matplotlib\\axes.pyc\u001b[0m in \u001b[0;36m_xy_from_xy\u001b[1;34m(self, x, y)\u001b[0m\n\u001b[0;32m    235\u001b[0m         \u001b[0my\u001b[0m \u001b[1;33m=\u001b[0m \u001b[0mnp\u001b[0m\u001b[1;33m.\u001b[0m\u001b[0matleast_1d\u001b[0m\u001b[1;33m(\u001b[0m\u001b[0my\u001b[0m\u001b[1;33m)\u001b[0m\u001b[1;33m\u001b[0m\u001b[0m\n\u001b[0;32m    236\u001b[0m         \u001b[1;32mif\u001b[0m \u001b[0mx\u001b[0m\u001b[1;33m.\u001b[0m\u001b[0mshape\u001b[0m\u001b[1;33m[\u001b[0m\u001b[1;36m0\u001b[0m\u001b[1;33m]\u001b[0m \u001b[1;33m!=\u001b[0m \u001b[0my\u001b[0m\u001b[1;33m.\u001b[0m\u001b[0mshape\u001b[0m\u001b[1;33m[\u001b[0m\u001b[1;36m0\u001b[0m\u001b[1;33m]\u001b[0m\u001b[1;33m:\u001b[0m\u001b[1;33m\u001b[0m\u001b[0m\n\u001b[1;32m--> 237\u001b[1;33m             \u001b[1;32mraise\u001b[0m \u001b[0mValueError\u001b[0m\u001b[1;33m(\u001b[0m\u001b[1;34m\"x and y must have same first dimension\"\u001b[0m\u001b[1;33m)\u001b[0m\u001b[1;33m\u001b[0m\u001b[0m\n\u001b[0m\u001b[0;32m    238\u001b[0m         \u001b[1;32mif\u001b[0m \u001b[0mx\u001b[0m\u001b[1;33m.\u001b[0m\u001b[0mndim\u001b[0m \u001b[1;33m>\u001b[0m \u001b[1;36m2\u001b[0m \u001b[1;32mor\u001b[0m \u001b[0my\u001b[0m\u001b[1;33m.\u001b[0m\u001b[0mndim\u001b[0m \u001b[1;33m>\u001b[0m \u001b[1;36m2\u001b[0m\u001b[1;33m:\u001b[0m\u001b[1;33m\u001b[0m\u001b[0m\n\u001b[0;32m    239\u001b[0m             \u001b[1;32mraise\u001b[0m \u001b[0mValueError\u001b[0m\u001b[1;33m(\u001b[0m\u001b[1;34m\"x and y can be no greater than 2-D\"\u001b[0m\u001b[1;33m)\u001b[0m\u001b[1;33m\u001b[0m\u001b[0m\n",
        "\u001b[1;31mValueError\u001b[0m: x and y must have same first dimension"
       ]
      },
      {
       "metadata": {},
       "output_type": "display_data",
       "png": "[encoded data removed]",
       "text": [
        "<matplotlib.figure.Figure at 0xc0c6f98>"
       ]
      }
     ],
     "prompt_number": 53
    },
    {
     "cell_type": "code",
     "collapsed": false,
     "input": [
      "\n",
      "plt.plot(sizes[:len(qs)], qs[:len(sizes)],\n",
      "         sizes[:len(qs)], qs[len(sizes):2*len(sizes)],\n",
      "         sizes[:len(qs)], qs[2*len(sizes):3*len(sizes)])  "
     ],
     "language": "python",
     "metadata": {},
     "outputs": [
      {
       "metadata": {},
       "output_type": "pyout",
       "prompt_number": 54,
       "text": [
        "[<matplotlib.lines.Line2D at 0xd2b5358>,\n",
        " <matplotlib.lines.Line2D at 0xd2b5588>,\n",
        " <matplotlib.lines.Line2D at 0xd2b5b70>]"
       ]
      },
      {
       "metadata": {},
       "output_type": "display_data",
       "png": "[encoded data removed]",
       "text": [
        "<matplotlib.figure.Figure at 0xd310a90>"
       ]
      }
     ],
     "prompt_number": 54
    },
    {
     "cell_type": "code",
     "collapsed": false,
     "input": [
      "bp = np.zeros(26, dtype=int)\n",
      "for i in p:\n",
      "    bp[p[i]] = i\n",
      "q = get_desiredPDF_bigram(bp)\n",
      "print bp\n",
      "print q"
     ],
     "language": "python",
     "metadata": {},
     "outputs": [
      {
       "output_type": "stream",
       "stream": "stdout",
       "text": [
        "[18 21 24  4 19 15  1  3 20 16  2  8  9 23  7 10 12  0 17 11  6 25  5 13 14\n",
        " 22]\n",
        "-56398.5046942\n"
       ]
      }
     ],
     "prompt_number": 52
    },
    {
     "cell_type": "markdown",
     "metadata": {},
     "source": [
      "super.txt "
     ]
    },
    {
     "cell_type": "code",
     "collapsed": false,
     "input": [
      "supertext = read_text_filesize('main/super.txt', 0.25)\n",
      "print supertext[:100]\n",
      "print supertext[140000:140100]"
     ],
     "language": "python",
     "metadata": {},
     "outputs": [
      {
       "output_type": "stream",
       "stream": "stdout",
       "text": [
        "projectgutenbergsetextofshakespearesfirstfolioplaysthisisourrdeditionofmostoftheseplaysseetheindexco\n",
        "owinwordsisawomansonelyvertueipraytheeoutwithtandplaceitforherchiefevertuespitemsheisproudlaoutwitht\n"
       ]
      }
     ],
     "prompt_number": 8
    },
    {
     "cell_type": "markdown",
     "metadata": {},
     "source": [
      "shakespeare!"
     ]
    }
   ],
   "metadata": {}
  }
 ]
}
