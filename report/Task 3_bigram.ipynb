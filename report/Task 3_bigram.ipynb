{
 "metadata": {
  "name": "",
  "signature": "sha256:8b10f3b99b025f14f5f9b88aa6fe181d076d4d0bac5882796347c67d62895973"
 },
 "nbformat": 3,
 "nbformat_minor": 0,
 "worksheets": [
  {
   "cells": [
    {
     "cell_type": "heading",
     "level": 1,
     "metadata": {},
     "source": [
      "read, statistics, quality, crypt, decrypt, Metropolis, likelihood functions:"
     ]
    },
    {
     "cell_type": "code",
     "collapsed": false,
     "input": [
      "import numpy as np\n",
      "import math\n",
      "import matplotlib.pyplot as plt\n",
      "%matplotlib inline\n",
      "import random\n",
      "from numpy.random import rand\n",
      "from copy import copy\n",
      "from __future__ import division\n",
      "import time\n",
      "\n",
      "def read_text_words(filename, wordsnumber):    \n",
      "    with open(filename) as f:\n",
      "        X = f.readlines()\n",
      "        X = X[:wordsnumber]\n",
      "    X = ''.join(X) \n",
      "    X = X.replace('\\n', '') \n",
      "    return X\n",
      "\n",
      "def read_text_filesize(filename, size):\n",
      "    with open(filename) as f:\n",
      "        X = f.read(int(round(1024*1024*size)))\n",
      "    X = X.replace('\\n', '')\n",
      "    return X\n",
      "\n",
      "def get_unicount(text):\n",
      "    length = len(text)\n",
      "    counts = np.zeros(26)\n",
      "    for i in xrange(length):\n",
      "        c = ord(text[i])\n",
      "        counts[c-97]+=1\n",
      "        #97-122 \n",
      "    return counts\n",
      "\n",
      "def get_bigram_stats_dic(text):        \n",
      "    length = len(text)\n",
      "    dic = {}\n",
      "    for i in 'abcdefghijklmnopqrstuvwxyz':\n",
      "        for j in 'abcdefghijklmnopqrstuvwxyz':\n",
      "            dic[(i,j)]=0\n",
      "\n",
      "    for i in xrange(length-1):                   \n",
      "        if (text[i], text[i+1]) in dic:\n",
      "            dic[(text[i], text[i+1])] += 1\n",
      "            \n",
      "    for k,v in dic.items():        \n",
      "        dic[k] = v/(counts[ord(k[0])-97])\n",
      "    return dic\n",
      "\n",
      "def quality(decrypted, original):\n",
      "    l = len(decrypted)\n",
      "    zipped = zip(decrypted, original)    \n",
      "    return sum(1.0 for x,y in zipped if x == y)/l\n",
      "\n",
      "def crypt(text):\n",
      "    p = range(26)\n",
      "    random.shuffle(p)\n",
      "    output=''\n",
      "    for ch in text:\n",
      "            try:\n",
      "                x = ord(ch) - ord('a')\n",
      "                output+=(chr(p[x] + ord('a')))\n",
      "            except:\n",
      "                pass\n",
      "    return output, p\n",
      "\n",
      "def get_desiredPDF_bigram(permutation):\n",
      "    logp = 0\n",
      "    for i in xrange(len(encrypted)-1):         \n",
      "        pr = stats[chr(permutation[ord(encrypted[i])-97]+97), \n",
      "                   chr(permutation[ord(encrypted[i+1])-97]+97)]\n",
      "        if pr>0:\n",
      "            logp += math.log(pr)\n",
      "        else:\n",
      "            logp += -9 #penalty for non existant pairs\n",
      "    return logp\n",
      "\n",
      "def metropolis( desiredPDF, initValue, computableRVS, skipIterations = 1000):\n",
      "    random_variable = initValue\n",
      "    random_variableDensityValue = desiredPDF( random_variable )\n",
      "    \n",
      "    for i in xrange( skipIterations ):\n",
      "        candidate = computableRVS( random_variable )\n",
      "        candidateDensityValue = desiredPDF( candidate )\n",
      "        acceptanceProb = min(0, candidateDensityValue - random_variableDensityValue )\n",
      "        if math.log(random.random()) < acceptanceProb:\n",
      "            random_variable = candidate\n",
      "            random_variableDensityValue = candidateDensityValue\n",
      "   \n",
      "    while True:\n",
      "        candidate = computableRVS( random_variable )\n",
      "        candidateDensityValue = desiredPDF( candidate )\n",
      "    \n",
      "        acceptanceProb = min( 0, candidateDensityValue - random_variableDensityValue )\n",
      "       \n",
      "        if math.log(random.random()) < acceptanceProb:\n",
      "            random_variable = candidate\n",
      "            random_variableDensityValue = candidateDensityValue\n",
      "        yield random_variable, random_variableDensityValue\n",
      "\n",
      "def uniform( n ):\n",
      "    #initialize permutation with identical\n",
      "    permutation = [ i for i in xrange( n ) ]\n",
      "    \n",
      "    #swap ith object with random onject from i to n - 1 enclusively\n",
      "    for i in xrange( n ):\n",
      "        j = random.randint( i, n - 1 )\n",
      "        permutation[ i ], permutation[ j ] = permutation[ j ], permutation[ i ]\n",
      "        \n",
      "    return permutation\n",
      "\n",
      "def applyTransposition( basePermutation ):\n",
      "    n = len( basePermutation )\n",
      "    \n",
      "    permutation = copy( basePermutation )\n",
      "    \n",
      "    #apply n random transpositions (including identical) to base permutation\n",
      "#     for i in xrange( n ):\n",
      "    k, l = random.randint( 0, n - 1 ), random.randint( 0, n - 1 )\n",
      "    permutation[ k ], permutation[ l ] = permutation[ l ], permutation[ k ]\n",
      "        \n",
      "    return  permutation\n",
      "\n",
      "\n",
      "def decrypt(permutation, encrypted):\n",
      "    decrypted = []\n",
      "    for i in encrypted:\n",
      "        decrypted.append(chr(permutation[ord(i)-97]+97))\n",
      "    return ''.join(decrypted)"
     ],
     "language": "python",
     "metadata": {},
     "outputs": [],
     "prompt_number": 1
    },
    {
     "cell_type": "heading",
     "level": 1,
     "metadata": {},
     "source": [
      "Task 3:"
     ]
    },
    {
     "cell_type": "markdown",
     "metadata": {},
     "source": [
      "fixed test text:"
     ]
    },
    {
     "cell_type": "code",
     "collapsed": false,
     "input": [
      "fname = 'main/oliver_twist.txt'\n",
      "original = read_text_words(fname, 5000)[3:]\n",
      "encrypted,p = crypt(original)\n",
      "print encrypted[:20]"
     ],
     "language": "python",
     "metadata": {},
     "outputs": [
      {
       "output_type": "stream",
       "stream": "stdout",
       "text": [
        "eodfsymdkeuiedxgdsud\n"
       ]
      }
     ],
     "prompt_number": 33
    },
    {
     "cell_type": "markdown",
     "metadata": {},
     "source": [
      "vary size of train text (used War and Peace, total 3Mb)"
     ]
    },
    {
     "cell_type": "code",
     "collapsed": false,
     "input": [
      "sizes =  [0.25,0.5,0.75,1]\n",
      "qs = []\n",
      "times = 4\n",
      "for k in xrange(times):\n",
      "    for s in sizes:   \n",
      "\n",
      "        train_text = read_text_filesize('main/war_and_peace.txt', s)    \n",
      "        counts = get_unicount(train_text)\n",
      "        stats = get_bigram_stats_dic(train_text)\n",
      "        init_p = uniform(26)\n",
      "        #Metropolis here\n",
      "        st = time.time()\n",
      "        computableGen = lambda t: applyTransposition(t)\n",
      "        metropolisgenerator = \\\n",
      "            metropolis(get_desiredPDF_bigram, init_p, computableGen, 1250)\n",
      "\n",
      "        y = -float(\"inf\")\n",
      "        for i in xrange( 1000 ): #<=========\n",
      "            cand = metropolisgenerator.next() \n",
      "            if (cand[1] > y):\n",
      "                y = cand[1]\n",
      "                x = cand[0]\n",
      "\n",
      "        et =  time.time() - st\n",
      "        print 'metropolis time: ', et\n",
      "\n",
      "        print 'best density among 1000 last iterations: ', y\n",
      "        print 'corresponding permutation: ', x\n",
      "\n",
      "        decrypted = decrypt(x, encrypted)\n",
      "        qs.append( quality(decrypted, original))\n",
      "  \n",
      "plt.plot(sizes[:len(qs)], qs[:len(sizes)],\n",
      "         sizes[:len(qs)], qs[len(sizes):2*len(sizes)],\n",
      "         sizes[:len(qs)], qs[2*len(sizes):3*len(sizes)],\n",
      "         sizes[:len(qs)], qs[3*len(sizes):4*len(sizes)],)  "
     ],
     "language": "python",
     "metadata": {},
     "outputs": [
      {
       "output_type": "stream",
       "stream": "stdout",
       "text": [
        "metropolis time:  125.345999956\n",
        "best density among 1000 last iterations:  -56612.5920152\n",
        "corresponding permutation:  [18, 21, 24, 4, 19, 15, 1, 3, 20, 16, 2, 8, 9, 23, 7, 10, 12, 0, 17, 11, 6, 25, 5, 13, 14, 22]\n",
        "metropolis time: "
       ]
      },
      {
       "output_type": "stream",
       "stream": "stdout",
       "text": [
        " 114.822000027\n",
        "best density among 1000 last iterations:  -56449.9500405\n",
        "corresponding permutation:  [18, 21, 24, 4, 19, 15, 1, 3, 20, 16, 2, 8, 9, 23, 7, 10, 12, 0, 17, 11, 6, 25, 5, 13, 14, 22]\n",
        "metropolis time: "
       ]
      },
      {
       "output_type": "stream",
       "stream": "stdout",
       "text": [
        " 116.678999901\n",
        "best density among 1000 last iterations:  -56459.7567613\n",
        "corresponding permutation:  [18, 21, 24, 4, 19, 15, 1, 3, 20, 16, 2, 8, 9, 23, 7, 10, 12, 0, 17, 11, 6, 25, 5, 13, 14, 22]\n",
        "metropolis time: "
       ]
      },
      {
       "output_type": "stream",
       "stream": "stdout",
       "text": [
        " 138.423000097\n",
        "best density among 1000 last iterations:  -70477.962568\n",
        "corresponding permutation:  [18, 2, 10, 19, 14, 7, 12, 3, 22, 23, 5, 11, 9, 25, 20, 21, 24, 17, 8, 0, 15, 16, 6, 4, 13, 1]\n",
        "metropolis time: "
       ]
      },
      {
       "output_type": "stream",
       "stream": "stdout",
       "text": [
        " 143.957000017\n",
        "best density among 1000 last iterations:  -56612.5920152\n",
        "corresponding permutation:  [18, 21, 24, 4, 19, 15, 1, 3, 20, 16, 2, 8, 9, 23, 7, 10, 12, 0, 17, 11, 6, 25, 5, 13, 14, 22]\n",
        "metropolis time: "
       ]
      },
      {
       "output_type": "stream",
       "stream": "stdout",
       "text": [
        " 132.012999773\n",
        "best density among 1000 last iterations:  -70519.1976984\n",
        "corresponding permutation:  [5, 2, 10, 19, 0, 15, 7, 3, 12, 25, 22, 11, 9, 23, 13, 21, 24, 18, 14, 8, 6, 16, 1, 4, 17, 20]\n",
        "metropolis time: "
       ]
      },
      {
       "output_type": "stream",
       "stream": "stdout",
       "text": [
        " 148.871999979\n",
        "best density among 1000 last iterations:  -70600.5659262\n",
        "corresponding permutation:  [0, 10, 2, 13, 19, 15, 1, 3, 12, 23, 5, 11, 9, 25, 8, 21, 24, 18, 14, 20, 22, 16, 6, 4, 17, 7]\n",
        "metropolis time: "
       ]
      },
      {
       "output_type": "stream",
       "stream": "stdout",
       "text": [
        " 155.159999847\n",
        "best density among 1000 last iterations:  -60886.3835207\n",
        "corresponding permutation:  [18, 2, 24, 4, 19, 15, 1, 3, 20, 16, 7, 8, 9, 23, 22, 10, 12, 0, 17, 11, 6, 25, 5, 13, 14, 21]\n",
        "metropolis time: "
       ]
      },
      {
       "output_type": "stream",
       "stream": "stdout",
       "text": [
        " 153.879999876\n",
        "best density among 1000 last iterations:  -71020.3634718\n",
        "corresponding permutation:  [6, 1, 12, 11, 18, 15, 2, 3, 7, 23, 24, 13, 9, 25, 0, 10, 20, 17, 8, 14, 21, 16, 5, 4, 19, 22]\n",
        "metropolis time: "
       ]
      },
      {
       "output_type": "stream",
       "stream": "stdout",
       "text": [
        " 160.25\n",
        "best density among 1000 last iterations:  -67486.3163275\n",
        "corresponding permutation:  [18, 21, 5, 4, 8, 15, 6, 24, 20, 16, 3, 14, 9, 23, 13, 1, 2, 0, 17, 12, 10, 25, 7, 11, 19, 22]\n",
        "metropolis time: "
       ]
      },
      {
       "output_type": "stream",
       "stream": "stdout",
       "text": [
        " 165.05099988\n",
        "best density among 1000 last iterations:  -71377.7917112\n",
        "corresponding permutation:  [22, 10, 11, 13, 7, 15, 20, 3, 12, 25, 6, 18, 9, 23, 0, 21, 5, 19, 14, 8, 1, 16, 2, 4, 17, 24]\n",
        "metropolis time: "
       ]
      },
      {
       "output_type": "stream",
       "stream": "stdout",
       "text": [
        " 159.639999866\n",
        "best density among 1000 last iterations:  -56579.5914924\n",
        "corresponding permutation:  [18, 21, 24, 4, 19, 15, 1, 3, 20, 25, 2, 8, 9, 23, 7, 10, 12, 0, 17, 11, 6, 16, 5, 13, 14, 22]\n",
        "metropolis time: "
       ]
      },
      {
       "output_type": "stream",
       "stream": "stdout",
       "text": [
        " 120.024999857\n",
        "best density among 1000 last iterations:  -56612.5920152\n",
        "corresponding permutation:  [18, 21, 24, 4, 19, 15, 1, 3, 20, 16, 2, 8, 9, 23, 7, 10, 12, 0, 17, 11, 6, 25, 5, 13, 14, 22]\n",
        "metropolis time: "
       ]
      },
      {
       "output_type": "stream",
       "stream": "stdout",
       "text": [
        " 117.243000031\n",
        "best density among 1000 last iterations:  -71345.6274273\n",
        "corresponding permutation:  [14, 24, 2, 19, 0, 15, 5, 18, 12, 23, 3, 11, 9, 25, 13, 10, 22, 7, 8, 20, 21, 16, 1, 4, 17, 6]\n",
        "metropolis time: "
       ]
      },
      {
       "output_type": "stream",
       "stream": "stdout",
       "text": [
        " 115.964999914\n",
        "best density among 1000 last iterations:  -57451.860113\n",
        "corresponding permutation:  [18, 21, 24, 4, 19, 15, 1, 3, 20, 16, 2, 8, 9, 23, 7, 5, 12, 0, 17, 11, 6, 25, 10, 13, 14, 22]\n",
        "metropolis time: "
       ]
      },
      {
       "output_type": "stream",
       "stream": "stdout",
       "text": [
        " 118.951999903\n",
        "best density among 1000 last iterations:  -61739.2404626\n",
        "corresponding permutation:  [12, 21, 24, 4, 18, 15, 1, 3, 20, 16, 5, 8, 9, 23, 19, 10, 22, 0, 17, 11, 6, 25, 2, 13, 14, 7]\n"
       ]
      },
      {
       "metadata": {},
       "output_type": "pyout",
       "prompt_number": 48,
       "text": [
        "[<matplotlib.lines.Line2D at 0xbb1ecf8>,\n",
        " <matplotlib.lines.Line2D at 0xbb1ef28>,\n",
        " <matplotlib.lines.Line2D at 0xc042550>,\n",
        " <matplotlib.lines.Line2D at 0xc042ac8>]"
       ]
      },
      {
       "metadata": {},
       "output_type": "display_data",
       "png": "[encoded data removed]",
       "text": [
        "<matplotlib.figure.Figure at 0xab49b70>"
       ]
      }
     ],
     "prompt_number": 48
    },
    {
     "cell_type": "markdown",
     "metadata": {},
     "source": [
      "for small train text quality graphs are not representative. "
     ]
    },
    {
     "cell_type": "code",
     "collapsed": false,
     "input": [
      "sizes =  [0.5, 1, 2, 3]\n",
      "qs = []\n",
      "times = 4\n",
      "for k in xrange(times):\n",
      "    for s in sizes:   \n",
      "\n",
      "        train_text = read_text_filesize('main/war_and_peace.txt', s)    \n",
      "        counts = get_unicount(train_text)\n",
      "        stats = get_bigram_stats_dic(train_text)\n",
      "        init_p = uniform(26)\n",
      "        #Metropolis here\n",
      "        st = time.time()\n",
      "        computableGen = lambda t: applyTransposition(t)\n",
      "        metropolisgenerator = \\\n",
      "            metropolis(get_desiredPDF_bigram, init_p, computableGen, 1250)\n",
      "\n",
      "        y = -float(\"inf\")\n",
      "        for i in xrange( 1000 ): #<=========\n",
      "            cand = metropolisgenerator.next() \n",
      "            if (cand[1] > y):\n",
      "                y = cand[1]\n",
      "                x = cand[0]\n",
      "\n",
      "        et =  time.time() - st\n",
      "        print 'metropolis time: ', et\n",
      "\n",
      "        print 'best density among 1000 last iterations: ', y\n",
      "        print 'corresponding permutation: ', x\n",
      "\n",
      "        decrypted = decrypt(x, encrypted)\n",
      "        qs.append( quality(decrypted, original))\n",
      "  \n",
      "plt.plot(sizes[:len(qs)], qs[:len(sizes)],\n",
      "         sizes[:len(qs)], qs[len(sizes):2*len(sizes)],\n",
      "         sizes[:len(qs)], qs[2*len(sizes):3*len(sizes)],\n",
      "         sizes[:len(qs)], qs[3*len(sizes):4*len(sizes)],)  "
     ],
     "language": "python",
     "metadata": {},
     "outputs": [
      {
       "output_type": "stream",
       "stream": "stdout",
       "text": [
        "metropolis time:  115.970999956\n",
        "best density among 1000 last iterations:  -58240.5659332\n",
        "corresponding permutation:  [19, 21, 24, 4, 18, 15, 1, 3, 20, 16, 2, 8, 9, 23, 7, 10, 12, 0, 17, 11, 6, 25, 5, 13, 14, 22]\n",
        "metropolis time: "
       ]
      },
      {
       "output_type": "stream",
       "stream": "stdout",
       "text": [
        " 111.309999943\n",
        "best density among 1000 last iterations:  -57842.7546737\n",
        "corresponding permutation:  [17, 21, 24, 4, 19, 15, 1, 3, 20, 16, 2, 8, 9, 23, 7, 10, 12, 0, 18, 11, 6, 25, 5, 13, 14, 22]\n",
        "metropolis time: "
       ]
      },
      {
       "output_type": "stream",
       "stream": "stdout",
       "text": [
        " 115.639999866\n",
        "best density among 1000 last iterations:  -56409.8117851\n",
        "corresponding permutation:  [18, 21, 24, 4, 19, 15, 1, 3, 20, 16, 2, 8, 9, 23, 7, 10, 12, 0, 17, 11, 6, 25, 5, 13, 14, 22]\n",
        "metropolis time: "
       ]
      },
      {
       "output_type": "stream",
       "stream": "stdout",
       "text": [
        " 115.246000051\n",
        "best density among 1000 last iterations:  -56398.5046942\n",
        "corresponding permutation:  [18, 21, 24, 4, 19, 15, 1, 3, 20, 16, 2, 8, 9, 23, 7, 10, 12, 0, 17, 11, 6, 25, 5, 13, 14, 22]\n",
        "metropolis time: "
       ]
      },
      {
       "output_type": "stream",
       "stream": "stdout",
       "text": [
        " 114.548000097\n",
        "best density among 1000 last iterations:  -71398.6701553\n",
        "corresponding permutation:  [3, 10, 20, 8, 0, 2, 12, 13, 24, 25, 15, 18, 9, 23, 11, 21, 5, 17, 14, 22, 1, 16, 7, 4, 19, 6]\n",
        "metropolis time: "
       ]
      },
      {
       "output_type": "stream",
       "stream": "stdout",
       "text": [
        " 119.617000103\n",
        "best density among 1000 last iterations:  -56530.162321\n",
        "corresponding permutation:  [18, 21, 24, 4, 19, 15, 1, 3, 20, 9, 2, 8, 25, 23, 7, 10, 12, 0, 17, 11, 6, 16, 5, 13, 14, 22]\n",
        "metropolis time: "
       ]
      },
      {
       "output_type": "stream",
       "stream": "stdout",
       "text": [
        " 116.394999981\n",
        "best density among 1000 last iterations:  -56409.8117851\n",
        "corresponding permutation:  [18, 21, 24, 4, 19, 15, 1, 3, 20, 16, 2, 8, 9, 23, 7, 10, 12, 0, 17, 11, 6, 25, 5, 13, 14, 22]\n",
        "metropolis time: "
       ]
      },
      {
       "output_type": "stream",
       "stream": "stdout",
       "text": [
        " 124.029000044\n",
        "best density among 1000 last iterations:  -56398.5046942\n",
        "corresponding permutation:  [18, 21, 24, 4, 19, 15, 1, 3, 20, 16, 2, 8, 9, 23, 7, 10, 12, 0, 17, 11, 6, 25, 5, 13, 14, 22]\n",
        "metropolis time: "
       ]
      },
      {
       "output_type": "stream",
       "stream": "stdout",
       "text": [
        " 113.835999966\n",
        "best density among 1000 last iterations:  -56449.9500405\n",
        "corresponding permutation:  [18, 21, 24, 4, 19, 15, 1, 3, 20, 16, 2, 8, 9, 23, 7, 10, 12, 0, 17, 11, 6, 25, 5, 13, 14, 22]\n",
        "metropolis time: "
       ]
      },
      {
       "output_type": "stream",
       "stream": "stdout",
       "text": [
        " 120.398999929\n",
        "best density among 1000 last iterations:  -56443.5009922\n",
        "corresponding permutation:  [18, 21, 24, 4, 19, 15, 1, 3, 20, 16, 2, 8, 9, 23, 7, 10, 12, 0, 17, 11, 6, 25, 5, 13, 14, 22]\n",
        "metropolis time: "
       ]
      },
      {
       "output_type": "stream",
       "stream": "stdout",
       "text": [
        " 128.097999811\n",
        "best density among 1000 last iterations:  -62187.0058425\n",
        "corresponding permutation:  [19, 21, 3, 4, 18, 1, 15, 24, 20, 16, 2, 8, 9, 23, 7, 10, 12, 0, 13, 11, 6, 25, 5, 17, 14, 22]\n",
        "metropolis time: "
       ]
      },
      {
       "output_type": "stream",
       "stream": "stdout",
       "text": [
        " 121.519000053\n",
        "best density among 1000 last iterations:  -56398.5046942\n",
        "corresponding permutation:  [18, 21, 24, 4, 19, 15, 1, 3, 20, 16, 2, 8, 9, 23, 7, 10, 12, 0, 17, 11, 6, 25, 5, 13, 14, 22]\n",
        "metropolis time: "
       ]
      },
      {
       "output_type": "stream",
       "stream": "stdout",
       "text": [
        " 118.023000002\n",
        "best density among 1000 last iterations:  -66168.7945318\n",
        "corresponding permutation:  [18, 2, 24, 4, 8, 6, 1, 3, 20, 9, 22, 19, 25, 23, 13, 10, 7, 0, 17, 12, 5, 16, 15, 11, 14, 21]\n",
        "metropolis time: "
       ]
      },
      {
       "output_type": "stream",
       "stream": "stdout",
       "text": [
        " 114.702000141\n",
        "best density among 1000 last iterations:  -56530.162321\n",
        "corresponding permutation:  [18, 21, 24, 4, 19, 15, 1, 3, 20, 9, 2, 8, 25, 23, 7, 10, 12, 0, 17, 11, 6, 16, 5, 13, 14, 22]\n",
        "metropolis time: "
       ]
      },
      {
       "output_type": "stream",
       "stream": "stdout",
       "text": [
        " 121.598999977\n",
        "best density among 1000 last iterations:  -72155.5849271\n",
        "corresponding permutation:  [8, 6, 21, 19, 4, 15, 5, 24, 2, 23, 20, 3, 9, 25, 13, 10, 11, 18, 14, 0, 12, 16, 1, 7, 17, 22]\n",
        "metropolis time: "
       ]
      },
      {
       "output_type": "stream",
       "stream": "stdout",
       "text": [
        " 122.577000141\n",
        "best density among 1000 last iterations:  -71283.4696578\n",
        "corresponding permutation:  [18, 2, 20, 19, 0, 1, 12, 17, 24, 16, 3, 8, 23, 25, 13, 21, 5, 7, 14, 15, 6, 9, 10, 4, 11, 22]\n"
       ]
      },
      {
       "metadata": {},
       "output_type": "pyout",
       "prompt_number": 49,
       "text": [
        "[<matplotlib.lines.Line2D at 0xd0ca860>,\n",
        " <matplotlib.lines.Line2D at 0xd0caa90>,\n",
        " <matplotlib.lines.Line2D at 0xc0c60b8>,\n",
        " <matplotlib.lines.Line2D at 0xc0c6630>]"
       ]
      },
      {
       "metadata": {},
       "output_type": "display_data",
       "png": "[encoded data removed]",
       "text": [
        "<matplotlib.figure.Figure at 0xc024630>"
       ]
      }
     ],
     "prompt_number": 49
    },
    {
     "cell_type": "markdown",
     "metadata": {},
     "source": [
      "this may be caused by too little col iterations, let's raise it up to 2500: "
     ]
    },
    {
     "cell_type": "code",
     "collapsed": false,
     "input": [
      "sizes =  [0.5, 1.75, 3]\n",
      "qs = []\n",
      "times = 3\n",
      "for k in xrange(times):\n",
      "    for s in sizes:   \n",
      "\n",
      "        train_text = read_text_filesize('main/war_and_peace.txt', s)    \n",
      "        counts = get_unicount(train_text)\n",
      "        stats = get_bigram_stats_dic(train_text)\n",
      "        init_p = uniform(26)\n",
      "        #Metropolis here\n",
      "        st = time.time()\n",
      "        computableGen = lambda t: applyTransposition(t)\n",
      "        metropolisgenerator = \\\n",
      "            metropolis(get_desiredPDF_bigram, init_p, computableGen, 2500)\n",
      "\n",
      "        y = -float(\"inf\")\n",
      "        for i in xrange( 500 ): #<=========\n",
      "            cand = metropolisgenerator.next() \n",
      "            if (cand[1] > y):\n",
      "                y = cand[1]\n",
      "                x = cand[0]\n",
      "\n",
      "        et =  time.time() - st\n",
      "        print 'metropolis time: ', et\n",
      "\n",
      "        print 'best density among 500 last iterations: ', y\n",
      "        print 'corresponding permutation: ', x\n",
      "\n",
      "        decrypted = decrypt(x, encrypted)\n",
      "        qs.append( quality(decrypted, original))\n",
      "  \n",
      "plt.plot(sizes[:len(qs)], qs[:len(sizes)],\n",
      "         sizes[:len(qs)], qs[len(sizes):2*len(sizes)],\n",
      "         sizes[:len(qs)], qs[2*len(sizes):3*len(sizes)],\n",
      "         sizes[:len(qs)], qs[3*len(sizes):4*len(sizes)],)  "
     ],
     "language": "python",
     "metadata": {},
     "outputs": [
      {
       "output_type": "stream",
       "stream": "stdout",
       "text": [
        "metropolis time:  161.106999874\n",
        "best density among 500 last iterations:  -56449.9500405\n",
        "corresponding permutation:  [18, 21, 24, 4, 19, 15, 1, 3, 20, 16, 2, 8, 9, 23, 7, 10, 12, 0, 17, 11, 6, 25, 5, 13, 14, 22]\n",
        "metropolis time: "
       ]
      },
      {
       "output_type": "stream",
       "stream": "stdout",
       "text": [
        " 161.350000143\n",
        "best density among 500 last iterations:  -56410.2005938\n",
        "corresponding permutation:  [18, 21, 24, 4, 19, 15, 1, 3, 20, 16, 2, 8, 9, 23, 7, 10, 12, 0, 17, 11, 6, 25, 5, 13, 14, 22]\n",
        "metropolis time: "
       ]
      },
      {
       "output_type": "stream",
       "stream": "stdout",
       "text": [
        " 157.572000027\n",
        "best density among 500 last iterations:  -56398.5046942\n",
        "corresponding permutation:  [18, 21, 24, 4, 19, 15, 1, 3, 20, 16, 2, 8, 9, 23, 7, 10, 12, 0, 17, 11, 6, 25, 5, 13, 14, 22]\n",
        "metropolis time: "
       ]
      },
      {
       "output_type": "stream",
       "stream": "stdout",
       "text": [
        " 156.710000038\n",
        "best density among 500 last iterations:  -58108.899908\n",
        "corresponding permutation:  [18, 21, 24, 4, 19, 15, 1, 3, 20, 16, 2, 0, 9, 23, 7, 10, 12, 8, 17, 11, 6, 25, 5, 13, 14, 22]\n",
        "metropolis time: "
       ]
      },
      {
       "output_type": "stream",
       "stream": "stdout",
       "text": [
        " 156.017999887\n",
        "best density among 500 last iterations:  -56410.2005938\n",
        "corresponding permutation:  [18, 21, 24, 4, 19, 15, 1, 3, 20, 16, 2, 8, 9, 23, 7, 10, 12, 0, 17, 11, 6, 25, 5, 13, 14, 22]\n",
        "metropolis time: "
       ]
      },
      {
       "output_type": "stream",
       "stream": "stdout",
       "text": [
        " 154.515999794\n",
        "best density among 500 last iterations:  -56398.5046942\n",
        "corresponding permutation:  [18, 21, 24, 4, 19, 15, 1, 3, 20, 16, 2, 8, 9, 23, 7, 10, 12, 0, 17, 11, 6, 25, 5, 13, 14, 22]\n",
        "metropolis time: "
       ]
      },
      {
       "output_type": "stream",
       "stream": "stdout",
       "text": [
        " 153.356999874\n",
        "best density among 500 last iterations:  -56449.9500405\n",
        "corresponding permutation:  [18, 21, 24, 4, 19, 15, 1, 3, 20, 16, 2, 8, 9, 23, 7, 10, 12, 0, 17, 11, 6, 25, 5, 13, 14, 22]\n",
        "metropolis time: "
       ]
      },
      {
       "output_type": "stream",
       "stream": "stdout",
       "text": [
        " 153.322999954\n",
        "best density among 500 last iterations:  -56410.2005938\n",
        "corresponding permutation:  [18, 21, 24, 4, 19, 15, 1, 3, 20, 16, 2, 8, 9, 23, 7, 10, 12, 0, 17, 11, 6, 25, 5, 13, 14, 22]\n",
        "metropolis time: "
       ]
      },
      {
       "output_type": "stream",
       "stream": "stdout",
       "text": [
        " 157.593999863\n",
        "best density among 500 last iterations:  -56398.5046942\n",
        "corresponding permutation:  [18, 21, 24, 4, 19, 15, 1, 3, 20, 16, 2, 8, 9, 23, 7, 10, 12, 0, 17, 11, 6, 25, 5, 13, 14, 22]\n"
       ]
      },
      {
       "ename": "ValueError",
       "evalue": "x and y must have same first dimension",
       "output_type": "pyerr",
       "traceback": [
        "\u001b[1;31m---------------------------------------------------------------------------\u001b[0m\n\u001b[1;31mValueError\u001b[0m                                Traceback (most recent call last)",
        "\u001b[1;32m<ipython-input-53-621c4230538e>\u001b[0m in \u001b[0;36m<module>\u001b[1;34m()\u001b[0m\n\u001b[0;32m     33\u001b[0m          \u001b[0msizes\u001b[0m\u001b[1;33m[\u001b[0m\u001b[1;33m:\u001b[0m\u001b[0mlen\u001b[0m\u001b[1;33m(\u001b[0m\u001b[0mqs\u001b[0m\u001b[1;33m)\u001b[0m\u001b[1;33m]\u001b[0m\u001b[1;33m,\u001b[0m \u001b[0mqs\u001b[0m\u001b[1;33m[\u001b[0m\u001b[0mlen\u001b[0m\u001b[1;33m(\u001b[0m\u001b[0msizes\u001b[0m\u001b[1;33m)\u001b[0m\u001b[1;33m:\u001b[0m\u001b[1;36m2\u001b[0m\u001b[1;33m*\u001b[0m\u001b[0mlen\u001b[0m\u001b[1;33m(\u001b[0m\u001b[0msizes\u001b[0m\u001b[1;33m)\u001b[0m\u001b[1;33m]\u001b[0m\u001b[1;33m,\u001b[0m\u001b[1;33m\u001b[0m\u001b[0m\n\u001b[0;32m     34\u001b[0m          \u001b[0msizes\u001b[0m\u001b[1;33m[\u001b[0m\u001b[1;33m:\u001b[0m\u001b[0mlen\u001b[0m\u001b[1;33m(\u001b[0m\u001b[0mqs\u001b[0m\u001b[1;33m)\u001b[0m\u001b[1;33m]\u001b[0m\u001b[1;33m,\u001b[0m \u001b[0mqs\u001b[0m\u001b[1;33m[\u001b[0m\u001b[1;36m2\u001b[0m\u001b[1;33m*\u001b[0m\u001b[0mlen\u001b[0m\u001b[1;33m(\u001b[0m\u001b[0msizes\u001b[0m\u001b[1;33m)\u001b[0m\u001b[1;33m:\u001b[0m\u001b[1;36m3\u001b[0m\u001b[1;33m*\u001b[0m\u001b[0mlen\u001b[0m\u001b[1;33m(\u001b[0m\u001b[0msizes\u001b[0m\u001b[1;33m)\u001b[0m\u001b[1;33m]\u001b[0m\u001b[1;33m,\u001b[0m\u001b[1;33m\u001b[0m\u001b[0m\n\u001b[1;32m---> 35\u001b[1;33m          sizes[:len(qs)], qs[3*len(sizes):4*len(sizes)],)  \n\u001b[0m",
        "\u001b[1;32mC:\\Users\\Maremun\\Anaconda\\lib\\site-packages\\matplotlib\\pyplot.pyc\u001b[0m in \u001b[0;36mplot\u001b[1;34m(*args, **kwargs)\u001b[0m\n\u001b[0;32m   2985\u001b[0m         \u001b[0max\u001b[0m\u001b[1;33m.\u001b[0m\u001b[0mhold\u001b[0m\u001b[1;33m(\u001b[0m\u001b[0mhold\u001b[0m\u001b[1;33m)\u001b[0m\u001b[1;33m\u001b[0m\u001b[0m\n\u001b[0;32m   2986\u001b[0m     \u001b[1;32mtry\u001b[0m\u001b[1;33m:\u001b[0m\u001b[1;33m\u001b[0m\u001b[0m\n\u001b[1;32m-> 2987\u001b[1;33m         \u001b[0mret\u001b[0m \u001b[1;33m=\u001b[0m \u001b[0max\u001b[0m\u001b[1;33m.\u001b[0m\u001b[0mplot\u001b[0m\u001b[1;33m(\u001b[0m\u001b[1;33m*\u001b[0m\u001b[0margs\u001b[0m\u001b[1;33m,\u001b[0m \u001b[1;33m**\u001b[0m\u001b[0mkwargs\u001b[0m\u001b[1;33m)\u001b[0m\u001b[1;33m\u001b[0m\u001b[0m\n\u001b[0m\u001b[0;32m   2988\u001b[0m         \u001b[0mdraw_if_interactive\u001b[0m\u001b[1;33m(\u001b[0m\u001b[1;33m)\u001b[0m\u001b[1;33m\u001b[0m\u001b[0m\n\u001b[0;32m   2989\u001b[0m     \u001b[1;32mfinally\u001b[0m\u001b[1;33m:\u001b[0m\u001b[1;33m\u001b[0m\u001b[0m\n",
        "\u001b[1;32mC:\\Users\\Maremun\\Anaconda\\lib\\site-packages\\matplotlib\\axes.pyc\u001b[0m in \u001b[0;36mplot\u001b[1;34m(self, *args, **kwargs)\u001b[0m\n\u001b[0;32m   4135\u001b[0m         \u001b[0mlines\u001b[0m \u001b[1;33m=\u001b[0m \u001b[1;33m[\u001b[0m\u001b[1;33m]\u001b[0m\u001b[1;33m\u001b[0m\u001b[0m\n\u001b[0;32m   4136\u001b[0m \u001b[1;33m\u001b[0m\u001b[0m\n\u001b[1;32m-> 4137\u001b[1;33m         \u001b[1;32mfor\u001b[0m \u001b[0mline\u001b[0m \u001b[1;32min\u001b[0m \u001b[0mself\u001b[0m\u001b[1;33m.\u001b[0m\u001b[0m_get_lines\u001b[0m\u001b[1;33m(\u001b[0m\u001b[1;33m*\u001b[0m\u001b[0margs\u001b[0m\u001b[1;33m,\u001b[0m \u001b[1;33m**\u001b[0m\u001b[0mkwargs\u001b[0m\u001b[1;33m)\u001b[0m\u001b[1;33m:\u001b[0m\u001b[1;33m\u001b[0m\u001b[0m\n\u001b[0m\u001b[0;32m   4138\u001b[0m             \u001b[0mself\u001b[0m\u001b[1;33m.\u001b[0m\u001b[0madd_line\u001b[0m\u001b[1;33m(\u001b[0m\u001b[0mline\u001b[0m\u001b[1;33m)\u001b[0m\u001b[1;33m\u001b[0m\u001b[0m\n\u001b[0;32m   4139\u001b[0m             \u001b[0mlines\u001b[0m\u001b[1;33m.\u001b[0m\u001b[0mappend\u001b[0m\u001b[1;33m(\u001b[0m\u001b[0mline\u001b[0m\u001b[1;33m)\u001b[0m\u001b[1;33m\u001b[0m\u001b[0m\n",
        "\u001b[1;32mC:\\Users\\Maremun\\Anaconda\\lib\\site-packages\\matplotlib\\axes.pyc\u001b[0m in \u001b[0;36m_grab_next_args\u001b[1;34m(self, *args, **kwargs)\u001b[0m\n\u001b[0;32m    315\u001b[0m                 \u001b[1;32mreturn\u001b[0m\u001b[1;33m\u001b[0m\u001b[0m\n\u001b[0;32m    316\u001b[0m             \u001b[1;32mif\u001b[0m \u001b[0mlen\u001b[0m\u001b[1;33m(\u001b[0m\u001b[0mremaining\u001b[0m\u001b[1;33m)\u001b[0m \u001b[1;33m<=\u001b[0m \u001b[1;36m3\u001b[0m\u001b[1;33m:\u001b[0m\u001b[1;33m\u001b[0m\u001b[0m\n\u001b[1;32m--> 317\u001b[1;33m                 \u001b[1;32mfor\u001b[0m \u001b[0mseg\u001b[0m \u001b[1;32min\u001b[0m \u001b[0mself\u001b[0m\u001b[1;33m.\u001b[0m\u001b[0m_plot_args\u001b[0m\u001b[1;33m(\u001b[0m\u001b[0mremaining\u001b[0m\u001b[1;33m,\u001b[0m \u001b[0mkwargs\u001b[0m\u001b[1;33m)\u001b[0m\u001b[1;33m:\u001b[0m\u001b[1;33m\u001b[0m\u001b[0m\n\u001b[0m\u001b[0;32m    318\u001b[0m                     \u001b[1;32myield\u001b[0m \u001b[0mseg\u001b[0m\u001b[1;33m\u001b[0m\u001b[0m\n\u001b[0;32m    319\u001b[0m                 \u001b[1;32mreturn\u001b[0m\u001b[1;33m\u001b[0m\u001b[0m\n",
        "\u001b[1;32mC:\\Users\\Maremun\\Anaconda\\lib\\site-packages\\matplotlib\\axes.pyc\u001b[0m in \u001b[0;36m_plot_args\u001b[1;34m(self, tup, kwargs)\u001b[0m\n\u001b[0;32m    293\u001b[0m             \u001b[0mx\u001b[0m \u001b[1;33m=\u001b[0m \u001b[0mnp\u001b[0m\u001b[1;33m.\u001b[0m\u001b[0marange\u001b[0m\u001b[1;33m(\u001b[0m\u001b[0my\u001b[0m\u001b[1;33m.\u001b[0m\u001b[0mshape\u001b[0m\u001b[1;33m[\u001b[0m\u001b[1;36m0\u001b[0m\u001b[1;33m]\u001b[0m\u001b[1;33m,\u001b[0m \u001b[0mdtype\u001b[0m\u001b[1;33m=\u001b[0m\u001b[0mfloat\u001b[0m\u001b[1;33m)\u001b[0m\u001b[1;33m\u001b[0m\u001b[0m\n\u001b[0;32m    294\u001b[0m \u001b[1;33m\u001b[0m\u001b[0m\n\u001b[1;32m--> 295\u001b[1;33m         \u001b[0mx\u001b[0m\u001b[1;33m,\u001b[0m \u001b[0my\u001b[0m \u001b[1;33m=\u001b[0m \u001b[0mself\u001b[0m\u001b[1;33m.\u001b[0m\u001b[0m_xy_from_xy\u001b[0m\u001b[1;33m(\u001b[0m\u001b[0mx\u001b[0m\u001b[1;33m,\u001b[0m \u001b[0my\u001b[0m\u001b[1;33m)\u001b[0m\u001b[1;33m\u001b[0m\u001b[0m\n\u001b[0m\u001b[0;32m    296\u001b[0m \u001b[1;33m\u001b[0m\u001b[0m\n\u001b[0;32m    297\u001b[0m         \u001b[1;32mif\u001b[0m \u001b[0mself\u001b[0m\u001b[1;33m.\u001b[0m\u001b[0mcommand\u001b[0m \u001b[1;33m==\u001b[0m \u001b[1;34m'plot'\u001b[0m\u001b[1;33m:\u001b[0m\u001b[1;33m\u001b[0m\u001b[0m\n",
        "\u001b[1;32mC:\\Users\\Maremun\\Anaconda\\lib\\site-packages\\matplotlib\\axes.pyc\u001b[0m in \u001b[0;36m_xy_from_xy\u001b[1;34m(self, x, y)\u001b[0m\n\u001b[0;32m    235\u001b[0m         \u001b[0my\u001b[0m \u001b[1;33m=\u001b[0m \u001b[0mnp\u001b[0m\u001b[1;33m.\u001b[0m\u001b[0matleast_1d\u001b[0m\u001b[1;33m(\u001b[0m\u001b[0my\u001b[0m\u001b[1;33m)\u001b[0m\u001b[1;33m\u001b[0m\u001b[0m\n\u001b[0;32m    236\u001b[0m         \u001b[1;32mif\u001b[0m \u001b[0mx\u001b[0m\u001b[1;33m.\u001b[0m\u001b[0mshape\u001b[0m\u001b[1;33m[\u001b[0m\u001b[1;36m0\u001b[0m\u001b[1;33m]\u001b[0m \u001b[1;33m!=\u001b[0m \u001b[0my\u001b[0m\u001b[1;33m.\u001b[0m\u001b[0mshape\u001b[0m\u001b[1;33m[\u001b[0m\u001b[1;36m0\u001b[0m\u001b[1;33m]\u001b[0m\u001b[1;33m:\u001b[0m\u001b[1;33m\u001b[0m\u001b[0m\n\u001b[1;32m--> 237\u001b[1;33m             \u001b[1;32mraise\u001b[0m \u001b[0mValueError\u001b[0m\u001b[1;33m(\u001b[0m\u001b[1;34m\"x and y must have same first dimension\"\u001b[0m\u001b[1;33m)\u001b[0m\u001b[1;33m\u001b[0m\u001b[0m\n\u001b[0m\u001b[0;32m    238\u001b[0m         \u001b[1;32mif\u001b[0m \u001b[0mx\u001b[0m\u001b[1;33m.\u001b[0m\u001b[0mndim\u001b[0m \u001b[1;33m>\u001b[0m \u001b[1;36m2\u001b[0m \u001b[1;32mor\u001b[0m \u001b[0my\u001b[0m\u001b[1;33m.\u001b[0m\u001b[0mndim\u001b[0m \u001b[1;33m>\u001b[0m \u001b[1;36m2\u001b[0m\u001b[1;33m:\u001b[0m\u001b[1;33m\u001b[0m\u001b[0m\n\u001b[0;32m    239\u001b[0m             \u001b[1;32mraise\u001b[0m \u001b[0mValueError\u001b[0m\u001b[1;33m(\u001b[0m\u001b[1;34m\"x and y can be no greater than 2-D\"\u001b[0m\u001b[1;33m)\u001b[0m\u001b[1;33m\u001b[0m\u001b[0m\n",
        "\u001b[1;31mValueError\u001b[0m: x and y must have same first dimension"
       ]
      },
      {
       "metadata": {},
       "output_type": "display_data",
       "png": "[encoded data removed]",
       "text": [
        "<matplotlib.figure.Figure at 0xc0c6f98>"
       ]
      }
     ],
     "prompt_number": 53
    },
    {
     "cell_type": "code",
     "collapsed": false,
     "input": [
      "\n",
      "plt.plot(sizes[:len(qs)], qs[:len(sizes)],\n",
      "         sizes[:len(qs)], qs[len(sizes):2*len(sizes)],\n",
      "         sizes[:len(qs)], qs[2*len(sizes):3*len(sizes)])  "
     ],
     "language": "python",
     "metadata": {},
     "outputs": [
      {
       "metadata": {},
       "output_type": "pyout",
       "prompt_number": 54,
       "text": [
        "[<matplotlib.lines.Line2D at 0xd2b5358>,\n",
        " <matplotlib.lines.Line2D at 0xd2b5588>,\n",
        " <matplotlib.lines.Line2D at 0xd2b5b70>]"
       ]
      },
      {
       "metadata": {},
       "output_type": "display_data",
       "png": "[encoded data removed]",
       "text": [
        "<matplotlib.figure.Figure at 0xd310a90>"
       ]
      }
     ],
     "prompt_number": 54
    },
    {
     "cell_type": "code",
     "collapsed": false,
     "input": [
      "bp = np.zeros(26, dtype=int)\n",
      "for i in p:\n",
      "    bp[p[i]] = i\n",
      "q = get_desiredPDF_bigram(bp)\n",
      "print bp\n",
      "print q"
     ],
     "language": "python",
     "metadata": {},
     "outputs": [
      {
       "output_type": "stream",
       "stream": "stdout",
       "text": [
        "[18 21 24  4 19 15  1  3 20 16  2  8  9 23  7 10 12  0 17 11  6 25  5 13 14\n",
        " 22]\n",
        "-56398.5046942\n"
       ]
      }
     ],
     "prompt_number": 52
    },
    {
     "cell_type": "markdown",
     "metadata": {},
     "source": [
      "super.txt "
     ]
    },
    {
     "cell_type": "code",
     "collapsed": false,
     "input": [
      "supertext = read_text_filesize('main/super.txt', 0.25)\n",
      "print supertext[:100]\n",
      "print supertext[140000:140100]"
     ],
     "language": "python",
     "metadata": {},
     "outputs": [
      {
       "output_type": "stream",
       "stream": "stdout",
       "text": [
        "projectgutenbergsetextofshakespearesfirstfolioplaysthisisourrdeditionofmostoftheseplaysseetheindexco\n",
        "owinwordsisawomansonelyvertueipraytheeoutwithtandplaceitforherchiefevertuespitemsheisproudlaoutwitht\n"
       ]
      }
     ],
     "prompt_number": 8
    },
    {
     "cell_type": "markdown",
     "metadata": {},
     "source": [
      "shakespeare!"
     ]
    }
   ],
   "metadata": {}
  }
 ]
}