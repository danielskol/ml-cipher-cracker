{
 "metadata": {
  "name": "",
  "signature": "sha256:68bd50cb90db5a685e1d500806c21a1f0387e547aac091c7fd6fe2e26fd7393a"
 },
 "nbformat": 3,
 "nbformat_minor": 0,
 "worksheets": [
  {
   "cells": [
    {
     "cell_type": "heading",
     "level": 1,
     "metadata": {},
     "source": [
      "read, statistics, quality, crypt, decrypt, Metropolis, likelihood functions:"
     ]
    },
    {
     "cell_type": "code",
     "collapsed": false,
     "input": [
      "import numpy as np\n",
      "import math\n",
      "import matplotlib.pyplot as plt\n",
      "%matplotlib inline\n",
      "import random\n",
      "from numpy.random import rand\n",
      "from copy import copy\n",
      "from __future__ import division\n",
      "import time\n",
      "\n",
      "def read_text_words(filename, wordsnumber):    \n",
      "    with open(filename) as f:\n",
      "        X = f.readlines()\n",
      "        X = X[:wordsnumber]\n",
      "    X = ''.join(X) \n",
      "    X = X.replace('\\n', '') \n",
      "    return X\n",
      "\n",
      "def read_text_filesize(filename, size):\n",
      "    with open(filename) as f:\n",
      "        X = f.read(int(round(1024*1024*size)))\n",
      "    X = X.replace('\\n', '')\n",
      "    return X\n",
      "\n",
      "def get_unigram_stats(text):\n",
      "    length = len(text)\n",
      "    stats = np.zeros(26)\n",
      "    for i in xrange(length):\n",
      "        c = ord(text[i])\n",
      "        stats[c-97]+=1\n",
      "        #97-122\n",
      "    return stats/(length)\n",
      "\n",
      "def get_desiredPDF_unigram(permutation):\n",
      "    logp = 0\n",
      "    for i in xrange(len(encrypted)):\n",
      "        if ord(encrypted[i]) != 123:            \n",
      "            logp += math.log(stats[permutation[ord(encrypted[i])-97]])\n",
      "    return logp\n",
      "\n",
      "def quality(decrypted, original):\n",
      "    l = len(decrypted)\n",
      "    zipped = zip(decrypted, original)    \n",
      "    return sum(1.0 for x,y in zipped if x == y)/l\n",
      "\n",
      "def crypt(text):\n",
      "    p = range(26)\n",
      "    random.shuffle(p)\n",
      "    output=''\n",
      "    for ch in text:\n",
      "            try:\n",
      "                x = ord(ch) - ord('a')\n",
      "                output+=(chr(p[x] + ord('a')))\n",
      "            except:\n",
      "                pass\n",
      "    return output, p\n",
      "\n",
      "def metropolis( desiredPDF, initValue, computableRVS, skipIterations = 1000):\n",
      "    random_variable = initValue\n",
      "    random_variableDensityValue = desiredPDF( random_variable )\n",
      "    \n",
      "    for i in xrange( skipIterations ):\n",
      "        candidate = computableRVS( random_variable )\n",
      "        candidateDensityValue = desiredPDF( candidate )\n",
      "        acceptanceProb = min(0, candidateDensityValue - random_variableDensityValue )\n",
      "        if math.log(random.random()) < acceptanceProb:\n",
      "            random_variable = candidate\n",
      "            random_variableDensityValue = candidateDensityValue\n",
      "   \n",
      "    while True:\n",
      "        candidate = computableRVS( random_variable )\n",
      "        candidateDensityValue = desiredPDF( candidate )\n",
      "    \n",
      "        acceptanceProb = min( 0, candidateDensityValue - random_variableDensityValue )\n",
      "       \n",
      "        if math.log(random.random()) < acceptanceProb:\n",
      "            random_variable = candidate\n",
      "            random_variableDensityValue = candidateDensityValue\n",
      "        yield random_variable, random_variableDensityValue\n",
      "\n",
      "def uniform( n ):\n",
      "    #initialize permutation with identical\n",
      "    permutation = [ i for i in xrange( n ) ]\n",
      "    \n",
      "    #swap ith object with random onject from i to n - 1 enclusively\n",
      "    for i in xrange( n ):\n",
      "        j = random.randint( i, n - 1 )\n",
      "        permutation[ i ], permutation[ j ] = permutation[ j ], permutation[ i ]\n",
      "        \n",
      "    return permutation\n",
      "\n",
      "def applyTransposition( basePermutation ):\n",
      "    n = len( basePermutation )\n",
      "    \n",
      "    permutation = copy( basePermutation )\n",
      "    \n",
      "    #apply n random transpositions (including identical) to base permutation\n",
      "#     for i in xrange( n ):\n",
      "    k, l = random.randint( 0, n - 1 ), random.randint( 0, n - 1 )\n",
      "    permutation[ k ], permutation[ l ] = permutation[ l ], permutation[ k ]\n",
      "        \n",
      "    return  permutation\n",
      "\n",
      "\n",
      "def decrypt(permutation, encrypted):\n",
      "    decrypted = []\n",
      "    for i in encrypted:\n",
      "        decrypted.append(chr(permutation[ord(i)-97]+97))\n",
      "    return ''.join(decrypted)"
     ],
     "language": "python",
     "metadata": {},
     "outputs": [],
     "prompt_number": 6
    },
    {
     "cell_type": "heading",
     "level": 1,
     "metadata": {},
     "source": [
      "Task 3:"
     ]
    },
    {
     "cell_type": "markdown",
     "metadata": {},
     "source": [
      "fixed test text:"
     ]
    },
    {
     "cell_type": "code",
     "collapsed": false,
     "input": [
      "fname = 'main/oliver_twist.txt'\n",
      "original = read_text_words(fname, 5000)[3:]\n",
      "encrypted,p = crypt(original)\n",
      "print encrypted[:20]"
     ],
     "language": "python",
     "metadata": {},
     "outputs": [
      {
       "output_type": "stream",
       "stream": "stdout",
       "text": [
        "uemsvybmwufaumdhmvfm\n"
       ]
      }
     ],
     "prompt_number": 2
    },
    {
     "cell_type": "markdown",
     "metadata": {},
     "source": [
      "vary size of train text (used War and Peace, total 3Mb)"
     ]
    },
    {
     "cell_type": "code",
     "collapsed": false,
     "input": [
      "sizes =  [0.5,1.75,3]\n",
      "qs=[]\n",
      "times = 4\n",
      "for k in xrange(times):\n",
      "    for s in sizes: \n",
      "        train_text = read_text_filesize('main/war_and_peace.txt', s)        \n",
      "        stats = get_unigram_stats(train_text)\n",
      "        init_p = uniform(26)\n",
      "        #Metropolis here\n",
      "        st = time.time()\n",
      "        computableGen = lambda t: applyTransposition(t)\n",
      "        metropolisgenerator = \\\n",
      "            metropolis(get_desiredPDF_unigram, init_p, computableGen, 2500)\n",
      "\n",
      "        y = -float(\"inf\")\n",
      "        for i in xrange( 500 ): #<=========\n",
      "            cand = metropolisgenerator.next() \n",
      "            if (cand[1] > y):\n",
      "                y = cand[1]\n",
      "                x = cand[0]\n",
      "\n",
      "        et =  time.time() - st\n",
      "        print 'metropolis time: ', et\n",
      "\n",
      "        print 'best density among 500 last iterations: ', y\n",
      "        print 'corresponding permutation: ', x\n",
      "\n",
      "        decrypted = decrypt(x, encrypted)\n",
      "        qs.append(quality(decrypted, original))\n",
      "\n",
      "plt.plot(sizes[:len(qs)], qs[:len(sizes)],\n",
      "         sizes[:len(qs)], qs[len(sizes):2*len(sizes)],\n",
      "         sizes[:len(qs)], qs[2*len(sizes):3*len(sizes)],\n",
      "         sizes[:len(qs)], qs[3*len(sizes):4*len(sizes)],) "
     ],
     "language": "python",
     "metadata": {},
     "outputs": [
      {
       "output_type": "stream",
       "stream": "stdout",
       "text": [
        "metropolis time:  57.0709998608\n",
        "best density among 500 last iterations:  -64567.8837648\n",
        "corresponding permutation:  [12, 25, 9, 8, 18, 24, 17, 5, 10, 2, 3, 1, 4, 23, 16, 11, 6, 21, 15, 20, 19, 7, 22, 13, 14, 0]\n",
        "metropolis time: "
       ]
      },
      {
       "output_type": "stream",
       "stream": "stdout",
       "text": [
        " 58.367000103\n",
        "best density among 500 last iterations:  -64581.9989541\n",
        "corresponding permutation:  [12, 16, 9, 8, 18, 1, 17, 24, 10, 22, 3, 15, 4, 23, 25, 11, 5, 21, 6, 20, 19, 7, 2, 13, 14, 0]\n",
        "metropolis time: "
       ]
      },
      {
       "output_type": "stream",
       "stream": "stdout",
       "text": [
        " 56.8069999218\n",
        "best density among 500 last iterations:  -64581.7243843\n",
        "corresponding permutation:  [20, 25, 9, 8, 18, 15, 17, 6, 10, 22, 3, 1, 4, 23, 16, 11, 5, 21, 24, 2, 19, 7, 12, 13, 14, 0]\n",
        "metropolis time: "
       ]
      },
      {
       "output_type": "stream",
       "stream": "stdout",
       "text": [
        " 54.2109999657\n",
        "best density among 500 last iterations:  -64567.4881177\n",
        "corresponding permutation:  [20, 16, 9, 8, 18, 24, 17, 6, 10, 22, 3, 1, 4, 23, 25, 11, 5, 21, 15, 12, 19, 7, 2, 13, 14, 0]\n",
        "metropolis time: "
       ]
      },
      {
       "output_type": "stream",
       "stream": "stdout",
       "text": [
        " 56.5490000248\n",
        "best density among 500 last iterations:  -64580.1999932\n",
        "corresponding permutation:  [20, 16, 9, 8, 18, 15, 17, 6, 10, 2, 3, 1, 4, 23, 25, 11, 5, 21, 24, 12, 19, 7, 22, 13, 14, 0]\n",
        "metropolis time: "
       ]
      },
      {
       "output_type": "stream",
       "stream": "stdout",
       "text": [
        " 54.9630000591\n",
        "best density among 500 last iterations:  -64581.9348514\n",
        "corresponding permutation:  [12, 16, 9, 8, 18, 15, 17, 24, 10, 22, 3, 1, 4, 23, 25, 11, 5, 21, 6, 20, 19, 7, 2, 13, 14, 0]\n",
        "metropolis time: "
       ]
      },
      {
       "output_type": "stream",
       "stream": "stdout",
       "text": [
        " 55.8289999962\n",
        "best density among 500 last iterations:  -64566.8781372\n",
        "corresponding permutation:  [20, 16, 9, 8, 18, 15, 17, 6, 10, 22, 3, 1, 4, 23, 25, 11, 5, 21, 24, 2, 19, 7, 12, 13, 14, 0]\n",
        "metropolis time: "
       ]
      },
      {
       "output_type": "stream",
       "stream": "stdout",
       "text": [
        " 62.4309999943\n",
        "best density among 500 last iterations:  -64581.9558181\n",
        "corresponding permutation:  [20, 16, 9, 8, 18, 24, 17, 6, 10, 2, 3, 1, 4, 23, 25, 11, 15, 21, 5, 12, 19, 7, 22, 13, 14, 0]\n",
        "metropolis time: "
       ]
      },
      {
       "output_type": "stream",
       "stream": "stdout",
       "text": [
        " 56.743999958\n",
        "best density among 500 last iterations:  -64583.5600176\n",
        "corresponding permutation:  [12, 25, 9, 8, 18, 24, 17, 15, 10, 20, 3, 1, 4, 23, 16, 11, 5, 21, 6, 2, 19, 7, 22, 13, 14, 0]\n",
        "metropolis time: "
       ]
      },
      {
       "output_type": "stream",
       "stream": "stdout",
       "text": [
        " 56.9989998341\n",
        "best density among 500 last iterations:  -64565.9485114\n",
        "corresponding permutation:  [20, 25, 9, 8, 18, 15, 17, 24, 10, 22, 3, 1, 4, 23, 16, 11, 6, 21, 5, 2, 19, 7, 12, 13, 14, 0]\n",
        "metropolis time: "
       ]
      },
      {
       "output_type": "stream",
       "stream": "stdout",
       "text": [
        " 59.5310001373\n",
        "best density among 500 last iterations:  -64580.6787243\n",
        "corresponding permutation:  [20, 16, 9, 8, 18, 15, 17, 6, 10, 12, 3, 1, 4, 23, 25, 11, 5, 21, 24, 2, 19, 7, 22, 13, 14, 0]\n",
        "metropolis time: "
       ]
      },
      {
       "output_type": "stream",
       "stream": "stdout",
       "text": [
        " 58.763999939\n",
        "best density among 500 last iterations:  -64582.4341347\n",
        "corresponding permutation:  [20, 25, 9, 8, 7, 15, 17, 6, 10, 22, 3, 1, 4, 23, 16, 11, 5, 21, 24, 2, 19, 18, 12, 13, 14, 0]\n"
       ]
      },
      {
       "metadata": {},
       "output_type": "pyout",
       "prompt_number": 7,
       "text": [
        "[<matplotlib.lines.Line2D at 0xaa2b470>,\n",
        " <matplotlib.lines.Line2D at 0x3ecbeb8>,\n",
        " <matplotlib.lines.Line2D at 0xaa2bc50>,\n",
        " <matplotlib.lines.Line2D at 0xaa9a208>]"
       ]
      },
      {
       "metadata": {},
       "output_type": "display_data",
       "png": "[encoded data removed]",
       "text": [
        "<matplotlib.figure.Figure at 0x3f35080>"
       ]
      }
     ],
     "prompt_number": 7
    },
    {
     "cell_type": "markdown",
     "metadata": {},
     "source": [
      "we can see clearly unigram quality is not as good as bigram (which is expected). let's try with shakespeare:"
     ]
    },
    {
     "cell_type": "code",
     "collapsed": false,
     "input": [
      "sizes =  [4,8,16,32,64]\n",
      "qs=[]\n",
      "times = 4\n",
      "for k in xrange(times):\n",
      "    for s in sizes: \n",
      "        train_text = read_text_filesize('main/super.txt', s)        \n",
      "        stats = get_unigram_stats(train_text)\n",
      "        init_p = uniform(26)\n",
      "        #Metropolis here\n",
      "        st = time.time()\n",
      "        computableGen = lambda t: applyTransposition(t)\n",
      "        metropolisgenerator = \\\n",
      "            metropolis(get_desiredPDF_unigram, init_p, computableGen, 2500)\n",
      "\n",
      "        y = -float(\"inf\")\n",
      "        for i in xrange( 500 ): #<=========\n",
      "            cand = metropolisgenerator.next() \n",
      "            if (cand[1] > y):\n",
      "                y = cand[1]\n",
      "                x = cand[0]\n",
      "\n",
      "        et =  time.time() - st \n",
      "        print 'train text size: ', s \n",
      "        print 'metropolis time: ', et\n",
      "\n",
      "        print 'best density among 500 last iterations: ', y\n",
      "        print 'corresponding permutation: ', x\n",
      "\n",
      "        decrypted = decrypt(x, encrypted)\n",
      "        qs.append(quality(decrypted, original))\n",
      "\n",
      "plt.plot(sizes[:len(qs)], qs[:len(sizes)],\n",
      "         sizes[:len(qs)], qs[len(sizes):2*len(sizes)],\n",
      "         sizes[:len(qs)], qs[2*len(sizes):3*len(sizes)],\n",
      "         sizes[:len(qs)], qs[3*len(sizes):4*len(sizes)],) "
     ],
     "language": "python",
     "metadata": {},
     "outputs": [
      {
       "output_type": "stream",
       "stream": "stdout",
       "text": [
        "train text size:  4\n",
        "metropolis time:  58.9590001106\n",
        "best density among 500 last iterations:  -64712.7424571\n",
        "corresponding permutation:  [3, 25, 16, 7, 17, 1, 13, 6, 21, 24, 11, 15, 4, 23, 9, 20, 2, 10, 5, 12, 19, 18, 22, 8, 0, 14]\n",
        "train text size: "
       ]
      },
      {
       "output_type": "stream",
       "stream": "stdout",
       "text": [
        " 8\n",
        "metropolis time:  57.4759998322\n",
        "best density among 500 last iterations:  -64631.8807829\n",
        "corresponding permutation:  [20, 9, 16, 13, 18, 1, 17, 6, 21, 22, 11, 15, 4, 23, 25, 3, 24, 10, 5, 12, 19, 7, 2, 8, 0, 14]\n",
        "train text size: "
       ]
      },
      {
       "output_type": "stream",
       "stream": "stdout",
       "text": [
        " 16\n",
        "metropolis time:  59.2220001221\n",
        "best density among 500 last iterations:  -64610.4898416\n",
        "corresponding permutation:  [20, 16, 9, 8, 18, 15, 17, 6, 10, 22, 11, 1, 4, 23, 25, 3, 5, 21, 24, 2, 19, 7, 12, 13, 14, 0]\n",
        "train text size: "
       ]
      },
      {
       "output_type": "stream",
       "stream": "stdout",
       "text": [
        " 32\n",
        "metropolis time:  56.9309999943\n",
        "best density among 500 last iterations:  -64574.3335476\n",
        "corresponding permutation:  [20, 16, 9, 8, 7, 15, 17, 22, 10, 5, 11, 1, 4, 23, 25, 3, 24, 21, 6, 12, 19, 18, 2, 13, 14, 0]\n",
        "train text size: "
       ]
      },
      {
       "output_type": "stream",
       "stream": "stdout",
       "text": [
        " 64\n",
        "metropolis time:  60.0520000458\n",
        "best density among 500 last iterations:  -64573.8447435\n",
        "corresponding permutation:  [12, 16, 9, 8, 18, 15, 17, 6, 10, 5, 3, 1, 4, 23, 25, 11, 22, 21, 24, 20, 19, 7, 2, 13, 14, 0]\n",
        "train text size: "
       ]
      },
      {
       "output_type": "stream",
       "stream": "stdout",
       "text": [
        " 4\n",
        "metropolis time:  58.4760000706\n",
        "best density among 500 last iterations:  -64712.9998288\n",
        "corresponding permutation:  [3, 25, 16, 7, 18, 1, 13, 5, 21, 22, 11, 15, 4, 23, 9, 20, 2, 10, 6, 12, 19, 17, 24, 8, 0, 14]\n",
        "train text size: "
       ]
      },
      {
       "output_type": "stream",
       "stream": "stdout",
       "text": [
        " 8\n",
        "metropolis time:  56.1559998989\n",
        "best density among 500 last iterations:  -64632.7758466\n",
        "corresponding permutation:  [20, 9, 16, 13, 18, 1, 17, 5, 21, 2, 11, 15, 4, 23, 25, 3, 24, 10, 6, 12, 19, 7, 22, 8, 0, 14]\n",
        "train text size: "
       ]
      },
      {
       "output_type": "stream",
       "stream": "stdout",
       "text": [
        " 16\n",
        "metropolis time:  59.0520000458\n",
        "best density among 500 last iterations:  -64610.5917624\n",
        "corresponding permutation:  [20, 9, 16, 8, 18, 1, 17, 6, 10, 22, 11, 15, 4, 23, 25, 3, 5, 21, 24, 12, 19, 7, 2, 13, 14, 0]\n",
        "train text size: "
       ]
      },
      {
       "output_type": "stream",
       "stream": "stdout",
       "text": [
        " 32\n",
        "metropolis time:  59.6920001507\n",
        "best density among 500 last iterations:  -64573.0306311\n",
        "corresponding permutation:  [20, 16, 9, 8, 7, 15, 17, 6, 10, 5, 11, 1, 4, 23, 25, 3, 22, 21, 24, 2, 19, 18, 12, 13, 14, 0]\n",
        "train text size: "
       ]
      },
      {
       "output_type": "stream",
       "stream": "stdout",
       "text": [
        " 64\n",
        "metropolis time:  54.6919999123\n",
        "best density among 500 last iterations:  -64574.8570277\n",
        "corresponding permutation:  [12, 16, 9, 8, 18, 24, 17, 15, 10, 5, 3, 1, 4, 23, 25, 11, 22, 21, 6, 20, 19, 7, 2, 13, 14, 0]\n",
        "train text size: "
       ]
      },
      {
       "output_type": "stream",
       "stream": "stdout",
       "text": [
        " 4\n",
        "metropolis time:  59.1819999218\n",
        "best density among 500 last iterations:  -64713.1527229\n",
        "corresponding permutation:  [3, 25, 16, 17, 18, 1, 13, 6, 21, 22, 11, 15, 4, 23, 9, 20, 2, 10, 5, 12, 19, 7, 24, 8, 0, 14]\n",
        "train text size: "
       ]
      },
      {
       "output_type": "stream",
       "stream": "stdout",
       "text": [
        " 8\n",
        "metropolis time:  58.1790001392\n",
        "best density among 500 last iterations:  -64631.8829798\n",
        "corresponding permutation:  [20, 9, 16, 13, 18, 15, 17, 24, 21, 22, 11, 1, 4, 23, 25, 3, 5, 10, 6, 12, 19, 7, 2, 8, 0, 14]\n",
        "train text size: "
       ]
      },
      {
       "output_type": "stream",
       "stream": "stdout",
       "text": [
        " 16\n",
        "metropolis time:  56.760999918\n",
        "best density among 500 last iterations:  -64611.3177819\n",
        "corresponding permutation:  [12, 16, 9, 8, 18, 15, 17, 24, 10, 22, 3, 1, 4, 23, 25, 11, 5, 21, 6, 20, 19, 7, 2, 13, 14, 0]\n",
        "train text size: "
       ]
      },
      {
       "output_type": "stream",
       "stream": "stdout",
       "text": [
        " 32\n",
        "metropolis time:  58.6629998684\n",
        "best density among 500 last iterations:  -64573.7471185\n",
        "corresponding permutation:  [12, 16, 9, 8, 7, 15, 17, 24, 10, 5, 3, 1, 4, 23, 25, 11, 22, 21, 6, 20, 19, 18, 2, 13, 14, 0]\n",
        "train text size: "
       ]
      },
      {
       "output_type": "stream",
       "stream": "stdout",
       "text": [
        " 64\n",
        "metropolis time:  57.3109998703\n",
        "best density among 500 last iterations:  -64573.6471902\n",
        "corresponding permutation:  [12, 16, 9, 8, 7, 15, 17, 24, 10, 5, 3, 1, 4, 23, 25, 11, 22, 21, 6, 20, 19, 18, 2, 13, 14, 0]\n",
        "train text size: "
       ]
      },
      {
       "output_type": "stream",
       "stream": "stdout",
       "text": [
        " 4\n",
        "metropolis time:  57.995000124\n",
        "best density among 500 last iterations:  -64712.9344728\n",
        "corresponding permutation:  [3, 25, 16, 7, 18, 6, 13, 1, 21, 24, 11, 15, 4, 23, 9, 20, 2, 10, 5, 12, 19, 17, 22, 8, 0, 14]\n",
        "train text size: "
       ]
      },
      {
       "output_type": "stream",
       "stream": "stdout",
       "text": [
        " 8\n",
        "metropolis time:  55.9140000343\n",
        "best density among 500 last iterations:  -64633.210548\n",
        "corresponding permutation:  [2, 9, 16, 13, 18, 1, 17, 6, 21, 22, 11, 15, 4, 23, 25, 3, 5, 10, 24, 20, 19, 7, 12, 8, 0, 14]\n",
        "train text size: "
       ]
      },
      {
       "output_type": "stream",
       "stream": "stdout",
       "text": [
        " 16\n",
        "metropolis time:  56.9179999828\n",
        "best density among 500 last iterations:  -64610.9606155\n",
        "corresponding permutation:  [20, 16, 9, 8, 18, 1, 17, 24, 10, 2, 11, 15, 4, 23, 25, 3, 5, 21, 6, 12, 19, 7, 22, 13, 14, 0]\n",
        "train text size: "
       ]
      },
      {
       "output_type": "stream",
       "stream": "stdout",
       "text": [
        " 32\n",
        "metropolis time:  56.7839999199\n",
        "best density among 500 last iterations:  -64575.5593928\n",
        "corresponding permutation:  [20, 16, 9, 13, 7, 24, 17, 15, 10, 5, 3, 1, 4, 23, 25, 11, 22, 21, 6, 12, 19, 18, 2, 8, 14, 0]\n",
        "train text size: "
       ]
      },
      {
       "output_type": "stream",
       "stream": "stdout",
       "text": [
        " 64\n",
        "metropolis time:  57.5930001736\n",
        "best density among 500 last iterations:  -64575.1419616\n",
        "corresponding permutation:  [20, 16, 9, 8, 7, 1, 17, 24, 10, 2, 3, 15, 4, 23, 25, 11, 6, 21, 22, 12, 19, 18, 5, 13, 14, 0]\n"
       ]
      },
      {
       "metadata": {},
       "output_type": "pyout",
       "prompt_number": 8,
       "text": [
        "[<matplotlib.lines.Line2D at 0xb42ccc0>,\n",
        " <matplotlib.lines.Line2D at 0xb42cef0>,\n",
        " <matplotlib.lines.Line2D at 0xb43a4e0>,\n",
        " <matplotlib.lines.Line2D at 0xb43aa58>]"
       ]
      },
      {
       "metadata": {},
       "output_type": "display_data",
       "png": "[encoded data removed]",
       "text": [
        "<matplotlib.figure.Figure at 0xab619e8>"
       ]
      }
     ],
     "prompt_number": 8
    },
    {
     "cell_type": "code",
     "collapsed": false,
     "input": [
      "\n",
      "plt.plot(sizes[:len(qs)], qs[:len(sizes)],\n",
      "         sizes[:len(qs)], qs[len(sizes):2*len(sizes)],\n",
      "         sizes[:len(qs)], qs[2*len(sizes):3*len(sizes)],\n",
      "         sizes[:len(qs)], qs[3*len(sizes):4*len(sizes)],)\n",
      "plt.xlabel('size, MB')\n",
      "plt.ylabel('quality')"
     ],
     "language": "python",
     "metadata": {},
     "outputs": [
      {
       "metadata": {},
       "output_type": "pyout",
       "prompt_number": 10,
       "text": [
        "<matplotlib.text.Text at 0xb755d30>"
       ]
      },
      {
       "metadata": {},
       "output_type": "display_data",
       "png": "[encoded data removed]",
       "text": [
        "<matplotlib.figure.Figure at 0xb5ae668>"
       ]
      }
     ],
     "prompt_number": 10
    },
    {
     "cell_type": "code",
     "collapsed": false,
     "input": [],
     "language": "python",
     "metadata": {},
     "outputs": []
    }
   ],
   "metadata": {}
  }
 ]
}