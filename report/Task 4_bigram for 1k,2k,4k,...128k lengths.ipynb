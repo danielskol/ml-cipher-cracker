{
 "metadata": {
  "name": "",
  "signature": "sha256:72cde075b3ee84b8b9efa701c517f56669f105bc60c06088a3f34811797ef77f"
 },
 "nbformat": 3,
 "nbformat_minor": 0,
 "worksheets": [
  {
   "cells": [
    {
     "cell_type": "heading",
     "level": 4,
     "metadata": {},
     "source": [
      "read, statistics, quality, crypt, decrypt, Metropolis, likelihood functions:"
     ]
    },
    {
     "cell_type": "code",
     "collapsed": false,
     "input": [
      "import numpy as np\n",
      "import math\n",
      "import matplotlib.pyplot as plt\n",
      "%matplotlib inline\n",
      "import random\n",
      "from numpy.random import rand\n",
      "from copy import copy\n",
      "from __future__ import division\n",
      "import time\n",
      "\n",
      "def read_text_whole(filename):\n",
      "    with open(filename, 'r') as f:\n",
      "        X = ''.join(f.readlines()).replace('\\n', '')\n",
      "    return X\n",
      "\n",
      "def read_text_words(filename, wordsnumber):    \n",
      "    with open(filename) as f:\n",
      "        X = f.readlines()\n",
      "        X = X[:wordsnumber]\n",
      "    X = ''.join(X) \n",
      "    X = X.replace('\\n', '') \n",
      "    return X\n",
      "\n",
      "def read_text_filesize(filename, size):\n",
      "    with open(filename) as f:\n",
      "        X = f.read(1024*1024*size)\n",
      "    X = X.replace('\\n', '')\n",
      "    return X\n",
      "\n",
      "def get_unicount(text):\n",
      "    length = len(text)\n",
      "    counts = np.zeros(26)\n",
      "    for i in xrange(length):\n",
      "        c = ord(text[i])\n",
      "        counts[c-97]+=1\n",
      "        #97-122 \n",
      "    return counts\n",
      "\n",
      "def get_bigram_stats_dic(text):        \n",
      "    length = len(text)\n",
      "    dic = {}\n",
      "    for i in 'abcdefghijklmnopqrstuvwxyz':\n",
      "        for j in 'abcdefghijklmnopqrstuvwxyz':\n",
      "            dic[(i,j)]=0\n",
      "\n",
      "    for i in xrange(length-1):                   \n",
      "        if (text[i], text[i+1]) in dic:\n",
      "            dic[(text[i], text[i+1])] += 1\n",
      "            \n",
      "    for k,v in dic.items():        \n",
      "        dic[k] = v/(counts[ord(k[0])-97])\n",
      "    return dic\n",
      "\n",
      "def quality(decrypted, original):\n",
      "    l = len(decrypted)\n",
      "    zipped = zip(decrypted, original)    \n",
      "    return sum(1.0 for x,y in zipped if x == y)/l\n",
      "\n",
      "def crypt(text):\n",
      "    p = range(26)\n",
      "    random.shuffle(p)\n",
      "    output=''\n",
      "    for ch in text:\n",
      "            try:\n",
      "                x = ord(ch) - ord('a')\n",
      "                output+=(chr(p[x] + ord('a')))\n",
      "            except:\n",
      "                pass\n",
      "    return output, p\n",
      "\n",
      "def get_desiredPDF_bigram(permutation):\n",
      "    logp = 0\n",
      "    for i in xrange(len(encrypted)-1):         \n",
      "        pr = stats[chr(permutation[ord(encrypted[i])-97]+97), \n",
      "                   chr(permutation[ord(encrypted[i+1])-97]+97)]\n",
      "        if pr>0:\n",
      "            logp += math.log(pr)\n",
      "        else:\n",
      "            logp += -9 #penalty for non existant pairs\n",
      "    return logp\n",
      "\n",
      "def metropolis( desiredPDF, initValue, computableRVS, skipIterations = 1000):\n",
      "    random_variable = initValue\n",
      "    random_variableDensityValue = desiredPDF( random_variable )\n",
      "    \n",
      "    for i in xrange( skipIterations ):\n",
      "        candidate = computableRVS( random_variable )\n",
      "        candidateDensityValue = desiredPDF( candidate )\n",
      "        acceptanceProb = min(0, candidateDensityValue - random_variableDensityValue )\n",
      "        if math.log(random.random()) < acceptanceProb:\n",
      "            random_variable = candidate\n",
      "            random_variableDensityValue = candidateDensityValue\n",
      "   \n",
      "    while True:\n",
      "        candidate = computableRVS( random_variable )\n",
      "        candidateDensityValue = desiredPDF( candidate )\n",
      "    \n",
      "        acceptanceProb = min( 0, candidateDensityValue - random_variableDensityValue )\n",
      "       \n",
      "        if math.log(random.random()) < acceptanceProb:\n",
      "            random_variable = candidate\n",
      "            random_variableDensityValue = candidateDensityValue\n",
      "        yield random_variable, random_variableDensityValue\n",
      "\n",
      "def uniform( n ):\n",
      "    #initialize permutation with identical\n",
      "    permutation = [ i for i in xrange( n ) ]\n",
      "    \n",
      "    #swap ith object with random onject from i to n - 1 enclusively\n",
      "    for i in xrange( n ):\n",
      "        j = random.randint( i, n - 1 )\n",
      "        permutation[ i ], permutation[ j ] = permutation[ j ], permutation[ i ]\n",
      "        \n",
      "    return permutation\n",
      "\n",
      "def applyTransposition( basePermutation ):\n",
      "    n = len( basePermutation )\n",
      "    \n",
      "    permutation = copy( basePermutation )\n",
      "    \n",
      "    #apply n random transpositions (including identical) to base permutation\n",
      "#     for i in xrange( n ):\n",
      "    k, l = random.randint( 0, n - 1 ), random.randint( 0, n - 1 )\n",
      "    permutation[ k ], permutation[ l ] = permutation[ l ], permutation[ k ]\n",
      "        \n",
      "    return  permutation\n",
      "\n",
      "def decrypt(permutation, encrypted):\n",
      "    decrypted = []\n",
      "    for i in encrypted:\n",
      "        decrypted.append(chr(permutation[ord(i)-97]+97))\n",
      "    return ''.join(decrypted)"
     ],
     "language": "python",
     "metadata": {},
     "outputs": [],
     "prompt_number": 6
    },
    {
     "cell_type": "heading",
     "level": 1,
     "metadata": {},
     "source": [
      "Task 4:"
     ]
    },
    {
     "cell_type": "markdown",
     "metadata": {},
     "source": [
      "crypt with given permutation:"
     ]
    },
    {
     "cell_type": "code",
     "collapsed": false,
     "input": [
      "def crypt_given(permutation, text):    \n",
      "    output=''\n",
      "#     p.append(26)\n",
      "    for ch in text:\n",
      "            try:\n",
      "                x = ord(ch) - ord('a')\n",
      "                output+=(chr(permutation[x] + ord('a')))\n",
      "            except:\n",
      "                pass\n",
      "    return output"
     ],
     "language": "python",
     "metadata": {},
     "outputs": [],
     "prompt_number": 7
    },
    {
     "cell_type": "markdown",
     "metadata": {},
     "source": [
      "fixed training text (War and Peace):"
     ]
    },
    {
     "cell_type": "code",
     "collapsed": false,
     "input": [
      "train_text = read_text_whole('main/war_and_peace.txt')\n",
      "counts = get_unicount(train_text)\n",
      "stats = get_bigram_stats_dic(train_text)\n"
     ],
     "language": "python",
     "metadata": {},
     "outputs": [],
     "prompt_number": 9
    },
    {
     "cell_type": "markdown",
     "metadata": {},
     "source": [
      "vary size of train text (used War and Peace, total 3Mb)"
     ]
    },
    {
     "cell_type": "code",
     "collapsed": false,
     "input": [
      "sizes =  [1000,2000,4000,8000,16000,32000,64000,128000]\n",
      "qs = list()\n",
      "fixed_permutation = uniform(26)\n",
      "for s in sizes:   \n",
      "    print 'size of encrypted text: ',s\n",
      "    original = read_text_words('main/oliver_twist.txt', s)[3:]\n",
      "    encrypted = crypt_given(fixed_permutation, original)\n",
      "    init_p = uniform(26)\n",
      "    #Metropolis here\n",
      "    st = time.time()\n",
      "    computableGen = lambda t: applyTransposition(t)\n",
      "    metropolisgenerator = \\\n",
      "        metropolis(get_desiredPDF_bigram, init_p, computableGen, 1500)\n",
      "        \n",
      "    y = float('-inf')\n",
      "    for i in xrange( 1000 ):\n",
      "        cand = metropolisgenerator.next() \n",
      "        if (cand[1] > y):\n",
      "            y = cand[1]\n",
      "            x = cand[0]\n",
      "\n",
      "    et =  time.time() - st\n",
      "    print 'metropolis time: ', et\n",
      "        \n",
      "    print 'best density among 1000 last iterations: ', y\n",
      "    print 'corresponding permutation: ', x\n",
      "        \n",
      "    decrypted = decrypt(x, encrypted)\n",
      "    qs.append(quality(decrypted, original))\n",
      "\n",
      "plt.plot(sizes[:len(qs)], qs)"
     ],
     "language": "python",
     "metadata": {},
     "outputs": [
      {
       "output_type": "stream",
       "stream": "stdout",
       "text": [
        "size of encrypted text:  1000\n",
        "metropolis time: "
       ]
      },
      {
       "output_type": "stream",
       "stream": "stdout",
       "text": [
        " 35.6748039722\n",
        "best density among 1000 last iterations:  -12634.9801002\n",
        "corresponding permutation:  [22, 24, 7, 10, 5, 13, 2, 17, 1, 19, 16, 8, 21, 23, 20, 25, 0, 4, 18, 11, 14, 9, 12, 3, 6, 15]\n",
        "size of encrypted text:  2000\n",
        "metropolis time: "
       ]
      },
      {
       "output_type": "stream",
       "stream": "stdout",
       "text": [
        " 70.1986711025\n",
        "best density among 1000 last iterations:  -23482.4403826\n",
        "corresponding permutation:  [22, 24, 7, 5, 23, 13, 2, 17, 1, 19, 16, 8, 21, 25, 20, 10, 0, 4, 18, 11, 14, 9, 12, 3, 6, 15]\n",
        "size of encrypted text:  4000\n",
        "metropolis time: "
       ]
      },
      {
       "output_type": "stream",
       "stream": "stdout",
       "text": [
        " 132.329380989\n",
        "best density among 1000 last iterations:  -55905.3265833\n",
        "corresponding permutation:  [6, 10, 13, 5, 23, 7, 22, 17, 1, 8, 9, 3, 12, 16, 0, 21, 19, 4, 18, 11, 14, 25, 15, 24, 20, 2]\n",
        "size of encrypted text:  8000\n",
        "metropolis time: "
       ]
      },
      {
       "output_type": "stream",
       "stream": "stdout",
       "text": [
        " 261.615154028\n",
        "best density among 1000 last iterations:  -89693.449803\n",
        "corresponding permutation:  [22, 24, 7, 5, 23, 13, 2, 17, 1, 19, 16, 8, 21, 25, 20, 10, 0, 4, 18, 11, 14, 9, 12, 3, 6, 15]\n",
        "size of encrypted text: "
       ]
      },
      {
       "output_type": "stream",
       "stream": "stdout",
       "text": [
        " 16000\n",
        "metropolis time: "
       ]
      },
      {
       "output_type": "stream",
       "stream": "stdout",
       "text": [
        " 558.243676901\n",
        "best density among 1000 last iterations:  -177140.316335\n",
        "corresponding permutation:  [22, 24, 7, 5, 23, 13, 2, 17, 1, 19, 16, 8, 21, 25, 20, 10, 0, 4, 18, 11, 14, 9, 12, 3, 6, 15]\n",
        "size of encrypted text: "
       ]
      },
      {
       "output_type": "stream",
       "stream": "stdout",
       "text": [
        " 32000\n",
        "metropolis time: "
       ]
      },
      {
       "output_type": "stream",
       "stream": "stdout",
       "text": [
        " 1014.72146583\n",
        "best density among 1000 last iterations:  -349751.654302\n",
        "corresponding permutation:  [22, 24, 7, 5, 23, 13, 2, 17, 1, 19, 16, 8, 21, 25, 20, 10, 0, 4, 18, 11, 14, 9, 12, 3, 6, 15]\n",
        "size of encrypted text: "
       ]
      },
      {
       "output_type": "stream",
       "stream": "stdout",
       "text": [
        " 64000\n",
        "metropolis time: "
       ]
      },
      {
       "output_type": "stream",
       "stream": "stdout",
       "text": [
        " 2261.47678995\n",
        "best density among 1000 last iterations:  -699311.590259\n",
        "corresponding permutation:  [22, 24, 7, 5, 23, 13, 2, 17, 1, 19, 16, 8, 10, 25, 20, 21, 0, 4, 18, 11, 14, 9, 12, 3, 6, 15]\n",
        "size of encrypted text: "
       ]
      },
      {
       "output_type": "stream",
       "stream": "stdout",
       "text": [
        " 128000\n",
        "metropolis time: "
       ]
      },
      {
       "output_type": "stream",
       "stream": "stdout",
       "text": [
        " 4571.27480602\n",
        "best density among 1000 last iterations:  -1381820.9484\n",
        "corresponding permutation:  [22, 24, 7, 5, 23, 13, 2, 17, 1, 19, 16, 8, 21, 25, 20, 10, 0, 4, 18, 11, 14, 9, 12, 3, 6, 15]\n"
       ]
      },
      {
       "metadata": {},
       "output_type": "pyout",
       "prompt_number": 12,
       "text": [
        "[<matplotlib.lines.Line2D at 0xad9da02c>]"
       ]
      },
      {
       "metadata": {},
       "output_type": "display_data",
       "png": "[encoded data removed]",
       "text": [
        "<matplotlib.figure.Figure at 0xaf0c3f0c>"
       ]
      }
     ],
     "prompt_number": 12
    },
    {
     "cell_type": "markdown",
     "metadata": {},
     "source": [
      "compare war and peace and shakespeare as training sets"
     ]
    },
    {
     "cell_type": "code",
     "collapsed": false,
     "input": [],
     "language": "python",
     "metadata": {},
     "outputs": []
    }
   ],
   "metadata": {}
  }
 ]
}