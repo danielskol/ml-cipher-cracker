{
 "metadata": {
  "name": "",
  "signature": "sha256:a8a0f79b2bac66eb058b5e57d037d77c86cc96cddd5e076f3b3600183eb74487"
 },
 "nbformat": 3,
 "nbformat_minor": 0,
 "worksheets": [
  {
   "cells": [
    {
     "cell_type": "heading",
     "level": 4,
     "metadata": {},
     "source": [
      "read, statistics, quality, crypt, decrypt, Metropolis, likelihood functions:"
     ]
    },
    {
     "cell_type": "code",
     "collapsed": false,
     "input": [
      "import numpy as np\n",
      "import math\n",
      "import matplotlib.pyplot as plt\n",
      "%matplotlib inline\n",
      "import random\n",
      "from numpy.random import rand\n",
      "from copy import copy\n",
      "from __future__ import division\n",
      "import time\n",
      "\n",
      "def read_text_words(filename, wordsnumber):    \n",
      "    with open(filename) as f:\n",
      "        X = f.readlines()\n",
      "        X = X[:wordsnumber]\n",
      "    X = ''.join(X) \n",
      "    X = X.replace('\\n', '') \n",
      "    return X\n",
      "def read_text_filesize(filename, size):\n",
      "    with open(filename) as f:\n",
      "        X = f.read(int(round(1024*1024*size)))\n",
      "    X = X.replace('\\n', '')\n",
      "    return X\n",
      "\n",
      "def get_unigram_stats(text):\n",
      "    length = len(text)\n",
      "    stats = np.zeros(27)\n",
      "    for i in xrange(length):\n",
      "        c = ord(text[i])\n",
      "        stats[c-97]+=1\n",
      "    stats = stats[:26]\n",
      "    return stats/length\n",
      "\n",
      "def get_desiredPDF_unigram(permutation):\n",
      "    logp = 0\n",
      "    for i in xrange(len(encrypted)):\n",
      "        if ord(encrypted[i]) != 123:            \n",
      "            logp += math.log(stats[permutation[ord(encrypted[i])-97]])\n",
      "    return logp\n",
      "\n",
      "def quality(decrypted, original):\n",
      "    l = len(decrypted)\n",
      "    zipped = zip(decrypted, original)    \n",
      "    return sum(1.0 for x,y in zipped if x == y)/l\n",
      "\n",
      "def crypt(text):\n",
      "    p = range(26)\n",
      "    random.shuffle(p)\n",
      "    output=''\n",
      "    for ch in text:\n",
      "            try:\n",
      "                x = ord(ch) - ord('a')\n",
      "                output+=(chr(p[x] + ord('a')))\n",
      "            except:\n",
      "                pass\n",
      "    return output, p\n",
      "\n",
      "def metropolis( desiredPDF, initValue, computableRVS, skipIterations = 1000):\n",
      "    random_variable = initValue\n",
      "    random_variableDensityValue = desiredPDF( random_variable )\n",
      "    \n",
      "    for i in xrange( skipIterations ):\n",
      "        candidate = computableRVS( random_variable )\n",
      "        candidateDensityValue = desiredPDF( candidate )\n",
      "        acceptanceProb = min(0, candidateDensityValue - random_variableDensityValue )\n",
      "        if math.log(random.random()) < acceptanceProb:\n",
      "            random_variable = candidate\n",
      "            random_variableDensityValue = candidateDensityValue\n",
      "   \n",
      "    while True:\n",
      "        candidate = computableRVS( random_variable )\n",
      "        candidateDensityValue = desiredPDF( candidate )\n",
      "    \n",
      "        acceptanceProb = min( 0, candidateDensityValue - random_variableDensityValue )\n",
      "       \n",
      "        if math.log(random.random()) < acceptanceProb:\n",
      "            random_variable = candidate\n",
      "            random_variableDensityValue = candidateDensityValue\n",
      "        yield random_variable, random_variableDensityValue\n",
      "\n",
      "def uniform( n ):\n",
      "    #initialize permutation with identical\n",
      "    permutation = [ i for i in xrange( n ) ]\n",
      "    \n",
      "    #swap ith object with random onject from i to n - 1 enclusively\n",
      "    for i in xrange( n ):\n",
      "        j = random.randint( i, n - 1 )\n",
      "        permutation[ i ], permutation[ j ] = permutation[ j ], permutation[ i ]\n",
      "        \n",
      "    return permutation\n",
      "\n",
      "def applyTransposition( basePermutation ):\n",
      "    n = len( basePermutation )\n",
      "    \n",
      "    permutation = copy( basePermutation )\n",
      "    \n",
      "    #apply n random transpositions (including identical) to base permutation\n",
      "#     for i in xrange( n ):\n",
      "    k, l = random.randint( 0, n - 1 ), random.randint( 0, n - 1 )\n",
      "    permutation[ k ], permutation[ l ] = permutation[ l ], permutation[ k ]\n",
      "        \n",
      "    return  permutation\n",
      "\n",
      "def decrypt(permutation, encrypted):\n",
      "    decrypted = []\n",
      "    for i in encrypted:\n",
      "        decrypted.append(chr(permutation[ord(i)-97]+97))\n",
      "    return ''.join(decrypted)"
     ],
     "language": "python",
     "metadata": {},
     "outputs": [],
     "prompt_number": 5
    },
    {
     "cell_type": "heading",
     "level": 1,
     "metadata": {},
     "source": [
      "Task 4:"
     ]
    },
    {
     "cell_type": "markdown",
     "metadata": {},
     "source": [
      "crypt with given permutation:"
     ]
    },
    {
     "cell_type": "code",
     "collapsed": false,
     "input": [
      "def crypt_given(permutation, text):    \n",
      "    output=''\n",
      "    for ch in text:\n",
      "            try:\n",
      "                x = ord(ch) - ord('a')\n",
      "                output+=(chr(permutation[x] + ord('a')))\n",
      "            except:\n",
      "                pass\n",
      "    return output"
     ],
     "language": "python",
     "metadata": {},
     "outputs": [],
     "prompt_number": 3
    },
    {
     "cell_type": "markdown",
     "metadata": {},
     "source": [
      "fixed training text (War and Peace):"
     ]
    },
    {
     "cell_type": "code",
     "collapsed": false,
     "input": [
      "train_text = read_text_filesize('main/super.txt',64)\n",
      "stats = get_unigram_stats(train_text)\n"
     ],
     "language": "python",
     "metadata": {},
     "outputs": [],
     "prompt_number": 6
    },
    {
     "cell_type": "markdown",
     "metadata": {},
     "source": [
      "vary size of train text (used War and Peace, total 3Mb)"
     ]
    },
    {
     "cell_type": "code",
     "collapsed": false,
     "input": [
      "sizes =  [100,200,400,800,1000,2000,4000,8000,16000]\n",
      "qs = list()\n",
      "fixed_permutation = uniform(26)\n",
      "for s in sizes:   \n",
      "    print 'Start at', time.strftime('%H:%M:%S', time.localtime())\n",
      "    print 'size of encrypted text: ',s\n",
      "    original = read_text_words('main/oliver_twist.txt', s)[3:]\n",
      "    encrypted = crypt_given(fixed_permutation, original)\n",
      "    init_p = uniform(26)\n",
      "    #Metropolis here\n",
      "    st = time.time()\n",
      "    computableGen = lambda t: applyTransposition(t)\n",
      "    metropolisgenerator = \\\n",
      "        metropolis(get_desiredPDF_unigram, init_p, computableGen, 1500)\n",
      "        \n",
      "    y = -float(\"inf\")\n",
      "    for i in xrange( 1000 ):\n",
      "        cand = metropolisgenerator.next() \n",
      "        if (cand[1] > y):\n",
      "            y = cand[1]\n",
      "            x = cand[0]\n",
      "\n",
      "    et =  time.time() - st\n",
      "    print 'metropolis time: ', et\n",
      "        \n",
      "    print 'best density among 1000 last iterations: ', y\n",
      "    print 'corresponding permutation: ', x\n",
      "        \n",
      "    decrypted = decrypt(x, encrypted)\n",
      "    qs.append(quality(decrypted, original))\n",
      "    print 'End at  ', time.strftime('%H:%M:%S', time.localtime())\n",
      "    \n",
      "\n",
      "plt.plot(sizes[:len(qs)], qs) "
     ],
     "language": "python",
     "metadata": {},
     "outputs": [
      {
       "output_type": "stream",
       "stream": "stdout",
       "text": [
        "Start at 09:53:26\n",
        "size of encrypted text:  100\n",
        "metropolis time: "
       ]
      },
      {
       "output_type": "stream",
       "stream": "stdout",
       "text": [
        " 0.960999965668\n",
        "best density among 1000 last iterations:  -1413.33443353\n",
        "corresponding permutation:  [5, 20, 1, 17, 0, 13, 18, 10, 3, 7, 22, 9, 14, 11, 2, 16, 12, 21, 8, 19, 6, 24, 25, 23, 15, 4]\n",
        "End at   09:53:27\n",
        "Start at 09:53:27\n",
        "size of encrypted text:  200\n",
        "metropolis time: "
       ]
      },
      {
       "output_type": "stream",
       "stream": "stdout",
       "text": [
        " 1.85600018501\n",
        "best density among 1000 last iterations:  -2751.40353007\n",
        "corresponding permutation:  [24, 17, 21, 11, 8, 13, 18, 10, 22, 7, 1, 16, 0, 3, 20, 25, 2, 15, 14, 19, 5, 12, 9, 23, 6, 4]\n",
        "End at   09:53:29\n",
        "Start at 09:53:29\n",
        "size of encrypted text:  400\n",
        "metropolis time: "
       ]
      },
      {
       "output_type": "stream",
       "stream": "stdout",
       "text": [
        " 3.97799992561\n",
        "best density among 1000 last iterations:  -5670.04772721\n",
        "corresponding permutation:  [1, 17, 10, 11, 14, 0, 13, 15, 24, 8, 21, 23, 18, 12, 3, 25, 22, 5, 7, 19, 2, 20, 16, 9, 6, 4]\n",
        "End at   09:53:33\n",
        "Start at 09:53:33\n",
        "size of encrypted text:  800\n",
        "metropolis time: "
       ]
      },
      {
       "output_type": "stream",
       "stream": "stdout",
       "text": [
        " 7.41499996185\n",
        "best density among 1000 last iterations:  -11383.665151\n",
        "corresponding permutation:  [24, 17, 23, 11, 18, 19, 14, 12, 21, 8, 10, 6, 13, 15, 3, 25, 2, 1, 7, 0, 20, 5, 16, 9, 22, 4]\n",
        "End at   09:53:41\n",
        "Start at 09:53:41\n",
        "size of encrypted text:  1000\n",
        "metropolis time: "
       ]
      },
      {
       "output_type": "stream",
       "stream": "stdout",
       "text": [
        " 9.10099983215\n",
        "best density among 1000 last iterations:  -14012.9283499\n",
        "corresponding permutation:  [15, 17, 23, 3, 18, 19, 14, 12, 21, 13, 10, 1, 8, 24, 11, 25, 2, 6, 7, 0, 20, 5, 16, 9, 22, 4]\n",
        "End at   09:53:50\n",
        "Start at 09:53:50\n",
        "size of encrypted text:  2000\n",
        "metropolis time: "
       ]
      },
      {
       "output_type": "stream",
       "stream": "stdout",
       "text": [
        " 17.381000042\n",
        "best density among 1000 last iterations:  -26730.7713568\n",
        "corresponding permutation:  [6, 17, 23, 11, 7, 0, 8, 2, 24, 14, 21, 10, 13, 15, 20, 25, 12, 22, 18, 19, 3, 5, 9, 16, 1, 4]\n",
        "End at   09:54:07\n",
        "Start at 09:54:07\n",
        "size of encrypted text:  4000\n",
        "metropolis time: "
       ]
      },
      {
       "output_type": "stream",
       "stream": "stdout",
       "text": [
        " 34.1340000629\n",
        "best density among 1000 last iterations:  -52291.5321111\n",
        "corresponding permutation:  [22, 7, 10, 11, 18, 13, 8, 2, 15, 0, 1, 23, 14, 24, 20, 25, 12, 6, 17, 19, 3, 5, 9, 16, 21, 4]\n",
        "End at   09:54:41\n",
        "Start at 09:54:41\n",
        "size of encrypted text:  8000\n",
        "metropolis time: "
       ]
      },
      {
       "output_type": "stream",
       "stream": "stdout",
       "text": [
        " 68.8310000896\n",
        "best density among 1000 last iterations:  -102975.449752\n",
        "corresponding permutation:  [6, 18, 10, 11, 7, 13, 8, 20, 15, 0, 1, 23, 14, 24, 12, 25, 2, 22, 17, 19, 3, 5, 9, 16, 21, 4]\n",
        "End at   09:55:50\n",
        "Start at 09:55:50\n",
        "size of encrypted text:  16000\n",
        "metropolis time: "
       ]
      },
      {
       "output_type": "stream",
       "stream": "stdout",
       "text": [
        " 138.506000042\n",
        "best density among 1000 last iterations:  -203705.21404\n",
        "corresponding permutation:  [15, 18, 10, 11, 7, 13, 8, 20, 6, 0, 24, 23, 14, 1, 5, 25, 12, 22, 17, 19, 3, 2, 9, 16, 21, 4]\n",
        "End at   09:58:09\n"
       ]
      },
      {
       "metadata": {},
       "output_type": "pyout",
       "prompt_number": 7,
       "text": [
        "[<matplotlib.lines.Line2D at 0xa906630>]"
       ]
      },
      {
       "metadata": {},
       "output_type": "display_data",
       "png": "[encoded data removed]",
       "text": [
        "<matplotlib.figure.Figure at 0x3e5b8d0>"
       ]
      }
     ],
     "prompt_number": 7
    },
    {
     "cell_type": "code",
     "collapsed": false,
     "input": [
      "plt.title('Dependence quality on size of tests')\n",
      "plt.xlabel('sizes')\n",
      "plt.ylabel('quality')\n",
      "plt.plot(sizes[:len(qs)], qs) \n",
      "plt.savefig('task4 unigram shapespeare.png')"
     ],
     "language": "python",
     "metadata": {},
     "outputs": [
      {
       "metadata": {},
       "output_type": "display_data",
       "png": "[encoded data removed]",
       "text": [
        "<matplotlib.figure.Figure at 0xa8eecf8>"
       ]
      }
     ],
     "prompt_number": 15
    },
    {
     "cell_type": "code",
     "collapsed": false,
     "input": [],
     "language": "python",
     "metadata": {},
     "outputs": []
    }
   ],
   "metadata": {}
  }
 ]
}