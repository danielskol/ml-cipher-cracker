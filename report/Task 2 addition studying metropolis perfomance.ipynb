{
 "metadata": {
  "name": "",
  "signature": "sha256:b27861baebd110082a1cb295b2cdd8598102c96cf3329b4af14fb3db342f375e"
 },
 "nbformat": 3,
 "nbformat_minor": 0,
 "worksheets": [
  {
   "cells": [
    {
     "cell_type": "markdown",
     "metadata": {},
     "source": [
      "In this notebook we played around with number of cold iterations."
     ]
    },
    {
     "cell_type": "code",
     "collapsed": false,
     "input": [
      "import numpy as np\n",
      "import math\n",
      "import matplotlib.pyplot as plt\n",
      "%matplotlib inline\n",
      "import random\n",
      "from numpy.random import rand\n",
      "from copy import copy\n",
      "from __future__ import division\n",
      "import time"
     ],
     "language": "python",
     "metadata": {},
     "outputs": [],
     "prompt_number": 35
    },
    {
     "cell_type": "markdown",
     "metadata": {},
     "source": [
      "read text"
     ]
    },
    {
     "cell_type": "code",
     "collapsed": false,
     "input": [
      "def read_text_words(filename, wordsnumber):    \n",
      "    with open(filename) as f:\n",
      "        X = f.readlines()\n",
      "        X = X[:wordsnumber]\n",
      "    X = ''.join(X) \n",
      "    X = X.replace('\\n', '') \n",
      "    return X\n",
      "\n",
      "def read_text_whole(filename):\n",
      "    with open(filename) as f:\n",
      "        X = f.read()    \n",
      "    X = X.replace('\\n', '') \n",
      "    return X\n",
      "\n",
      "def chop_text_to_size(text, size):\n",
      "    return text[:1024*1024*size]\n",
      "\n",
      "def read_text_filesize(filename, size):\n",
      "    with open(filename) as f:\n",
      "        X = f.read(1024*1024*size)\n",
      "    X = X.replace('\\n', '')\n",
      "    return X    "
     ],
     "language": "python",
     "metadata": {},
     "outputs": [],
     "prompt_number": 36
    },
    {
     "cell_type": "markdown",
     "metadata": {},
     "source": [
      "counts"
     ]
    },
    {
     "cell_type": "code",
     "collapsed": false,
     "input": [
      "def get_unicount(text):\n",
      "    length = len(text)\n",
      "    counts = np.zeros(26)\n",
      "    for i in xrange(length):\n",
      "        c = ord(text[i])\n",
      "        counts[c-97]+=1\n",
      "        #97-122 \n",
      "    return counts"
     ],
     "language": "python",
     "metadata": {},
     "outputs": [],
     "prompt_number": 37
    },
    {
     "cell_type": "markdown",
     "metadata": {},
     "source": [
      "bigram statistics"
     ]
    },
    {
     "cell_type": "code",
     "collapsed": false,
     "input": [
      "def get_bigram_stats_dic(text):        \n",
      "    length = len(text)\n",
      "    dic = {}\n",
      "    for i in 'abcdefghijklmnopqrstuvwxyz':\n",
      "        for j in 'abcdefghijklmnopqrstuvwxyz':\n",
      "            dic[(i,j)]=0\n",
      "\n",
      "    for i in xrange(length-1):                   \n",
      "        if (text[i], text[i+1]) in dic:\n",
      "            dic[(text[i], text[i+1])] += 1\n",
      "            \n",
      "    for k,v in dic.items():        \n",
      "        dic[k] = v/(counts[ord(k[0])-97])\n",
      "    return dic\n"
     ],
     "language": "python",
     "metadata": {},
     "outputs": []
    },
    {
     "cell_type": "markdown",
     "metadata": {},
     "source": [
      "quality"
     ]
    },
    {
     "cell_type": "code",
     "collapsed": false,
     "input": [
      "def quality(decrypted, original):\n",
      "    l = len(decrypted)\n",
      "    zipped = zip(decrypted, original)    \n",
      "    return sum(1.0 for x,y in zipped if x == y)/l"
     ],
     "language": "python",
     "metadata": {},
     "outputs": [],
     "prompt_number": 68
    },
    {
     "cell_type": "markdown",
     "metadata": {},
     "source": [
      "crypt"
     ]
    },
    {
     "cell_type": "code",
     "collapsed": false,
     "input": [
      "def crypt(text):\n",
      "    p = range(26)\n",
      "    random.shuffle(p)\n",
      "    output=''\n",
      "    for ch in text:\n",
      "            try:\n",
      "                x = ord(ch) - ord('a')\n",
      "                output+=(chr(p[x] + ord('a')))\n",
      "            except:\n",
      "                pass\n",
      "    return output, p"
     ],
     "language": "python",
     "metadata": {},
     "outputs": [],
     "prompt_number": 39
    },
    {
     "cell_type": "markdown",
     "metadata": {},
     "source": [
      "unnormalized desiredPDF\n",
      "(likelihood)"
     ]
    },
    {
     "cell_type": "code",
     "collapsed": false,
     "input": [
      "def get_desiredPDF_bigram(permutation):\n",
      "    logp = 0\n",
      "    for i in xrange(len(encrypted)-1):         \n",
      "        pr = stats[chr(permutation[ord(encrypted[i])-97]+97), \n",
      "                   chr(permutation[ord(encrypted[i+1])-97]+97)]\n",
      "        if pr>0:\n",
      "            logp += math.log(pr)\n",
      "        else:\n",
      "            logp += -9 #penalty for non existant pairs\n",
      "    return logp\n"
     ],
     "language": "python",
     "metadata": {},
     "outputs": [],
     "prompt_number": 44
    },
    {
     "cell_type": "markdown",
     "metadata": {},
     "source": [
      "metropolis "
     ]
    },
    {
     "cell_type": "code",
     "collapsed": false,
     "input": [
      "def metropolis( desiredPDF, initValue, computableRVS, skipIterations = iterations ):\n",
      "    random_variable = initValue\n",
      "    random_variableDensityValue = desiredPDF( random_variable )\n",
      "    \n",
      "    for i in xrange( skipIterations ):\n",
      "        candidate = computableRVS( random_variable )\n",
      "        candidateDensityValue = desiredPDF( candidate )\n",
      "        \"\"\"\n",
      "        next candidate for sample, generated by computableRVS\n",
      "        \"\"\"\n",
      "        \n",
      "        #acceptanceProb = min( 1, candidateDensityValue / random_variableDensityValue )\n",
      "        #logp is returnd by desiredPDF_bigram, so here is the change\n",
      "        acceptanceProb = min(0, candidateDensityValue - random_variableDensityValue )\n",
      "        \n",
      "        if math.log(random.random()) < acceptanceProb:\n",
      "            random_variable = candidate\n",
      "            random_variableDensityValue = candidateDensityValue\n",
      "            \n",
      "    #now when the procces is converged to desired distribution, \n",
      "    #return acceptable candidates\n",
      "    print \"-----\"\n",
      "    while True:\n",
      "        candidate = computableRVS( random_variable )\n",
      "        candidateDensityValue = desiredPDF( candidate )\n",
      "        \n",
      "        #acceptanceProb = min( 1, candidateDensityValue / random_variableDensityValue )\n",
      "        # logp is returnd by desiredPDF_bigram, so here is the change\n",
      "        acceptanceProb = min( 0, candidateDensityValue - random_variableDensityValue )\n",
      "       \n",
      "        if math.log(random.random()) < acceptanceProb:\n",
      "            random_variable = candidate\n",
      "            random_variableDensityValue = candidateDensityValue\n",
      "        yield random_variable, random_variableDensityValue\n"
     ],
     "language": "python",
     "metadata": {},
     "outputs": [],
     "prompt_number": 41
    },
    {
     "cell_type": "markdown",
     "metadata": {},
     "source": [
      "permutation generator and computablervs"
     ]
    },
    {
     "cell_type": "code",
     "collapsed": false,
     "input": [
      "def uniform( n ):\n",
      "    \n",
      "    #initialize permutation with identical\n",
      "    permutation = [ i for i in xrange( n ) ]\n",
      "    \n",
      "    #swap ith object with random onject from i to n - 1 enclusively\n",
      "    for i in xrange( n ):\n",
      "        j = random.randint( i, n - 1 )\n",
      "        permutation[ i ], permutation[ j ] = permutation[ j ], permutation[ i ]\n",
      "        \n",
      "    return permutation\n",
      "\n",
      "def applyTransposition( basePermutation ):\n",
      "    \n",
      "    n = len( basePermutation )\n",
      "    \n",
      "    permutation = copy( basePermutation )\n",
      "    \n",
      "    #apply n random transpositions (including identical) to base permutation\n",
      "#     for i in xrange( n ):\n",
      "    k, l = random.randint( 0, n - 1 ), random.randint( 0, n - 1 )\n",
      "    permutation[ k ], permutation[ l ] = permutation[ l ], permutation[ k ]\n",
      "        \n",
      "    return  permutation"
     ],
     "language": "python",
     "metadata": {},
     "outputs": [],
     "prompt_number": 43
    },
    {
     "cell_type": "code",
     "collapsed": false,
     "input": [
      "decrypt"
     ],
     "language": "python",
     "metadata": {},
     "outputs": []
    },
    {
     "cell_type": "code",
     "collapsed": false,
     "input": [
      "def decrypt(permutation, encrypted):\n",
      "    decrypted = []\n",
      "    for i in encrypted:\n",
      "        decrypted.append(chr(permutation[ord(i)-97]+97))\n",
      "    return ''.join(decrypted)"
     ],
     "language": "python",
     "metadata": {},
     "outputs": [],
     "prompt_number": 45
    },
    {
     "cell_type": "heading",
     "level": 1,
     "metadata": {},
     "source": [
      "Metropolis"
     ]
    },
    {
     "cell_type": "heading",
     "level": 3,
     "metadata": {},
     "source": [
      "various number of iterations"
     ]
    },
    {
     "cell_type": "code",
     "collapsed": false,
     "input": [
      "#TEST TEXT\n",
      "fname = 'main/oliver_twist.txt'\n",
      "original = read_text_words(fname, 5000)[3:]\n",
      "encrypted, p = crypt(original)\n",
      "#TRAIN TEXT\n",
      "train_text = read_text_whole('main/war_and_peace.txt')\n",
      "counts = get_unicount(train_text)\n",
      "stats = get_bigram_stats_dic(train_text)\n",
      "\n",
      "print 'encrypting permutation: ', p\n",
      "bp = np.zeros(26, dtype=int)\n",
      "for i in p:\n",
      "    bp[p[i]] = i\n",
      "q = get_desiredPDF_bigram(bp)\n",
      "print 'inverse to encrypting permutation: ', bp\n",
      "print 'its likelihood: ', q\n",
      "ra = uniform(26)\n",
      "q = get_desiredPDF_bigram(ra)\n",
      "print 'likelihood of random permutation: ', q\n"
     ],
     "language": "python",
     "metadata": {},
     "outputs": [
      {
       "output_type": "stream",
       "stream": "stdout",
       "text": [
        "[20, 18, 25, 0, 3, 14, 21, 9, 13, 24, 12, 8, 10, 19, 2, 11, 6, 1, 22, 17, 4, 15, 23, 7, 5, 16]\n",
        "[ 3 17 14  4 20 24 16 23 11  7 12 15 10  8  5 21 25 19  1 13  0  6 18 22  9\n",
        "  2]"
       ]
      },
      {
       "output_type": "stream",
       "stream": "stdout",
       "text": [
        "\n",
        "-56398.5046942\n",
        "-106838.163693"
       ]
      },
      {
       "output_type": "stream",
       "stream": "stdout",
       "text": [
        "\n"
       ]
      }
     ],
     "prompt_number": 46
    },
    {
     "cell_type": "heading",
     "level": 3,
     "metadata": {},
     "source": [
      "250,500,1000,2000 cold iterations, best of 500"
     ]
    },
    {
     "cell_type": "code",
     "collapsed": false,
     "input": [
      "import time\n",
      "iterations = [250,500,1000,2000]\n",
      "qs = np.zeros(16)\n",
      "for k in xrange(4):    \n",
      "    j=0\n",
      "    init_p = uniform(26)\n",
      "    for it in iterations:\n",
      "        st = time.time()\n",
      "        computableGen = lambda t: applyTransposition(t)\n",
      "        metropolisgenerator = \\\n",
      "            metropolis(get_desiredPDF_bigram, init_p, computableGen, it)\n",
      "        x = []\n",
      "        y = []\n",
      "        for i in xrange( 500 ):\n",
      "            a,b = metropolisgenerator.next() \n",
      "            x.append(a)\n",
      "            y.append(b)\n",
      "\n",
      "        et =  time.time() - st\n",
      "        print 'cold iterations: ', it\n",
      "        print 'metropolis time: ', et\n",
      "        best = np.argmax(y)\n",
      "        bestx = x[best]\n",
      "        print 'best density among ', 500, ' last iterations: ', y[best]\n",
      "        print 'corresponding permutation: ', bestx\n",
      "        decrypted = decrypt(bestx, encrypted)\n",
      "        qs[4*k+j] = quality(decrypted, original)\n",
      "        print 'quality: ', qs[4*k+j] \n",
      "        j+=1\n",
      "plt.plot(iterations, qs[:4], iterations, qs[4:8], iterations, qs[8:12], iterations, qs[12:16])"
     ],
     "language": "python",
     "metadata": {},
     "outputs": [
      {
       "output_type": "stream",
       "stream": "stdout",
       "text": [
        "-----\n",
        "cold iterations: "
       ]
      },
      {
       "output_type": "stream",
       "stream": "stdout",
       "text": [
        " 250\n",
        "metropolis time:  39.5499999523\n",
        "best density among  500  last iterations:  -71665.7306791\n",
        "corresponding permutation:  [18, 14, 17, 19, 12, 10, 16, 25, 24, 13, 20, 5, 21, 7, 15, 2, 9, 0, 1, 4, 11, 22, 8, 6, 23, 3]\n",
        "quality:  0.021148989899\n",
        "-----"
       ]
      },
      {
       "output_type": "stream",
       "stream": "stdout",
       "text": [
        "\n",
        "cold iterations: "
       ]
      },
      {
       "output_type": "stream",
       "stream": "stdout",
       "text": [
        " 500\n",
        "metropolis time:  56.0929999352\n",
        "best density among  500  last iterations:  -69884.1866772\n",
        "corresponding permutation:  [12, 3, 14, 17, 13, 15, 25, 23, 5, 4, 6, 24, 21, 8, 22, 2, 16, 19, 20, 18, 0, 10, 11, 7, 9, 1]\n",
        "quality:  0.320797258297\n",
        "-----"
       ]
      },
      {
       "output_type": "stream",
       "stream": "stdout",
       "text": [
        "\n",
        "cold iterations: "
       ]
      },
      {
       "output_type": "stream",
       "stream": "stdout",
       "text": [
        " 1000\n",
        "metropolis time:  82.0660002232\n",
        "best density among  500  last iterations:  -59755.084299\n",
        "corresponding permutation:  [3, 17, 14, 4, 20, 24, 16, 23, 11, 7, 22, 15, 10, 8, 5, 21, 25, 18, 1, 13, 0, 6, 12, 19, 9, 2]\n",
        "quality:  0.806006493506\n",
        "-----"
       ]
      },
      {
       "output_type": "stream",
       "stream": "stdout",
       "text": [
        "\n",
        "cold iterations: "
       ]
      },
      {
       "output_type": "stream",
       "stream": "stdout",
       "text": [
        " 2000\n",
        "metropolis time:  132.069000006\n",
        "best density among  500  last iterations:  -56398.5046942\n",
        "corresponding permutation:  [3, 17, 14, 4, 20, 24, 16, 23, 11, 7, 12, 15, 10, 8, 5, 21, 25, 19, 1, 13, 0, 6, 18, 22, 9, 2]\n",
        "quality:  1.0\n",
        "-----"
       ]
      },
      {
       "output_type": "stream",
       "stream": "stdout",
       "text": [
        "\n",
        "cold iterations: "
       ]
      },
      {
       "output_type": "stream",
       "stream": "stdout",
       "text": [
        " 250\n",
        "metropolis time:  38.4229998589\n",
        "best density among  500  last iterations:  -69006.8175832\n",
        "corresponding permutation:  [8, 17, 19, 14, 20, 5, 16, 25, 11, 7, 1, 6, 21, 0, 12, 15, 9, 18, 24, 3, 4, 10, 13, 22, 23, 2]\n",
        "quality:  0.243912337662\n",
        "-----"
       ]
      },
      {
       "output_type": "stream",
       "stream": "stdout",
       "text": [
        "\n",
        "cold iterations: "
       ]
      },
      {
       "output_type": "stream",
       "stream": "stdout",
       "text": [
        " 500\n",
        "metropolis time:  52.1320002079\n",
        "best density among  500  last iterations:  -69254.7993549\n",
        "corresponding permutation:  [22, 17, 14, 4, 20, 7, 9, 23, 19, 3, 12, 15, 1, 8, 10, 21, 25, 13, 2, 18, 24, 5, 0, 11, 16, 6]\n",
        "quality:  0.425009018759\n",
        "-----"
       ]
      },
      {
       "output_type": "stream",
       "stream": "stdout",
       "text": [
        "\n",
        "cold iterations: "
       ]
      },
      {
       "output_type": "stream",
       "stream": "stdout",
       "text": [
        " 1000\n",
        "metropolis time:  77.6610000134\n",
        "best density among  500  last iterations:  -70974.3067524\n",
        "corresponding permutation:  [13, 8, 19, 18, 7, 12, 25, 23, 20, 0, 5, 2, 21, 11, 1, 10, 16, 3, 6, 14, 17, 22, 4, 15, 9, 24]\n",
        "quality:  0.00563672438672\n",
        "-----"
       ]
      },
      {
       "output_type": "stream",
       "stream": "stdout",
       "text": [
        "\n",
        "cold iterations: "
       ]
      },
      {
       "output_type": "stream",
       "stream": "stdout",
       "text": [
        " 2000\n",
        "metropolis time:  126.657999992\n",
        "best density among  500  last iterations:  -56398.5046942\n",
        "corresponding permutation:  [3, 17, 14, 4, 20, 24, 16, 23, 11, 7, 12, 15, 10, 8, 5, 21, 25, 19, 1, 13, 0, 6, 18, 22, 9, 2]\n",
        "quality:  1.0\n",
        "-----"
       ]
      },
      {
       "output_type": "stream",
       "stream": "stdout",
       "text": [
        "\n",
        "cold iterations: "
       ]
      },
      {
       "output_type": "stream",
       "stream": "stdout",
       "text": [
        " 250\n",
        "metropolis time:  38.7739999294\n",
        "best density among  500  last iterations:  -65255.5584126\n",
        "corresponding permutation:  [19, 11, 14, 4, 24, 20, 16, 23, 17, 22, 7, 15, 10, 8, 5, 21, 9, 18, 1, 13, 0, 6, 3, 12, 25, 2]\n",
        "quality:  0.550955988456\n",
        "-----"
       ]
      },
      {
       "output_type": "stream",
       "stream": "stdout",
       "text": [
        "\n",
        "cold iterations: "
       ]
      },
      {
       "output_type": "stream",
       "stream": "stdout",
       "text": [
        " 500\n",
        "metropolis time:  51.6640000343\n",
        "best density among  500  last iterations:  -58318.9504693\n",
        "corresponding permutation:  [3, 17, 14, 4, 20, 24, 16, 23, 11, 7, 12, 15, 10, 8, 18, 21, 25, 19, 1, 13, 0, 6, 5, 22, 9, 2]\n",
        "quality:  0.92306998557\n",
        "-----"
       ]
      },
      {
       "output_type": "stream",
       "stream": "stdout",
       "text": [
        "\n",
        "cold iterations: "
       ]
      },
      {
       "output_type": "stream",
       "stream": "stdout",
       "text": [
        " 1000\n",
        "metropolis time:  84.2070000172\n",
        "best density among  500  last iterations:  -61092.6927378\n",
        "corresponding permutation:  [3, 17, 14, 4, 20, 24, 16, 23, 11, 7, 12, 15, 10, 18, 5, 21, 25, 19, 1, 13, 0, 6, 8, 22, 9, 2]\n",
        "quality:  0.870716089466\n",
        "-----"
       ]
      },
      {
       "output_type": "stream",
       "stream": "stdout",
       "text": [
        "\n",
        "cold iterations: "
       ]
      },
      {
       "output_type": "stream",
       "stream": "stdout",
       "text": [
        " 2000\n",
        "metropolis time:  129.15500021\n",
        "best density among  500  last iterations:  -56398.5046942\n",
        "corresponding permutation:  [3, 17, 14, 4, 20, 24, 16, 23, 11, 7, 12, 15, 10, 8, 5, 21, 25, 19, 1, 13, 0, 6, 18, 22, 9, 2]\n",
        "quality:  1.0\n",
        "-----"
       ]
      },
      {
       "output_type": "stream",
       "stream": "stdout",
       "text": [
        "\n",
        "cold iterations: "
       ]
      },
      {
       "output_type": "stream",
       "stream": "stdout",
       "text": [
        " 250\n",
        "metropolis time:  38.5729999542\n",
        "best density among  500  last iterations:  -63944.25672\n",
        "corresponding permutation:  [3, 17, 4, 0, 14, 24, 9, 23, 11, 7, 12, 15, 10, 8, 5, 21, 16, 19, 1, 13, 20, 6, 18, 2, 25, 22]\n",
        "quality:  0.64172979798\n",
        "-----"
       ]
      },
      {
       "output_type": "stream",
       "stream": "stdout",
       "text": [
        "\n",
        "cold iterations: "
       ]
      },
      {
       "output_type": "stream",
       "stream": "stdout",
       "text": [
        " 500\n",
        "metropolis time:  50.746999979\n",
        "best density among  500  last iterations:  -59095.4862605\n",
        "corresponding permutation:  [3, 17, 14, 4, 20, 24, 9, 23, 22, 7, 12, 15, 10, 8, 5, 21, 16, 19, 11, 13, 0, 6, 18, 1, 25, 2]\n",
        "quality:  0.912157287157\n",
        "-----"
       ]
      },
      {
       "output_type": "stream",
       "stream": "stdout",
       "text": [
        "\n",
        "cold iterations: "
       ]
      },
      {
       "output_type": "stream",
       "stream": "stdout",
       "text": [
        " 1000\n",
        "metropolis time:  78.1519999504\n",
        "best density among  500  last iterations:  -56398.5046942\n",
        "corresponding permutation:  [3, 17, 14, 4, 20, 24, 16, 23, 11, 7, 12, 15, 10, 8, 5, 21, 25, 19, 1, 13, 0, 6, 18, 22, 9, 2]\n",
        "quality:  1.0\n",
        "-----"
       ]
      },
      {
       "output_type": "stream",
       "stream": "stdout",
       "text": [
        "\n",
        "cold iterations: "
       ]
      },
      {
       "output_type": "stream",
       "stream": "stdout",
       "text": [
        " 2000\n",
        "metropolis time:  129.299000025\n",
        "best density among  500  last iterations:  -59398.0800175\n",
        "corresponding permutation:  [3, 17, 0, 4, 20, 24, 16, 23, 11, 7, 12, 15, 10, 14, 5, 21, 25, 19, 1, 13, 8, 6, 18, 22, 9, 2]\n",
        "quality:  0.77141955267\n"
       ]
      },
      {
       "metadata": {},
       "output_type": "pyout",
       "prompt_number": 82,
       "text": [
        "[<matplotlib.lines.Line2D at 0xc36bcc0>,\n",
        " <matplotlib.lines.Line2D at 0xc36bef0>,\n",
        " <matplotlib.lines.Line2D at 0xc375518>,\n",
        " <matplotlib.lines.Line2D at 0xc375a90>]"
       ]
      },
      {
       "metadata": {},
       "output_type": "display_data",
       "png": "[encoded data removed]",
       "text": [
        "<matplotlib.figure.Figure at 0xbedd8d0>"
       ]
      }
     ],
     "prompt_number": 82
    },
    {
     "cell_type": "code",
     "collapsed": false,
     "input": [
      "plt.savefig('Bigram,noWordDelimiter,metrop,varyColdIters')"
     ],
     "language": "python",
     "metadata": {},
     "outputs": []
    },
    {
     "cell_type": "heading",
     "level": 3,
     "metadata": {},
     "source": [
      "0 cold iterations perfomance (varying last iters):"
     ]
    },
    {
     "cell_type": "code",
     "collapsed": false,
     "input": [
      "iterations = [250,500,1000,2000]\n",
      "qs = np.zeros(16)\n",
      "for k in xrange(4):    \n",
      "    j=0\n",
      "    init_p = uniform(26)\n",
      "    for it in iterations:\n",
      "        st = time.time()\n",
      "        computableGen = lambda t: applyedTranspostions(t)\n",
      "        metropolisgenerator = \\\n",
      "            metropolis(get_desiredPDF_bigram, init_p, computableGen, 0)\n",
      "        x = []\n",
      "        y = []\n",
      "        for i in xrange( it ):\n",
      "            a,b = metropolisgenerator.next() \n",
      "            x.append(a)\n",
      "            y.append(b)\n",
      "\n",
      "        et =  time.time() - st\n",
      "        print 'cold iterations: ', \n",
      "        print 'metropolis time: ', et\n",
      "        best = np.argmax(y)\n",
      "        bestx = x[best]\n",
      "        print 'best density among ', it, ' last iterations: ', y[best]\n",
      "        print 'corresponding permutation: ', bestx\n",
      "        decrypted = decrypt(bestx, encrypted)\n",
      "        qs[4*k+j] = quality(decrypted, original)\n",
      "        print 'quality: ', qs[4*k+j] \n",
      "        j+=1\n",
      "plt.plot(iterations, qs[:4], iterations, qs[4:8], iterations, qs[8:12], iterations, qs[12:16])"
     ],
     "language": "python",
     "metadata": {},
     "outputs": [
      {
       "output_type": "stream",
       "stream": "stdout",
       "text": [
        "-----\n",
        "cold iterations: "
       ]
      },
      {
       "output_type": "stream",
       "stream": "stdout",
       "text": [
        " metropolis time:  12.8880000114\n",
        "best density among  250  last iterations:  -70648.2551412\n",
        "corresponding permutation:  [13, 3, 19, 4, 8, 15, 9, 6, 12, 22, 1, 7, 23, 0, 20, 2, 16, 18, 10, 17, 14, 5, 11, 24, 25, 21]\n",
        "quality:  0.123917748918\n",
        "-----"
       ]
      },
      {
       "output_type": "stream",
       "stream": "stdout",
       "text": [
        "\n",
        "cold iterations: "
       ]
      },
      {
       "output_type": "stream",
       "stream": "stdout",
       "text": [
        " metropolis time:  26.8050000668\n",
        "best density among  500  last iterations:  -65316.9725865\n",
        "corresponding permutation:  [3, 13, 8, 4, 11, 15, 9, 2, 12, 7, 5, 10, 25, 14, 6, 21, 16, 19, 20, 17, 0, 24, 18, 22, 23, 1]\n",
        "quality:  0.492153679654\n",
        "-----"
       ]
      },
      {
       "output_type": "stream",
       "stream": "stdout",
       "text": [
        "\n",
        "cold iterations: "
       ]
      },
      {
       "output_type": "stream",
       "stream": "stdout",
       "text": [
        " metropolis time:  51.4409999847\n",
        "best density among  1000  last iterations:  -63746.6548882\n",
        "corresponding permutation:  [3, 17, 20, 4, 0, 5, 9, 25, 11, 7, 10, 1, 24, 14, 15, 21, 23, 19, 22, 13, 8, 6, 18, 2, 16, 12]\n",
        "quality:  0.577245670996\n",
        "-----"
       ]
      },
      {
       "output_type": "stream",
       "stream": "stdout",
       "text": [
        "\n",
        "cold iterations: "
       ]
      },
      {
       "output_type": "stream",
       "stream": "stdout",
       "text": [
        " metropolis time:  106.414999962\n",
        "best density among  2000  last iterations:  -56398.5046942\n",
        "corresponding permutation:  [3, 17, 14, 4, 20, 24, 16, 23, 11, 7, 12, 15, 10, 8, 5, 21, 25, 19, 1, 13, 0, 6, 18, 22, 9, 2]\n",
        "quality:  1.0\n",
        "-----"
       ]
      },
      {
       "output_type": "stream",
       "stream": "stdout",
       "text": [
        "\n",
        "cold iterations: "
       ]
      },
      {
       "output_type": "stream",
       "stream": "stdout",
       "text": [
        " metropolis time:  13.2339999676\n",
        "best density among  250  last iterations:  -70030.0127475\n",
        "corresponding permutation:  [12, 13, 0, 8, 20, 24, 10, 23, 3, 19, 22, 2, 25, 4, 6, 15, 16, 5, 11, 17, 14, 21, 18, 1, 9, 7]\n",
        "quality:  0.106466450216\n",
        "-----"
       ]
      },
      {
       "output_type": "stream",
       "stream": "stdout",
       "text": [
        "\n",
        "cold iterations: "
       ]
      },
      {
       "output_type": "stream",
       "stream": "stdout",
       "text": [
        " metropolis time:  26.1779999733\n",
        "best density among  500  last iterations:  -70034.964249\n",
        "corresponding permutation:  [5, 11, 0, 14, 20, 24, 16, 23, 7, 18, 15, 2, 10, 4, 6, 9, 25, 8, 22, 3, 19, 1, 17, 13, 21, 12]\n",
        "quality:  0.0572691197691\n",
        "-----"
       ]
      },
      {
       "output_type": "stream",
       "stream": "stdout",
       "text": [
        "\n",
        "cold iterations: "
       ]
      },
      {
       "output_type": "stream",
       "stream": "stdout",
       "text": [
        " metropolis time:  51.9179999828\n",
        "best density among  1000  last iterations:  -61853.5329716\n",
        "corresponding permutation:  [22, 13, 14, 4, 20, 6, 16, 23, 11, 7, 12, 24, 10, 8, 5, 21, 25, 19, 1, 18, 0, 15, 3, 17, 9, 2]\n",
        "quality:  0.686327561328\n",
        "-----"
       ]
      },
      {
       "output_type": "stream",
       "stream": "stdout",
       "text": [
        "\n",
        "cold iterations: "
       ]
      },
      {
       "output_type": "stream",
       "stream": "stdout",
       "text": [
        " metropolis time:  108.29700017\n",
        "best density among  2000  last iterations:  -56398.5046942\n",
        "corresponding permutation:  [3, 17, 14, 4, 20, 24, 16, 23, 11, 7, 12, 15, 10, 8, 5, 21, 25, 19, 1, 13, 0, 6, 18, 22, 9, 2]\n",
        "quality:  1.0\n",
        "-----"
       ]
      },
      {
       "output_type": "stream",
       "stream": "stdout",
       "text": [
        "\n",
        "cold iterations: "
       ]
      },
      {
       "output_type": "stream",
       "stream": "stdout",
       "text": [
        " metropolis time:  12.7339999676\n",
        "best density among  250  last iterations:  -72731.4355596\n",
        "corresponding permutation:  [0, 18, 8, 4, 13, 12, 25, 23, 1, 5, 6, 21, 10, 20, 7, 2, 16, 14, 24, 19, 17, 22, 3, 15, 9, 11]\n",
        "quality:  0.136228354978\n",
        "-----"
       ]
      },
      {
       "output_type": "stream",
       "stream": "stdout",
       "text": [
        "\n",
        "cold iterations: "
       ]
      },
      {
       "output_type": "stream",
       "stream": "stdout",
       "text": [
        " metropolis time:  25.6190001965\n",
        "best density among  500  last iterations:  -59911.8196339\n",
        "corresponding permutation:  [3, 12, 14, 4, 20, 24, 16, 25, 11, 7, 17, 15, 10, 8, 5, 21, 23, 18, 1, 13, 0, 6, 19, 22, 9, 2]\n",
        "quality:  0.762490981241\n",
        "-----"
       ]
      },
      {
       "output_type": "stream",
       "stream": "stdout",
       "text": [
        "\n",
        "cold iterations: "
       ]
      },
      {
       "output_type": "stream",
       "stream": "stdout",
       "text": [
        " metropolis time:  51.6050000191\n",
        "best density among  1000  last iterations:  -58286.4085992\n",
        "corresponding permutation:  [3, 17, 14, 4, 20, 24, 16, 23, 11, 7, 12, 22, 10, 8, 5, 21, 25, 19, 1, 13, 0, 2, 18, 15, 9, 6]\n",
        "quality:  0.910984848485\n",
        "-----"
       ]
      },
      {
       "output_type": "stream",
       "stream": "stdout",
       "text": [
        "\n",
        "cold iterations: "
       ]
      },
      {
       "output_type": "stream",
       "stream": "stdout",
       "text": [
        " metropolis time:  104.585999966\n",
        "best density among  2000  last iterations:  -56398.5046942\n",
        "corresponding permutation:  [3, 17, 14, 4, 20, 24, 16, 23, 11, 7, 12, 15, 10, 8, 5, 21, 25, 19, 1, 13, 0, 6, 18, 22, 9, 2]\n",
        "quality:  1.0\n",
        "-----"
       ]
      },
      {
       "output_type": "stream",
       "stream": "stdout",
       "text": [
        "\n",
        "cold iterations: "
       ]
      },
      {
       "output_type": "stream",
       "stream": "stdout",
       "text": [
        " metropolis time:  12.986000061\n",
        "best density among  250  last iterations:  -73184.375206\n",
        "corresponding permutation:  [20, 0, 18, 19, 22, 1, 25, 21, 14, 8, 5, 10, 23, 13, 15, 2, 16, 3, 24, 4, 17, 12, 11, 6, 9, 7]\n",
        "quality:  0.000631313131313\n",
        "-----"
       ]
      },
      {
       "output_type": "stream",
       "stream": "stdout",
       "text": [
        "\n",
        "cold iterations: "
       ]
      },
      {
       "output_type": "stream",
       "stream": "stdout",
       "text": [
        " metropolis time:  25.6989998817\n",
        "best density among  500  last iterations:  -60800.1275249\n",
        "corresponding permutation:  [3, 17, 14, 4, 20, 15, 16, 23, 11, 7, 21, 5, 10, 0, 22, 1, 9, 19, 12, 13, 8, 6, 18, 24, 25, 2]\n",
        "quality:  0.703373015873\n",
        "-----"
       ]
      },
      {
       "output_type": "stream",
       "stream": "stdout",
       "text": [
        "\n",
        "cold iterations: "
       ]
      },
      {
       "output_type": "stream",
       "stream": "stdout",
       "text": [
        " metropolis time:  53.864000082\n",
        "best density among  1000  last iterations:  -70759.4506564\n",
        "corresponding permutation:  [3, 14, 18, 13, 7, 12, 25, 23, 20, 8, 24, 1, 21, 17, 2, 22, 9, 19, 10, 4, 11, 5, 0, 15, 16, 6]\n",
        "quality:  0.135326479076\n",
        "-----"
       ]
      },
      {
       "output_type": "stream",
       "stream": "stdout",
       "text": [
        "\n",
        "cold iterations: "
       ]
      },
      {
       "output_type": "stream",
       "stream": "stdout",
       "text": [
        " metropolis time:  108.180000067\n",
        "best density among  2000  last iterations:  -56398.5046942\n",
        "corresponding permutation:  [3, 17, 14, 4, 20, 24, 16, 23, 11, 7, 12, 15, 10, 8, 5, 21, 25, 19, 1, 13, 0, 6, 18, 22, 9, 2]\n",
        "quality:  1.0\n"
       ]
      },
      {
       "metadata": {},
       "output_type": "pyout",
       "prompt_number": 83,
       "text": [
        "[<matplotlib.lines.Line2D at 0xc42af28>,\n",
        " <matplotlib.lines.Line2D at 0xc43a198>,\n",
        " <matplotlib.lines.Line2D at 0xc43a780>,\n",
        " <matplotlib.lines.Line2D at 0xc43acf8>]"
       ]
      },
      {
       "metadata": {},
       "output_type": "display_data",
       "png": "[encoded data removed]",
       "text": [
        "<matplotlib.figure.Figure at 0xbe4a940>"
       ]
      }
     ],
     "prompt_number": 83
    },
    {
     "cell_type": "code",
     "collapsed": false,
     "input": [
      "plt.savefig('Bigram,noWordDelimiter,metrop,varyIters')"
     ],
     "language": "python",
     "metadata": {},
     "outputs": [
      {
       "metadata": {},
       "output_type": "display_data",
       "text": [
        "<matplotlib.figure.Figure at 0xac4ff28>"
       ]
      }
     ],
     "prompt_number": 84
    },
    {
     "cell_type": "code",
     "collapsed": false,
     "input": [],
     "language": "python",
     "metadata": {},
     "outputs": []
    }
   ],
   "metadata": {}
  }
 ]
}