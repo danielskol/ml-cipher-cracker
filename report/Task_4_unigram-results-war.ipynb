{
 "metadata": {
  "name": "",
  "signature": "sha256:5fb71ddcc85809bfbbeb44730ec3b0526bf838131cc9563d4c2c80cef0a5e293"
 },
 "nbformat": 3,
 "nbformat_minor": 0,
 "worksheets": [
  {
   "cells": [
    {
     "cell_type": "heading",
     "level": 4,
     "metadata": {},
     "source": [
      "read, statistics, quality, crypt, decrypt, Metropolis, likelihood functions:"
     ]
    },
    {
     "cell_type": "code",
     "collapsed": false,
     "input": [
      "import numpy as np\n",
      "import math\n",
      "import matplotlib.pyplot as plt\n",
      "%matplotlib inline\n",
      "import random\n",
      "from numpy.random import rand\n",
      "from copy import copy\n",
      "from __future__ import division\n",
      "import time\n",
      "\n",
      "def read_text_words(filename, wordsnumber):    \n",
      "    with open(filename) as f:\n",
      "        X = f.readlines()\n",
      "        X = X[:wordsnumber]\n",
      "    X = ''.join(X) \n",
      "    X = X.replace('\\n', '') \n",
      "    return X\n",
      "\n",
      "def read_text_whole(filename):\n",
      "    with open(filename) as f:\n",
      "        X = f.read()    \n",
      "    X = X.replace('\\n', '') \n",
      "    return X\n",
      "\n",
      "def get_unigram_stats(text):\n",
      "    length = len(text)\n",
      "    stats = np.zeros(27)\n",
      "    for i in xrange(length):\n",
      "        c = ord(text[i])\n",
      "        stats[c-97]+=1\n",
      "    stats = stats[:26]\n",
      "    return stats/length\n",
      "\n",
      "def get_desiredPDF_unigram(permutation):\n",
      "    logp = 0\n",
      "    for i in xrange(len(encrypted)):\n",
      "        if ord(encrypted[i]) != 123:            \n",
      "            logp += math.log(stats[permutation[ord(encrypted[i])-97]])\n",
      "    return logp\n",
      "\n",
      "def quality(decrypted, original):\n",
      "    l = len(decrypted)\n",
      "    zipped = zip(decrypted, original)    \n",
      "    return sum(1.0 for x,y in zipped if x == y)/l\n",
      "\n",
      "def crypt(text):\n",
      "    p = range(26)\n",
      "    random.shuffle(p)\n",
      "    output=''\n",
      "    for ch in text:\n",
      "            try:\n",
      "                x = ord(ch) - ord('a')\n",
      "                output+=(chr(p[x] + ord('a')))\n",
      "            except:\n",
      "                pass\n",
      "    return output, p\n",
      "\n",
      "def metropolis( desiredPDF, initValue, computableRVS, skipIterations = 1000):\n",
      "    random_variable = initValue\n",
      "    random_variableDensityValue = desiredPDF( random_variable )\n",
      "    \n",
      "    for i in xrange( skipIterations ):\n",
      "        candidate = computableRVS( random_variable )\n",
      "        candidateDensityValue = desiredPDF( candidate )\n",
      "        acceptanceProb = min(0, candidateDensityValue - random_variableDensityValue )\n",
      "        if math.log(random.random()) < acceptanceProb:\n",
      "            random_variable = candidate\n",
      "            random_variableDensityValue = candidateDensityValue\n",
      "   \n",
      "    while True:\n",
      "        candidate = computableRVS( random_variable )\n",
      "        candidateDensityValue = desiredPDF( candidate )\n",
      "    \n",
      "        acceptanceProb = min( 0, candidateDensityValue - random_variableDensityValue )\n",
      "       \n",
      "        if math.log(random.random()) < acceptanceProb:\n",
      "            random_variable = candidate\n",
      "            random_variableDensityValue = candidateDensityValue\n",
      "        yield random_variable, random_variableDensityValue\n",
      "\n",
      "def uniform( n ):\n",
      "    #initialize permutation with identical\n",
      "    permutation = [ i for i in xrange( n ) ]\n",
      "    \n",
      "    #swap ith object with random onject from i to n - 1 enclusively\n",
      "    for i in xrange( n ):\n",
      "        j = random.randint( i, n - 1 )\n",
      "        permutation[ i ], permutation[ j ] = permutation[ j ], permutation[ i ]\n",
      "        \n",
      "    return permutation\n",
      "\n",
      "def applyTransposition( basePermutation ):\n",
      "    n = len( basePermutation )\n",
      "    \n",
      "    permutation = copy( basePermutation )\n",
      "    \n",
      "    #apply n random transpositions (including identical) to base permutation\n",
      "#     for i in xrange( n ):\n",
      "    k, l = random.randint( 0, n - 1 ), random.randint( 0, n - 1 )\n",
      "    permutation[ k ], permutation[ l ] = permutation[ l ], permutation[ k ]\n",
      "        \n",
      "    return  permutation\n",
      "\n",
      "def decrypt(permutation, encrypted):\n",
      "    decrypted = []\n",
      "    for i in encrypted:\n",
      "        decrypted.append(chr(permutation[ord(i)-97]+97))\n",
      "    return ''.join(decrypted)"
     ],
     "language": "python",
     "metadata": {},
     "outputs": [],
     "prompt_number": 1
    },
    {
     "cell_type": "heading",
     "level": 1,
     "metadata": {},
     "source": [
      "Task 4:"
     ]
    },
    {
     "cell_type": "markdown",
     "metadata": {},
     "source": [
      "crypt with given permutation:"
     ]
    },
    {
     "cell_type": "code",
     "collapsed": false,
     "input": [
      "def crypt_given(permutation, text):    \n",
      "    output=''\n",
      "    for ch in text:\n",
      "            try:\n",
      "                x = ord(ch) - ord('a')\n",
      "                output+=(chr(permutation[x] + ord('a')))\n",
      "            except:\n",
      "                pass\n",
      "    return output"
     ],
     "language": "python",
     "metadata": {},
     "outputs": [],
     "prompt_number": 2
    },
    {
     "cell_type": "markdown",
     "metadata": {},
     "source": [
      "fixed training text (War and Peace):"
     ]
    },
    {
     "cell_type": "code",
     "collapsed": false,
     "input": [
      "train_text = read_text_whole('main/war_and_peace.txt')\n",
      "stats = get_unigram_stats(train_text)\n"
     ],
     "language": "python",
     "metadata": {},
     "outputs": [],
     "prompt_number": 3
    },
    {
     "cell_type": "markdown",
     "metadata": {},
     "source": [
      "vary size of train text (used War and Peace, total 3Mb)"
     ]
    },
    {
     "cell_type": "code",
     "collapsed": false,
     "input": [
      "sizes =  [100,200,400,800,1000,2000,4000,8000,16000]\n",
      "qs = list()\n",
      "fixed_permutation = uniform(26)\n",
      "for s in sizes:   \n",
      "    print 'size of encrypted text: ',s\n",
      "    original = read_text_words('main/oliver_twist.txt', s)[3: ]\n",
      "    encrypted = crypt_given(fixed_permutation, original)\n",
      "    init_p = uniform(26)\n",
      "    #Metropolis here\n",
      "    st = time.time()\n",
      "    computableGen = lambda t: applyTransposition(t)\n",
      "    metropolisgenerator = \\\n",
      "        metropolis(get_desiredPDF_unigram, init_p, computableGen, 1500)\n",
      "        \n",
      "    y = -float(\"inf\")\n",
      "    for i in xrange( 1000 ):\n",
      "        cand = metropolisgenerator.next() \n",
      "        if (cand[1] > y):\n",
      "            y = cand[1]\n",
      "            x = cand[0]\n",
      "\n",
      "    et =  time.time() - st\n",
      "    print 'metropolis time: ', et\n",
      "        \n",
      "    print 'best density among 1000 last iterations: ', y\n",
      "    print 'corresponding permutation: ', x\n",
      "        \n",
      "    decrypted = decrypt(x, encrypted)\n",
      "    qs.append(quality(decrypted, original))\n",
      "    \n",
      "\n",
      "plt.plot(sizes[:len(qs)], qs) "
     ],
     "language": "python",
     "metadata": {},
     "outputs": [
      {
       "output_type": "stream",
       "stream": "stdout",
       "text": [
        "size of encrypted text:  100\n",
        "metropolis time: "
       ]
      },
      {
       "output_type": "stream",
       "stream": "stdout",
       "text": [
        " 0.913999795914\n",
        "best density among 1000 last iterations:  -1413.88440115\n",
        "corresponding permutation:  [20, 25, 1, 15, 0, 11, 23, 16, 24, 4, 14, 21, 17, 3, 18, 19, 12, 6, 7, 13, 22, 10, 2, 9, 8, 5]\n",
        "size of encrypted text:  200\n",
        "metropolis time: "
       ]
      },
      {
       "output_type": "stream",
       "stream": "stdout",
       "text": [
        " 1.85299992561\n",
        "best density among 1000 last iterations:  -2749.50046625\n",
        "corresponding permutation:  [20, 9, 15, 2, 7, 3, 23, 16, 10, 4, 14, 6, 18, 11, 17, 19, 5, 21, 0, 8, 12, 1, 22, 25, 13, 24]\n",
        "size of encrypted text:  400\n",
        "metropolis time: "
       ]
      },
      {
       "output_type": "stream",
       "stream": "stdout",
       "text": [
        " 4.04399991035\n",
        "best density among 1000 last iterations:  -5670.32163758\n",
        "corresponding permutation:  [5, 16, 6, 22, 13, 11, 9, 23, 10, 4, 14, 15, 8, 20, 17, 19, 2, 21, 0, 18, 3, 24, 12, 25, 7, 1]\n",
        "size of encrypted text:  800\n",
        "metropolis time: "
       ]
      },
      {
       "output_type": "stream",
       "stream": "stdout",
       "text": [
        " 7.37300014496\n",
        "best density among 1000 last iterations:  -11384.142993\n",
        "corresponding permutation:  [21, 16, 12, 20, 18, 3, 9, 5, 23, 4, 13, 1, 14, 15, 17, 0, 22, 24, 19, 7, 11, 6, 2, 25, 8, 10]\n",
        "size of encrypted text:  1000\n",
        "metropolis time: "
       ]
      },
      {
       "output_type": "stream",
       "stream": "stdout",
       "text": [
        " 9.06599998474\n",
        "best density among 1000 last iterations:  -14007.5137695\n",
        "corresponding permutation:  [21, 9, 5, 20, 7, 3, 25, 1, 23, 4, 13, 6, 14, 24, 17, 0, 22, 15, 19, 18, 11, 2, 12, 16, 8, 10]\n",
        "size of encrypted text:  2000\n",
        "metropolis time: "
       ]
      },
      {
       "output_type": "stream",
       "stream": "stdout",
       "text": [
        " 17.1050000191\n",
        "best density among 1000 last iterations:  -26729.7564683\n",
        "corresponding permutation:  [24, 16, 21, 3, 18, 11, 25, 10, 23, 4, 13, 5, 8, 15, 17, 19, 22, 6, 0, 7, 20, 12, 2, 9, 14, 1]\n",
        "size of encrypted text:  4000\n",
        "metropolis time: "
       ]
      },
      {
       "output_type": "stream",
       "stream": "stdout",
       "text": [
        " 33.0810000896\n",
        "best density among 1000 last iterations:  -52295.7330423\n",
        "corresponding permutation:  [24, 9, 21, 3, 18, 11, 16, 23, 10, 4, 14, 6, 8, 15, 7, 19, 22, 5, 13, 17, 20, 2, 12, 25, 0, 1]\n",
        "size of encrypted text:  8000\n",
        "metropolis time: "
       ]
      },
      {
       "output_type": "stream",
       "stream": "stdout",
       "text": [
        " 66.6210000515\n",
        "best density among 1000 last iterations:  -102989.364202\n",
        "corresponding permutation:  [15, 9, 21, 3, 18, 11, 25, 23, 10, 4, 14, 5, 8, 24, 7, 19, 22, 6, 13, 17, 2, 20, 12, 16, 0, 1]\n",
        "size of encrypted text:  16000\n",
        "metropolis time: "
       ]
      },
      {
       "output_type": "stream",
       "stream": "stdout",
       "text": [
        " 131.217000008\n",
        "best density among 1000 last iterations:  -203731.260509\n",
        "corresponding permutation:  [6, 9, 21, 3, 18, 11, 25, 23, 10, 4, 14, 5, 8, 1, 7, 19, 12, 24, 13, 17, 22, 20, 2, 16, 0, 15]\n"
       ]
      },
      {
       "metadata": {},
       "output_type": "pyout",
       "prompt_number": 4,
       "text": [
        "[<matplotlib.lines.Line2D at 0xa732b00>]"
       ]
      },
      {
       "metadata": {},
       "output_type": "display_data",
       "png": "[encoded data removed]",
       "text": [
        "<matplotlib.figure.Figure at 0xa591b00>"
       ]
      }
     ],
     "prompt_number": 4
    },
    {
     "cell_type": "code",
     "collapsed": false,
     "input": [
      "means = np.mean(Q, 0)\n",
      "stds = np.std(Q, 0)\n",
      "print(means)\n",
      "print(stds)\n",
      "plt.title('Dependence quality on size of tests')\n",
      "plt.xlabel('sizes')\n",
      "plt.ylabel('quality')\n",
      "plt.plot(sizes[:len(qs)], qs) \n",
      "plt.savefig('task-4-unigram-daniel.png')"
     ],
     "language": "python",
     "metadata": {},
     "outputs": [
      {
       "output_type": "stream",
       "stream": "stdout",
       "text": [
        "[ 0.36494845  0.33123028  0.40143737  0.14322514  0.22257053  0.37158768\n",
        "  0.55831196  0.60930088  0.56178157]\n",
        "[ 0.  0.  0.  0.  0.  0.  0.  0.  0.]\n"
       ]
      },
      {
       "metadata": {},
       "output_type": "display_data",
       "png": "[encoded data removed]",
       "text": [
        "<matplotlib.figure.Figure at 0xa9bc1d0>"
       ]
      }
     ],
     "prompt_number": 12
    },
    {
     "cell_type": "code",
     "collapsed": false,
     "input": [
      "qs"
     ],
     "language": "python",
     "metadata": {},
     "outputs": [
      {
       "metadata": {},
       "output_type": "pyout",
       "prompt_number": 9,
       "text": [
        "[0.3649484536082474,\n",
        " 0.3312302839116719,\n",
        " 0.40143737166324434,\n",
        " 0.1432251416795466,\n",
        " 0.2225705329153605,\n",
        " 0.37158768290019656,\n",
        " 0.5583119634295908,\n",
        " 0.6093008809577592,\n",
        " 0.5617815682135828]"
       ]
      }
     ],
     "prompt_number": 9
    },
    {
     "cell_type": "code",
     "collapsed": false,
     "input": [],
     "language": "python",
     "metadata": {},
     "outputs": []
    }
   ],
   "metadata": {}
  }
 ]
}