{
 "metadata": {
  "name": "",
  "signature": "sha256:833440503dcf22432834a02f0b593374f0adaa35f525fa2d5e0a400c5b9b18a9"
 },
 "nbformat": 3,
 "nbformat_minor": 0,
 "worksheets": [
  {
   "cells": [
    {
     "cell_type": "code",
     "collapsed": false,
     "input": [
      "import numpy as np\n",
      "import math\n",
      "import matplotlib.pyplot as plt\n",
      "%matplotlib inline\n",
      "import random\n",
      "from numpy.random import rand\n",
      "from copy import copy\n",
      "from __future__ import division\n",
      "def read_text_words(filename, wordsnumber):    \n",
      "    with open(filename) as f:\n",
      "        X = f.readlines()\n",
      "        X = X[:wordsnumber]\n",
      "    X = ''.join(X) \n",
      "    X = X.replace('\\n', '') \n",
      "    return X\n",
      "\n",
      "def read_text_whole(filename):\n",
      "    with open(filename) as f:\n",
      "        X = f.read()    \n",
      "    X = X.replace('\\n', '') \n",
      "    return X\n",
      "\n",
      "def chop_text_to_size(text, size):\n",
      "    return text[:1024*1024*size]\n",
      "\n",
      "def read_text_filesize(filename, size):\n",
      "    with open(filename) as f:\n",
      "        X = f.read(1024*1024*size)\n",
      "    X = X.replace('\\n', '') \n",
      "    return X  \n",
      "def get_unicount(text):\n",
      "    length = len(text)\n",
      "    counts = np.zeros(26)\n",
      "    for i in xrange(length):\n",
      "        c = ord(text[i])\n",
      "        counts[c-97]+=1\n",
      "        #97-122 \n",
      "    return counts\n",
      "def get_bigram_stats_dic(text):        \n",
      "    length = len(text)\n",
      "    dic = {}\n",
      "    for i in 'abcdefghijklmnopqrstuvwxyz':\n",
      "        for j in 'abcdefghijklmnopqrstuvwxyz':\n",
      "            dic[(i,j)]=0\n",
      "\n",
      "    for i in xrange(length-1):                   \n",
      "        if (text[i], text[i+1]) in dic:\n",
      "            dic[(text[i], text[i+1])] += 1\n",
      "            \n",
      "    for k,v in dic.items():        \n",
      "        dic[k] = v/(counts[ord(k[0])-97])\n",
      "    return dic\n",
      "def quality(decrypted, original):\n",
      "    l = len(decrypted)\n",
      "    zipped = zip(decrypted, original)    \n",
      "    return sum(1.0 for x,y in zipped if x == y)/l\n",
      "\n",
      "def crypt(text):\n",
      "    p = range(26)\n",
      "    random.shuffle(p)\n",
      "    output=''\n",
      "    for ch in text:\n",
      "            try:\n",
      "                x = ord(ch) - ord('a')\n",
      "                output+=(chr(p[x] + ord('a')))\n",
      "            except:\n",
      "                pass\n",
      "    return output, p\n",
      "def get_desiredPDF_bigram(permutation):\n",
      "    logp = 0\n",
      "    for i in xrange(len(encrypted)-1):         \n",
      "        pr = stats[chr(permutation[ord(encrypted[i])-97]+97), \n",
      "                   chr(permutation[ord(encrypted[i+1])-97]+97)]\n",
      "        if pr>0:\n",
      "            logp += math.log(pr)\n",
      "        else:\n",
      "            logp += -9 #penalty for non existant pairs\n",
      "    return logp\n",
      "\n",
      "def uniform( n ):\n",
      "    \n",
      "    #initialize permutation with identical\n",
      "    permutation = [ i for i in xrange( n ) ]\n",
      "    \n",
      "    #swap ith object with random onject from i to n - 1 enclusively\n",
      "    for i in xrange( n ):\n",
      "        j = random.randint( i, n - 1 )\n",
      "        permutation[ i ], permutation[ j ] = permutation[ j ], permutation[ i ]\n",
      "        \n",
      "    return permutation\n",
      "\n",
      "def applyedTranspostions( basePermutation ):\n",
      "   \n",
      "    n = len( basePermutation )\n",
      "    \n",
      "    \n",
      "    permutation = copy( basePermutation )\n",
      "    #apply n random transpositions (including identical) to base permutation\n",
      "#     for i in xrange( n ):\n",
      "    k, l = random.randint( 0, n - 1 ), random.randint( 0, n - 1 )\n",
      "    permutation[ k ], permutation[ l ] = permutation[ l ], permutation[ k ]\n",
      "        \n",
      "    return  permutation"
     ],
     "language": "python",
     "metadata": {},
     "outputs": [],
     "prompt_number": 1
    },
    {
     "cell_type": "markdown",
     "metadata": {},
     "source": [
      "density maximization"
     ]
    },
    {
     "cell_type": "code",
     "collapsed": false,
     "input": [
      "\n",
      "def densityMaximization( desiredPDF, initValue, computableRVS, skipIterations = 200 ):\n",
      "    \"\"\"\n",
      "    This function return a generator, which generates random variables \n",
      "    from some space S by trying to maximize givven density. \n",
      "    The algorithm is a modification of Metropolis-Hastings. \n",
      "    It rejects all objects, which decrease density.\n",
      "    \n",
      "    Args:\n",
      "        desiredPDF (func) : PDF of desired distribution p( T ), where T from S\n",
      "        initValue : an object from S to initialize the starting point \n",
      "        of iterative proccess\n",
      "        computableRVS (func) : a generator of random value from space S \n",
      "        with given parameter T, which is also from S\n",
      "        skipIterations (int) : number of iterations to skip \n",
      "        (skipping more iterations leads to better accuracy? \n",
      "        but greater time consuming)\n",
      "        \n",
      "    Returns: generator, which produce some values from S, \n",
      "    where each next value has no less density, and their denisity\n",
      "    \"\"\"\n",
      "    \n",
      "    random_variable = initValue\n",
      "    random_variableDensityValue = desiredPDF( random_variable )\n",
      "    \"\"\"\n",
      "    A state of MCMC\n",
      "    \"\"\"\n",
      "    \n",
      "    #ignore first iterations to let the iterative proccess to enter \n",
      "    #the high density regions\n",
      "    for i in xrange( skipIterations ):\n",
      "        candidate = computableRVS( random_variable )\n",
      "        candidateDensityValue = desiredPDF( candidate )\n",
      "        \"\"\"\n",
      "        next candidate for sample, generated by computableRVS\n",
      "        \"\"\"\n",
      "        \n",
      "        \n",
      "        if random_variableDensityValue < candidateDensityValue:\n",
      "            random_variable = candidate\n",
      "            random_variableDensityValue = candidateDensityValue\n",
      "            \n",
      "    #now when the procces is in high density regions, \n",
      "    #return acceptable candidates\n",
      "    while True:\n",
      "        candidate = computableRVS( random_variable )\n",
      "        candidateDensityValue = desiredPDF( candidate )\n",
      "        \"\"\"\n",
      "        next candidate for sample, generated by computableRVS\n",
      "        \"\"\"\n",
      "       \n",
      "        if random_variableDensityValue < candidateDensityValue:\n",
      "            random_variable = candidate\n",
      "            random_variableDensityValue = candidateDensityValue\n",
      "        yield random_variable, random_variableDensityValue\n"
     ],
     "language": "python",
     "metadata": {},
     "outputs": [],
     "prompt_number": 2
    },
    {
     "cell_type": "markdown",
     "metadata": {},
     "source": [
      "decrypt"
     ]
    },
    {
     "cell_type": "code",
     "collapsed": false,
     "input": [
      "def decrypt(permutation, encrypted):\n",
      "    decrypted = []\n",
      "    for i in encrypted:\n",
      "        decrypted.append(chr(permutation[ord(i)-97]+97))\n",
      "    return ''.join(decrypted)"
     ],
     "language": "python",
     "metadata": {},
     "outputs": [],
     "prompt_number": 3
    },
    {
     "cell_type": "heading",
     "level": 1,
     "metadata": {},
     "source": [
      "Density maximization"
     ]
    },
    {
     "cell_type": "heading",
     "level": 3,
     "metadata": {},
     "source": [
      "various number of iterations"
     ]
    },
    {
     "cell_type": "code",
     "collapsed": false,
     "input": [
      "#TEST TEXT\n",
      "fname = 'main/oliver_twist.txt'\n",
      "original = read_text_words(fname, 5000)[3:]\n",
      "#3 first symbols in oliver twist are unsupported by encryption\n",
      "encrypted, p = crypt(original)\n",
      "#TRAIN TEXT\n",
      "train_text = read_text_whole('main/war_and_peace.txt')\n",
      "counts = get_unicount(train_text)\n",
      "stats = get_bigram_stats_dic(train_text)\n",
      "# print stats\n",
      "print p\n",
      "bp = np.zeros(26, dtype=int)\n",
      "for i in p:\n",
      "    bp[p[i]] = i\n",
      "q = get_desiredPDF_bigram(bp)\n",
      "print 'inverse to permutation used in encryption ', bp\n",
      "print 'its density ', q\n",
      "ra = uniform(26)\n",
      "q = get_desiredPDF_bigram(ra)\n",
      "print 'random permutation density ', q \n"
     ],
     "language": "python",
     "metadata": {},
     "outputs": [
      {
       "output_type": "stream",
       "stream": "stdout",
       "text": [
        "[14, 4, 25, 8, 5, 3, 19, 13, 16, 0, 2, 18, 17, 20, 1, 15, 10, 24, 6, 12, 11, 21, 23, 7, 9, 22]\n",
        "inverse to permutation used in encryption "
       ]
      },
      {
       "output_type": "stream",
       "stream": "stdout",
       "text": [
        " [ 9 14 10  5  1  4 18 23  3 24 16 20 19  7  0 15  8 12 11  6 13 21 25 22 17\n",
        "  2]\n",
        "its density  -56398.5046942\n",
        "random permutation density "
       ]
      },
      {
       "output_type": "stream",
       "stream": "stdout",
       "text": [
        " -115386.123802\n"
       ]
      }
     ],
     "prompt_number": 4
    },
    {
     "cell_type": "code",
     "collapsed": false,
     "input": [
      "import time\n",
      "iterations = [250,500,1000,2000]\n",
      "qualities = np.zeros((5, 4))\n",
      "qualities[1, :] = qs;\n",
      "init_p = uniform(26)\n",
      "for i in xrange(1, 5):\n",
      "    for j, it in enumerate(iterations):\n",
      "        st = time.time()\n",
      "        computableGen = lambda t: applyedTranspostions(t)\n",
      "        dmgenerator = \\\n",
      "            densityMaximization(get_desiredPDF_bigram, init_p, computableGen, it)\n",
      "        for k in xrange( 500 ):\n",
      "            x,y = dmgenerator.next() \n",
      "\n",
      "        et =  time.time() - st\n",
      "        print 'cold iterations: ', it\n",
      "        print 'dm time: ', et\n",
      "        print 'best density among 500 last iterations: ', y\n",
      "        print 'corresponding permutation: ', x\n",
      "        decrypted = decrypt(x, encrypted)\n",
      "        qualities[i, j] = quality(decrypted, original)\n",
      "        print 'quality: ', qualities[i, j]"
     ],
     "language": "python",
     "metadata": {},
     "outputs": [
      {
       "output_type": "stream",
       "stream": "stdout",
       "text": [
        "cold iterations:  250\n",
        "dm time:  51.9987618923\n",
        "best density among 500 last iterations:  -60753.2486294\n",
        "corresponding permutation:  [9, 14, 1, 5, 2, 4, 18, 25, 3, 10, 16, 20, 19, 7, 8, 22, 0, 15, 11, 6, 13, 21, 23, 12, 17, 24]\n",
        "quality:  0.700396825397\n",
        "cold iterations: "
       ]
      },
      {
       "output_type": "stream",
       "stream": "stdout",
       "text": [
        " 500\n",
        "dm time:  69.4579558372\n",
        "best density among 500 last iterations:  -61170.1552957\n",
        "corresponding permutation:  [9, 0, 10, 24, 1, 4, 11, 23, 3, 12, 16, 20, 19, 7, 8, 15, 14, 5, 18, 6, 13, 21, 25, 22, 17, 2]\n",
        "quality:  0.609577922078\n",
        "cold iterations: "
       ]
      },
      {
       "output_type": "stream",
       "stream": "stdout",
       "text": [
        " 1000\n",
        "dm time:  102.202694178\n",
        "best density among 500 last iterations:  -59311.9901532\n",
        "corresponding permutation:  [9, 14, 10, 5, 1, 4, 12, 23, 3, 24, 16, 20, 18, 7, 0, 15, 8, 19, 11, 6, 13, 21, 25, 22, 17, 2]\n",
        "quality:  0.830988455988\n",
        "cold iterations: "
       ]
      },
      {
       "output_type": "stream",
       "stream": "stdout",
       "text": [
        " 2000\n",
        "dm time:  172.465212107\n",
        "best density among 500 last iterations:  -60330.7553388\n",
        "corresponding permutation:  [9, 14, 21, 5, 1, 4, 18, 25, 13, 24, 16, 20, 19, 7, 0, 15, 8, 6, 11, 2, 3, 10, 23, 22, 17, 12]\n",
        "quality:  0.793244949495\n",
        "cold iterations: "
       ]
      },
      {
       "output_type": "stream",
       "stream": "stdout",
       "text": [
        " 250\n",
        "dm time:  51.6526489258\n",
        "best density among 500 last iterations:  -71316.8796703\n",
        "corresponding permutation:  [9, 19, 21, 1, 20, 13, 18, 23, 6, 15, 25, 7, 4, 0, 11, 22, 17, 24, 3, 5, 8, 10, 16, 2, 14, 12]\n",
        "quality:  0.0623196248196\n",
        "cold iterations: "
       ]
      },
      {
       "output_type": "stream",
       "stream": "stdout",
       "text": [
        " 500\n",
        "dm time:  84.8463029861\n",
        "best density among 500 last iterations:  -61574.3818021\n",
        "corresponding permutation:  [10, 14, 25, 1, 5, 4, 18, 23, 3, 24, 16, 20, 22, 7, 0, 15, 8, 12, 11, 6, 13, 21, 9, 19, 17, 2]\n",
        "quality: "
       ]
      },
      {
       "output_type": "stream",
       "stream": "stdout",
       "text": [
        " 0.840818903319\n",
        "cold iterations: "
       ]
      },
      {
       "output_type": "stream",
       "stream": "stdout",
       "text": [
        " 1000\n",
        "dm time:  140.283475161\n",
        "best density among 500 last iterations:  -56398.5046942\n",
        "corresponding permutation:  [9, 14, 10, 5, 1, 4, 18, 23, 3, 24, 16, 20, 19, 7, 0, 15, 8, 12, 11, 6, 13, 21, 25, 22, 17, 2]\n",
        "quality:  1.0\n",
        "cold iterations: "
       ]
      },
      {
       "output_type": "stream",
       "stream": "stdout",
       "text": [
        " 2000\n",
        "dm time:  210.2876091\n",
        "best density among 500 last iterations:  -56398.5046942\n",
        "corresponding permutation:  [9, 14, 10, 5, 1, 4, 18, 23, 3, 24, 16, 20, 19, 7, 0, 15, 8, 12, 11, 6, 13, 21, 25, 22, 17, 2]\n",
        "quality:  1.0\n",
        "cold iterations: "
       ]
      },
      {
       "output_type": "stream",
       "stream": "stdout",
       "text": [
        " 250\n",
        "dm time:  52.2484049797\n",
        "best density among 500 last iterations:  -70597.7159037\n",
        "corresponding permutation:  [9, 11, 23, 5, 12, 19, 18, 21, 7, 20, 25, 24, 4, 0, 17, 15, 13, 6, 14, 1, 3, 10, 16, 22, 8, 2]\n",
        "quality:  0.147952741703\n",
        "cold iterations: "
       ]
      },
      {
       "output_type": "stream",
       "stream": "stdout",
       "text": [
        " 500\n",
        "dm time:  67.2549221516\n",
        "best density among 500 last iterations:  -57406.4370758\n",
        "corresponding permutation:  [9, 14, 25, 5, 15, 4, 18, 10, 3, 24, 16, 20, 19, 7, 0, 1, 8, 12, 11, 6, 13, 21, 23, 22, 17, 2]\n",
        "quality:  0.948277417027\n",
        "cold iterations: "
       ]
      },
      {
       "output_type": "stream",
       "stream": "stdout",
       "text": [
        " 1000\n",
        "dm time:  137.225626945\n",
        "best density among 500 last iterations:  -56398.5046942\n",
        "corresponding permutation:  [9, 14, 10, 5, 1, 4, 18, 23, 3, 24, 16, 20, 19, 7, 0, 15, 8, 12, 11, 6, 13, 21, 25, 22, 17, 2]\n",
        "quality:  1.0\n",
        "cold iterations: "
       ]
      },
      {
       "output_type": "stream",
       "stream": "stdout",
       "text": [
        " 2000\n",
        "dm time:  233.10056591\n",
        "best density among 500 last iterations:  -56398.5046942\n",
        "corresponding permutation:  [9, 14, 10, 5, 1, 4, 18, 23, 3, 24, 16, 20, 19, 7, 0, 15, 8, 12, 11, 6, 13, 21, 25, 22, 17, 2]\n",
        "quality: "
       ]
      },
      {
       "output_type": "stream",
       "stream": "stdout",
       "text": [
        " 1.0\n",
        "cold iterations: "
       ]
      },
      {
       "output_type": "stream",
       "stream": "stdout",
       "text": [
        " 250\n",
        "dm time:  51.3295900822\n",
        "best density among 500 last iterations:  -64506.7427554\n",
        "corresponding permutation:  [25, 14, 21, 5, 24, 4, 18, 23, 3, 17, 9, 8, 19, 7, 0, 10, 20, 15, 12, 2, 13, 1, 16, 22, 11, 6]\n",
        "quality:  0.647366522367\n",
        "cold iterations: "
       ]
      },
      {
       "output_type": "stream",
       "stream": "stdout",
       "text": [
        " 500\n",
        "dm time:  68.3474080563\n",
        "best density among 500 last iterations:  -64942.2738534\n",
        "corresponding permutation:  [25, 14, 10, 5, 1, 0, 18, 23, 22, 24, 16, 20, 3, 7, 4, 15, 8, 12, 17, 6, 13, 21, 9, 19, 11, 2]\n",
        "quality:  0.534902597403\n",
        "cold iterations: "
       ]
      },
      {
       "output_type": "stream",
       "stream": "stdout",
       "text": [
        " 1000\n",
        "dm time:  152.182391167\n",
        "best density among 500 last iterations:  -57106.4562551\n",
        "corresponding permutation:  [9, 14, 10, 5, 1, 4, 18, 23, 3, 24, 16, 20, 19, 7, 0, 15, 8, 12, 11, 2, 13, 21, 25, 22, 17, 6]\n",
        "quality:  0.955943362193\n",
        "cold iterations: "
       ]
      },
      {
       "output_type": "stream",
       "stream": "stdout",
       "text": [
        " 2000\n",
        "dm time:  230.563726902\n",
        "best density among 500 last iterations:  -59947.9104811\n",
        "corresponding permutation:  [9, 14, 10, 5, 1, 4, 18, 23, 3, 24, 16, 20, 22, 7, 0, 15, 8, 12, 11, 6, 13, 21, 25, 19, 17, 2]\n",
        "quality: "
       ]
      },
      {
       "output_type": "stream",
       "stream": "stdout",
       "text": [
        " 0.888437950938\n"
       ]
      }
     ],
     "prompt_number": 10
    },
    {
     "cell_type": "code",
     "collapsed": false,
     "input": [
      "means = np.mean(qualities, 0)\n",
      "stds = np.std(qualities, 0)\n",
      "print(means)\n",
      "print(stds)\n",
      "plt.title('Dependence quolity on cold iterations')\n",
      "plt.xlabel('iterations')\n",
      "plt.ylabel('quolity')\n",
      "plt.plot(iterations, means - stds, 'r:')\n",
      "plt.plot(iterations, means + stds, 'r:')\n",
      "plt.plot(iterations, means, 'b-')\n",
      "plt.savefig('task-5-daniel.png')"
     ],
     "language": "python",
     "metadata": {},
     "outputs": [
      {
       "output_type": "stream",
       "stream": "stdout",
       "text": [
        "[ 0.31160714  0.58671537  0.75738636  0.73633658]\n",
        "[ 0.29997261  0.3294656   0.38371839  0.3761919 ]\n"
       ]
      },
      {
       "metadata": {},
       "output_type": "display_data",
       "png": "[encoded data removed]",
       "text": [
        "<matplotlib.figure.Figure at 0xae9b3a6c>"
       ]
      }
     ],
     "prompt_number": 17
    },
    {
     "cell_type": "code",
     "collapsed": false,
     "input": [],
     "language": "python",
     "metadata": {},
     "outputs": []
    }
   ],
   "metadata": {}
  }
 ]
}