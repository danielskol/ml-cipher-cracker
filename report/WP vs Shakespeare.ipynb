{
 "metadata": {
  "name": "",
  "signature": "sha256:07786e339e60f6651e59dd208ef0e25c8e28f5fea622373273f9ab4676f699c7"
 },
 "nbformat": 3,
 "nbformat_minor": 0,
 "worksheets": [
  {
   "cells": [
    {
     "cell_type": "code",
     "collapsed": false,
     "input": [
      "import numpy as np\n",
      "import math\n",
      "import matplotlib.pyplot as plt\n",
      "%matplotlib inline\n",
      "import random\n",
      "from numpy.random import rand\n",
      "from copy import copy\n",
      "from __future__ import division\n",
      "import time\n",
      "\n",
      "def read_text_words(filename, wordsnumber):    \n",
      "    with open(filename) as f:\n",
      "        X = f.readlines()\n",
      "        X = X[:wordsnumber]\n",
      "    X = ''.join(X) \n",
      "    X = X.replace('\\n', '') \n",
      "    return X\n",
      "\n",
      "def read_text_filesize(filename, size):\n",
      "    with open(filename) as f:\n",
      "        X = f.read(int(round(1024*1024*size)))\n",
      "    X = X.replace('\\n', '')\n",
      "    return X\n",
      "\n",
      "def get_unicount(text):\n",
      "    length = len(text)\n",
      "    counts = np.zeros(26)\n",
      "    for i in xrange(length):\n",
      "        c = ord(text[i])\n",
      "        counts[c-97]+=1\n",
      "        #97-122 \n",
      "    return counts\n",
      "\n",
      "def get_bigram_stats_dic(text):        \n",
      "    length = len(text)\n",
      "    dic = {}\n",
      "    for i in 'abcdefghijklmnopqrstuvwxyz':\n",
      "        for j in 'abcdefghijklmnopqrstuvwxyz':\n",
      "            dic[(i,j)]=0\n",
      "\n",
      "    for i in xrange(length-1):                   \n",
      "        if (text[i], text[i+1]) in dic:\n",
      "            dic[(text[i], text[i+1])] += 1\n",
      "            \n",
      "    for k,v in dic.items():        \n",
      "        dic[k] = v/(counts[ord(k[0])-97])\n",
      "    return dic\n",
      "\n",
      "def quality(decrypted, original):\n",
      "    l = len(decrypted)\n",
      "    zipped = zip(decrypted, original)    \n",
      "    return sum(1.0 for x,y in zipped if x == y)/l\n",
      "\n",
      "def crypt(text):\n",
      "    p = range(26)\n",
      "    random.shuffle(p)\n",
      "    output=''\n",
      "    for ch in text:\n",
      "            try:\n",
      "                x = ord(ch) - ord('a')\n",
      "                output+=(chr(p[x] + ord('a')))\n",
      "            except:\n",
      "                pass\n",
      "    return output, p\n",
      "\n",
      "def get_desiredPDF_bigram(permutation):\n",
      "    logp = 0\n",
      "    for i in xrange(len(encrypted)-1):         \n",
      "        pr = stats[chr(permutation[ord(encrypted[i])-97]+97), \n",
      "                   chr(permutation[ord(encrypted[i+1])-97]+97)]\n",
      "        if pr>0:\n",
      "            logp += math.log(pr)\n",
      "        else:\n",
      "            logp += -9 #penalty for non existant pairs\n",
      "    return logp\n",
      "\n",
      "def metropolis( desiredPDF, initValue, computableRVS, skipIterations = 1000):\n",
      "    random_variable = initValue\n",
      "    random_variableDensityValue = desiredPDF( random_variable )\n",
      "    \n",
      "    for i in xrange( skipIterations ):\n",
      "        candidate = computableRVS( random_variable )\n",
      "        candidateDensityValue = desiredPDF( candidate )\n",
      "        acceptanceProb = min(0, candidateDensityValue - random_variableDensityValue )\n",
      "        if math.log(random.random()) < acceptanceProb:\n",
      "            random_variable = candidate\n",
      "            random_variableDensityValue = candidateDensityValue\n",
      "   \n",
      "    while True:\n",
      "        candidate = computableRVS( random_variable )\n",
      "        candidateDensityValue = desiredPDF( candidate )\n",
      "    \n",
      "        acceptanceProb = min( 0, candidateDensityValue - random_variableDensityValue )\n",
      "       \n",
      "        if math.log(random.random()) < acceptanceProb:\n",
      "            random_variable = candidate\n",
      "            random_variableDensityValue = candidateDensityValue\n",
      "        yield random_variable, random_variableDensityValue\n",
      "\n",
      "def uniform( n ):\n",
      "    #initialize permutation with identical\n",
      "    permutation = [ i for i in xrange( n ) ]\n",
      "    \n",
      "    #swap ith object with random onject from i to n - 1 enclusively\n",
      "    for i in xrange( n ):\n",
      "        j = random.randint( i, n - 1 )\n",
      "        permutation[ i ], permutation[ j ] = permutation[ j ], permutation[ i ]\n",
      "        \n",
      "    return permutation\n",
      "\n",
      "def applyTransposition( basePermutation ):\n",
      "    n = len( basePermutation )\n",
      "    \n",
      "    permutation = copy( basePermutation )\n",
      "    \n",
      "    #apply n random transpositions (including identical) to base permutation\n",
      "#     for i in xrange( n ):\n",
      "    k, l = random.randint( 0, n - 1 ), random.randint( 0, n - 1 )\n",
      "    permutation[ k ], permutation[ l ] = permutation[ l ], permutation[ k ]\n",
      "        \n",
      "    return  permutation\n",
      "\n",
      "\n",
      "def decrypt(permutation, encrypted):\n",
      "    decrypted = []\n",
      "    for i in encrypted:\n",
      "        decrypted.append(chr(permutation[ord(i)-97]+97))\n",
      "    return ''.join(decrypted)"
     ],
     "language": "python",
     "metadata": {},
     "outputs": [],
     "prompt_number": 5
    },
    {
     "cell_type": "code",
     "collapsed": false,
     "input": [
      "fname = 'main/oliver_twist.txt'\n",
      "original = read_text_words(fname, 5000)[3:]\n",
      "encrypted,p = crypt(original)\n",
      "print encrypted[:20]"
     ],
     "language": "python",
     "metadata": {},
     "outputs": [
      {
       "output_type": "stream",
       "stream": "stdout",
       "text": [
        "dsfuzlafpdondfqwfzof\n"
       ]
      }
     ],
     "prompt_number": 6
    },
    {
     "cell_type": "code",
     "collapsed": false,
     "input": [
      " \n",
      "train_text = read_text_filesize('main/war_and_peace.txt',3)    \n",
      "counts = get_unicount(train_text)\n",
      "stats = get_bigram_stats_dic(train_text)\n",
      "\n",
      "for k in xrange(5): \n",
      "    init_p = uniform(26)\n",
      "    #Metropolis here\n",
      "    st = time.time()\n",
      "    computableGen = lambda t: applyTransposition(t)\n",
      "    metropolisgenerator = \\\n",
      "    metropolis(get_desiredPDF_bigram, init_p, computableGen, 2000)\n",
      "\n",
      "    y = -float(\"inf\")\n",
      "    for i in xrange( 1000 ): #<=========\n",
      "        cand = metropolisgenerator.next() \n",
      "        if (cand[1] > y):\n",
      "            y = cand[1]\n",
      "            x = cand[0]\n",
      "\n",
      "    et =  time.time() - st\n",
      "    print 'metropolis time: ', et\n",
      "\n",
      "    print 'best density among 1000 last iterations: ', y\n",
      "    print 'corresponding permutation: ', x\n",
      "\n",
      "    decrypted = decrypt(x, encrypted)\n",
      "    q = quality(decrypted, original)\n",
      "    print q"
     ],
     "language": "python",
     "metadata": {},
     "outputs": [
      {
       "output_type": "stream",
       "stream": "stdout",
       "text": [
        "metropolis time:  153.507999897\n",
        "best density among 1000 last iterations:  -56398.5046942\n",
        "corresponding permutation:  [9, 16, 11, 19, 25, 4, 0, 3, 23, 12, 24, 14, 22, 20, 6, 2, 13, 5, 7, 21, 15, 18, 1, 8, 10, 17]\n",
        "1.0\n",
        "metropolis time: "
       ]
      },
      {
       "output_type": "stream",
       "stream": "stdout",
       "text": [
        " 152.47300005\n",
        "best density among 1000 last iterations:  -56398.5046942\n",
        "corresponding permutation:  [9, 16, 11, 19, 25, 4, 0, 3, 23, 12, 24, 14, 22, 20, 6, 2, 13, 5, 7, 21, 15, 18, 1, 8, 10, 17]\n",
        "1.0\n",
        "metropolis time: "
       ]
      },
      {
       "output_type": "stream",
       "stream": "stdout",
       "text": [
        " 161.621000051\n",
        "best density among 1000 last iterations:  -56398.5046942\n",
        "corresponding permutation:  [9, 16, 11, 19, 25, 4, 0, 3, 23, 12, 24, 14, 22, 20, 6, 2, 13, 5, 7, 21, 15, 18, 1, 8, 10, 17]\n",
        "1.0\n",
        "metropolis time: "
       ]
      },
      {
       "output_type": "stream",
       "stream": "stdout",
       "text": [
        " 156.662000179\n",
        "best density among 1000 last iterations:  -56398.5046942\n",
        "corresponding permutation:  [9, 16, 11, 19, 25, 4, 0, 3, 23, 12, 24, 14, 22, 20, 6, 2, 13, 5, 7, 21, 15, 18, 1, 8, 10, 17]\n",
        "1.0\n"
       ]
      },
      {
       "ename": "KeyboardInterrupt",
       "evalue": "",
       "output_type": "pyerr",
       "traceback": [
        "\u001b[1;31m---------------------------------------------------------------------------\u001b[0m\n\u001b[1;31mKeyboardInterrupt\u001b[0m                         Traceback (most recent call last)",
        "\u001b[1;32m<ipython-input-12-9c831e362cb6>\u001b[0m in \u001b[0;36m<module>\u001b[1;34m()\u001b[0m\n\u001b[0;32m     13\u001b[0m    \u001b[0my\u001b[0m \u001b[1;33m=\u001b[0m \u001b[1;33m-\u001b[0m\u001b[0mfloat\u001b[0m\u001b[1;33m(\u001b[0m\u001b[1;34m\"inf\"\u001b[0m\u001b[1;33m)\u001b[0m\u001b[1;33m\u001b[0m\u001b[0m\n\u001b[0;32m     14\u001b[0m    \u001b[1;32mfor\u001b[0m \u001b[0mi\u001b[0m \u001b[1;32min\u001b[0m \u001b[0mxrange\u001b[0m\u001b[1;33m(\u001b[0m \u001b[1;36m1000\u001b[0m \u001b[1;33m)\u001b[0m\u001b[1;33m:\u001b[0m \u001b[1;31m#<=========\u001b[0m\u001b[1;33m\u001b[0m\u001b[0m\n\u001b[1;32m---> 15\u001b[1;33m        \u001b[0mcand\u001b[0m \u001b[1;33m=\u001b[0m \u001b[0mmetropolisgenerator\u001b[0m\u001b[1;33m.\u001b[0m\u001b[0mnext\u001b[0m\u001b[1;33m(\u001b[0m\u001b[1;33m)\u001b[0m\u001b[1;33m\u001b[0m\u001b[0m\n\u001b[0m\u001b[0;32m     16\u001b[0m        \u001b[1;32mif\u001b[0m \u001b[1;33m(\u001b[0m\u001b[0mcand\u001b[0m\u001b[1;33m[\u001b[0m\u001b[1;36m1\u001b[0m\u001b[1;33m]\u001b[0m \u001b[1;33m>\u001b[0m \u001b[0my\u001b[0m\u001b[1;33m)\u001b[0m\u001b[1;33m:\u001b[0m\u001b[1;33m\u001b[0m\u001b[0m\n\u001b[0;32m     17\u001b[0m            \u001b[0my\u001b[0m \u001b[1;33m=\u001b[0m \u001b[0mcand\u001b[0m\u001b[1;33m[\u001b[0m\u001b[1;36m1\u001b[0m\u001b[1;33m]\u001b[0m\u001b[1;33m\u001b[0m\u001b[0m\n",
        "\u001b[1;32m<ipython-input-5-c1d614a58db1>\u001b[0m in \u001b[0;36mmetropolis\u001b[1;34m(desiredPDF, initValue, computableRVS, skipIterations)\u001b[0m\n\u001b[0;32m     81\u001b[0m     \u001b[1;32mfor\u001b[0m \u001b[0mi\u001b[0m \u001b[1;32min\u001b[0m \u001b[0mxrange\u001b[0m\u001b[1;33m(\u001b[0m \u001b[0mskipIterations\u001b[0m \u001b[1;33m)\u001b[0m\u001b[1;33m:\u001b[0m\u001b[1;33m\u001b[0m\u001b[0m\n\u001b[0;32m     82\u001b[0m         \u001b[0mcandidate\u001b[0m \u001b[1;33m=\u001b[0m \u001b[0mcomputableRVS\u001b[0m\u001b[1;33m(\u001b[0m \u001b[0mrandom_variable\u001b[0m \u001b[1;33m)\u001b[0m\u001b[1;33m\u001b[0m\u001b[0m\n\u001b[1;32m---> 83\u001b[1;33m         \u001b[0mcandidateDensityValue\u001b[0m \u001b[1;33m=\u001b[0m \u001b[0mdesiredPDF\u001b[0m\u001b[1;33m(\u001b[0m \u001b[0mcandidate\u001b[0m \u001b[1;33m)\u001b[0m\u001b[1;33m\u001b[0m\u001b[0m\n\u001b[0m\u001b[0;32m     84\u001b[0m         \u001b[0macceptanceProb\u001b[0m \u001b[1;33m=\u001b[0m \u001b[0mmin\u001b[0m\u001b[1;33m(\u001b[0m\u001b[1;36m0\u001b[0m\u001b[1;33m,\u001b[0m \u001b[0mcandidateDensityValue\u001b[0m \u001b[1;33m-\u001b[0m \u001b[0mrandom_variableDensityValue\u001b[0m \u001b[1;33m)\u001b[0m\u001b[1;33m\u001b[0m\u001b[0m\n\u001b[0;32m     85\u001b[0m         \u001b[1;32mif\u001b[0m \u001b[0mmath\u001b[0m\u001b[1;33m.\u001b[0m\u001b[0mlog\u001b[0m\u001b[1;33m(\u001b[0m\u001b[0mrandom\u001b[0m\u001b[1;33m.\u001b[0m\u001b[0mrandom\u001b[0m\u001b[1;33m(\u001b[0m\u001b[1;33m)\u001b[0m\u001b[1;33m)\u001b[0m \u001b[1;33m<\u001b[0m \u001b[0macceptanceProb\u001b[0m\u001b[1;33m:\u001b[0m\u001b[1;33m\u001b[0m\u001b[0m\n",
        "\u001b[1;32m<ipython-input-5-c1d614a58db1>\u001b[0m in \u001b[0;36mget_desiredPDF_bigram\u001b[1;34m(permutation)\u001b[0m\n\u001b[0;32m     67\u001b[0m     \u001b[0mlogp\u001b[0m \u001b[1;33m=\u001b[0m \u001b[1;36m0\u001b[0m\u001b[1;33m\u001b[0m\u001b[0m\n\u001b[0;32m     68\u001b[0m     \u001b[1;32mfor\u001b[0m \u001b[0mi\u001b[0m \u001b[1;32min\u001b[0m \u001b[0mxrange\u001b[0m\u001b[1;33m(\u001b[0m\u001b[0mlen\u001b[0m\u001b[1;33m(\u001b[0m\u001b[0mencrypted\u001b[0m\u001b[1;33m)\u001b[0m\u001b[1;33m-\u001b[0m\u001b[1;36m1\u001b[0m\u001b[1;33m)\u001b[0m\u001b[1;33m:\u001b[0m\u001b[1;33m\u001b[0m\u001b[0m\n\u001b[1;32m---> 69\u001b[1;33m         pr = stats[chr(permutation[ord(encrypted[i])-97]+97), \n\u001b[0m\u001b[0;32m     70\u001b[0m                    chr(permutation[ord(encrypted[i+1])-97]+97)]\n\u001b[0;32m     71\u001b[0m         \u001b[1;32mif\u001b[0m \u001b[0mpr\u001b[0m\u001b[1;33m>\u001b[0m\u001b[1;36m0\u001b[0m\u001b[1;33m:\u001b[0m\u001b[1;33m\u001b[0m\u001b[0m\n",
        "\u001b[1;31mKeyboardInterrupt\u001b[0m: "
       ]
      }
     ],
     "prompt_number": 12
    },
    {
     "cell_type": "code",
     "collapsed": false,
     "input": [
      "\n",
      "train_text = read_text_filesize('main/super.txt', 3)    \n",
      "counts = get_unicount(train_text)\n",
      "stats = get_bigram_stats_dic(train_text)\n",
      "\n",
      "for k in xrange(3):\n",
      "    init_p = uniform(26)\n",
      "#Metropolis here\n",
      "    st = time.time()\n",
      "    computableGen = lambda t: applyTransposition(t)\n",
      "    metropolisgenerator = \\\n",
      "    metropolis(get_desiredPDF_bigram, init_p, computableGen, 2000)\n",
      "\n",
      "    y = -float(\"inf\")\n",
      "    for i in xrange( 1000 ): #<=========\n",
      "        cand = metropolisgenerator.next() \n",
      "        if (cand[1] > y):\n",
      "            y = cand[1]\n",
      "            x = cand[0]\n",
      "\n",
      "    et =  time.time() - st\n",
      "    print 'metropolis time: ', et\n",
      "\n",
      "    print 'best density among 1000 last iterations: ', y\n",
      "    print 'corresponding permutation: ', x\n",
      "\n",
      "    decrypted = decrypt(x, encrypted)\n",
      "    q = quality(decrypted, original)\n",
      "    print q"
     ],
     "language": "python",
     "metadata": {},
     "outputs": [
      {
       "output_type": "stream",
       "stream": "stdout",
       "text": [
        "metropolis time:  153.292999983\n",
        "best density among 1000 last iterations:  -65548.7996672\n",
        "corresponding permutation:  [9, 16, 11, 8, 25, 4, 0, 24, 23, 15, 6, 14, 22, 20, 7, 12, 19, 5, 13, 10, 2, 18, 1, 3, 21, 17]\n",
        "0.538870851371\n",
        "metropolis time: "
       ]
      },
      {
       "output_type": "stream",
       "stream": "stdout",
       "text": [
        " 157.934999943\n",
        "best density among 1000 last iterations:  -58104.3291223\n",
        "corresponding permutation:  [9, 16, 11, 19, 25, 4, 0, 3, 23, 12, 24, 14, 22, 20, 6, 2, 13, 5, 7, 10, 15, 18, 1, 8, 21, 17]\n",
        "0.980068542569\n",
        "metropolis time: "
       ]
      },
      {
       "output_type": "stream",
       "stream": "stdout",
       "text": [
        " 155.993000031\n",
        "best density among 1000 last iterations:  -58104.3291223\n",
        "corresponding permutation:  [9, 16, 11, 19, 25, 4, 0, 3, 23, 12, 24, 14, 22, 20, 6, 2, 13, 5, 7, 10, 15, 18, 1, 8, 21, 17]\n",
        "0.980068542569\n"
       ]
      }
     ],
     "prompt_number": 13
    },
    {
     "cell_type": "markdown",
     "metadata": {},
     "source": [
      "war and peace as training text gives better results than super.txt confirming our intuition that english used in the super.txt file is not modern english"
     ]
    }
   ],
   "metadata": {}
  }
 ]
}