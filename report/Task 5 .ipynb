{
 "metadata": {
  "name": "",
  "signature": "sha256:cbcc1581f4a9a3844fd4c342254fe551d825da76a35be529e4936dcca15109f0"
 },
 "nbformat": 3,
 "nbformat_minor": 0,
 "worksheets": [
  {
   "cells": [
    {
     "cell_type": "code",
     "collapsed": false,
     "input": [
      "import numpy as np\n",
      "import math\n",
      "import matplotlib.pyplot as plt\n",
      "%matplotlib inline\n",
      "import random\n",
      "from numpy.random import rand\n",
      "from copy import copy\n",
      "from __future__ import division\n",
      "def read_text_words(filename, wordsnumber):    \n",
      "    with open(filename) as f:\n",
      "        X = f.readlines()\n",
      "        X = X[:wordsnumber]\n",
      "    X = ''.join(X) \n",
      "    X = X.replace('\\n', '') \n",
      "    return X\n",
      "\n",
      "def read_text_whole(filename):\n",
      "    with open(filename) as f:\n",
      "        X = f.read()    \n",
      "    X = X.replace('\\n', '') \n",
      "    return X\n",
      "\n",
      "def chop_text_to_size(text, size):\n",
      "    return text[:1024*1024*size]\n",
      "\n",
      "def read_text_filesize(filename, size):\n",
      "    with open(filename) as f:\n",
      "        X = f.read(1024*1024*size)\n",
      "    X = X.replace('\\n', '') \n",
      "    return X  \n",
      "def get_unicount(text):\n",
      "    length = len(text)\n",
      "    counts = np.zeros(26)\n",
      "    for i in xrange(length):\n",
      "        c = ord(text[i])\n",
      "        counts[c-97]+=1\n",
      "        #97-122 \n",
      "    return counts\n",
      "def get_bigram_stats_dic(text):        \n",
      "    length = len(text)\n",
      "    dic = {}\n",
      "    for i in 'abcdefghijklmnopqrstuvwxyz':\n",
      "        for j in 'abcdefghijklmnopqrstuvwxyz':\n",
      "            dic[(i,j)]=0\n",
      "\n",
      "    for i in xrange(length-1):                   \n",
      "        if (text[i], text[i+1]) in dic:\n",
      "            dic[(text[i], text[i+1])] += 1\n",
      "            \n",
      "    for k,v in dic.items():        \n",
      "        dic[k] = v/(counts[ord(k[0])-97])\n",
      "    return dic\n",
      "def quality(decrypted, original):\n",
      "    l = len(decrypted)\n",
      "    zipped = zip(decrypted, original)    \n",
      "    return sum(1.0 for x,y in zipped if x == y)/l\n",
      "\n",
      "def crypt(text):\n",
      "    p = range(26)\n",
      "    random.shuffle(p)\n",
      "    output=''\n",
      "    for ch in text:\n",
      "            try:\n",
      "                x = ord(ch) - ord('a')\n",
      "                output+=(chr(p[x] + ord('a')))\n",
      "            except:\n",
      "                pass\n",
      "    return output, p\n",
      "def get_desiredPDF_bigram(permutation):\n",
      "    logp = 0\n",
      "    for i in xrange(len(encrypted)-1):         \n",
      "        pr = stats[chr(permutation[ord(encrypted[i])-97]+97), \n",
      "                   chr(permutation[ord(encrypted[i+1])-97]+97)]\n",
      "        if pr>0:\n",
      "            logp += math.log(pr)\n",
      "        else:\n",
      "            logp += -9 #penalty for non existant pairs\n",
      "    return logp\n",
      "\n",
      "def uniform( n ):\n",
      "    \n",
      "    #initialize permutation with identical\n",
      "    permutation = [ i for i in xrange( n ) ]\n",
      "    \n",
      "    #swap ith object with random onject from i to n - 1 enclusively\n",
      "    for i in xrange( n ):\n",
      "        j = random.randint( i, n - 1 )\n",
      "        permutation[ i ], permutation[ j ] = permutation[ j ], permutation[ i ]\n",
      "        \n",
      "    return permutation\n",
      "\n",
      "def applyedTranspostions( basePermutation ):\n",
      "   \n",
      "    n = len( basePermutation )\n",
      "    \n",
      "    \n",
      "    permutation = copy( basePermutation )\n",
      "    #apply n random transpositions (including identical) to base permutation\n",
      "#     for i in xrange( n ):\n",
      "    k, l = random.randint( 0, n - 1 ), random.randint( 0, n - 1 )\n",
      "    permutation[ k ], permutation[ l ] = permutation[ l ], permutation[ k ]\n",
      "        \n",
      "    return  permutation"
     ],
     "language": "python",
     "metadata": {},
     "outputs": [],
     "prompt_number": 3
    },
    {
     "cell_type": "markdown",
     "metadata": {},
     "source": [
      "density maximization"
     ]
    },
    {
     "cell_type": "code",
     "collapsed": false,
     "input": [
      "\n",
      "def densityMaximization( desiredPDF, initValue, computableRVS, skipIterations = 200 ):\n",
      "    \"\"\"\n",
      "    This function return a generator, which generates random variables \n",
      "    from some space S by trying to maximize givven density. \n",
      "    The algorithm is a modification of Metropolis-Hastings. \n",
      "    It rejects all objects, which decrease density.\n",
      "    \n",
      "    Args:\n",
      "        desiredPDF (func) : PDF of desired distribution p( T ), where T from S\n",
      "        initValue : an object from S to initialize the starting point \n",
      "        of iterative proccess\n",
      "        computableRVS (func) : a generator of random value from space S \n",
      "        with given parameter T, which is also from S\n",
      "        skipIterations (int) : number of iterations to skip \n",
      "        (skipping more iterations leads to better accuracy? \n",
      "        but greater time consuming)\n",
      "        \n",
      "    Returns: generator, which produce some values from S, \n",
      "    where each next value has no less density, and their denisity\n",
      "    \"\"\"\n",
      "    \n",
      "    random_variable = initValue\n",
      "    random_variableDensityValue = desiredPDF( random_variable )\n",
      "    \"\"\"\n",
      "    A state of MCMC\n",
      "    \"\"\"\n",
      "    \n",
      "    #ignore first iterations to let the iterative proccess to enter \n",
      "    #the high density regions\n",
      "    for i in xrange( skipIterations ):\n",
      "        candidate = computableRVS( random_variable )\n",
      "        candidateDensityValue = desiredPDF( candidate )\n",
      "        \"\"\"\n",
      "        next candidate for sample, generated by computableRVS\n",
      "        \"\"\"\n",
      "        \n",
      "        \n",
      "        if random_variableDensityValue < candidateDensityValue:\n",
      "            random_variable = candidate\n",
      "            random_variableDensityValue = candidateDensityValue\n",
      "            \n",
      "    #now when the procces is in high density regions, \n",
      "    #return acceptable candidates\n",
      "    while True:\n",
      "        candidate = computableRVS( random_variable )\n",
      "        candidateDensityValue = desiredPDF( candidate )\n",
      "        \"\"\"\n",
      "        next candidate for sample, generated by computableRVS\n",
      "        \"\"\"\n",
      "       \n",
      "        if random_variableDensityValue < candidateDensityValue:\n",
      "            random_variable = candidate\n",
      "            random_variableDensityValue = candidateDensityValue\n",
      "        yield random_variable, random_variableDensityValue\n"
     ],
     "language": "python",
     "metadata": {},
     "outputs": [],
     "prompt_number": 4
    },
    {
     "cell_type": "markdown",
     "metadata": {},
     "source": [
      "decrypt"
     ]
    },
    {
     "cell_type": "code",
     "collapsed": false,
     "input": [
      "def decrypt(permutation, encrypted):\n",
      "    decrypted = []\n",
      "    for i in encrypted:\n",
      "        decrypted.append(chr(permutation[ord(i)-97]+97))\n",
      "    return ''.join(decrypted)"
     ],
     "language": "python",
     "metadata": {},
     "outputs": [],
     "prompt_number": 5
    },
    {
     "cell_type": "heading",
     "level": 1,
     "metadata": {},
     "source": [
      "Density maximization"
     ]
    },
    {
     "cell_type": "heading",
     "level": 3,
     "metadata": {},
     "source": [
      "various number of iterations"
     ]
    },
    {
     "cell_type": "code",
     "collapsed": false,
     "input": [
      "#TEST TEXT\n",
      "fname = 'main/oliver_twist.txt'\n",
      "original = read_text_words(fname, 5000)[3:]\n",
      "#3 first symbols in oliver twist are unsupported by encryption\n",
      "encrypted, p = crypt(original)\n",
      "#TRAIN TEXT\n",
      "train_text = read_text_whole('main/war_and_peace.txt')\n",
      "counts = get_unicount(train_text)\n",
      "stats = get_bigram_stats_dic(train_text)\n",
      "# print stats\n",
      "print p\n",
      "bp = np.zeros(26, dtype=int)\n",
      "for i in p:\n",
      "    bp[p[i]] = i\n",
      "q = get_desiredPDF_bigram(bp)\n",
      "print 'inverse to permutation used in encryption ', bp\n",
      "print 'its density ', q\n",
      "ra = uniform(26)\n",
      "q = get_desiredPDF_bigram(ra)\n",
      "print 'random permutation density ', q \n"
     ],
     "language": "python",
     "metadata": {},
     "outputs": [
      {
       "output_type": "stream",
       "stream": "stdout",
       "text": [
        "[25, 16, 4, 23, 24, 8, 17, 19, 6, 13, 22, 2, 1, 3, 7, 14, 12, 0, 20, 18, 21, 5, 15, 11, 9, 10]\n",
        "inverse to permutation used in encryption "
       ]
      },
      {
       "output_type": "stream",
       "stream": "stdout",
       "text": [
        " [17 12 11 13  2 21  8 14  5 24 25 23 16  9 15 22  1  6 19  7 18 20 10  3  4\n",
        "  0]\n",
        "its density  -56398.5046942\n",
        "random permutation density "
       ]
      },
      {
       "output_type": "stream",
       "stream": "stdout",
       "text": [
        " -117012.60994\n"
       ]
      }
     ],
     "prompt_number": 6
    },
    {
     "cell_type": "code",
     "collapsed": false,
     "input": [
      "import time\n",
      "iterations = [250,500,1000,1500]\n",
      "qs = list()\n",
      "times =5\n",
      "init_p = uniform(26)\n",
      "for k in xrange(times):\n",
      "    for it in iterations:\n",
      "        st = time.time()\n",
      "        computableGen = lambda t: applyedTranspostions(t)\n",
      "        dmgenerator = \\\n",
      "            densityMaximization(get_desiredPDF_bigram, init_p, computableGen, it)\n",
      "\n",
      "        for i in xrange( 500 ):\n",
      "            x,y= dmgenerator.next() \n",
      "            \n",
      "        #last one will be max\n",
      "        et =  time.time() - st\n",
      "        print 'cold iterations: ', it\n",
      "        print 'dm time: ', et\n",
      "        print 'best density among 500 last iterations: ', y\n",
      "        print 'corresponding permutation: ', x\n",
      "        decrypted = decrypt(x, encrypted)\n",
      "        qs.append(quality(decrypted, original))\n",
      "#         print 'quality: ',  \n",
      "        \n",
      "plt.plot(iterations, qs[:len(iterations)],\n",
      "         iterations, qs[len(iterations):2*len(iterations)],\n",
      "         iterations, qs[2*len(iterations):3*len(iterations)],\n",
      "         iterations, qs[3*len(iterations):4*len(iterations)],\n",
      "         iterations, qs[4*len(iterations):5*len(iterations)])"
     ],
     "language": "python",
     "metadata": {},
     "outputs": [
      {
       "output_type": "stream",
       "stream": "stdout",
       "text": [
        " cold iterations:  250\n",
        "dm time:  40.5469999313\n",
        "best density among 500 last iterations:  -71233.837043\n",
        "corresponding permutation:  [7, 15, 11, 14, 20, 21, 18, 19, 5, 24, 16, 6, 23, 9, 2, 3, 1, 10, 8, 13, 0, 22, 25, 12, 4, 17]\n",
        "cold iterations: "
       ]
      },
      {
       "output_type": "stream",
       "stream": "stdout",
       "text": [
        " 500\n",
        "dm time:  51.9959998131\n",
        "best density among 500 last iterations:  -57997.6960981\n",
        "corresponding permutation:  [17, 15, 11, 13, 12, 21, 8, 14, 5, 24, 25, 23, 16, 9, 6, 22, 1, 2, 19, 7, 18, 20, 10, 3, 4, 0]\n",
        "cold iterations: "
       ]
      },
      {
       "output_type": "stream",
       "stream": "stdout",
       "text": [
        " 1000\n",
        "dm time:  79.8470001221\n",
        "best density among 500 last iterations:  -57805.9432831\n",
        "corresponding permutation:  [17, 18, 11, 13, 2, 21, 8, 14, 5, 24, 25, 23, 16, 9, 15, 22, 1, 6, 19, 7, 12, 20, 10, 3, 4, 0]\n",
        "cold iterations: "
       ]
      },
      {
       "output_type": "stream",
       "stream": "stdout",
       "text": [
        " 1500\n",
        "dm time:  106.698000193\n",
        "best density among 500 last iterations:  -56398.5046942\n",
        "corresponding permutation:  [17, 12, 11, 13, 2, 21, 8, 14, 5, 24, 25, 23, 16, 9, 15, 22, 1, 6, 19, 7, 18, 20, 10, 3, 4, 0]\n",
        "cold iterations: "
       ]
      },
      {
       "output_type": "stream",
       "stream": "stdout",
       "text": [
        " 250\n",
        "dm time:  41.2650001049\n",
        "best density among 500 last iterations:  -67380.1067748\n",
        "corresponding permutation:  [17, 1, 11, 13, 5, 21, 14, 19, 24, 20, 16, 23, 25, 9, 15, 7, 2, 6, 3, 12, 18, 8, 10, 22, 4, 0]\n",
        "cold iterations: "
       ]
      },
      {
       "output_type": "stream",
       "stream": "stdout",
       "text": [
        " 500\n",
        "dm time:  51.9799997807\n",
        "best density among 500 last iterations:  -59816.7818808\n",
        "corresponding permutation:  [17, 12, 11, 13, 2, 21, 0, 14, 5, 24, 25, 23, 16, 9, 15, 22, 1, 6, 18, 7, 19, 20, 10, 3, 4, 8]\n",
        "cold iterations: "
       ]
      },
      {
       "output_type": "stream",
       "stream": "stdout",
       "text": [
        " 1000\n",
        "dm time:  78.0910000801\n",
        "best density among 500 last iterations:  -56398.5046942\n",
        "corresponding permutation:  [17, 12, 11, 13, 2, 21, 8, 14, 5, 24, 25, 23, 16, 9, 15, 22, 1, 6, 19, 7, 18, 20, 10, 3, 4, 0]\n",
        "cold iterations: "
       ]
      },
      {
       "output_type": "stream",
       "stream": "stdout",
       "text": [
        " 1500\n",
        "dm time:  103.005999804\n",
        "best density among 500 last iterations:  -56398.5046942\n",
        "corresponding permutation:  [17, 12, 11, 13, 2, 21, 8, 14, 5, 24, 25, 23, 16, 9, 15, 22, 1, 6, 19, 7, 18, 20, 10, 3, 4, 0]\n",
        "cold iterations: "
       ]
      },
      {
       "output_type": "stream",
       "stream": "stdout",
       "text": [
        " 250\n",
        "dm time:  39.3270001411\n",
        "best density among 500 last iterations:  -68324.5057939\n",
        "corresponding permutation:  [17, 12, 15, 3, 10, 21, 8, 14, 5, 20, 16, 25, 23, 9, 24, 1, 7, 6, 18, 11, 19, 13, 2, 22, 4, 0]\n",
        "cold iterations: "
       ]
      },
      {
       "output_type": "stream",
       "stream": "stdout",
       "text": [
        " 500\n",
        "dm time:  51.4679999352\n",
        "best density among 500 last iterations:  -65456.1539384\n",
        "corresponding permutation:  [18, 12, 13, 11, 2, 21, 8, 14, 22, 24, 25, 23, 16, 9, 15, 7, 1, 6, 5, 17, 19, 20, 10, 3, 4, 0]\n",
        "cold iterations: "
       ]
      },
      {
       "output_type": "stream",
       "stream": "stdout",
       "text": [
        " 1000\n",
        "dm time:  81.0460000038\n",
        "best density among 500 last iterations:  -63189.0943414\n",
        "corresponding permutation:  [17, 1, 5, 13, 2, 21, 8, 18, 24, 20, 16, 23, 9, 25, 15, 22, 11, 6, 19, 7, 12, 14, 10, 3, 4, 0]\n",
        "cold iterations: "
       ]
      },
      {
       "output_type": "stream",
       "stream": "stdout",
       "text": [
        " 1500\n",
        "dm time:  108.279999971\n",
        "best density among 500 last iterations:  -56398.5046942\n",
        "corresponding permutation:  [17, 12, 11, 13, 2, 21, 8, 14, 5, 24, 25, 23, 16, 9, 15, 22, 1, 6, 19, 7, 18, 20, 10, 3, 4, 0]\n",
        "cold iterations: "
       ]
      },
      {
       "output_type": "stream",
       "stream": "stdout",
       "text": [
        " 250\n",
        "dm time:  39.0190000534\n",
        "best density among 500 last iterations:  -64534.5032604\n",
        "corresponding permutation:  [12, 6, 11, 17, 2, 21, 8, 14, 5, 24, 9, 23, 16, 25, 22, 7, 1, 15, 19, 18, 13, 20, 10, 3, 4, 0]\n",
        "cold iterations: "
       ]
      },
      {
       "output_type": "stream",
       "stream": "stdout",
       "text": [
        " 500\n",
        "dm time:  53.4149999619\n",
        "best density among 500 last iterations:  -57604.0186169\n",
        "corresponding permutation:  [17, 12, 11, 13, 2, 21, 8, 14, 6, 24, 16, 23, 9, 25, 15, 22, 1, 5, 19, 7, 18, 20, 10, 3, 4, 0]\n",
        "cold iterations: "
       ]
      },
      {
       "output_type": "stream",
       "stream": "stdout",
       "text": [
        " 1000\n",
        "dm time:  82.6840000153\n",
        "best density among 500 last iterations:  -70679.5338583\n",
        "corresponding permutation:  [3, 24, 12, 7, 5, 2, 19, 0, 15, 1, 16, 23, 25, 9, 6, 20, 10, 22, 14, 17, 11, 13, 21, 8, 4, 18]\n",
        "cold iterations: "
       ]
      },
      {
       "output_type": "stream",
       "stream": "stdout",
       "text": [
        " 1500\n",
        "dm time:  107.26699996\n",
        "best density among 500 last iterations:  -57077.6393446\n",
        "corresponding permutation:  [17, 15, 11, 13, 2, 21, 8, 14, 5, 24, 25, 23, 16, 9, 12, 22, 1, 6, 19, 7, 18, 20, 10, 3, 4, 0]\n",
        "cold iterations: "
       ]
      },
      {
       "output_type": "stream",
       "stream": "stdout",
       "text": [
        " 250\n",
        "dm time:  38.5279998779\n",
        "best density among 500 last iterations:  -69405.2807661\n",
        "corresponding permutation:  [3, 13, 1, 18, 12, 21, 14, 0, 2, 24, 16, 23, 10, 9, 6, 15, 7, 22, 19, 8, 5, 20, 25, 11, 4, 17]\n",
        "cold iterations: "
       ]
      },
      {
       "output_type": "stream",
       "stream": "stdout",
       "text": [
        " 500\n",
        "dm time:  50.5429999828\n",
        "best density among 500 last iterations:  -66179.9101767\n",
        "corresponding permutation:  [17, 7, 11, 18, 6, 21, 3, 14, 5, 24, 23, 25, 16, 9, 2, 12, 1, 15, 8, 13, 19, 20, 10, 22, 4, 0]\n",
        "cold iterations: "
       ]
      },
      {
       "output_type": "stream",
       "stream": "stdout",
       "text": [
        " 1000\n",
        "dm time:  79.0640001297\n",
        "best density among 500 last iterations:  -56398.5046942\n",
        "corresponding permutation:  [17, 12, 11, 13, 2, 21, 8, 14, 5, 24, 25, 23, 16, 9, 15, 22, 1, 6, 19, 7, 18, 20, 10, 3, 4, 0]\n",
        "cold iterations: "
       ]
      },
      {
       "output_type": "stream",
       "stream": "stdout",
       "text": [
        " 1500\n",
        "dm time:  107.544000149\n",
        "best density among 500 last iterations:  -56398.5046942\n",
        "corresponding permutation:  [17, 12, 11, 13, 2, 21, 8, 14, 5, 24, 25, 23, 16, 9, 15, 22, 1, 6, 19, 7, 18, 20, 10, 3, 4, 0]\n"
       ]
      },
      {
       "metadata": {},
       "output_type": "pyout",
       "prompt_number": 9,
       "text": [
        "[<matplotlib.lines.Line2D at 0xa7795c0>,\n",
        " <matplotlib.lines.Line2D at 0xa7797f0>,\n",
        " <matplotlib.lines.Line2D at 0xa779dd8>,\n",
        " <matplotlib.lines.Line2D at 0xa788390>,\n",
        " <matplotlib.lines.Line2D at 0xa788908>]"
       ]
      },
      {
       "metadata": {},
       "output_type": "display_data",
       "png": "[encoded data removed]",
       "text": [
        "<matplotlib.figure.Figure at 0xac53390>"
       ]
      }
     ],
     "prompt_number": 9
    },
    {
     "cell_type": "code",
     "collapsed": false,
     "input": [],
     "language": "python",
     "metadata": {},
     "outputs": []
    }
   ],
   "metadata": {}
  }
 ]
}